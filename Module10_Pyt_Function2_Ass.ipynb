{
  "nbformat": 4,
  "nbformat_minor": 0,
  "metadata": {
    "colab": {
      "provenance": []
    },
    "kernelspec": {
      "name": "python3",
      "display_name": "Python 3"
    },
    "language_info": {
      "name": "python"
    }
  },
  "cells": [
    {
      "cell_type": "markdown",
      "source": [
        "# Module 10 Functions Part2 Assignment"
      ],
      "metadata": {
        "id": "N_WQnuusdBrT"
      }
    },
    {
      "cell_type": "markdown",
      "source": [
        "Q1. Create a python program to sort the given list of tuples based on integer value using a\n",
        "lambda function.\n",
        "[('Sachin Tendulkar', 34357), ('Ricky Ponting', 27483), ('Jack Kallis', 25534), ('Virat Kohli', 24936)]"
      ],
      "metadata": {
        "id": "8HKrJH6FdBQy"
      }
    },
    {
      "cell_type": "code",
      "execution_count": null,
      "metadata": {
        "colab": {
          "base_uri": "https://localhost:8080/"
        },
        "id": "qrz85_H0c6th",
        "outputId": "b8756b2a-268f-4753-8cf8-f39d32cae019"
      },
      "outputs": [
        {
          "output_type": "stream",
          "name": "stdout",
          "text": [
            "[('Virat Kohli', 24936), ('Jack Kallis', 25534), ('Ricky Ponting', 27483), ('Sachin Tendulkar', 34357)]\n"
          ]
        }
      ],
      "source": [
        "# A1. Program to sort given list of tuples based on integer value.\n",
        "tuple_list =  [('Sachin Tendulkar', 34357), ('Ricky Ponting', 27483), ('Jack Kallis', 25534), ('Virat Kohli', 24936)]\n",
        "\n",
        "tuple_list.sort(key = lambda x:x[1])\n",
        "print(tuple_list)"
      ]
    },
    {
      "cell_type": "code",
      "source": [],
      "metadata": {
        "id": "cdlauE_ldDuW"
      },
      "execution_count": null,
      "outputs": []
    },
    {
      "cell_type": "markdown",
      "source": [
        "Q2. Write a Python Program to find the squares of all the numbers in the given list of integers using\n",
        "lambda and map functions.\n",
        "[1, 2, 3, 4, 5, 6, 7, 8, 9, 10]"
      ],
      "metadata": {
        "id": "Wcod5ajndEbl"
      }
    },
    {
      "cell_type": "code",
      "source": [
        "# A2. Program to find the squares of numbers int he given list using lambda() and map().\n",
        "\n",
        "l = [1, 2, 3, 4, 5, 6, 7, 8, 9, 10]\n",
        "square_list = list(map(lambda x:x**2, l))\n",
        "print(square_list)"
      ],
      "metadata": {
        "id": "hJ4qswqkdFBD",
        "colab": {
          "base_uri": "https://localhost:8080/"
        },
        "outputId": "141cbfba-401c-42ba-d15d-a7bcc490d3fe"
      },
      "execution_count": 8,
      "outputs": [
        {
          "output_type": "stream",
          "name": "stdout",
          "text": [
            "[1, 4, 9, 16, 25, 36, 49, 64, 81, 100]\n"
          ]
        }
      ]
    },
    {
      "cell_type": "markdown",
      "source": [
        "Q3. Write a python program to convert the given list of integers into a tuple of strings. Use map and\n",
        "lambda functions\n",
        "Given String: [1, 2, 3, 4, 5, 6, 7, 8, 9, 10]\n",
        "Expected output: ('1', '2', '3', '4', '5', '6', '7', '8', '9', '10')"
      ],
      "metadata": {
        "id": "cXqqVNOKdFn1"
      }
    },
    {
      "cell_type": "code",
      "source": [
        "# A3. Program to convert given list of integers into tuple of strings.\n",
        "\n",
        "int_list =  [1, 2, 3, 4, 5, 6, 7, 8, 9, 10]\n",
        "\n",
        "str_tuple= tuple(map(lambda x: str(x), int_list))\n",
        "print(str_tuple)"
      ],
      "metadata": {
        "id": "JGYn7J_ddGZP",
        "colab": {
          "base_uri": "https://localhost:8080/"
        },
        "outputId": "64189242-8d90-424c-b274-7dc37df6c0df"
      },
      "execution_count": 1,
      "outputs": [
        {
          "output_type": "stream",
          "name": "stdout",
          "text": [
            "('1', '2', '3', '4', '5', '6', '7', '8', '9', '10')\n"
          ]
        }
      ]
    },
    {
      "cell_type": "code",
      "source": [],
      "metadata": {
        "id": "qtRzGo4adHkG"
      },
      "execution_count": null,
      "outputs": []
    },
    {
      "cell_type": "markdown",
      "source": [
        "Q4. Write a python program using reduce function to compute the product of a list containing numbers\n",
        "from 1 to 25."
      ],
      "metadata": {
        "id": "N4t1gGw4dISf"
      }
    },
    {
      "cell_type": "code",
      "source": [
        "# A4. Program to compute product of numbers from 1-25.\n",
        "\n",
        "from functools import reduce\n",
        "\n",
        "int_list = list(range(1,26))\n",
        "product = reduce(lambda x,y:x*y, int_list)\n",
        "print(product)"
      ],
      "metadata": {
        "id": "IlLmWty6dI3U",
        "colab": {
          "base_uri": "https://localhost:8080/"
        },
        "outputId": "40d05aea-fba6-4321-99c5-284898e53d74"
      },
      "execution_count": 6,
      "outputs": [
        {
          "output_type": "stream",
          "name": "stdout",
          "text": [
            "15511210043330985984000000\n"
          ]
        }
      ]
    },
    {
      "cell_type": "markdown",
      "source": [
        "Q5. Write a python program to filter the numbers in a given list that are divisible by 2 and 3 using the\n",
        "filter function.\n",
        "[2, 3, 6, 9, 27, 60, 90, 120, 55, 46]"
      ],
      "metadata": {
        "id": "KhZ7SDNQd6Uf"
      }
    },
    {
      "cell_type": "code",
      "source": [
        "# A5. Program to filter numbers divisible by 2 and 3.\n",
        "\n",
        "int_list =  [2, 3, 6, 9, 27, 60, 90, 120, 55, 46]\n",
        "div_list = list(filter(lambda x: x%2 == 0 and x%3 == 0, int_list))\n",
        "print(div_list)"
      ],
      "metadata": {
        "id": "Mhqs4T1Bd6_z",
        "colab": {
          "base_uri": "https://localhost:8080/"
        },
        "outputId": "7d5a8a6e-f035-4db0-9f4a-e43debba6e25"
      },
      "execution_count": 7,
      "outputs": [
        {
          "output_type": "stream",
          "name": "stdout",
          "text": [
            "[6, 60, 90, 120]\n"
          ]
        }
      ]
    },
    {
      "cell_type": "markdown",
      "source": [
        "Q6. Write a python program to find palindromes in the given list of strings using lambda and filter\n",
        "function.\n",
        "['python', 'php', 'aba', 'radar', 'level']"
      ],
      "metadata": {
        "id": "dpKZsyZ1d7nf"
      }
    },
    {
      "cell_type": "code",
      "source": [
        "#A6. Program to find pallindromes int he given list.\n",
        "\n",
        "str_list =  ['python', 'php', 'aba', 'radar', 'level']\n",
        "pallin_list = list(filter(lambda s: s == s[::-1], str_list))\n",
        "print(pallin_list)"
      ],
      "metadata": {
        "id": "YmLcKFEod8M2",
        "colab": {
          "base_uri": "https://localhost:8080/"
        },
        "outputId": "9f8828d8-e332-4ff5-c97f-95121d7a9cfc"
      },
      "execution_count": 10,
      "outputs": [
        {
          "output_type": "stream",
          "name": "stdout",
          "text": [
            "['php', 'aba', 'radar', 'level']\n"
          ]
        }
      ]
    },
    {
      "cell_type": "code",
      "source": [],
      "metadata": {
        "id": "rVRkFcr9D1KV"
      },
      "execution_count": null,
      "outputs": []
    }
  ]
}