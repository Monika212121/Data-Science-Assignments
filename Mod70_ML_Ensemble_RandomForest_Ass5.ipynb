{
  "nbformat": 4,
  "nbformat_minor": 0,
  "metadata": {
    "colab": {
      "provenance": []
    },
    "kernelspec": {
      "name": "python3",
      "display_name": "Python 3"
    },
    "language_info": {
      "name": "python"
    }
  },
  "cells": [
    {
      "cell_type": "markdown",
      "source": [
        "# Module70 Ensemble Techniques Ass5"
      ],
      "metadata": {
        "id": "Qp7iYoouw87H"
      }
    },
    {
      "cell_type": "markdown",
      "source": [
        "Q1. You are working on a machine learning project where you have a dataset containing numerical and\n",
        "categorical features.\n",
        "You have identified that some of the features are highly correlated and there are\n",
        "missing values in some of the columns.\n",
        "You want to build a pipeline that automates the feature engineering process and handles the missing values.\n",
        "\n",
        "### Design a pipeline that includes the following steps\"\n",
        "\n",
        "1.) Use an automated feature selection method to identify the important features in the dataset.\n",
        "\n",
        "2.) Create a numerical pipeline that includes the following steps\".\n",
        "\n",
        "3.) Impute the missing values in the numerical columns using the mean of the column values.\n",
        "\n",
        "4.) Scale the numerical columns using standardisation.\n",
        "\n",
        "5.) Create a categorical pipeline that includes the following steps\".\n",
        "\n",
        "6.) Impute the missing values in the categorical columns using the most frequent value of the column.\n",
        "\n",
        "7.) One-hot encode the categorical columns.\n",
        "\n",
        "8.) Combine the numerical and categorical pipelines using a ColumnTransformer.\n",
        "\n",
        "9.) Use a Random Forest Classifier to build the final model.\n",
        "\n",
        "10.) Evaluate the accuracy of the model on the test dataset.\n",
        "\n",
        "Note: Your solution should include code snippets for each step of the pipeline, and a brief explanation of\n",
        "each step. You should also provide an interpretation of the results and suggest possible improvements for\n",
        "the pipeline.\n",
        "\n"
      ],
      "metadata": {
        "id": "Ehp5Rtvuv6A-"
      }
    },
    {
      "cell_type": "markdown",
      "source": [
        "A1. Designing a Pipeline"
      ],
      "metadata": {
        "id": "bm79DFVvxfOw"
      }
    },
    {
      "cell_type": "code",
      "source": [
        "# loading dataset\n",
        "\n",
        "from google.colab import files\n",
        "\n",
        "uploaded = files.upload()"
      ],
      "metadata": {
        "colab": {
          "base_uri": "https://localhost:8080/",
          "height": 73
        },
        "id": "q6-mQ2WLy0w2",
        "outputId": "b49746aa-8b14-4232-ab64-61c338453ba0"
      },
      "execution_count": 3,
      "outputs": [
        {
          "output_type": "display_data",
          "data": {
            "text/plain": [
              "<IPython.core.display.HTML object>"
            ],
            "text/html": [
              "\n",
              "     <input type=\"file\" id=\"files-12365b39-6e82-4492-aa51-6a4bf5f6856e\" name=\"files[]\" multiple disabled\n",
              "        style=\"border:none\" />\n",
              "     <output id=\"result-12365b39-6e82-4492-aa51-6a4bf5f6856e\">\n",
              "      Upload widget is only available when the cell has been executed in the\n",
              "      current browser session. Please rerun this cell to enable.\n",
              "      </output>\n",
              "      <script>// Copyright 2017 Google LLC\n",
              "//\n",
              "// Licensed under the Apache License, Version 2.0 (the \"License\");\n",
              "// you may not use this file except in compliance with the License.\n",
              "// You may obtain a copy of the License at\n",
              "//\n",
              "//      http://www.apache.org/licenses/LICENSE-2.0\n",
              "//\n",
              "// Unless required by applicable law or agreed to in writing, software\n",
              "// distributed under the License is distributed on an \"AS IS\" BASIS,\n",
              "// WITHOUT WARRANTIES OR CONDITIONS OF ANY KIND, either express or implied.\n",
              "// See the License for the specific language governing permissions and\n",
              "// limitations under the License.\n",
              "\n",
              "/**\n",
              " * @fileoverview Helpers for google.colab Python module.\n",
              " */\n",
              "(function(scope) {\n",
              "function span(text, styleAttributes = {}) {\n",
              "  const element = document.createElement('span');\n",
              "  element.textContent = text;\n",
              "  for (const key of Object.keys(styleAttributes)) {\n",
              "    element.style[key] = styleAttributes[key];\n",
              "  }\n",
              "  return element;\n",
              "}\n",
              "\n",
              "// Max number of bytes which will be uploaded at a time.\n",
              "const MAX_PAYLOAD_SIZE = 100 * 1024;\n",
              "\n",
              "function _uploadFiles(inputId, outputId) {\n",
              "  const steps = uploadFilesStep(inputId, outputId);\n",
              "  const outputElement = document.getElementById(outputId);\n",
              "  // Cache steps on the outputElement to make it available for the next call\n",
              "  // to uploadFilesContinue from Python.\n",
              "  outputElement.steps = steps;\n",
              "\n",
              "  return _uploadFilesContinue(outputId);\n",
              "}\n",
              "\n",
              "// This is roughly an async generator (not supported in the browser yet),\n",
              "// where there are multiple asynchronous steps and the Python side is going\n",
              "// to poll for completion of each step.\n",
              "// This uses a Promise to block the python side on completion of each step,\n",
              "// then passes the result of the previous step as the input to the next step.\n",
              "function _uploadFilesContinue(outputId) {\n",
              "  const outputElement = document.getElementById(outputId);\n",
              "  const steps = outputElement.steps;\n",
              "\n",
              "  const next = steps.next(outputElement.lastPromiseValue);\n",
              "  return Promise.resolve(next.value.promise).then((value) => {\n",
              "    // Cache the last promise value to make it available to the next\n",
              "    // step of the generator.\n",
              "    outputElement.lastPromiseValue = value;\n",
              "    return next.value.response;\n",
              "  });\n",
              "}\n",
              "\n",
              "/**\n",
              " * Generator function which is called between each async step of the upload\n",
              " * process.\n",
              " * @param {string} inputId Element ID of the input file picker element.\n",
              " * @param {string} outputId Element ID of the output display.\n",
              " * @return {!Iterable<!Object>} Iterable of next steps.\n",
              " */\n",
              "function* uploadFilesStep(inputId, outputId) {\n",
              "  const inputElement = document.getElementById(inputId);\n",
              "  inputElement.disabled = false;\n",
              "\n",
              "  const outputElement = document.getElementById(outputId);\n",
              "  outputElement.innerHTML = '';\n",
              "\n",
              "  const pickedPromise = new Promise((resolve) => {\n",
              "    inputElement.addEventListener('change', (e) => {\n",
              "      resolve(e.target.files);\n",
              "    });\n",
              "  });\n",
              "\n",
              "  const cancel = document.createElement('button');\n",
              "  inputElement.parentElement.appendChild(cancel);\n",
              "  cancel.textContent = 'Cancel upload';\n",
              "  const cancelPromise = new Promise((resolve) => {\n",
              "    cancel.onclick = () => {\n",
              "      resolve(null);\n",
              "    };\n",
              "  });\n",
              "\n",
              "  // Wait for the user to pick the files.\n",
              "  const files = yield {\n",
              "    promise: Promise.race([pickedPromise, cancelPromise]),\n",
              "    response: {\n",
              "      action: 'starting',\n",
              "    }\n",
              "  };\n",
              "\n",
              "  cancel.remove();\n",
              "\n",
              "  // Disable the input element since further picks are not allowed.\n",
              "  inputElement.disabled = true;\n",
              "\n",
              "  if (!files) {\n",
              "    return {\n",
              "      response: {\n",
              "        action: 'complete',\n",
              "      }\n",
              "    };\n",
              "  }\n",
              "\n",
              "  for (const file of files) {\n",
              "    const li = document.createElement('li');\n",
              "    li.append(span(file.name, {fontWeight: 'bold'}));\n",
              "    li.append(span(\n",
              "        `(${file.type || 'n/a'}) - ${file.size} bytes, ` +\n",
              "        `last modified: ${\n",
              "            file.lastModifiedDate ? file.lastModifiedDate.toLocaleDateString() :\n",
              "                                    'n/a'} - `));\n",
              "    const percent = span('0% done');\n",
              "    li.appendChild(percent);\n",
              "\n",
              "    outputElement.appendChild(li);\n",
              "\n",
              "    const fileDataPromise = new Promise((resolve) => {\n",
              "      const reader = new FileReader();\n",
              "      reader.onload = (e) => {\n",
              "        resolve(e.target.result);\n",
              "      };\n",
              "      reader.readAsArrayBuffer(file);\n",
              "    });\n",
              "    // Wait for the data to be ready.\n",
              "    let fileData = yield {\n",
              "      promise: fileDataPromise,\n",
              "      response: {\n",
              "        action: 'continue',\n",
              "      }\n",
              "    };\n",
              "\n",
              "    // Use a chunked sending to avoid message size limits. See b/62115660.\n",
              "    let position = 0;\n",
              "    do {\n",
              "      const length = Math.min(fileData.byteLength - position, MAX_PAYLOAD_SIZE);\n",
              "      const chunk = new Uint8Array(fileData, position, length);\n",
              "      position += length;\n",
              "\n",
              "      const base64 = btoa(String.fromCharCode.apply(null, chunk));\n",
              "      yield {\n",
              "        response: {\n",
              "          action: 'append',\n",
              "          file: file.name,\n",
              "          data: base64,\n",
              "        },\n",
              "      };\n",
              "\n",
              "      let percentDone = fileData.byteLength === 0 ?\n",
              "          100 :\n",
              "          Math.round((position / fileData.byteLength) * 100);\n",
              "      percent.textContent = `${percentDone}% done`;\n",
              "\n",
              "    } while (position < fileData.byteLength);\n",
              "  }\n",
              "\n",
              "  // All done.\n",
              "  yield {\n",
              "    response: {\n",
              "      action: 'complete',\n",
              "    }\n",
              "  };\n",
              "}\n",
              "\n",
              "scope.google = scope.google || {};\n",
              "scope.google.colab = scope.google.colab || {};\n",
              "scope.google.colab._files = {\n",
              "  _uploadFiles,\n",
              "  _uploadFilesContinue,\n",
              "};\n",
              "})(self);\n",
              "</script> "
            ]
          },
          "metadata": {}
        },
        {
          "output_type": "stream",
          "name": "stdout",
          "text": [
            "Saving dataset.csv to dataset.csv\n"
          ]
        }
      ]
    },
    {
      "cell_type": "code",
      "execution_count": 4,
      "metadata": {
        "colab": {
          "base_uri": "https://localhost:8080/"
        },
        "id": "B5EfVvWev4Y1",
        "outputId": "792ecc8b-8655-4b15-f957-15dfa8ca2750"
      },
      "outputs": [
        {
          "output_type": "stream",
          "name": "stdout",
          "text": [
            "Model Accuracy: 0.84\n"
          ]
        }
      ],
      "source": [
        "import pandas as pd\n",
        "import numpy as np\n",
        "from sklearn.compose import ColumnTransformer\n",
        "from sklearn.ensemble import RandomForestClassifier\n",
        "from sklearn.impute import SimpleImputer\n",
        "from sklearn.pipeline import Pipeline\n",
        "from sklearn.preprocessing import StandardScaler, OneHotEncoder\n",
        "from sklearn.model_selection import train_test_split\n",
        "from sklearn.metrics import accuracy_score\n",
        "\n",
        "# Load dataset\n",
        "# Replace 'your_dataset.csv' with the path to your dataset\n",
        "# Ensure that your dataset has both numerical and categorical columns\n",
        "df = pd.read_csv('dataset.csv')\n",
        "\n",
        "# Separate features and target variable\n",
        "X = df.drop(\"target\", axis=1)  # Replace 'target' with the name of the target column\n",
        "y = df[\"target\"]\n",
        "\n",
        "# Identify numerical and categorical columns\n",
        "numerical_features = X.select_dtypes(include=[\"int64\", \"float64\"]).columns\n",
        "categorical_features = X.select_dtypes(include=[\"object\", \"category\"]).columns\n",
        "\n",
        "# Split the data into training and test sets\n",
        "X_train, X_test, y_train, y_test = train_test_split(X, y, test_size=0.3, random_state=42)\n",
        "\n",
        "# Step 1: Automated Feature Selection\n",
        "# Calculate correlation matrix and drop highly correlated features\n",
        "correlation_matrix = X_train[numerical_features].corr()\n",
        "high_correlation = correlation_matrix.abs().unstack().sort_values(ascending=False).drop_duplicates()\n",
        "\n",
        "threshold = 0.85  # Set correlation threshold\n",
        "correlated_features = set()\n",
        "for i, j in high_correlation.index:\n",
        "    if i != j and high_correlation.loc[(i, j)] > threshold:\n",
        "        correlated_features.add(j)\n",
        "\n",
        "X_train = X_train.drop(columns=correlated_features)\n",
        "X_test = X_test.drop(columns=correlated_features)\n",
        "numerical_features = [col for col in numerical_features if col not in correlated_features]\n",
        "\n",
        "# Step 2: Numerical Pipeline\n",
        "numerical_pipeline = Pipeline(steps=[\n",
        "    (\"imputer\", SimpleImputer(strategy=\"mean\")),  # Impute missing values with the mean\n",
        "    (\"scaler\", StandardScaler())  # Standardize the data\n",
        "])\n",
        "\n",
        "# Step 3: Categorical Pipeline\n",
        "categorical_pipeline = Pipeline(steps=[\n",
        "    (\"imputer\", SimpleImputer(strategy=\"most_frequent\")),  # Impute missing values with the mode\n",
        "    (\"onehot\", OneHotEncoder(handle_unknown=\"ignore\"))  # One-hot encode categorical variables\n",
        "])\n",
        "\n",
        "# Step 4: Column Transformer\n",
        "preprocessor = ColumnTransformer(\n",
        "    transformers=[\n",
        "        (\"num\", numerical_pipeline, numerical_features),\n",
        "        (\"cat\", categorical_pipeline, categorical_features)\n",
        "    ]\n",
        ")\n",
        "\n",
        "# Step 5: Random Forest Classifier Pipeline\n",
        "model_pipeline = Pipeline(steps=[\n",
        "    (\"preprocessor\", preprocessor),  # Preprocess the data\n",
        "    (\"classifier\", RandomForestClassifier(n_estimators=100, random_state=42))  # Train Random Forest\n",
        "])\n",
        "\n",
        "# Train the pipeline\n",
        "model_pipeline.fit(X_train, y_train)\n",
        "\n",
        "# Evaluate the pipeline\n",
        "y_pred = model_pipeline.predict(X_test)\n",
        "accuracy = accuracy_score(y_test, y_pred)\n",
        "\n",
        "print(f\"Model Accuracy: {accuracy:.2f}\")\n"
      ]
    },
    {
      "cell_type": "markdown",
      "source": [
        "# Explanation of Steps\n",
        "\n",
        "1.) **Automated Feature Selection:**\n",
        "\n",
        "Highly correlated numerical features are identified and removed to avoid multicollinearity.\n",
        "\n",
        "\n",
        "2.) **Numerical Pipeline:**\n",
        "\n",
        "**Imputation:** Handles missing values by replacing them with the column mean.\n",
        "\n",
        "**Scaling:** Standardizes numerical features to have a mean of 0 and a standard deviation of 1.\n",
        "\n",
        "\n",
        "3.) **Categorical Pipeline:**\n",
        "\n",
        "**Imputation:** Handles missing values by replacing them with the most frequent value.\n",
        "\n",
        "**One-Hot Encoding:** Converts categorical features into a binary matrix.\n",
        "\n",
        "\n",
        "4.) **ColumnTransformer:**\n",
        "\n",
        "Combines the numerical and categorical pipelines into one preprocessing step.\n",
        "\n",
        "\n",
        "5.) **Random Forest Classifier:**\n",
        "\n",
        "A Random Forest model is trained on the preprocessed data.\n"
      ],
      "metadata": {
        "id": "00lG4fTrxqFd"
      }
    },
    {
      "cell_type": "code",
      "source": [],
      "metadata": {
        "id": "x9zuD2RhyJeh"
      },
      "execution_count": null,
      "outputs": []
    },
    {
      "cell_type": "markdown",
      "source": [
        "Q2. Build a pipeline that includes a random forest classifier and a logistic regression classifier, and then use a voting classifier to combine their predictions. Train the pipeline on the iris dataset and evaluate its accuracy."
      ],
      "metadata": {
        "id": "JkxBh82gwwy1"
      }
    },
    {
      "cell_type": "markdown",
      "source": [
        "A2."
      ],
      "metadata": {
        "id": "FgYvJjJwyRzr"
      }
    },
    {
      "cell_type": "code",
      "source": [
        "from sklearn.datasets import load_iris\n",
        "from sklearn.ensemble import VotingClassifier\n",
        "from sklearn.linear_model import LogisticRegression\n",
        "from sklearn.ensemble import RandomForestClassifier\n",
        "from sklearn.pipeline import Pipeline\n",
        "from sklearn.model_selection import train_test_split\n",
        "from sklearn.metrics import accuracy_score\n",
        "\n",
        "# Load Iris dataset\n",
        "iris = load_iris()\n",
        "X, y = iris.data, iris.target\n",
        "\n",
        "# Split the dataset\n",
        "X_train, X_test, y_train, y_test = train_test_split(X, y, test_size=0.3, random_state=42)\n",
        "\n",
        "# Logistic Regression Pipeline\n",
        "lr_pipeline = Pipeline(steps=[\n",
        "    (\"scaler\", StandardScaler()),  # Scale the data\n",
        "    (\"lr\", LogisticRegression(random_state=42))  # Logistic Regression\n",
        "])\n",
        "\n",
        "# Random Forest Pipeline\n",
        "rf_pipeline = Pipeline(steps=[\n",
        "    (\"rf\", RandomForestClassifier(n_estimators=100, random_state=42))  # Random Forest\n",
        "])\n",
        "\n",
        "# Voting Classifier\n",
        "voting_clf = VotingClassifier(\n",
        "    estimators=[\n",
        "        (\"logistic\", lr_pipeline),\n",
        "        (\"random_forest\", rf_pipeline)\n",
        "    ],\n",
        "    voting=\"hard\"  # Use hard voting\n",
        ")\n",
        "\n",
        "# Train the Voting Classifier\n",
        "voting_clf.fit(X_train, y_train)\n",
        "\n",
        "# Evaluate the model\n",
        "y_pred = voting_clf.predict(X_test)\n",
        "accuracy = accuracy_score(y_test, y_pred)\n",
        "\n",
        "print(f\"Voting Classifier Accuracy: {accuracy:.2f}\")\n"
      ],
      "metadata": {
        "colab": {
          "base_uri": "https://localhost:8080/"
        },
        "id": "YBlxPLZTwzFW",
        "outputId": "5af06c0d-058d-41fb-bfa6-95f48055ae81"
      },
      "execution_count": 5,
      "outputs": [
        {
          "output_type": "stream",
          "name": "stdout",
          "text": [
            "Voting Classifier Accuracy: 1.00\n"
          ]
        }
      ]
    },
    {
      "cell_type": "markdown",
      "source": [
        "# Explanation of Steps\n",
        "\n",
        "1.) **Pipelines for Base Models:**\n",
        "\n",
        "A Logistic Regression model and a Random Forest model are wrapped in separate pipelines.\n",
        "\n",
        "Logistic Regression includes scaling, while Random Forest works on raw data.\n",
        "\n",
        "\n",
        "2.) **Voting Classifier:**\n",
        "\n",
        "Combines the predictions of Logistic Regression and Random Forest using hard voting.\n",
        "\n",
        "3.) **Training and Evaluation:**\n",
        "\n",
        "The Voting Classifier is trained on the Iris dataset and evaluated using accuracy.\n"
      ],
      "metadata": {
        "id": "ziBzmX4KybV4"
      }
    },
    {
      "cell_type": "code",
      "source": [],
      "metadata": {
        "id": "JsNNiIhIyXgK"
      },
      "execution_count": null,
      "outputs": []
    }
  ]
}