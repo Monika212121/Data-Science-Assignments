{
  "nbformat": 4,
  "nbformat_minor": 0,
  "metadata": {
    "colab": {
      "provenance": []
    },
    "kernelspec": {
      "name": "python3",
      "display_name": "Python 3"
    },
    "language_info": {
      "name": "python"
    }
  },
  "cells": [
    {
      "cell_type": "markdown",
      "source": [
        "# Module74 Clustering Ass 5"
      ],
      "metadata": {
        "id": "nv8bgfvvH4p1"
      }
    },
    {
      "cell_type": "markdown",
      "source": [
        "Q1. Explain the concept of homogeneity and completeness in clustering evaluation. How are they\n",
        "calculated?"
      ],
      "metadata": {
        "id": "wOjxbMICH72A"
      }
    },
    {
      "cell_type": "markdown",
      "source": [
        "A1. **Homogeneity:** A clustering result satisfies homogeneity if all clusters contain only data points that belong to a single class.\n",
        "\n",
        "**Completeness:** A clustering result satisfies completeness if all data points belonging to the same class are assigned to the same cluster.\n",
        "\n",
        "They are calculated as:\n",
        "\n",
        "``` H = 1 - {H(C|K) / H(C)} ```\n",
        "\n",
        "``` C = 1 - {H(K|C) / H(K)} ```\n",
        "\n",
        "where,\n",
        "\n",
        "H(C|K) = Conditional entropy of class labels given the clustering labels.\n",
        "\n",
        "H(K|C) = Entropy of clustering given class labels.\n"
      ],
      "metadata": {
        "id": "be05kdWoIgLN"
      }
    },
    {
      "cell_type": "code",
      "execution_count": null,
      "metadata": {
        "id": "5EWq9ZO6Hzqr"
      },
      "outputs": [],
      "source": []
    },
    {
      "cell_type": "markdown",
      "source": [
        "Q2. What is the V-measure in clustering evaluation? How is it related to homogeneity and completeness?"
      ],
      "metadata": {
        "id": "5Db1RCT9H-cw"
      }
    },
    {
      "cell_type": "markdown",
      "source": [
        "A2. The V-measure is the harmonic mean of homogeneity and completeness, calculated as:\n",
        "\n",
        "``` V = 2 * {H*C / (H+C)} ```\n",
        "\n",
        "where H is homogeneity and C is completeness.\n",
        "\n",
        "It balances both aspects to provide an overall clustering quality score.\n",
        "\n"
      ],
      "metadata": {
        "id": "DmQeHIOMJQYJ"
      }
    },
    {
      "cell_type": "code",
      "source": [],
      "metadata": {
        "id": "2x_U11_pIAdX"
      },
      "execution_count": null,
      "outputs": []
    },
    {
      "cell_type": "markdown",
      "source": [
        "Q3. How is the Silhouette Coefficient used to evaluate the quality of a clustering result? What is the range\n",
        "of its values?"
      ],
      "metadata": {
        "id": "JanAlYoCIA4M"
      }
    },
    {
      "cell_type": "markdown",
      "source": [
        "A3. The Silhouette Coefficient measures how well each point is assigned to its cluster based on intra-cluster distance and inter-cluster separation. It is calculated as:\n",
        "\n",
        "``` S = (b-a) / max(a,b) ``` ,where,\n",
        "\n",
        "'a' is the average intra-cluster distance (within-cluster cohesion).\n",
        "\n",
        "'b' is the average nearest-cluster distance (inter-cluster separation).\n",
        "\n",
        "Range: ``` -1 <= S <= 1```\n",
        "\n",
        "Close to 1: Well-clustered.\n",
        "\n",
        "Close to 0: Overlapping clusters.\n",
        "\n",
        "Close to -1: Misclassified points.\n"
      ],
      "metadata": {
        "id": "xMK9hGb_JwkY"
      }
    },
    {
      "cell_type": "code",
      "source": [],
      "metadata": {
        "id": "U092XL_bICj0"
      },
      "execution_count": null,
      "outputs": []
    },
    {
      "cell_type": "markdown",
      "source": [
        "Q4. How is the Davies-Bouldin Index used to evaluate the quality of a clustering result? What is the range\n",
        "of its values?"
      ],
      "metadata": {
        "id": "YMbnwb9NIC9a"
      }
    },
    {
      "cell_type": "markdown",
      "source": [
        "A4. The Davies-Bouldin Index (DBI) assesses clustering quality by measuring intra-cluster scatter and inter-cluster separation. It is calculated as:\n",
        "\n",
        "``` DBI = 1/N  ∑(from i=1 to N & j!=i) max(si + sj) / dij ```\n",
        "\n",
        "where,\n",
        "\n",
        "si is the average distance of points in cluster\n",
        "i to its centroid.\n",
        "\n",
        "dij is the distance between centroids of clusters\n",
        "i and j.\n",
        "\n",
        "Range:\n",
        "\n",
        "``` DBI ≥ 0 ```\n",
        "\n",
        "Lower values indicate better clustering.\n"
      ],
      "metadata": {
        "id": "fIL_3iEnKXyk"
      }
    },
    {
      "cell_type": "code",
      "source": [],
      "metadata": {
        "id": "WnN7RWR2IFCG"
      },
      "execution_count": null,
      "outputs": []
    },
    {
      "cell_type": "markdown",
      "source": [
        "Q5. Can a clustering result have a high homogeneity but low completeness? Explain with an example."
      ],
      "metadata": {
        "id": "1dIcgagmIFa2"
      }
    },
    {
      "cell_type": "markdown",
      "source": [
        "A5. Yes. Example:\n",
        "\n",
        "Suppose we cluster students based on their subjects: Math, Physics, and Biology.\n",
        "\n",
        "If the algorithm assigns separate clusters to each Math student (e.g., Math1, Math2, etc.), homogeneity is high (each cluster contains only Math students).\n",
        "\n",
        "However, completeness is low because all Math students are not in a single cluster."
      ],
      "metadata": {
        "id": "3KvmbD84LbPT"
      }
    },
    {
      "cell_type": "code",
      "source": [],
      "metadata": {
        "id": "P2fkSM1TIG--"
      },
      "execution_count": null,
      "outputs": []
    },
    {
      "cell_type": "markdown",
      "source": [
        "Q6. How can the V-measure be used to determine the optimal number of clusters in a clustering\n",
        "algorithm?"
      ],
      "metadata": {
        "id": "89k4T827IHZS"
      }
    },
    {
      "cell_type": "markdown",
      "source": [
        "A6. By running the clustering algorithm with different numbers of clusters and computing the V-measure, we select the number that maximizes the balance between homogeneity and completeness."
      ],
      "metadata": {
        "id": "RcqD--cHLh0Z"
      }
    },
    {
      "cell_type": "code",
      "source": [],
      "metadata": {
        "id": "KG0_rMLNIJs0"
      },
      "execution_count": null,
      "outputs": []
    },
    {
      "cell_type": "markdown",
      "source": [
        "Q7. What are some advantages and disadvantages of using the Silhouette Coefficient to evaluate a\n",
        "clustering result?"
      ],
      "metadata": {
        "id": "Gft07fJjIKFT"
      }
    },
    {
      "cell_type": "markdown",
      "source": [
        "A7. Some advantages and disadvantages of using the Silhouette Coefficient to evaluate a clustering result are:\n",
        "\n",
        "**Advantages**:\n",
        "\n",
        "1.) Works for different cluster shapes.\n",
        "\n",
        "2.) Does not require true labels.\n",
        "\n",
        "3.) Provides insights into cluster quality.\n",
        "\n",
        "**Disadvantages**:\n",
        "\n",
        "1.) Sensitive to noise.\n",
        "\n",
        "2.) Can be misleading for irregularly shaped clusters.\n",
        "\n",
        "3.) Computationally expensive for large datasets.\n",
        "\n"
      ],
      "metadata": {
        "id": "C8EIRGJFLl0W"
      }
    },
    {
      "cell_type": "code",
      "source": [],
      "metadata": {
        "id": "1czqG-tbILe7"
      },
      "execution_count": null,
      "outputs": []
    },
    {
      "cell_type": "markdown",
      "source": [
        "Q8. What are some limitations of the Davies-Bouldin Index as a clustering evaluation metric? How can\n",
        "they be overcome?"
      ],
      "metadata": {
        "id": "TedKKz-PIL3N"
      }
    },
    {
      "cell_type": "markdown",
      "source": [
        "A8. Some limitations of the Davies-Bouldin Index as a clustering evaluation metric are:\n",
        "\n",
        "### Limitations:\n",
        "\n",
        "1.) Assumes spherical clusters.\n",
        "\n",
        "2.) Sensitive to the number of clusters.\n",
        "\n",
        "3.) Affected by noisy data.\n",
        "\n",
        "### Solutions:\n",
        "\n",
        "1.) Use multiple evaluation metrics (Silhouette Score, V-measure).\n",
        "\n",
        "2.) Preprocess data to remove noise.\n",
        "\n",
        "3.) Compare with domain knowledge."
      ],
      "metadata": {
        "id": "oTL8sLrSL6JF"
      }
    },
    {
      "cell_type": "code",
      "source": [],
      "metadata": {
        "id": "ActToPSDINkb"
      },
      "execution_count": null,
      "outputs": []
    },
    {
      "cell_type": "markdown",
      "source": [
        "Q9. What is the relationship between homogeneity, completeness, and the V-measure? Can they have\n",
        "different values for the same clustering result?"
      ],
      "metadata": {
        "id": "FxB4MUX0IN6k"
      }
    },
    {
      "cell_type": "markdown",
      "source": [
        "A9. Yes, they can have different values.\n",
        "\n",
        "Homogeneity measures cluster purity.\n",
        "\n",
        "Completeness measures how well class members are grouped.\n",
        "\n",
        "V-measure is their harmonic mean.\n",
        "\n",
        "A clustering result can have high homogeneity but low completeness, or vice versa.\n"
      ],
      "metadata": {
        "id": "zCsRX1TsMMHj"
      }
    },
    {
      "cell_type": "code",
      "source": [],
      "metadata": {
        "id": "iP5dz2EZIQBW"
      },
      "execution_count": null,
      "outputs": []
    },
    {
      "cell_type": "markdown",
      "source": [
        "Q10. How can the Silhouette Coefficient be used to compare the quality of different clustering algorithms on the same dataset? What are some potential issues to watch out for?"
      ],
      "metadata": {
        "id": "0SrDCEHJIQXj"
      }
    },
    {
      "cell_type": "markdown",
      "source": [
        "A10. The Silhouette Coefficient be used to compare the quality of different clustering algorithms on the same dataset by following:\n",
        "\n",
        "1.) Compute Silhouette Score for each clustering algorithm.\n",
        "\n",
        "2.) Compare scores: Higher is better.\n",
        "\n",
        "\n",
        "**Watch out for:**\n",
        "\n",
        "1.) Some algorithms work better with non-spherical clusters (e.g., DBSCAN).\n",
        "\n",
        "2.) The dataset may have overlapping clusters, affecting the score.\n"
      ],
      "metadata": {
        "id": "Nf4-GuECMTAj"
      }
    },
    {
      "cell_type": "code",
      "source": [],
      "metadata": {
        "id": "TzwwTL1hISvD"
      },
      "execution_count": null,
      "outputs": []
    },
    {
      "cell_type": "markdown",
      "source": [
        "Q11. How does the Davies-Bouldin Index measure the separation and compactness of clusters? What are\n",
        "some assumptions it makes about the data and the clusters?"
      ],
      "metadata": {
        "id": "y3NurDnuIUPr"
      }
    },
    {
      "cell_type": "markdown",
      "source": [
        "A11. The Davies-Bouldin Index measure the separation and compactness of clusters and Assumptions are :\n",
        "\n",
        "## DBI measures:\n",
        "\n",
        "Compactness: Average intra-cluster distances.\n",
        "\n",
        "Separation: Distance between cluster centroids.\n",
        "\n",
        "\n",
        "## Assumptions:\n",
        "\n",
        "Clusters are spherical.\n",
        "\n",
        "Distances between clusters should be meaningful.\n",
        "\n",
        "The number of clusters is properly chosen.\n"
      ],
      "metadata": {
        "id": "WlTr1tGoMsM-"
      }
    },
    {
      "cell_type": "code",
      "source": [],
      "metadata": {
        "id": "mPQAY5gyNLMG"
      },
      "execution_count": null,
      "outputs": []
    },
    {
      "cell_type": "markdown",
      "source": [
        "Q12. Can the Silhouette Coefficient be used to evaluate hierarchical clustering algorithms? If so, how?"
      ],
      "metadata": {
        "id": "-7aemrcFIV4b"
      }
    },
    {
      "cell_type": "markdown",
      "source": [
        "A12. Yes, the Silhouette Coefficient be used to evaluate hierarchical clustering algorithms by following:\n",
        "\n",
        "1.) Compute Silhouette Score for different numbers of clusters.\n",
        "\n",
        "2.) Use it to find the best cut-off in the dendrogram.\n",
        "\n",
        "3.) Compare different linkage methods (single, complete, average).\n"
      ],
      "metadata": {
        "id": "qWMyBWdSNMKo"
      }
    },
    {
      "cell_type": "code",
      "source": [],
      "metadata": {
        "id": "kEz7OJqrNMkv"
      },
      "execution_count": null,
      "outputs": []
    },
    {
      "cell_type": "code",
      "source": [],
      "metadata": {
        "id": "-GzodjdbNM9H"
      },
      "execution_count": null,
      "outputs": []
    }
  ]
}