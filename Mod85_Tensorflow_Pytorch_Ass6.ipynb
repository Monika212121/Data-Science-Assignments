{
  "nbformat": 4,
  "nbformat_minor": 0,
  "metadata": {
    "colab": {
      "provenance": []
    },
    "kernelspec": {
      "name": "python3",
      "display_name": "Python 3"
    },
    "language_info": {
      "name": "python"
    }
  },
  "cells": [
    {
      "cell_type": "markdown",
      "source": [
        "# Mod85 Optimizers Assignment"
      ],
      "metadata": {
        "id": "KIJqr5ZtxbSV"
      }
    },
    {
      "cell_type": "markdown",
      "source": [
        "Objective: Assess understanding of optimization algorithms in artificial neural networks. Evaluate the application and comparison of different optimizers. Enhance knowledge of optimizers' impact on model convergence and performance.\n",
        "\n"
      ],
      "metadata": {
        "id": "RcrwUKEQwJN5"
      }
    },
    {
      "cell_type": "code",
      "source": [],
      "metadata": {
        "id": "ZLkQd1NQxnOu"
      },
      "execution_count": null,
      "outputs": []
    },
    {
      "cell_type": "markdown",
      "source": [
        "## Part 1: Understanding Optimizer"
      ],
      "metadata": {
        "id": "6_3iCWlrEe4w"
      }
    },
    {
      "cell_type": "markdown",
      "source": [
        "1.What is the role of optimization algorithms in artificial neural networks? Why are they necessary?"
      ],
      "metadata": {
        "id": "rEfi3QDoEpYB"
      }
    },
    {
      "cell_type": "markdown",
      "source": [
        "A1. Optimization algorithms are the brains behind the learning in neural networks — they take error signals and turn them into smarter models by fine-tuning parameters in the right way.\n",
        "\n",
        "### Role of Optimization Algorithms in ANNs -\n",
        "\n",
        "#### **1.) Minimizing the Loss Function**\n",
        "\n",
        "- Neural networks learn by minimizing a loss function, which measures how far off the network’s predictions are from the actual target values.\n",
        "\n",
        "- Optimization algorithms help adjust the model’s parameters (weights and biases) to reduce this error.\n",
        "\n",
        "#### **2.) Guiding Weight Updates**\n",
        "\n",
        "- At each iteration (epoch), an optimizer uses gradients (calculated via backpropagation) to determine:\n",
        "\n",
        "- **Direction:** Which way to change the weights\n",
        "\n",
        "- **Magnitude:** How much to change them\n",
        "\n",
        "#### **3.) Efficient Convergence**\n",
        "\n",
        "- Good optimizers help the model converge faster and more reliably to an optimal (or near-optimal) set of weights, reducing training time and improving performance.\n",
        "\n",
        "#### **4.) Avoiding Pitfalls**\n",
        "\n",
        "Advanced optimizers help avoid:\n",
        "\n",
        "- **Local minima:** Getting stuck in bad spots in the loss landscape.\n",
        "\n",
        "- **Saddle points:** Flat regions that stall training.\n",
        "\n",
        "- **Exploding/vanishing gradients**\n",
        "\n",
        "\n",
        "## Why Are They Necessary?\n",
        "\n",
        "Without optimization algorithms:\n",
        "\n",
        "- A neural network wouldn't learn at all — weights would stay random.\n",
        "\n",
        "- The model wouldn't be able to adapt to data, generalize patterns, or improve predictions.\n",
        "\n",
        "- Manually adjusting millions of weights in a deep neural net would be impossible and extremely inefficient.\n",
        "\n",
        "\n",
        "### Common Optimization Algorithms are -\n",
        "\n",
        "1. ) Gradient Descent (and variants like Batch, Stochastic, and Mini-Batch)\n",
        "\n",
        "2. ) Momentum\n",
        "\n",
        "3. ) RMSprop\n",
        "\n",
        "4. ) Adam (widely used due to its adaptive learning rate and momentum features)"
      ],
      "metadata": {
        "id": "_HVeajXeFawX"
      }
    },
    {
      "cell_type": "code",
      "source": [],
      "metadata": {
        "id": "rum5h8yvxnSK"
      },
      "execution_count": null,
      "outputs": []
    },
    {
      "cell_type": "markdown",
      "source": [
        "2.Explain the concept of gradient descent and its variants. Discuss their differences and tradeoffs in terms of convergence speed and memory requirements."
      ],
      "metadata": {
        "id": "9XmKT9FUGs1K"
      }
    },
    {
      "cell_type": "markdown",
      "source": [
        "A2. Gradient Descent is an algorithm used to minimize a loss function by iteratively updating the model's parameters in the direction that reduces error (i.e., the negative of the gradient).\n",
        "\n",
        "Update Rule:\n",
        "```\n",
        "𝜃 = 𝜃 − 𝜂 ⋅ ∇𝐽(𝜃)\n",
        "\n",
        "```\n",
        "θ: Model parameters (weights/biases)\n",
        "\n",
        "η (eta): Learning rate (step size)\n",
        "\n",
        "∇J(θ): Gradient of the loss function with respect to the parameters.\n",
        "\n",
        "## Variants of Gradient Descent\n",
        "\n",
        "#### 1.) Batch Gradient Descent\n",
        "\n",
        "Uses the entire dataset to compute gradients for every step.\n",
        "\n",
        "- **Pros:**\n",
        "\n",
        "  - a.) Stable and accurate gradient direction.\n",
        "\n",
        "  - b.) Works well with smaller datasets.\n",
        "\n",
        "- **Cons:**\n",
        "\n",
        "  - a.) Very slow with large datasets.\n",
        "\n",
        "  - b.) Requires high memory to load full data in each iteration.\n",
        "\n",
        "\n",
        "Convergence Speed: 🔽 Slow,\n",
        "\n",
        "Memory: 🔼 High\n",
        "\n",
        "\n",
        "### 2.) Stochastic Gradient Descent (SGD)\n",
        "\n",
        "Uses one training example at each step.\n",
        "\n",
        "- **Pros:**\n",
        "\n",
        "  - a.) Fast updates — useful for large datasets.\n",
        "\n",
        "  - b.) Can escape local minima due to its randomness.\n",
        "\n",
        "- **Cons:**\n",
        "\n",
        "  - a.) Noisy updates cause fluctuation — might not settle near the minimum.\n",
        "\n",
        "  - b.) Harder to converge smoothly.\n",
        "\n",
        "Convergence Speed: 🔼 Fast (per update), but may require more steps.\n",
        "\n",
        "Memory: 🔽 Very Low\n",
        "\n",
        "\n",
        "### 3.) Mini-Batch Gradient Descent\n",
        "Uses a small batch of data (e.g., 32 or 128 samples) at each step.\n",
        "\n",
        "- **Pros:**\n",
        "\n",
        "  - a.) Best of both worlds — faster than batch, more stable than SGD.\n",
        "\n",
        "  - b.) Efficient with modern hardware (e.g., GPUs).\n",
        "\n",
        "- **Cons:**\n",
        "\n",
        "  - a.) Still introduces some noise (less than SGD).\n",
        "\n",
        "  - b.) Needs tuning of batch size for best results.\n",
        "\n",
        "Convergence Speed: Balanced\n",
        "\n",
        "Memory: Moderate\n",
        "\n",
        "\n"
      ],
      "metadata": {
        "id": "pYnm9elaG-iv"
      }
    },
    {
      "cell_type": "code",
      "source": [],
      "metadata": {
        "id": "ESj3tLzRGyR4"
      },
      "execution_count": null,
      "outputs": []
    },
    {
      "cell_type": "markdown",
      "source": [
        "3.Describe the challenges associated with traditional gradient descent optimization methods (e.g., slow convergence, local minima). How do modern optimizers address these challenges."
      ],
      "metadata": {
        "id": "C0N_I8qAgiVm"
      }
    },
    {
      "cell_type": "markdown",
      "source": [
        "A3. Challenges of Traditional Gradient Descent\n",
        "Traditional gradient descent methods (like vanilla SGD or batch GD) work well in theory, but they face several practical challenges, especially with complex models like neural networks.\n",
        "\n",
        "1.) Slow Convergence\n",
        "\n",
        "- In flat regions (called plateaus) or when gradients are small (i.e., vanishing gradients), the optimizer makes tiny updates.\n",
        "\n",
        "- This slows down learning — training takes forever.\n",
        "\n",
        "2.) Local Minima / Saddle Points\n",
        "\n",
        "- In high-dimensional space, models can get stuck in local minima or saddle points (flat regions with zero slope).\n",
        "\n",
        "- The optimizer doesn't know which direction to go, so it just gets “stuck.”\n",
        "\n",
        "3.) Oscillations in Narrow Valleys\n",
        "\n",
        "- Sometimes the loss surface looks like a narrow ravine — steep in one direction, flat in another.\n",
        "\n",
        "- Gradient descent keeps jumping side to side, slowing progress toward the bottom.\n",
        "\n",
        "4.) Learning Rate Sensitivity\n",
        "\n",
        "- **Too small:** training is slow.\n",
        "\n",
        "- **Too large:** risk of overshooting the minimum or diverging entirely.\n",
        "\n",
        "- A fixed learning rate often doesn’t work well throughout training.\n",
        "\n",
        "# How Modern Optimizers Solve These Problems\n",
        "\n",
        "Modern optimizers were created to tackle these exact issues. Here’s how they help:\n",
        "\n",
        "1.) **Momentum**\n",
        "\n",
        "- Speeds up learning and smooths out the path.\n",
        "\n",
        "- Adds “velocity” to the updates so the model accelerates through plateaus and doesn’t get stuck.\n",
        "\n",
        "- Helps avoid zig-zagging in narrow valleys.\n",
        "\n",
        "- Think of rolling a ball downhill — it picks up speed and doesn't stop at small bumps.\n",
        "\n",
        "2) **Adaptive Learning Rates**\n",
        "\n",
        "- Different learning rates for each parameter.\n",
        "\n",
        "- Optimizers like AdaGrad, RMSprop, and Adam adjust learning rates automatically based on past gradients.\n",
        "\n",
        "- Helps deal with vanishing gradients or frequent updates to certain parameters.\n",
        "\n",
        "3.) **Adam Optimizer: Best of All Worlds**\n",
        "\n",
        "- Momentum + Adaptive Learning Rates\n",
        "\n",
        "- Adam (Adaptive Moment Estimation) is the most popular optimizer.\n",
        "\n",
        "### *It keeps track of:*\n",
        "\n",
        "1. ) First moment (mean of gradients) → like momentum\n",
        "\n",
        "2. ) Second moment (variance of gradients) → for adaptive scaling\n",
        "\n",
        "3. )  Fast convergence, works well out of the box, handles noise, flat regions, and sharp curves effectively.\n",
        "\n",
        "\n",
        "# TL;DR\n",
        "Traditional gradient descent is simple but struggles with real-world deep learning tasks. Modern optimizers like Momentum, RMSprop, and especially Adam overcome these by:\n",
        "\n",
        "1. ) Speeding up training,\n",
        "\n",
        "2. ) Avoiding traps like saddle points or local minima,\n",
        "\n",
        "3. ) Adjusting learning rates dynamically."
      ],
      "metadata": {
        "id": "M0UkwTBfg-nm"
      }
    },
    {
      "cell_type": "code",
      "source": [],
      "metadata": {
        "id": "UIiiojhfgo73"
      },
      "execution_count": null,
      "outputs": []
    },
    {
      "cell_type": "markdown",
      "source": [
        "4.Discuss the concepts of momentum and learning rate in the context of optimization algorithms. How do they impact convergence and model performance?"
      ],
      "metadata": {
        "id": "Q5-cPGTVjFDg"
      }
    },
    {
      "cell_type": "markdown",
      "source": [
        "A4.\n",
        "## 1. Learning Rate (η)\n",
        "\n",
        "The learning rate determines how big a step the optimizer takes when updating model parameters during training.\n",
        "\n",
        "Update Rule (basic SGD):\n",
        "```\n",
        "θ = θ − η ⋅ ∇J(θ)\n",
        "```\n",
        "Small η: Tiny steps → slow convergence, but stable.\n",
        "\n",
        "Large η: Big steps → faster convergence, but risk of overshooting or even diverging.\n",
        "\n",
        "\n",
        "### Impact on Model Performance:\n",
        "\n",
        "1. ) If η is too small, the model might never reach the optimum.\n",
        "\n",
        "2. ) If η is too large, the loss might oscillate or increase — causing the model to fail to converge.\n",
        "\n",
        "### Solution:\n",
        "\n",
        "Modern optimizers (like Adam) use adaptive learning rates, so different parameters can learn at different speeds — improving performance and stability.\n",
        "\n",
        "------------------------------------------------------------------------------------------------\n",
        "## 2. Momentum\n",
        "\n",
        "- Momentum helps the model remember the past gradients and builds speed in directions where the gradient consistently points the same way.\n",
        "\n",
        "- Imagine pushing a ball down a hill — momentum keeps it moving faster in the same direction.\n",
        "\n",
        "### Update Rule (Momentum version of SGD):\n",
        "```\n",
        "Vt​ = γVt−1​ + η ⋅ ∇J(θ)\n",
        "\n",
        "θ = θ − Vt\n",
        "\n",
        "```\n",
        "\n",
        "Vt : velocity (accumulated gradient)\n",
        "\n",
        "γ (gamma) : momentum factor (typically around 0.9)\n",
        "\n",
        "## Impact on Convergence:\n",
        "\n",
        "1. ) Speeds up training, especially on flat surfaces or ravines.\n",
        "\n",
        "2. ) Reduces oscillations by smoothing updates across steps.\n",
        "\n",
        "3. ) Helps the model get out of small local minima and avoid zig-zagging.\n",
        "\n",
        "## Best Practice Tips\n",
        "\n",
        "1. ) Start with a default learning rate (like 0.001 for Adam or 0.01 for SGD), then tune based on performance.\n",
        "\n",
        "2. ) Use momentum (typically 0.9) with SGD for deeper models.\n",
        "\n",
        "3. ) Consider learning rate scheduling (decaying over time) to help models fine-tune in later stages.\n",
        "\n",
        "\n",
        "##  TL;DR\n",
        "\n",
        "1. ) Learning Rate controls how fast the model learns.\n",
        "\n",
        "2. ) Momentum controls how smoothly the model learns.\n",
        "\n",
        "3. ) Together, they play a crucial role in achieving fast, stable, and effective training.\n"
      ],
      "metadata": {
        "id": "1HfiWn5sBOcn"
      }
    },
    {
      "cell_type": "code",
      "source": [],
      "metadata": {
        "id": "T-wji3CtjHtM"
      },
      "execution_count": null,
      "outputs": []
    },
    {
      "cell_type": "code",
      "source": [],
      "metadata": {
        "id": "qHo0c_a0Dvzr"
      },
      "execution_count": null,
      "outputs": []
    },
    {
      "cell_type": "markdown",
      "source": [
        "# Part 2: Optimizer Technique"
      ],
      "metadata": {
        "id": "xGr0LCGkDa6U"
      }
    },
    {
      "cell_type": "markdown",
      "source": [
        "5.Explain the concept of Stochastic Gradient Descent (SGD) and its advantages compared to traditional gradient descent. Discuss its limitations and scenarios where it is most suitable.\n",
        "\n",
        "\n",
        "\n"
      ],
      "metadata": {
        "id": "4_PrvrBVDYgP"
      }
    },
    {
      "cell_type": "markdown",
      "source": [
        "A5. Traditional (Batch) Gradient Descent:\n",
        "Uses all the training data to compute the gradient before each update.\n",
        "\n",
        "Update rule:\n",
        "```\n",
        "θ = θ − η ⋅ ∇J(θ)\n",
        "```\n",
        "Very accurate but slow and memory-intensive, especially with large datasets.\n",
        "\n",
        "\n",
        "##  SGD (Stochastic Gradient Descent):\n",
        "Instead of the full dataset, SGD uses a single randomly picked training example to compute the gradient and update the weights.\n",
        "```\n",
        "θ = θ − η ⋅ ∇J(θ; x(i), y(i))\n",
        "```\n",
        "\n",
        "Here, ( x(i) , y(i) ) is one data point.\n",
        "\n",
        "\"Stochastic\" means **random**, so each step is based on a random sample — leading to noisy, but fast updates.\n",
        "\n",
        "## Advantages of SGD\n",
        "\n",
        "1. ) Faster updates - It updates weights after every sample → much quicker iterations.\n",
        "\n",
        "2. ) Low memory usage - Doesn’t need to load the full dataset into memory.\n",
        "\n",
        "3. ) Better for online learning - Can be updated continuously as new data comes in.\n",
        "\n",
        "4. ) Can escape local minima - The noise in updates sometimes helps jump out of shallow minima or saddle points.\n",
        "\n",
        "## Limitations of SGD\n",
        "\n",
        "1. ) Noisy updates- The random nature makes the path to convergence bumpy.\n",
        "\n",
        "2. ) Slower final convergence - It might take longer to settle near the minimum, oscillating around it.\n",
        "\n",
        "3. ) Sensitive to learning rate - Choosing the wrong learning rate can cause divergence or very slow learning.\n",
        "\n",
        "4. ) No guarantee of convergence - Especially without techniques like momentum or decay.\n",
        "\n",
        "## Best Use Cases for SGD\n",
        "\n",
        "1. ) Large-scale datasets (e.g., millions of images or text samples)\n",
        "\n",
        "2. ) Online learning: models that learn in real time as new data arrives\n",
        "\n",
        "3. ) Deep learning tasks like image classification, NLP, etc.\n",
        "\n",
        "4. ) When quick model iteration is more important than perfect convergence.\n",
        "\n",
        "\n",
        "## Common Enhancements to SGD\n",
        "\n",
        "1. ) To deal with its instability, several techniques are commonly used:\n",
        "\n",
        "2. ) Mini-batch SGD: Uses a small batch (e.g., 32 or 64 samples) instead of one → balances speed and stability.\n",
        "\n",
        "3. ) Momentum: Helps smooth the path toward the minimum.\n",
        "\n",
        "4. ) Learning rate scheduling: Gradually reduces the learning rate over time.\n",
        "\n",
        "5. ) Adaptive optimizers: Like Adam or RMSprop, built on top of SGD to fix its weaknesses.\n",
        "\n",
        "## TL;DR\n",
        "\n",
        "1. ) SGD = Fast, memory-efficient, slightly noisy updates.\n",
        "\n",
        "2. ) It’s great for large-scale or online learning tasks, but may need momentum or learning rate tricks for best performance.\n",
        "\n",
        "3. ) Think of it as quick and scrappy compared to accurate but slow traditional gradient descent."
      ],
      "metadata": {
        "id": "n8v0rrDuEBSv"
      }
    },
    {
      "cell_type": "code",
      "source": [],
      "metadata": {
        "id": "4aiKgdsyDuNR"
      },
      "execution_count": null,
      "outputs": []
    },
    {
      "cell_type": "markdown",
      "source": [
        "6.Describe the concept of Adam optimizer and how it combines momentum and adaptive learning rates."
      ],
      "metadata": {
        "id": "Zk7_uXOsDqbm"
      }
    },
    {
      "cell_type": "markdown",
      "source": [
        "A6. Adam stands for Adaptive Moment Estimation.\n",
        "\n",
        "It’s an optimization algorithm that combines the benefits of two other methods:\n",
        "\n",
        "1. ) Momentum (to smooth updates)\n",
        "\n",
        "2. ) Adaptive learning rates (like in RMSProp)\n",
        "\n",
        "Adam is designed to handle:\n",
        "\n",
        "- Noisy gradients\n",
        "\n",
        "- Sparse data\n",
        "\n",
        "- Non-stationary objectives (changing loss landscapes)\n",
        "\n",
        "## How Adam Works\n",
        "At each time step t, Adam maintains two moving averages:\n",
        "\n",
        "𝑚t : the first moment (mean of gradients) → acts like momentum.\n",
        "\n",
        "vt : the second moment (uncentered variance of gradients) → used for adaptive learning rate.\n",
        "\n",
        "\n",
        "### Update steps:\n",
        "\n",
        "1. ) Compute gradient\n",
        "```gt​ = ∇J(θt)```\n",
        "\n",
        "2. ) Update biased moment estimates:\n",
        "\n",
        "```\n",
        "mt​ = β1​ * m(t−1)​ +(1−β1) * gt​  [momentum]\n",
        "```\n",
        "\n",
        "```\n",
        "vt​ = β2​* v(t−1)​ +(1−β2​) * gt^2  [RMS-like scaling]​\n",
        "```\n",
        "\n",
        "3.) Correct the bias (especially early in training):\n",
        "```\n",
        "^\n",
        "mt = mt / [1 − (β1)^t]​​\n",
        "\n",
        "```\n",
        "\n",
        "```\n",
        "^\n",
        "vt = vt / [1 − (β2)^t]​​\n",
        "\n",
        "```\n",
        "\n",
        "4.) Update the parameters:\n",
        "\n",
        "```\n",
        "θ(t+1)​ = θ(t​) − η ⋅ [mt^/ (sqrt(vt^ + 𝜖))​]\n",
        "\n",
        "```\n",
        "\n",
        "η: learning rate (default = 0.001)\n",
        "\n",
        "𝛽1 : decay rate for momentum (default = 0.9)\n",
        "\n",
        "𝛽2 : decay rate for RMS (default = 0.999)\n",
        "\n",
        "ϵ: small constant to prevent division by zero (default = 1e-8)\n",
        "\n",
        "\n",
        "## Advantages of ADAM:\n",
        "\n",
        "1. ) Momentum(via mt) - Speeds up training and smooths updates.\n",
        "\n",
        "2. ) Adaptive learning rate(via vt) - Automatically adjusts the learning rate for each parameter.\n",
        "\n",
        "3. ) Bias correction - Prevents instability in early iterations.\n",
        "\n",
        "4. ) Works well out-of-the-box - Minimal tuning needed for most problems.\n",
        "\n",
        "5. ) Efficient - Low memory use, fast convergence.\n",
        "\n",
        "###  Limitations of Adam\n",
        "\n",
        "1. ) Can sometimes overfit or stop improving too early (not always the best generalizer).\n",
        "\n",
        "2. ) Slightly less robust on certain convex problems compared to SGD with momentum.\n",
        "\n",
        "3. ) More hyperparameters (though defaults often work well).\n",
        "\n",
        "## Use Cases\n",
        "\n",
        "- a. ) Deep learning tasks (CNNs, RNNs, Transformers)\n",
        "\n",
        "- b. ) Noisy problems (e.g., reinforcement learning)\n",
        "\n",
        "- c. ) Sparse gradients (e.g., NLP, embeddings)\n",
        "\n",
        "\n",
        "## TL;DR\n",
        "\n",
        "1. ) Adam = Momentum + Adaptive Learning Rates.\n",
        "\n",
        "2. ) It tracks both the average of past gradients (like momentum) and the average of their squared values (like RMSProp).\n",
        "\n",
        "3. ) Result: fast, stable, and effective optimization with minimal tweaking.\n"
      ],
      "metadata": {
        "id": "uHq66N8rlAfp"
      }
    },
    {
      "cell_type": "code",
      "source": [],
      "metadata": {
        "id": "Ka048nNSDp52"
      },
      "execution_count": null,
      "outputs": []
    },
    {
      "cell_type": "markdown",
      "source": [
        "7.Explain the concept of RMSprop optimizer and how it addresses the challenges of adaptive learning rates. Compare it with Adam and discuss their relative strengths and weaknesses."
      ],
      "metadata": {
        "id": "n5WsB6ZxDnXi"
      }
    },
    {
      "cell_type": "markdown",
      "source": [
        "A7. RMSprop (Root Mean Square Propagation) is an adaptive learning rate optimization algorithm designed to overcome the limitations of standard gradient descent, especially slow convergence and oscillations in steep valleys.\n",
        "\n",
        "### Key idea:\n",
        "RMSprop adjusts the learning rate individually for each parameter by dividing the gradient by a running average of the magnitudes of recent gradients.\n",
        "\n",
        "### How RMSprop Works\n",
        "\n",
        "At each step t:\n",
        "\n",
        "1. ) Compute the gradient:\n",
        "```\n",
        "gt​ = ∇θ​ J(θt​)\n",
        "```\n",
        "\n",
        "2. ) Update the moving average of squared gradients:\n",
        "```\n",
        "E[(g)^2]t = β * E[(g)^2]t-1 + (1-β) * (gt)^2\n",
        "```\n",
        "\n",
        "3. ) Update the parameters:\n",
        "\n",
        "```\n",
        "θ(t+1) = θ(t) - [η / sqrt(E[(g)^2]t + ϵ)] * gt   , where\n",
        "\n",
        "​η: learning rate\n",
        "\n",
        "β: decay factor (typically ~0.9)\n",
        "\n",
        "ϵ: small constant for numerical stability (e.g., 1𝑒−8)\n",
        "```\n",
        "\n",
        "## How RMSprop Solves Adaptive Learning Rate Issues\n",
        "1. ) Parameters with frequent updates (large gradients) get smaller learning rates.\n",
        "\n",
        "2. ) Parameters with infrequent updates get larger learning rates.\n",
        "\n",
        "3. ) This helps reduce oscillations and speeds up convergence, especially in non-convex loss surfaces.\n",
        "\n",
        "\n",
        "## TL;DR\n",
        "1. ) RMSprop is great at smoothing out learning using per-parameter adaptive learning rates.\n",
        "\n",
        "2. ) Adam takes it further by adding momentum and bias correction, making it more powerful but also slightly more complex.\n",
        "\n",
        "3. ) Both are excellent choices — Adam is more popular, but RMSprop can shine in RNNs and certain niche tasks."
      ],
      "metadata": {
        "id": "2QN4RFW4pl-a"
      }
    },
    {
      "cell_type": "code",
      "source": [],
      "metadata": {
        "id": "MAlyZ0daDn-M"
      },
      "execution_count": null,
      "outputs": []
    },
    {
      "cell_type": "markdown",
      "source": [
        "# Part 3: Applying Optimizer"
      ],
      "metadata": {
        "id": "tBMtFcHWroUk"
      }
    },
    {
      "cell_type": "code",
      "source": [],
      "metadata": {
        "id": "jvddDSSgrpza"
      },
      "execution_count": null,
      "outputs": []
    },
    {
      "cell_type": "markdown",
      "source": [
        "8.Implement SGD, Adam, and RMSprop optimizers in a deep learning model using a framework of your choice. Train the model on a suitable dataset and compare their impact on model convergence and performance."
      ],
      "metadata": {
        "id": "Ze9ufrxGrrok"
      }
    },
    {
      "cell_type": "code",
      "source": [
        "# A8.\n",
        "\n",
        "import torch\n",
        "import torch.nn as nn\n",
        "import torch.nn.functional as F\n",
        "from torchvision import datasets, transforms\n",
        "from torch.utils.data import DataLoader\n",
        "import matplotlib.pyplot as plt\n",
        "\n",
        "# 1. Load MNIST Dataset\n",
        "transform = transforms.Compose([transforms.ToTensor()])\n",
        "train_dataset = datasets.MNIST(root= './data', train= True, download= True, transform= transform)\n",
        "test_dataset = datasets.MNIST(root= './data', train = False, download= True, transform= transform)\n",
        "\n",
        "train_loader= DataLoader(train_dataset, batch_size = 64, shuffle= True)\n",
        "test_loader = DataLoader(test_dataset, batch_size = 1000, shuffle= False)\n",
        "\n",
        "# 2. Define the Neural Network\n",
        "class SimpleNN(nn.Module):\n",
        "  def __init__(self):\n",
        "    super(SimpleNN, self).__init__()\n",
        "    self.fc1 = nn.Linear(28 *28, 128)\n",
        "    self.fc2 = nn.Linear(128, 64)\n",
        "    self.fc3 = nn.Linear(64, 10)\n",
        "\n",
        "  def forward(self, x):\n",
        "    x = x.view(-1, 28 *28)\n",
        "    x = F.relu(self.fc1(x))\n",
        "    x = F.relu(self.fc2(x))\n",
        "    return self.fc3(x)\n",
        "\n",
        "\n",
        "# 3. Training function\n",
        "def train_model(optimizer_type= 'SGD', epochs= 5):\n",
        "  model = SimpleNN()\n",
        "  criterion = nn.CrossEntropyLoss()\n",
        "  optimizer = {\n",
        "      'SGD': torch.optim.SGD(model.parameters(), lr= 0.01),\n",
        "      'Adam': torch.optim.Adam(model.parameters(), lr= 0.001),\n",
        "      'RMSprop': torch.optim.RMSprop(model.parameters(), lr= 0.001)\n",
        "  }[optimizer_type]\n",
        "\n",
        "  train_losses = []\n",
        "\n",
        "  for epoch in range(epochs):\n",
        "    total_loss = 0\n",
        "    for batch_idx, (data,target) in enumerate(train_loader):\n",
        "      optimizer.zero_grad()\n",
        "      output = model(data)\n",
        "      loss = criterion(output, target)\n",
        "      loss.backward()\n",
        "      optimizer.step()\n",
        "      total_loss +=loss.item()\n",
        "\n",
        "    avg_loss = total_loss / len(train_loader)\n",
        "    train_losses.append(avg_loss)\n",
        "    print(f\"{optimizer_type} - Epoch {epoch+1}, Loss: {avg_loss:.4f}\")\n",
        "  return train_losses\n",
        "\n",
        "\n",
        "# 4. Compare optimizers\n",
        "sgd_loss = train_model('SGD', epochs= 10)\n",
        "adam_loss = train_model('Adam', epochs= 10)\n",
        "rmsprop_loss = train_model('RMSprop', epochs= 10)\n",
        "\n",
        "\n",
        "# 5. Plot Training loss\n",
        "plt.plot(sgd_loss, label= 'SGD')\n",
        "plt.plot(adam_loss, label= 'Adam')\n",
        "plt.plot(rmsprop_loss, label= 'RMSprop')\n",
        "plt.xlabel('Epochs')\n",
        "plt.ylabel('Training Loss')\n",
        "plt.title(\"Optimizer comparision on MNIST\")\n",
        "plt.legend()\n",
        "plt.grid()\n",
        "plt.show()\n"
      ],
      "metadata": {
        "colab": {
          "base_uri": "https://localhost:8080/",
          "height": 1000
        },
        "id": "bK9KzepLFUqd",
        "outputId": "1853506d-6be3-4b4f-b121-b7f30841b90d"
      },
      "execution_count": 5,
      "outputs": [
        {
          "output_type": "stream",
          "name": "stderr",
          "text": [
            "100%|██████████| 9.91M/9.91M [00:00<00:00, 132MB/s]\n",
            "100%|██████████| 28.9k/28.9k [00:00<00:00, 17.3MB/s]\n",
            "100%|██████████| 1.65M/1.65M [00:00<00:00, 42.2MB/s]\n",
            "100%|██████████| 4.54k/4.54k [00:00<00:00, 5.30MB/s]\n"
          ]
        },
        {
          "output_type": "stream",
          "name": "stdout",
          "text": [
            "SGD - Epoch 1, Loss: 1.7424\n",
            "SGD - Epoch 2, Loss: 0.5701\n",
            "SGD - Epoch 3, Loss: 0.3996\n",
            "SGD - Epoch 4, Loss: 0.3454\n",
            "SGD - Epoch 5, Loss: 0.3147\n",
            "SGD - Epoch 6, Loss: 0.2917\n",
            "SGD - Epoch 7, Loss: 0.2728\n",
            "SGD - Epoch 8, Loss: 0.2565\n",
            "SGD - Epoch 9, Loss: 0.2420\n",
            "SGD - Epoch 10, Loss: 0.2286\n",
            "Adam - Epoch 1, Loss: 0.3465\n",
            "Adam - Epoch 2, Loss: 0.1473\n",
            "Adam - Epoch 3, Loss: 0.1000\n",
            "Adam - Epoch 4, Loss: 0.0770\n",
            "Adam - Epoch 5, Loss: 0.0584\n",
            "Adam - Epoch 6, Loss: 0.0469\n",
            "Adam - Epoch 7, Loss: 0.0386\n",
            "Adam - Epoch 8, Loss: 0.0322\n",
            "Adam - Epoch 9, Loss: 0.0254\n",
            "Adam - Epoch 10, Loss: 0.0207\n",
            "RMSprop - Epoch 1, Loss: 0.2919\n",
            "RMSprop - Epoch 2, Loss: 0.1318\n",
            "RMSprop - Epoch 3, Loss: 0.0918\n",
            "RMSprop - Epoch 4, Loss: 0.0689\n",
            "RMSprop - Epoch 5, Loss: 0.0544\n",
            "RMSprop - Epoch 6, Loss: 0.0431\n",
            "RMSprop - Epoch 7, Loss: 0.0345\n",
            "RMSprop - Epoch 8, Loss: 0.0279\n",
            "RMSprop - Epoch 9, Loss: 0.0238\n",
            "RMSprop - Epoch 10, Loss: 0.0196\n"
          ]
        },
        {
          "output_type": "display_data",
          "data": {
            "text/plain": [
              "<Figure size 640x480 with 1 Axes>"
            ],
            "image/png": "[encoded data removed]"
          },
          "metadata": {}
        }
      ]
    },
    {
      "cell_type": "markdown",
      "source": [
        "# Comparing model's performance\n",
        "\n",
        "```\n",
        "Optimizer     Speed Of Convergence    Final Training Loss    Performance Trend\n",
        "-------------------------------------------------------------------------------------------\n",
        "\n",
        "SGD               Slow                Moderate                Gradual improvement\n",
        "\n",
        "\n",
        "RMSprop           Medium               Good                     Faster than SGD\n",
        "\n",
        "\n",
        "Adam               Fast                Best                   Fast drop in loss, stable\n",
        "\n",
        "```"
      ],
      "metadata": {
        "id": "0poObwONLCiZ"
      }
    },
    {
      "cell_type": "code",
      "source": [],
      "metadata": {
        "id": "LrIQIVgAruUz"
      },
      "execution_count": null,
      "outputs": []
    },
    {
      "cell_type": "markdown",
      "source": [
        "9.Discuss the considerations and tradeoffs when choosing the appropriate optimizer for a given neural network architecture and task. Consider factors such as convergence speed, stability, and generalization performance."
      ],
      "metadata": {
        "id": "J1AEhn5qrzSP"
      }
    },
    {
      "cell_type": "markdown",
      "source": [
        "A9. Choosing the right optimizer is a critical decision when training neural networks, as it directly impacts the model's training efficiency, convergence, and ability to generalize to new data. Let’s explore the key considerations and trade-offs involved in this choice:\n",
        "\n",
        "\n",
        "### 1. ) Convergence Speed\n",
        "\n",
        "**What it Means:** How quickly the optimizer minimizes the loss function and reaches a low error rate.\n",
        "\n",
        "**Considerations:**\n",
        "\n",
        "- Adam and RMSprop often converge faster because they adapt learning rates for each parameter.\n",
        "\n",
        "- SGD may converge slower but more steadily, especially with large datasets and properly tuned learning rates.\n",
        "\n",
        "**Tradeoff:**\n",
        "\n",
        "- Faster convergence (e.g., Adam) can sometimes lead to overfitting or convergence to a sharp local minimum.\n",
        "\n",
        "- Slower convergence (SGD) can allow the model to explore more and settle in a flatter minimum, which often generalizes better.\n",
        "\n",
        "\n",
        "### 2. ) Stability During Training\n",
        "\n",
        "**What it Means:** How smoothly the optimizer updates weights without causing loss spikes or divergence.\n",
        "\n",
        "**Considerations:**\n",
        "\n",
        "- Adaptive optimizers (Adam, RMSprop) are more stable—especially for noisy gradients, sparse data, or deep networks.\n",
        "\n",
        "- SGD can be unstable without learning rate scheduling or momentum.\n",
        "\n",
        "**Tradeoff:**\n",
        "- High stability (like in Adam) may prevent the model from escaping suboptimal local minima.\n",
        "\n",
        "- Lower stability may mean longer tuning time (learning rate, momentum) but potentially better final performance.\n",
        "\n",
        "\n",
        "### 3. ) Generalization Performance\n",
        "\n",
        "**What it Means:** How well the model performs on unseen data, not just the training set.\n",
        "\n",
        "**Considerations:**\n",
        "- SGD with momentum is known to generalize better in many cases (especially vision tasks).\n",
        "\n",
        "- Adam tends to memorize training data if not regularized properly (risk of overfitting).\n",
        "\n",
        "**Tradeoff:**\n",
        "- Adaptive optimizers may give good training performance but weaker test accuracy.\n",
        "\n",
        "- SGD may require longer training but gives robust generalization.\n",
        "\n",
        "### 4. ) Nature of the Task and Architecture\n",
        "\n",
        "```\n",
        "Task / Model Type\t            Recommended Optimizer            \tReason\n",
        "------------------------------------------------------------------------------------------------\n",
        "\n",
        "-------------------------------------\n",
        "CNNs (e.g., ResNet)\t              SGD + Momentum\t        Better generalization, effective with learning rate decay\n",
        "RNNs / LSTMs\t                  RMSprop / Adam\t          Handles exploding/vanishing gradients well\n",
        "Transformers / NLP\t             Adam / AdamW\t            Works best with sparse gradients and large parameter sets\n",
        "GANs\t                              Adam\t                Helps stabilize unstable training\n",
        "Tabular / Structured Data\t          Adam\t                Good baseline and quick convergence\n",
        "```\n",
        "\n",
        "### 5. ) Computational and Memory Efficiency\n",
        "\n",
        "**Considerations:**\n",
        "- SGD is lightweight and uses minimal memory.\n",
        "\n",
        "- Adam/RMSprop require storing additional parameters (e.g., moment estimates), using more memory and compute.\n",
        "\n",
        "**Tradeoff:**\n",
        "- Adaptive optimizers are easier to tune but more resource-intensive.\n",
        "\n",
        "- SGD is leaner and faster per step, but needs more tuning.\n",
        "\n",
        "\n",
        "### Summary: Key Tradeoffs\n",
        "\n",
        "```\n",
        "Optimizer\t      Speed       \tStability       \tGeneralization\t     Memory Usage        \tUse When…\n",
        "----------------------------------------------------------------------------------------------------------------------------------------------------------------\n",
        "SGD\t           Slow\t           Low\t                High\t           Low\t Working with image data, need robustness\n",
        "\n",
        "SGD+Momentum\t  Medium\t       Medium\t               High\t           Low\t Vision tasks, deep CNNs\n",
        "\n",
        "RMSprop\t       Fast\t           High\t               Medium        \tMedium\tRNNs, time series, noisy or unstable tasks\n",
        "\n",
        "Adam\t         Very Fast\t    Very High\t             Medium             High\t  NLP, transformers, large models\n",
        "\n",
        "AdamW\t         Fast\t           High\t           Better than Adam\t   High\tFine-tuning pre-trained models\n",
        "\n",
        "```\n"
      ],
      "metadata": {
        "id": "051xxxn_PiKg"
      }
    },
    {
      "cell_type": "markdown",
      "source": [
        "## Final Thoughts\n",
        "\n",
        "- Start with Adam for prototyping and early-stage training.\n",
        "\n",
        "- Use SGD with momentum for serious model training (especially in vision tasks).\n",
        "\n",
        "- Always pair your optimizer with:\n",
        "\n",
        "    - Learning rate scheduling\n",
        "\n",
        "    - Regularization techniques (dropout, weight decay)\n",
        "\n",
        "    - Early stopping"
      ],
      "metadata": {
        "id": "4Rf8zBNGXOom"
      }
    },
    {
      "cell_type": "code",
      "source": [],
      "metadata": {
        "id": "DJIHEAs9r3V5"
      },
      "execution_count": null,
      "outputs": []
    },
    {
      "cell_type": "code",
      "source": [],
      "metadata": {
        "id": "4i0Fn8u1r2_5"
      },
      "execution_count": null,
      "outputs": []
    }
  ]
}