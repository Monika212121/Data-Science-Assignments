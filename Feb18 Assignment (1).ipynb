{
 "cells": [
  {
   "cell_type": "markdown",
   "id": "7efbe7af-7eb5-407f-9ae9-db22dc72d38d",
   "metadata": {},
   "source": [
    "ASSIGNMNET ANSWERS:"
   ]
  },
  {
   "cell_type": "markdown",
   "id": "02d1235f-96a2-4a5a-a944-8638ffd37b6d",
   "metadata": {},
   "source": [
    "Ans.1.) API stands for application programming interface, which is a set of definitions and protocols for building and integrating application software.APIs let your product or service communicate with other products and services without having to know how they’re implemented. This can simplify app development, saving time and money. When you’re designing new tools and products—or managing existing ones—APIs give you flexibility; simplify design, administration, and use; and provide opportunities for innovation.\n",
    "APIs are mechanisms that enable two software components to communicate with each other using a set of definitions and protocols. \n",
    "\n",
    "For example, the weather bureau's software system contains daily weather data. The weather app on your phone “talks” to this system via APIs and shows you daily weather updates on your phone."
   ]
  },
  {
   "cell_type": "code",
   "execution_count": null,
   "id": "cacc0f85-1fde-48ec-90eb-05536853fc68",
   "metadata": {},
   "outputs": [],
   "source": []
  },
  {
   "cell_type": "code",
   "execution_count": null,
   "id": "2897851a-1f2c-4fb5-b8d6-df86bed2694b",
   "metadata": {},
   "outputs": [],
   "source": []
  },
  {
   "cell_type": "markdown",
   "id": "0f6b22db-1d30-46ce-a93f-c1876b807a38",
   "metadata": {},
   "source": [
    "Ans.2.) Advantages of API:-\n",
    "    \n",
    "1.Increased Interoperability: API solutions enable different software systems to communicate with each other, regardless of their programming language or    platform. This enhances the interoperability between systems, allowing for the exchange of data and functionality.\n",
    "\n",
    "2.Improved Efficiency: API driven infrastructures enable developers to reuse code and functionality from existing software systems, saving time and reducing the amount of code that needs to be written from scratch.\n",
    "\n",
    "3.Better User Experience: APIs can enable third-party developers to create applications that integrate with existing software systems, providing a better user experience and increased functionality.\n",
    "\n",
    "4.Increased Flexibility: APIs provide developers with greater flexibility, enabling them to choose the best programming languages and frameworks for their needs.\n",
    "\n",
    "5.New Revenue Streams: APIs can enable companies to create new revenue streams by providing third-party developers with access to their software systems.\n",
    "\n",
    "\n",
    "\n",
    "Disadvantages of API:-\n",
    "\n",
    "1.Security Concerns: API infrastructures can be vulnerable to security breaches, such as SQL injection attacks and cross-site scripting (XSS) attacks, making it crucial to implement security measures to protect against these threats.\n",
    "\n",
    "2.Complexity: APIs can be complex, requiring a significant amount of development effort to implement and maintain.\n",
    "\n",
    "3.Compatibility Issues: APIs can have compatibility issues between different versions of the same software system or between different systems, which can lead to errors and system failures.\n",
    "\n",
    "4.Dependency on Third-Party Developers: APIs rely on third-party developers to create applications that integrate with the software system. This can create dependencies that are outside of the control of the company that owns the software system.\n",
    "\n",
    "5.Governance and Management: APIs require proper governance and management to ensure they are being used correctly and consistently across different applications and systems.\n",
    "\n"
   ]
  },
  {
   "cell_type": "code",
   "execution_count": null,
   "id": "0380eddc-b966-41fe-a33c-4450eb9ee194",
   "metadata": {},
   "outputs": [],
   "source": []
  },
  {
   "cell_type": "code",
   "execution_count": null,
   "id": "28819fbb-ad59-43f7-9b25-cba16650392a",
   "metadata": {},
   "outputs": [],
   "source": []
  },
  {
   "cell_type": "markdown",
   "id": "a3fd760d-f62f-4411-8980-aa8d3335ce04",
   "metadata": {},
   "source": [
    "Ans.3.) Web API:\n",
    "Web API is an API as the name suggests, it can be accessed over the web using the HTTP protocol. It is a framework that helps you to create and develop HTTP based RESTFUL services. The web API can be developed by using different technologies such as java, ASP.NET, etc. \n",
    "Web API is used in either a web server or a web browser. Basically Web API is a web development concept. It is limited to Web Application’s client-side and also it does not include a web server or web browser details. \n",
    "If an application is to be used on a distributed system and to provide services on different devices like laptops, mobiles, etc then web API services are used. Web API is the enhanced form of the web application.\n",
    "\n",
    "ASP.NET Web API: ASP.NET stands for Active Server Pages.NET. It is mostly used for creating web pages and web technologies. It is considered a very important tool for developers to build dynamic web pages using languages like C# and Visual Basic. \n",
    "ASP.NET Web API is a framework that helps you to build services by making it easy to reach a wide range of clients including browsers, mobiles, tablets, etc. With the help of ASP.NET, you can use the same framework and same patterns for creating web pages and services both.\n",
    "\n",
    "\n",
    "Difference between API and Web API:-\n",
    "\n",
    "API:\n",
    "1. APIs are application interfaces, implying that one application can communicate with another application in a standardized manner.\n",
    "2. API is used for any style of communication.\n",
    "3. APIs are not web services.\n",
    "4. It has a light-weight architecture furthermore, useful for gadgets which have constrained transmission capacity like smart phones.\n",
    "5. It provides support for the HTTP/s protocol: URL Request/Response Headers, and so on.\n",
    "6. It is an open source and also ships with .NET framework.\n",
    "7. API supports XML and JSON.\n",
    "8. Web API can be hosted only on IIS and self.\n",
    "\n",
    "\n",
    "Web API:\n",
    "1. Web services are a type of API, which must be accessed through a network connection.\n",
    "2. Web service is used for REST, SOAP and XML-RPC for communication.\n",
    "3. All Web services are APIs.\n",
    "4. It doesn’t have lightweight design, needs a SOAP convention to send or receive data over the system.\n",
    "5. It provides supports only for the HTTP protocol.\n",
    "6. It is not open source, however, can be devoured by any customer that comprehends xml.\n",
    "7. Web service supports only XML.\n",
    "8. Web Services can be hosted on IIS.\n"
   ]
  },
  {
   "cell_type": "code",
   "execution_count": null,
   "id": "18b8a4d1-3627-4f2a-aec5-d394ef3fa26b",
   "metadata": {},
   "outputs": [],
   "source": []
  },
  {
   "cell_type": "code",
   "execution_count": null,
   "id": "4843793a-1e7d-4c04-9a79-3f975d3bb152",
   "metadata": {},
   "outputs": [],
   "source": []
  },
  {
   "cell_type": "markdown",
   "id": "48c78809-ba0a-4fb8-acb6-de039d8685ea",
   "metadata": {},
   "source": [
    "Ans.4.) REST Architecture:\n",
    "REST stands for REpresentational State Transfer and API stands for Application Program Interface. REST is a software architectural style that defines the set of rules to be used for creating web services. Web services which follow the REST architectural style are known as RESTful web services. It allows requesting systems to access and manipulate web resources by using a uniform and predefined set of rules. Interaction in REST based systems happen through Internet’s Hypertext Transfer Protocol (HTTP).A Restful system consists of a:-\n",
    "a.) client who requests for the resources.\n",
    "b.) server who has the resources.\n",
    "\n",
    "It is important to create REST API according to industry standards which results in ease of development and increase client adoption. \n",
    "\n",
    "\n",
    "SOAP Architecture:\n",
    "SOAP is an acronym for Simple Object Access Protocol. It is an XML-based messaging protocol for exchanging information among computers. SOAP is an application of the XML specification.\n",
    "SOAP can extend HTTP for XML messaging.SOAP provides data transport for Web services.SOAP can exchange complete documents or call a remote procedure.SOAP can be used for broadcasting a message.SOAP is platform- and language-independent.SOAP is the XML way of defining what information is sent and how.SOAP enables client applications to easily connect to remote services and invoke remote methods.\n",
    "\n",
    "Shortcomings of SOAP Architecture:-\n",
    "\n",
    "1. SOAP is used only XML format data in web service, whereas JSON and other lightweight formats are not supported by it.\n",
    "\n",
    "2. It is slow because it uses XML format, whereas the payload for a simple string message is large.\n",
    "\n",
    "3. API calls made to your server will need more bandwidth and it will take more time to process the request and transfer the response back to the client.\n",
    "\n",
    "4. Highly complex. In comparison to Rest, SOAP is significantly more complex.\n",
    "\n",
    "5. No variety of data formats. SOAP is also extremely limited in its support of data formats.\n",
    "\n",
    "6. API calls are not cached.\n"
   ]
  },
  {
   "cell_type": "code",
   "execution_count": null,
   "id": "b167b0f3-7091-4aea-86b1-66c936ad5e7b",
   "metadata": {},
   "outputs": [],
   "source": []
  },
  {
   "cell_type": "code",
   "execution_count": null,
   "id": "ec26b16b-4930-4fd7-b20d-d22d838d2ff7",
   "metadata": {},
   "outputs": [],
   "source": []
  },
  {
   "cell_type": "markdown",
   "id": "1f688394-7be4-4bef-a57c-41a55719788b",
   "metadata": {},
   "source": [
    "Ans.5.) Difference between REST and SOAP APIs:-\n",
    "\n",
    "REST API:\n",
    "1. Relies on REST (Representational State Transfer) architecture using HTTP.\n",
    "\n",
    "2. Generally transports data in JSON. It is based on URI. Because REST follows stateless model, REST does not enforces message format as XML or JSON etc.\n",
    "\n",
    "3. It works with GET, POST, PUT, DELETE.\n",
    "\n",
    "4. Works over HTTP and HTTPS.\n",
    "\n",
    "5. Less structured -> less bulky data.\n",
    "\n",
    "6. Designed with mobile devices in mind.\n",
    "\n",
    "\n",
    "\n",
    "SOAP API:\n",
    "1. Relies on SOAP (Simple Object Access Protocol).\n",
    "\n",
    "2. Transports data in standard XML format.\n",
    "\n",
    "3. Because it is XML based and relies on SOAP, it works with WSDL.\n",
    "\n",
    "4. Works over HTTP, HTTPS, SMTP, XMPP.\n",
    "\n",
    "5. Highly structured/typed.\n",
    "\n",
    "6. Designed with large enterprise applications in mind."
   ]
  },
  {
   "cell_type": "code",
   "execution_count": null,
   "id": "cc5b3d73-dcaa-4e00-833d-19f7f77b14cd",
   "metadata": {},
   "outputs": [],
   "source": []
  },
  {
   "cell_type": "code",
   "execution_count": null,
   "id": "a785311b-b9d3-40e6-9e7c-c602cf3a8aa4",
   "metadata": {},
   "outputs": [],
   "source": []
  }
 ],
 "metadata": {
  "kernelspec": {
   "display_name": "Python 3 (ipykernel)",
   "language": "python",
   "name": "python3"
  },
  "language_info": {
   "codemirror_mode": {
    "name": "ipython",
    "version": 3
   },
   "file_extension": ".py",
   "mimetype": "text/x-python",
   "name": "python",
   "nbconvert_exporter": "python",
   "pygments_lexer": "ipython3",
   "version": "3.10.8"
  }
 },
 "nbformat": 4,
 "nbformat_minor": 5
}
