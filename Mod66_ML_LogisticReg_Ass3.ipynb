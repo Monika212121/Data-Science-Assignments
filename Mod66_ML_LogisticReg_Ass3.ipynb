{
  "nbformat": 4,
  "nbformat_minor": 0,
  "metadata": {
    "colab": {
      "provenance": []
    },
    "kernelspec": {
      "name": "python3",
      "display_name": "Python 3"
    },
    "language_info": {
      "name": "python"
    }
  },
  "cells": [
    {
      "cell_type": "markdown",
      "source": [
        "# Module66 Logistic Regression Assignment3"
      ],
      "metadata": {
        "id": "cd1C8lCuSyqV"
      }
    },
    {
      "cell_type": "markdown",
      "source": [
        "Q1. Explain the concept of precision and recall in the context of classification models."
      ],
      "metadata": {
        "id": "1EtPsMVRSafe"
      }
    },
    {
      "cell_type": "markdown",
      "source": [
        "A1. **Precision:** Measures the proportion of correctly predicted positive instances out of all instances predicted as positive.\n",
        "\n",
        "```Precision = TP / (TP + FP)```\n",
        "\n",
        "Focus: Reducing false positives.\n",
        "\n",
        "Example: In spam detection, high precision means most emails flagged as spam are actually spam.\n",
        "\n",
        "\n",
        "\n",
        "\n",
        "**Recall:** Measures the proportion of correctly predicted positive instances out of all actual positive instances.\n",
        "\n",
        "```Recall = TP/ (TP + FN)```\n",
        "\n",
        "Focus: Reducing false negatives.\n",
        "\n",
        "Example: In medical diagnosis, high recall ensures most patients with a disease are correctly identified."
      ],
      "metadata": {
        "id": "LrZv3UFQS8yO"
      }
    },
    {
      "cell_type": "code",
      "source": [],
      "metadata": {
        "id": "OUYTnbOzS98z"
      },
      "execution_count": null,
      "outputs": []
    },
    {
      "cell_type": "markdown",
      "source": [
        "Q2. What is the F1 score and how is it calculated? How is it different from precision and recall?"
      ],
      "metadata": {
        "id": "-JwXIfaHSch-"
      }
    },
    {
      "cell_type": "markdown",
      "source": [
        "A2. **F1 Score:** Harmonic mean of precision and recall, providing a single metric to balance both.\n",
        "\n",
        "```f1-score = 2* Precision * Recall / (Precision + Recall) ```\n",
        "\n",
        "**Difference:**\n",
        "\n",
        "1.) Precision focuses on false positives, while recall focuses on false negatives.\n",
        "\n",
        "2.) F1 score balances precision and recall, useful when there is class imbalance.\n",
        "\n",
        "**Example:** If a model has a precision of 0.8 and recall of 0.6, the F1 score would be:\n",
        "\n",
        "F1-score = 2* 0.8 * 0.6 / (0.8 + 0.6) = 0.6857"
      ],
      "metadata": {
        "id": "fnrFliFHS-oF"
      }
    },
    {
      "cell_type": "code",
      "source": [],
      "metadata": {
        "id": "3irknpRhS_NF"
      },
      "execution_count": null,
      "outputs": []
    },
    {
      "cell_type": "markdown",
      "source": [
        "Q3. What is ROC and AUC, and how are they used to evaluate the performance of classification models?"
      ],
      "metadata": {
        "id": "gTnHm6qSSefM"
      }
    },
    {
      "cell_type": "markdown",
      "source": [
        "A3. **ROC (Receiver Operating Characteristic Curve):**\n",
        "\n",
        "Plots True Positive Rate (TPR) against False Positive Rate (FPR) at different classification thresholds.\n",
        "\n",
        "Helps visualize the trade-off between sensitivity (recall) and specificity.\n",
        "\n",
        "\n",
        "**AUC (Area Under the Curve):**\n",
        "\n",
        "Measures the area under the ROC curve.\n",
        "Ranges from 0 to 1:\n",
        "\n",
        "A.) 0.5: No discrimination (random guessing).\n",
        "\n",
        "B.) 1.0: Perfect model.\n",
        "\n",
        "**Usage:**\n",
        "\n",
        "ROC-AUC evaluates how well the model separates classes. High AUC indicates better performance."
      ],
      "metadata": {
        "id": "oFyZFxLGTAN5"
      }
    },
    {
      "cell_type": "code",
      "source": [],
      "metadata": {
        "id": "q6oQ4RUOTA9k"
      },
      "execution_count": null,
      "outputs": []
    },
    {
      "cell_type": "markdown",
      "source": [
        "Q4. How do you choose the best metric to evaluate the performance of a classification model? What is multiclass classification and how is it different from binary classification?"
      ],
      "metadata": {
        "id": "YLapMr0lSgRE"
      }
    },
    {
      "cell_type": "markdown",
      "source": [
        "A4. Depends on the Problem Context:\n",
        "\n",
        "**Class Imbalance**: Use precision, recall, or F1 score.\n",
        "\n",
        "**Balanced Data:** Accuracy might suffice.\n",
        "\n",
        "**Probabilistic Predictions:** Use ROC-AUC.\n",
        "\n",
        "\n",
        "**Example:**\n",
        "\n",
        "In fraud detection, prioritize recall (minimizing false negatives).\n",
        "\n",
        "In spam detection, prioritize precision (minimizing false positives).\n",
        "\n",
        "\n",
        "# **Multiclass Classification:**\n",
        "\n",
        "Predicts one of three or more possible classes.\n",
        "\n",
        "Example: Predicting if an image contains a cat, dog, or bird.\n",
        "\n",
        "**Binary Classification:**\n",
        "\n",
        "Predicts one of two classes.\n",
        "\n",
        "Example: Predicting if an email is spam or not."
      ],
      "metadata": {
        "id": "5UMm1YQ5TBuy"
      }
    },
    {
      "cell_type": "code",
      "source": [],
      "metadata": {
        "id": "zOkNH3vNTCYa"
      },
      "execution_count": null,
      "outputs": []
    },
    {
      "cell_type": "markdown",
      "source": [
        "Q5. Explain how logistic regression can be used for multiclass classification."
      ],
      "metadata": {
        "id": "uH4wo0fYShAc"
      }
    },
    {
      "cell_type": "markdown",
      "source": [
        "A5. Logistic regression uses **Softmax Regression** for multiclass problems.\n",
        "\n",
        "Steps:\n",
        "\n",
        "1.) Calculate the probabilities for each class using the softmax function.\n",
        "\n",
        "```P(y=k∣x)= e^(θjT​ x)  / ∑ (from j=1 to K)​ e^(θjT​ x)​```\n",
        "\n",
        "2.) Assign the class with the highest probability as the predicted class."
      ],
      "metadata": {
        "id": "f-wb7StZTDgN"
      }
    },
    {
      "cell_type": "code",
      "source": [],
      "metadata": {
        "id": "fjgY79BvTEA9"
      },
      "execution_count": null,
      "outputs": []
    },
    {
      "cell_type": "markdown",
      "source": [
        "Q6. Describe the steps involved in an end-to-end project for multiclass classification."
      ],
      "metadata": {
        "id": "2Ajtxf9cW-1a"
      }
    },
    {
      "cell_type": "markdown",
      "source": [
        "A6. Steps involved in an end-to-end project for multiclass classification are:-  \n",
        "\n",
        "**1.) Define the Problem:**\n",
        "\n",
        "Specify the classes and gather data.\n",
        "\n",
        "\n",
        "**2.) Exploratory Data Analysis (EDA):**\n",
        "\n",
        "Analyze distributions, correlations, and patterns.\n",
        "\n",
        "\n",
        "**3.) Preprocess Data:**\n",
        "\n",
        "Handle missing values, encode categorical features, and normalize numerical data.\n",
        "\n",
        "\n",
        "**4.) Feature Engineering:**\n",
        "\n",
        "Create new features or reduce dimensionality using PCA.\n",
        "\n",
        "**5.) Model Selection:**\n",
        "\n",
        "Use algorithms like Logistic Regression, Random Forest, or Neural Networks.\n",
        "\n",
        "\n",
        "**6.) Train and Validate the Model:**\n",
        "\n",
        "Split data into training, validation, and test sets.\n",
        "Optimize hyperparameters using Grid Search or Randomized Search.\n",
        "\n",
        "**7.) Evaluate Performance:**\n",
        "\n",
        "Use metrics like precision, recall, F1 score, and ROC-AUC.\n",
        "\n",
        "\n",
        "**8.) Deploy the Model:**\n",
        "\n",
        "Use platforms like Flask, FastAPI, or cloud services.\n"
      ],
      "metadata": {
        "id": "nJZxWFsnW-c0"
      }
    },
    {
      "cell_type": "code",
      "source": [],
      "metadata": {
        "id": "r-kiKvdNW9no"
      },
      "execution_count": null,
      "outputs": []
    },
    {
      "cell_type": "markdown",
      "source": [
        "Q7. What is model deployment and why is it important?"
      ],
      "metadata": {
        "id": "aIFKR9EpSqZw"
      }
    },
    {
      "cell_type": "markdown",
      "source": [
        "A7. **Model Deployment:**\n",
        "\n",
        "The process of integrating a trained model into a production environment to make real-time predictions.\n",
        "\n",
        "**Importance:**\n",
        "\n",
        "Converts a machine learning model into a usable application.\n",
        "\n",
        "Allows users or systems to benefit from model predictions."
      ],
      "metadata": {
        "id": "oTwA3eKaTHaM"
      }
    },
    {
      "cell_type": "code",
      "source": [],
      "metadata": {
        "id": "z43LXZ1ISq-x"
      },
      "execution_count": null,
      "outputs": []
    },
    {
      "cell_type": "markdown",
      "source": [
        "Q8. Explain how multi-cloud platforms are used for model deployment."
      ],
      "metadata": {
        "id": "C-3hVvsrSr3h"
      }
    },
    {
      "cell_type": "markdown",
      "source": [
        "A8. **Multi-Cloud Platforms:**\n",
        "\n",
        "Use multiple cloud providers (e.g., AWS, Azure, GCP) to deploy models.\n",
        "\n",
        "**Why Use Multi-Cloud:**\n",
        "\n",
        "Avoid vendor lock-in.\n",
        "\n",
        "Improve redundancy and reliability.\n",
        "\n",
        "Optimize costs based on provider pricing.\n",
        "\n",
        "**Example:**\n",
        "\n",
        "Deploy APIs on AWS Lambda while storing data on Google Cloud Storage."
      ],
      "metadata": {
        "id": "uMzP9VlUTIdJ"
      }
    },
    {
      "cell_type": "code",
      "source": [],
      "metadata": {
        "id": "OHGP6oLYTJGY"
      },
      "execution_count": null,
      "outputs": []
    },
    {
      "cell_type": "markdown",
      "source": [
        "Q9. Discuss the benefits and challenges of deploying machine learning models in a multi-cloud\n",
        "environment."
      ],
      "metadata": {
        "id": "nMBrnKP0SvY5"
      }
    },
    {
      "cell_type": "markdown",
      "source": [
        "A9. **Benefits:**\n",
        "\n",
        "1.) High availability and fault tolerance.\n",
        "\n",
        "2.) Flexibility to use best services from each provider.\n",
        "\n",
        "3.) Cost optimization by choosing the most affordable resources.\n",
        "\n",
        "**Challenges:**\n",
        "\n",
        "1.) Increased complexity in managing multiple platforms.\n",
        "\n",
        "2.) Data transfer costs between clouds.\n",
        "\n",
        "3.) Integration and compatibility issues."
      ],
      "metadata": {
        "id": "V5A61RlrTKci"
      }
    },
    {
      "cell_type": "code",
      "source": [],
      "metadata": {
        "id": "xat852mWTLCZ"
      },
      "execution_count": null,
      "outputs": []
    }
  ]
}