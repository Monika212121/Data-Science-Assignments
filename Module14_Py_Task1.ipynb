{
  "nbformat": 4,
  "nbformat_minor": 0,
  "metadata": {
    "colab": {
      "provenance": []
    },
    "kernelspec": {
      "name": "python3",
      "display_name": "Python 3"
    },
    "language_info": {
      "name": "python"
    }
  },
  "cells": [
    {
      "cell_type": "markdown",
      "source": [
        "# Module14 Python Task 1"
      ],
      "metadata": {
        "id": "SEvdMYPnGW_U"
      }
    },
    {
      "cell_type": "markdown",
      "source": [
        "Q1. Create a function which will take a list as an argument and return the product of all the numbers\n",
        "after creating a flat list.\n",
        "\n",
        "Use the below-given list as an argument for your function.\n",
        "\n",
        "list1 = [1,2,3,4, [44,55,66, True], False, (34,56,78,89,34), {1,2,3,3,2,1}, {1:34, \"key2\": [55, 67, 78, 89], 4: (45,\n",
        "22, 61, 34)}, [56, 'data science'], 'Machine Learning']\n",
        "\n",
        "Note: you must extract numeric keys and values of the\n",
        "dictionary also."
      ],
      "metadata": {
        "id": "IXoshluXGf1-"
      }
    },
    {
      "cell_type": "code",
      "source": [
        "# A1. Program to return product of all the numbers in the list.\n",
        "\n",
        "list1 = [1,2,3,4, [44,55,66, True], False, (34,56,78,89,34), {1,2,3,3,2,1}, {1:34, \"key2\": [55, 67, 78, 89], 4: (45, 22, 61, 34)}, [56, 'data science'], 'Machine Learning']\n",
        "\n",
        "def getProduct(list1):\n",
        "    flat_list =[]\n",
        "    product = 1\n",
        "\n",
        "    for i in list1:\n",
        "\n",
        "        if type(i) == int:\n",
        "            flat_list.append(i)\n",
        "\n",
        "        elif type(i) == list or type(i) == tuple or type(i) == set:\n",
        "            for j in i:\n",
        "              if type(j) == int:\n",
        "                flat_list.append(j)\n",
        "\n",
        "\n",
        "        elif type(i) == dict:\n",
        "          for k in i.keys():\n",
        "            if type(k) == int:\n",
        "              flat_list.append(k)\n",
        "\n",
        "          for v in i.values():\n",
        "            if type(v) == int:\n",
        "              flat_list.append(v)\n",
        "\n",
        "            elif type(v) == list or type(v) == tuple or type(v) == set:\n",
        "              for num in v:\n",
        "                if type(num) == int:\n",
        "                  flat_list.append(num)\n",
        "\n",
        "    # find product of all the elements in the flat_list\n",
        "    print(flat_list)\n",
        "    for num in flat_list:\n",
        "      product = product * num\n",
        "\n",
        "    return product\n",
        "\n",
        "print(getProduct(list1))\n",
        "\n",
        ""
      ],
      "metadata": {
        "id": "n3kvgtPiGwxG",
        "colab": {
          "base_uri": "https://localhost:8080/"
        },
        "outputId": "1c04047e-9ea1-4e7e-d9e0-fcc5fca0aacf"
      },
      "execution_count": 24,
      "outputs": [
        {
          "output_type": "stream",
          "name": "stdout",
          "text": [
            "[1, 2, 3, 4, 44, 55, 66, 34, 56, 78, 89, 34, 1, 2, 3, 1, 4, 34, 55, 67, 78, 89, 45, 22, 61, 34, 56]\n",
            "4134711838987085478833841242112000\n"
          ]
        }
      ]
    },
    {
      "cell_type": "code",
      "source": [],
      "metadata": {
        "id": "yQX7tEduGxy0"
      },
      "execution_count": null,
      "outputs": []
    },
    {
      "cell_type": "markdown",
      "source": [
        "Q2. Write a python program for encrypting a message sent to you by your friend. The logic of encryption\n",
        "should be such that, for a the output should be z. For b, the output should be y. For c, the output should\n",
        "be x respectively. Also, the whitespace should be replaced with a dollar sign. Keep the punctuation\n",
        "marks unchanged.\n",
        "\n",
        "Input Sentence: I want to become a Data Scientist.\n",
        "Encrypt the above input sentence using the program you just created.\n",
        "\n",
        "Note: Convert the given input sentence into lowercase before encrypting. The final output should be lowercase."
      ],
      "metadata": {
        "id": "6AAec1RxGfvV"
      }
    },
    {
      "cell_type": "code",
      "source": [
        "# A2. Program to encript a message.\n",
        "\n",
        "def getEncripted(message_str):\n",
        "  alphabets = \"abcdefghijklmnopqrstuvwxyz\"\n",
        "  message_str = message_str.lower()\n",
        "\n",
        "  encripted_message = \"\"\n",
        "\n",
        "  for i in message_str:\n",
        "    index = alphabets.find(i)\n",
        "    if i == \" \":\n",
        "      encripted_message = encripted_message + \"$\"\n",
        "    elif index != -1:\n",
        "      encripted_message = encripted_message + alphabets[25-index]\n",
        "\n",
        "  return encripted_message\n",
        "\n",
        "message_str = \"I want to become a Data Scientist.\"\n",
        "print(\"Encripted message is: \", getEncripted(message_str))"
      ],
      "metadata": {
        "id": "MOvUc33-G--A",
        "colab": {
          "base_uri": "https://localhost:8080/"
        },
        "outputId": "e091d7e7-b1f6-43e6-ca82-76205c10c49a"
      },
      "execution_count": 31,
      "outputs": [
        {
          "output_type": "stream",
          "name": "stdout",
          "text": [
            "Encripted message is:  r$dzmg$gl$yvxlnv$z$wzgz$hxrvmgrhg\n"
          ]
        }
      ]
    },
    {
      "cell_type": "code",
      "source": [],
      "metadata": {
        "id": "wCQWsF-1G-2K"
      },
      "execution_count": null,
      "outputs": []
    }
  ]
}