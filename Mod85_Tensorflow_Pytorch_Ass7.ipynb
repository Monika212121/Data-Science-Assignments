{
  "nbformat": 4,
  "nbformat_minor": 0,
  "metadata": {
    "colab": {
      "provenance": []
    },
    "kernelspec": {
      "name": "python3",
      "display_name": "Python 3"
    },
    "language_info": {
      "name": "python"
    }
  },
  "cells": [
    {
      "cell_type": "markdown",
      "source": [
        "# Module85 Regularization Assignment"
      ],
      "metadata": {
        "id": "RrtdI2EHkcpX"
      }
    },
    {
      "cell_type": "code",
      "execution_count": null,
      "metadata": {
        "id": "a8R6P2OfkZ82"
      },
      "outputs": [],
      "source": []
    },
    {
      "cell_type": "markdown",
      "source": [
        "Objective: Assess understanding of regularization techniques in deep learning. Evaluate application and comparison of different techniques. Enhance knowledge of regularization's role in improving model generalization."
      ],
      "metadata": {
        "id": "0qSAMTl3kky3"
      }
    },
    {
      "cell_type": "code",
      "source": [],
      "metadata": {
        "id": "jHYHagnskpDT"
      },
      "execution_count": null,
      "outputs": []
    },
    {
      "cell_type": "markdown",
      "source": [
        "## Part 1: Understanding Regularization"
      ],
      "metadata": {
        "id": "XrFohVXIkrJz"
      }
    },
    {
      "cell_type": "markdown",
      "source": [
        "1. What is regularization in the context of deep learning? Why is it important?"
      ],
      "metadata": {
        "id": "-QCOCADWk1Tn"
      }
    },
    {
      "cell_type": "markdown",
      "source": [
        "A1. Regularization is a technique used to prevent overfitting in deep learning models by adding a penalty term to the loss function. This discourages the model from fitting too closely to the training data, thus promoting better generalization to unseen data.\n",
        "\n",
        "**Main Idea:** Encourage the model to learn simpler patterns rather than memorizing noise or rare cases in training data.\n",
        "\n",
        "## Why is Regularization Important?\n",
        "\n",
        "Deep learning models have millions of parameters, making them powerful but also prone to **overfitting**, especially with small or noisy datasets.\n",
        "\n",
        "**Regularization is important because it:**\n",
        "\n",
        "1. Reduces model complexity.\n",
        "\n",
        "2. Enhances the ability to generalize.\n",
        "\n",
        "3. Encourages sparsity or small weights.\n",
        "\n",
        "4. Helps achieve better validation/test performance, not just training accuracy.\n",
        "\n"
      ],
      "metadata": {
        "id": "7_rNM3h-mC3d"
      }
    },
    {
      "cell_type": "code",
      "source": [],
      "metadata": {
        "id": "nPbeyT7-kr7z"
      },
      "execution_count": null,
      "outputs": []
    },
    {
      "cell_type": "markdown",
      "source": [
        "2. Explain the bias-variance tradeoff and how regularization helps in addressing this tradeoff."
      ],
      "metadata": {
        "id": "CAo5tWTHk5jp"
      }
    },
    {
      "cell_type": "markdown",
      "source": [
        "A2.  \n",
        "\n",
        "### Bias-Variance Tradeoff:\n",
        "\n",
        "1. **Bias:** Error from inaccurate assumptions (underfitting).\n",
        "\n",
        "2. **Variance:** Error from sensitivity to small fluctuations in training data (overfitting).\n",
        "\n",
        "\n",
        "```\n",
        "Model Type\t           Bias\t           Variance\n",
        "----------------------------------------------------------\n",
        "Simple Model\t         High\t             Low\n",
        "Complex Model\t         Low\t             High\n",
        "```\n",
        "\n",
        "###  How Regularization Helps:\n",
        "\n",
        "1. By adding penalties (like L1 or L2), regularization increases bias slightly but reduces variance significantly.\n",
        "\n",
        "2. This helps strike a balance, reducing total error and improving test performance.\n",
        "\n"
      ],
      "metadata": {
        "id": "4RW4avUWmjjU"
      }
    },
    {
      "cell_type": "code",
      "source": [],
      "metadata": {
        "id": "qD3TXDY_k90K"
      },
      "execution_count": null,
      "outputs": []
    },
    {
      "cell_type": "markdown",
      "source": [
        "3. Describe the concept of L1 and L2 regularization. How do they differ in terms of penalty calculation and their effects on the model?"
      ],
      "metadata": {
        "id": "RyylBSE_lAIL"
      }
    },
    {
      "cell_type": "markdown",
      "source": [
        "A3.\n",
        "\n",
        "### L1 vs L2 Regularization (Penalty-Based Regularization)\n",
        "\n",
        "```\n",
        "Feature\t               L1 Regularization\t                L2 Regularization\n",
        "-----------------------------------------------------------------------------------------------------\n",
        "Also Known As\t          Lasso Regression\t               Ridge Regression\n",
        "\n",
        "Penalty Term\t             `λ*\t                               w\n",
        "\n",
        "Effect on Weights   Drives some weights exactly to zero  \t    Shrinks weights toward zero, but not exactly zero\n",
        "\n",
        "Output\t         Leads to sparse models (feature selection)\tHelps with weight decay, smooth learning\n",
        "\n",
        "Use Case\t        Useful when feature selection is needed\t  Useful when all features are useful\n",
        "```\n",
        "\n",
        " L1 = sparsity, L2 = smooth decay.\n",
        "\n"
      ],
      "metadata": {
        "id": "5sfdfXspnPQL"
      }
    },
    {
      "cell_type": "code",
      "source": [],
      "metadata": {
        "id": "UE8zSf3BlCKa"
      },
      "execution_count": null,
      "outputs": []
    },
    {
      "cell_type": "markdown",
      "source": [
        "4. Discuss the role of regularization in preventing overfitting and improving the generalization of deep learning models."
      ],
      "metadata": {
        "id": "tPiXfSzLlHI_"
      }
    },
    {
      "cell_type": "markdown",
      "source": [
        "A4.\n",
        "\n",
        "## Role of Regularization in Preventing Overfitting\n",
        "Overfitting happens when a model performs well on training data but poorly on unseen data.\n",
        "\n",
        "### **Regularization Prevents Overfitting by:**\n",
        "1. Penalizing overly complex models (via weight penalties).\n",
        "\n",
        "2. Forcing weights to stay small or sparse.\n",
        "\n",
        "3. Making the model less sensitive to training noise.\n",
        "\n",
        "### **Impact on Deep Learning Models:**\n",
        "\n",
        "1. Leads to simpler decision boundaries.\n",
        "\n",
        "2. Helps models generalize better on unseen examples.\n",
        "\n",
        "3. Enhances robustness and interpretability (especially with L1).\n",
        "\n",
        "\n",
        "```\n",
        "Regularization Type\t     Penalty Form\t                   Best For\t                Prevents Overfitting By\n",
        "---------------------------------------------------------------------------------\n",
        "L1 (Lasso)\t               `λ * sum(w)`\n",
        "\n",
        "L2 (Ridge)\t                λ * sum(w²)\t            All features are informative\t     Shrinking all weights smoothly\n",
        "\n",
        "Dropout\t               Random neuron dropout\t       Complex deep networks Preventing       co-adaptation of neurons\n",
        "\n",
        "Early Stopping\t        Halt before overfit\t      Any model with long training\tStops training when val error rises\n",
        "\n",
        "Data Augmentation\t     Synthetic diversity\t              Vision, NLP\t      Makes model robust to variations\n",
        "```"
      ],
      "metadata": {
        "id": "4nKt2OG9oQFj"
      }
    },
    {
      "cell_type": "code",
      "source": [],
      "metadata": {
        "id": "W_9B2GzslI0S"
      },
      "execution_count": null,
      "outputs": []
    },
    {
      "cell_type": "code",
      "source": [],
      "metadata": {
        "id": "bxAsEtU4lNVq"
      },
      "execution_count": null,
      "outputs": []
    },
    {
      "cell_type": "markdown",
      "source": [
        "## Part 2: Regularization Technique"
      ],
      "metadata": {
        "id": "3RyH-ugtlMmr"
      }
    },
    {
      "cell_type": "markdown",
      "source": [
        "5. Explain Dropout regularization and how it works to reduce overfitting. Discuss the impact of Dropout on model training and inference.\n",
        "\n"
      ],
      "metadata": {
        "id": "FHbHfkeAlQBh"
      }
    },
    {
      "cell_type": "markdown",
      "source": [
        "A5. Dropout is a regularization technique used in deep learning to prevent overfitting by randomly \"dropping out\" (i.e., setting to zero) a fraction of neurons during training. This forces the network to learn more robust features that are not overly dependent on any particular set of neurons.\n",
        "\n",
        "## How Does Dropout Work?\n",
        "\n",
        "**During Training:**\n",
        "\n",
        "- At each training step, dropout randomly disables a percentage of neurons in the network (e.g., 20–50%).\n",
        "\n",
        "- The dropout rate (e.g., 0.5) means each neuron has a 50% chance of being ignored in that step.\n",
        "\n",
        "- This leads to a kind of model ensemble, where each batch update uses a slightly different model structure.\n",
        "\n",
        "*Intuition:*\n",
        "\n",
        "- The model cannot rely on specific neurons and must learn redundant, generalized features.\n",
        "\n",
        "\n",
        "**During Inference(Testing/Prediction):**\n",
        "\n",
        "- No dropout is applied.\n",
        "\n",
        "- Instead, the output weights are scaled (multiplied by the dropout probability) to account for the fact that all neurons are active.\n",
        "\n",
        "- This gives a deterministic output, not a random one.\n",
        "\n",
        "\n",
        "## Impact on Model Training and Inference\n",
        "\n",
        "### Benefits:\n",
        "1. ) Reduces Overfitting: By forcing the network to learn without relying on specific neurons.\n",
        "\n",
        "2. ) Encourages Robust Features:\tNeurons must perform well with different co-activations.\n",
        "\n",
        "3. ) Acts like Model Averaging:\tDropout simulates training many models and averaging them at test time.\n",
        "\n",
        "\n",
        "### Tradeoffs:\n",
        "\n",
        "1. ) Training Time - Slightly slower convergence since fewer neurons are active at a time.\n",
        "\n",
        "2. ) Need to Tune - Dropout rate (e.g., 0.3 to 0.5) must be carefully tuned—too high can underfit.\n",
        "\n",
        "3. ) Inference Time - No dropout is used; inference runs at full capacity (with scaled weights).\n"
      ],
      "metadata": {
        "id": "oqqpXIIgUA3P"
      }
    },
    {
      "cell_type": "code",
      "source": [],
      "metadata": {
        "id": "VKR1Lcy_lWsS"
      },
      "execution_count": null,
      "outputs": []
    },
    {
      "cell_type": "markdown",
      "source": [
        "6. Describe the concept of Early Stopping as a form of regularization. How does it help prevent overfitting during the training process?"
      ],
      "metadata": {
        "id": "2hoIVbhWlYut"
      }
    },
    {
      "cell_type": "markdown",
      "source": [
        "A6. Early Stopping is a popular regularization technique used in machine learning and deep learning to prevent overfitting during the training process.\n",
        "\n",
        "## Concept of Early Stopping:\n",
        "\n",
        "1. As a model trains, its error on the training set decreases.\n",
        "\n",
        "2. However, after a certain point, the error on the validation set starts to increase — this indicates that the model is starting to overfit to the training data (i.e., it’s memorizing rather than learning patterns).\n",
        "\n",
        "3. Early Stopping monitors the performance on a validation set during training.\n",
        "\n",
        "4. Training is halted as soon as the validation error stops improving for a specified number of consecutive epochs (called patience).\n",
        "\n",
        "## How Early Stopping Helps Prevent Overfitting:\n",
        "\n",
        "1. Monitors Generalization Performance:\n",
        "\n",
        "2. It keeps track of the model's performance on unseen validation data, not just on the training data.\n",
        "\n",
        "3. Stops Training at the Optimal Point:\n",
        "\n",
        "4. By halting when validation loss increases (while training loss still decreases), it catches the sweet spot where the model has learned enough but hasn't started memorizing noise.\n",
        "\n",
        "5. Avoids Over-complex Models:\n",
        "\n",
        "6. Prevents the model from becoming too complex or tailored to the training set, which helps with generalization.\n",
        "\n"
      ],
      "metadata": {
        "id": "_NvfucYaXX8X"
      }
    },
    {
      "cell_type": "code",
      "source": [],
      "metadata": {
        "id": "RVh9p5aSlcCy"
      },
      "execution_count": null,
      "outputs": []
    },
    {
      "cell_type": "markdown",
      "source": [
        "7. Explain the concept of Batch Normalization and its role as a form of regularization. How does Batch Normalization help in preventing overfitting?"
      ],
      "metadata": {
        "id": "qFJyC0-jleDd"
      }
    },
    {
      "cell_type": "markdown",
      "source": [
        "A7. Batch Normalization (BatchNorm) is a technique used to normalize the inputs of each layer in a neural network, helping to stabilize and accelerate training.\n",
        "\n",
        "**Concept:**\n",
        "\n",
        "- It normalizes the input of each mini-batch to have zero mean and unit variance.\n",
        "\n",
        "- Then it applies a learnable scale and shift to preserve the model’s capacity.\n",
        "\n",
        "**Role as Regularization:**\n",
        "\n",
        "- It adds noise due to batch-wise computation, which acts like a regularizer, similar to dropout.\n",
        "\n",
        "- Reduces dependence on the initial weights and helps the model learn more robust features.\n",
        "\n",
        "**How It Prevents Overfitting:**\n",
        "\n",
        "- Introduces slight randomness across batches during training, discouraging the model from relying too much on specific activations.\n",
        "\n",
        "- Can reduce the need for other regularization techniques like dropout in some cases.\n",
        "\n",
        "*In short, BatchNorm helps improve generalization and reduce overfitting by stabilizing learning and acting as a mild form of regularization.*"
      ],
      "metadata": {
        "id": "Am_x_A4BYCSj"
      }
    },
    {
      "cell_type": "code",
      "source": [],
      "metadata": {
        "id": "-mPnNqp-lgej"
      },
      "execution_count": null,
      "outputs": []
    },
    {
      "cell_type": "code",
      "source": [],
      "metadata": {
        "id": "TzbGikghllwG"
      },
      "execution_count": null,
      "outputs": []
    },
    {
      "cell_type": "markdown",
      "source": [
        "## Part 3: Applying Regularization"
      ],
      "metadata": {
        "id": "CM2wcJ5slmGx"
      }
    },
    {
      "cell_type": "markdown",
      "source": [
        "8. Implement Dropout regularization in a deep learning model using a framework of your choice. Evaluate\n",
        "its impact on model performance and compare it with a model without Dropout."
      ],
      "metadata": {
        "id": "wd4zaGc0lqh8"
      }
    },
    {
      "cell_type": "code",
      "source": [
        "import tensorflow as tf\n",
        "from tensorflow.keras import layers, models\n",
        "from tensorflow.keras.datasets import mnist\n",
        "from tensorflow.keras.utils import to_categorical\n",
        "import matplotlib.pyplot as plt\n",
        "\n",
        "# 2. Load and Preprocess the Data\n",
        "(x_train, y_train), (x_test, y_test) = mnist.load_data()\n",
        "\n",
        "# Normalize the data\n",
        "x_train = x_train.astype(\"float32\") / 255.0\n",
        "x_test = x_test.astype(\"float32\") / 255.0\n",
        "\n",
        "# Flatten the images\n",
        "x_train = x_train.reshape((-1, 28*28))\n",
        "x_test = x_test.reshape((-1, 28*28))\n",
        "\n",
        "# One-hot encode the labels\n",
        "y_train = to_categorical(y_train)\n",
        "y_test = to_categorical(y_test)\n",
        "\n",
        "\n",
        "# 3. Define Two Models: With and Without Dropout\n",
        "def build_model_without_dropout():\n",
        "    model = models.Sequential([\n",
        "        layers.Dense(512, activation='relu', input_shape=(784,)),\n",
        "        layers.Dense(256, activation='relu'),\n",
        "        layers.Dense(10, activation='softmax')\n",
        "    ])\n",
        "    model.compile(optimizer='adam', loss='categorical_crossentropy', metrics=['accuracy'])\n",
        "    return model\n",
        "\n",
        "def build_model_with_dropout():\n",
        "    model = models.Sequential([\n",
        "        layers.Dense(512, activation='relu', input_shape=(784,)),\n",
        "        layers.Dropout(0.5),\n",
        "        layers.Dense(256, activation='relu'),\n",
        "        layers.Dropout(0.5),\n",
        "        layers.Dense(10, activation='softmax')\n",
        "    ])\n",
        "    model.compile(optimizer='adam', loss='categorical_crossentropy', metrics=['accuracy'])\n",
        "    return model\n",
        "\n",
        "# 4. Train the Models and Compare\n",
        "model_no_dropout = build_model_without_dropout()\n",
        "history_no_dropout = model_no_dropout.fit(x_train, y_train, epochs=20, batch_size=128,\n",
        "                                          validation_split=0.2, verbose=0)\n",
        "\n",
        "model_dropout = build_model_with_dropout()\n",
        "history_dropout = model_dropout.fit(x_train, y_train, epochs=20, batch_size=128,\n",
        "                                    validation_split=0.2, verbose=0)\n",
        "\n",
        "\n",
        "# 5. Plot and Compare Results\n",
        "plt.figure(figsize=(12,5))\n",
        "plt.subplot(1, 2, 1)\n",
        "plt.plot(history_no_dropout.history['val_accuracy'], label='No Dropout')\n",
        "plt.plot(history_dropout.history['val_accuracy'], label='With Dropout')\n",
        "plt.title(\"Validation Accuracy\")\n",
        "plt.xlabel(\"Epochs\")\n",
        "plt.ylabel(\"Accuracy\")\n",
        "plt.legend()\n",
        "\n",
        "plt.subplot(1, 2, 2)\n",
        "plt.plot(history_no_dropout.history['val_loss'], label='No Dropout')\n",
        "plt.plot(history_dropout.history['val_loss'], label='With Dropout')\n",
        "plt.title(\"Validation Loss\")\n",
        "plt.xlabel(\"Epochs\")\n",
        "plt.ylabel(\"Loss\")\n",
        "plt.legend()\n",
        "plt.show()\n",
        "\n",
        "\n",
        "# 6. Evaluate on Test Set\n",
        "test_loss_no_dropout, test_acc_no_dropout = model_no_dropout.evaluate(x_test, y_test, verbose=0)\n",
        "test_loss_dropout, test_acc_dropout = model_dropout.evaluate(x_test, y_test, verbose=0)\n",
        "\n",
        "print(f\"Test Accuracy without Dropout: {test_acc_no_dropout:.4f}\")\n",
        "print(f\"Test Accuracy with Dropout:    {test_acc_dropout:.4f}\")\n",
        "\n",
        "\n"
      ],
      "metadata": {
        "colab": {
          "base_uri": "https://localhost:8080/",
          "height": 617
        },
        "id": "nI6U2FC2YkhN",
        "outputId": "ffa90d10-c8b0-4d45-cabf-b0f7566b77a0"
      },
      "execution_count": 1,
      "outputs": [
        {
          "output_type": "stream",
          "name": "stdout",
          "text": [
            "Downloading data from https://storage.googleapis.com/tensorflow/tf-keras-datasets/mnist.npz\n",
            "\u001b[1m11490434/11490434\u001b[0m \u001b[32m━━━━━━━━━━━━━━━━━━━━\u001b[0m\u001b[37m\u001b[0m \u001b[1m0s\u001b[0m 0us/step\n"
          ]
        },
        {
          "output_type": "stream",
          "name": "stderr",
          "text": [
            "/usr/local/lib/python3.11/dist-packages/keras/src/layers/core/dense.py:87: UserWarning: Do not pass an `input_shape`/`input_dim` argument to a layer. When using Sequential models, prefer using an `Input(shape)` object as the first layer in the model instead.\n",
            "  super().__init__(activity_regularizer=activity_regularizer, **kwargs)\n"
          ]
        },
        {
          "output_type": "display_data",
          "data": {
            "text/plain": [
              "<Figure size 1200x500 with 2 Axes>"
            ],
            "image/png": "[encoded data removed]"
          },
          "metadata": {}
        },
        {
          "output_type": "stream",
          "name": "stdout",
          "text": [
            "Test Accuracy without Dropout: 0.9822\n",
            "Test Accuracy with Dropout:    0.9827\n"
          ]
        }
      ]
    },
    {
      "cell_type": "markdown",
      "source": [
        "### Conclusion:\n",
        "\n",
        "- **Without Dropout:** May show higher training accuracy, but likely overfits, resulting in lower validation/test accuracy.\n",
        "\n",
        "- **With Dropout:** Might train more slowly, but generalizes better, showing improved test accuracy."
      ],
      "metadata": {
        "id": "gV49oyaRYkD5"
      }
    },
    {
      "cell_type": "code",
      "source": [],
      "metadata": {
        "id": "DS6CsVAcltIz"
      },
      "execution_count": null,
      "outputs": []
    },
    {
      "cell_type": "markdown",
      "source": [
        "9. ́Discuss the considerations and tradeoffs when choosing the appropriate regularization technique for a given deep learning task."
      ],
      "metadata": {
        "id": "xI1E5Puelu8k"
      }
    },
    {
      "cell_type": "markdown",
      "source": [
        "A9. Choosing the right regularization technique in deep learning is crucial for improving generalization and preventing overfitting. However, each technique has its tradeoffs depending on the task, dataset size, model complexity, and training conditions.\n",
        "\n",
        "## Key Considerations When Choosing a Regularization Technique:\n",
        "\n",
        "**1. Dataset Size**\n",
        "\n",
        "- Small Dataset: High risk of overfitting → prefer stronger regularization like Dropout, L1/L2, or Data Augmentation.\n",
        "\n",
        "- Large Dataset: Often requires less aggressive regularization; techniques like BatchNorm and early stopping may suffice.\n",
        "\n",
        "**2. Model Complexity**\n",
        "\n",
        "- Deeper/Wider Models: More likely to overfit → benefit from Dropout, Weight Decay (L2), or BatchNorm.\n",
        "\n",
        "- Shallow Models: May not need heavy regularization and can lose performance with aggressive techniques.\n",
        "\n",
        "**3. Training Time and Resources**\n",
        "\n",
        "- Dropout can slow down convergence (training takes longer).\n",
        "\n",
        "- Batch Normalization speeds up training but adds memory overhead.\n",
        "\n",
        "- Early Stopping saves compute by halting early but requires validation monitoring.\n",
        "\n",
        "**4. Type of Problem**\n",
        "\n",
        "- Image Tasks: Data augmentation + Dropout + BatchNorm work well.\n",
        "\n",
        "- Sequential Data (e.g., NLP, Time-Series): Recurrent Dropout, L2 regularization, and gradient clipping are useful.\n",
        "\n",
        "- Structured Data (tabular): L1/L2 regularization often preferred over Dropout.\n",
        "\n",
        "**5. Desired Sparsity**\n",
        "- Use L1 regularization when you want a sparse model (many weights = 0).\n",
        "\n",
        "- L1 is helpful for feature selection and reducing model size.\n",
        "\n",
        "**6. Training Stability**\n",
        "\n",
        "- Batch Normalization improves stability and convergence but may conflict with Dropout if not carefully placed.\n",
        "\n",
        "**7. Ensembling Alternatives**\n",
        "\n",
        "- If overfitting persists, consider model ensembling, though it adds inference cost.\n",
        "\n",
        "\n",
        "## Tradeoffs Between Regularization Techniques:\n",
        "\n",
        "```\n",
        "Technique\t                     Pros\t                                  Cons\n",
        "------------------------------------------------------------------------------------------------------------------------------------\n",
        "L1 / L2 Regularization\t    Simple, interpretable\t                   May not be strong enough alone\n",
        "\n",
        "Dropout\t          Reduces co-adaptation, improves generalization\t   Slows convergence, may hurt accuracy if overused\n",
        "\n",
        "Batch Normalization\t    Stabilizes and accelerates training\t        Adds computation/memory; sensitive to batch size\n",
        "\n",
        "Early Stopping\t        Prevents overfitting efficiently\t           Requires validation set and tuning of patience\n",
        "\n",
        "Data Augmentation     \tImproves generalization without changing model\tTask-specific, needs tuning\n",
        "\n",
        "Ensembling\t           Great for final performance boost\t        Computationally expensive during inference\n",
        "```\n",
        "\n",
        "## Summary\n",
        "The best regularization strategy is often a combination tailored to your specific task.\n",
        "\n",
        "**Rule of Thumb:**\n",
        "\n",
        "- Start with BatchNorm and Early Stopping.\n",
        "\n",
        "- Add Dropout if overfitting persists.\n",
        "\n",
        "- Use L1/L2 for sparse or simple models.\n",
        "\n",
        "- Augment data whenever possible, especially in image tasks."
      ],
      "metadata": {
        "id": "7Z_UHztDZyKc"
      }
    },
    {
      "cell_type": "code",
      "source": [],
      "metadata": {
        "id": "enDFsGDclxhq"
      },
      "execution_count": null,
      "outputs": []
    },
    {
      "cell_type": "code",
      "source": [],
      "metadata": {
        "id": "4jRTsMJSl18p"
      },
      "execution_count": null,
      "outputs": []
    }
  ]
}