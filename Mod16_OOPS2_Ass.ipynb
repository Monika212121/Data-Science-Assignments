{
  "nbformat": 4,
  "nbformat_minor": 0,
  "metadata": {
    "colab": {
      "provenance": []
    },
    "kernelspec": {
      "name": "python3",
      "display_name": "Python 3"
    },
    "language_info": {
      "name": "python"
    }
  },
  "cells": [
    {
      "cell_type": "markdown",
      "source": [
        "# Module16 OOPS2 Assignment"
      ],
      "metadata": {
        "id": "yyrcCKM2kyYZ"
      }
    },
    {
      "cell_type": "markdown",
      "source": [
        "Q1. What is Abstraction in OOps? Explain with an example."
      ],
      "metadata": {
        "id": "fIJxvTufk3dg"
      }
    },
    {
      "cell_type": "markdown",
      "source": [
        "A1. Abstraction is one of the four pillars of Object-Oriented Programming (OOPs). It refers to hiding implementation details and exposing only the necessary functionalities to the user. This is done using abstract classes and interfaces.\n",
        "\n",
        "Example of Abstraction in Python:\n"
      ],
      "metadata": {
        "id": "OHEBPkFhlmsW"
      }
    },
    {
      "cell_type": "code",
      "source": [
        "from abc import ABC, abstractmethod\n",
        "\n",
        "class Vehicle(ABC):  # Abstract Class\n",
        "    @abstractmethod\n",
        "    def start(self):\n",
        "        pass  # Abstract Method (to be implemented in child class)\n",
        "\n",
        "class Car(Vehicle):\n",
        "    def start(self):\n",
        "        print(\"Car is starting with a key ignition.\")\n",
        "\n",
        "class Bike(Vehicle):\n",
        "    def start(self):\n",
        "        print(\"Bike is starting with a self-start button.\")\n",
        "\n",
        "# Creating objects of derived classes\n",
        "car = Car()\n",
        "bike = Bike()\n",
        "\n",
        "car.start()  # Output: Car is starting with a key ignition.\n",
        "bike.start()  # Output: Bike is starting with a self-start button.\n"
      ],
      "metadata": {
        "colab": {
          "base_uri": "https://localhost:8080/"
        },
        "id": "Kf-b1bX6lDLW",
        "outputId": "77e57f3e-f413-4dbd-edd7-b29f59329406"
      },
      "execution_count": 1,
      "outputs": [
        {
          "output_type": "stream",
          "name": "stdout",
          "text": [
            "Car is starting with a key ignition.\n",
            "Bike is starting with a self-start button.\n"
          ]
        }
      ]
    },
    {
      "cell_type": "markdown",
      "source": [
        "# Key Points:\n",
        "Vehicle is an abstract class and cannot be instantiated directly.\n",
        "\n",
        "start() is an abstract method, meaning all subclasses must implement it.\n",
        "\n",
        "Car and Bike provide their own implementations of start(), achieving abstraction."
      ],
      "metadata": {
        "id": "rrHcFEMglud0"
      }
    },
    {
      "cell_type": "code",
      "source": [],
      "metadata": {
        "id": "DhhougVTluHB"
      },
      "execution_count": null,
      "outputs": []
    },
    {
      "cell_type": "markdown",
      "source": [
        "Q2. Differentiate between Abstraction and Encapsulation. Explain with an example."
      ],
      "metadata": {
        "id": "IhZj7Zqvk6tV"
      }
    },
    {
      "cell_type": "markdown",
      "source": [
        "a2. Differentiation between Abstraction and Encapsulation are:\n",
        "\n",
        "## Abstraction:\n",
        "\n",
        "1.) Definition - Hides implementation details and shows only relevant features.\n",
        "\n",
        "2.) Purpose - To reduce complexity for the user.\n",
        "\n",
        "3.) Implementation - Achieved using abstract classes and interfaces\n",
        "\n",
        "4.) Focus - Hiding implementation details.\n",
        "\n",
        "## Encapsulation:\n",
        "\n",
        "1.) Definition - Wraps data and methods into a single unit and restricts access.\n",
        "\n",
        "2.) Purpose - To protect data from unintended access/modification.\n",
        "\n",
        "3.) Implementation - Achieved using access modifiers (private, protected, public).\n",
        "\n",
        "4.) Focus - Restricting direct access to data.\n"
      ],
      "metadata": {
        "id": "17WJVr6wl0ss"
      }
    },
    {
      "cell_type": "code",
      "source": [
        "# Abstraction Example:\n",
        "\n",
        "from abc import ABC, abstractmethod\n",
        "\n",
        "class Animal(ABC):\n",
        "    @abstractmethod\n",
        "    def sound(self):\n",
        "        pass\n",
        "\n",
        "class Dog(Animal):\n",
        "    def sound(self):\n",
        "        return \"Barks\"\n",
        "\n",
        "class Cat(Animal):\n",
        "    def sound(self):\n",
        "        return \"Meows\"\n",
        "\n",
        "# User doesn't need to know how sound() is implemented\n",
        "dog = Dog()\n",
        "print(dog.sound())  # Output: Barks\n"
      ],
      "metadata": {
        "colab": {
          "base_uri": "https://localhost:8080/"
        },
        "id": "a2edwUA0mgfr",
        "outputId": "23b02b19-338b-423c-c033-ce15bb804027"
      },
      "execution_count": 2,
      "outputs": [
        {
          "output_type": "stream",
          "name": "stdout",
          "text": [
            "Barks\n"
          ]
        }
      ]
    },
    {
      "cell_type": "markdown",
      "source": [
        "Here, the user only interacts with sound() without knowing its internal working."
      ],
      "metadata": {
        "id": "zCcyN04xmnIr"
      }
    },
    {
      "cell_type": "code",
      "source": [
        "# Encapsulation Example:\n",
        "\n",
        "class BankAccount:\n",
        "    def __init__(self, balance):\n",
        "        self.__balance = balance  # Private attribute\n",
        "\n",
        "    def deposit(self, amount):\n",
        "        self.__balance += amount\n",
        "\n",
        "    def get_balance(self):\n",
        "        return self.__balance\n",
        "\n",
        "account = BankAccount(1000)\n",
        "account.deposit(500)\n",
        "print(account.get_balance())  # Output: 1500\n",
        "\n",
        "# print(account.__balance)  # AttributeError: 'BankAccount' object has no attribute '__balance'\n"
      ],
      "metadata": {
        "colab": {
          "base_uri": "https://localhost:8080/"
        },
        "id": "Pz2yi9oHmo6X",
        "outputId": "cecd1789-669f-4729-ce22-6aad6531be47"
      },
      "execution_count": 3,
      "outputs": [
        {
          "output_type": "stream",
          "name": "stdout",
          "text": [
            "1500\n"
          ]
        }
      ]
    },
    {
      "cell_type": "markdown",
      "source": [
        "Here, the balance is encapsulated (hidden) inside the class and cannot be accessed directly."
      ],
      "metadata": {
        "id": "lC-1qa-emtGF"
      }
    },
    {
      "cell_type": "code",
      "source": [],
      "metadata": {
        "id": "vQiLacfJlEPK"
      },
      "execution_count": null,
      "outputs": []
    },
    {
      "cell_type": "markdown",
      "source": [
        "Q3. What is abc module in python? Why is it used?"
      ],
      "metadata": {
        "id": "_CE6xO3wk8iy"
      }
    },
    {
      "cell_type": "markdown",
      "source": [
        "A3. abc (Abstract Base Class) is a Python module that provides abstract base classes (ABCs).\n",
        "It allows defining abstract methods that must be implemented in derived classes.\n",
        "It helps enforce abstraction and code consistency.\n",
        "\n",
        "# Example using abc Module:\n",
        "\n"
      ],
      "metadata": {
        "id": "po_MSdl6mx2p"
      }
    },
    {
      "cell_type": "code",
      "source": [
        "from abc import ABC, abstractmethod\n",
        "\n",
        "class Shape(ABC):\n",
        "    @abstractmethod\n",
        "    def area(self):\n",
        "        pass\n",
        "\n",
        "class Circle(Shape):\n",
        "    def __init__(self, radius):\n",
        "        self.radius = radius\n",
        "\n",
        "    def area(self):\n",
        "        return 3.14 * self.radius * self.radius\n",
        "\n",
        "# shape = Shape()  # TypeError: Can't instantiate abstract class\n",
        "circle = Circle(5)\n",
        "print(circle.area())  # Output: 78.5\n"
      ],
      "metadata": {
        "colab": {
          "base_uri": "https://localhost:8080/"
        },
        "id": "ecy71K4vm2zj",
        "outputId": "a59f1060-9f3f-4b83-c6c9-027147ac7a70"
      },
      "execution_count": 4,
      "outputs": [
        {
          "output_type": "stream",
          "name": "stdout",
          "text": [
            "78.5\n"
          ]
        }
      ]
    },
    {
      "cell_type": "markdown",
      "source": [
        "Here, the abc module ensures every subclass must implement the area() method."
      ],
      "metadata": {
        "id": "0z4s2LVam5Dd"
      }
    },
    {
      "cell_type": "code",
      "source": [],
      "metadata": {
        "id": "KY1iqxIdlEjn"
      },
      "execution_count": null,
      "outputs": []
    },
    {
      "cell_type": "markdown",
      "source": [
        "Q4. How can we achieve data abstraction?"
      ],
      "metadata": {
        "id": "PJDqvlg0k-Ov"
      }
    },
    {
      "cell_type": "markdown",
      "source": [
        "A4. Data Abstraction can be achieved using abstract classes and methods. It helps hide complex implementations from the user and only exposes essential details.\n",
        "\n",
        "## Ways to Achieve Data Abstraction:\n",
        "\n",
        "1.) Using Abstract Classes (via abc module)\n",
        "\n",
        "2.) Using Access Modifiers (Private, Protected, Public)\n",
        "\n",
        "3.) Using Properties (Getters and Setters)\n",
        "\n",
        "### Example of Data Abstraction Using Access Modifiers:"
      ],
      "metadata": {
        "id": "GiSv1bCRm8Qe"
      }
    },
    {
      "cell_type": "code",
      "source": [
        "class Car:\n",
        "    def __init__(self, brand, model):\n",
        "        self.brand = brand  # Public\n",
        "        self.__model = model  # Private\n",
        "\n",
        "    def get_model(self):\n",
        "        return self.__model  # Controlled access\n",
        "\n",
        "    def set_model(self, model):\n",
        "        if model in [\"Sedan\", \"SUV\"]:\n",
        "            self.__model = model\n",
        "        else:\n",
        "            print(\"Invalid model!\")\n",
        "\n",
        "car = Car(\"Toyota\", \"SUV\")\n",
        "print(car.brand)  # Accessible\n",
        "print(car.get_model())  # Accessing private attribute via method\n",
        "\n",
        "# car.__model  # AttributeError\n"
      ],
      "metadata": {
        "colab": {
          "base_uri": "https://localhost:8080/"
        },
        "id": "sXHA5rG4nGHY",
        "outputId": "7812fcab-cca1-4cbe-f097-ecb0d7cf014d"
      },
      "execution_count": 5,
      "outputs": [
        {
          "output_type": "stream",
          "name": "stdout",
          "text": [
            "Toyota\n",
            "SUV\n"
          ]
        }
      ]
    },
    {
      "cell_type": "markdown",
      "source": [
        "Here, __model is hidden (private), ensuring controlled access."
      ],
      "metadata": {
        "id": "KXA4diG2nIHM"
      }
    },
    {
      "cell_type": "code",
      "source": [],
      "metadata": {
        "id": "52ubGNrAlF3o"
      },
      "execution_count": null,
      "outputs": []
    },
    {
      "cell_type": "markdown",
      "source": [
        "Q5. Can we create an instance of an abstract class? Explain your answer."
      ],
      "metadata": {
        "id": "gQnpz5u3k_-2"
      }
    },
    {
      "cell_type": "markdown",
      "source": [
        "A5. No, we cannot create an instance of an abstract class because:\n",
        "\n",
        "1.) **Abstract classes are incomplete** – They contain abstract methods without implementation.\n",
        "\n",
        "2.) **They act as templates** – They are meant to be inherited and provide a structure for derived classes.\n",
        "\n",
        "## Example:\n"
      ],
      "metadata": {
        "id": "sLLvpTKEnLIe"
      }
    },
    {
      "cell_type": "code",
      "execution_count": 6,
      "metadata": {
        "id": "RaIE2KWSkuzP"
      },
      "outputs": [],
      "source": [
        "from abc import ABC, abstractmethod\n",
        "\n",
        "class Animal(ABC):\n",
        "    @abstractmethod\n",
        "    def make_sound(self):\n",
        "        pass\n",
        "\n",
        "# animal = Animal()  # TypeError: Can't instantiate abstract class\n"
      ]
    },
    {
      "cell_type": "markdown",
      "source": [
        "Here, trying to instantiate Animal() directly raises an error because it is an abstract class.\n",
        "\n",
        "However, we can instantiate a subclass that implements all abstract methods:\n"
      ],
      "metadata": {
        "id": "r_OBAr5KnYRI"
      }
    },
    {
      "cell_type": "code",
      "source": [
        "class Dog(Animal):\n",
        "    def make_sound(self):\n",
        "        return \"Barks\"\n",
        "\n",
        "dog = Dog()  # No error\n",
        "print(dog.make_sound())  # Output: Barks\n"
      ],
      "metadata": {
        "colab": {
          "base_uri": "https://localhost:8080/"
        },
        "id": "zZ8PYPMLlHPl",
        "outputId": "c97c2c98-cc3e-4d51-a2dd-4f8de996e453"
      },
      "execution_count": 7,
      "outputs": [
        {
          "output_type": "stream",
          "name": "stdout",
          "text": [
            "Barks\n"
          ]
        }
      ]
    },
    {
      "cell_type": "markdown",
      "source": [
        "Thus, an abstract class must be subclassed and implemented before use."
      ],
      "metadata": {
        "id": "LWV8aYr8ndQO"
      }
    },
    {
      "cell_type": "code",
      "source": [],
      "metadata": {
        "id": "xE2t--GInbcf"
      },
      "execution_count": null,
      "outputs": []
    },
    {
      "cell_type": "code",
      "source": [],
      "metadata": {
        "id": "_3pbG_P4oB-c"
      },
      "execution_count": null,
      "outputs": []
    }
  ]
}