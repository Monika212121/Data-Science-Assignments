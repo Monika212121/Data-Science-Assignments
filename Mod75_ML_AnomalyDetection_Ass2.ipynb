{
  "nbformat": 4,
  "nbformat_minor": 0,
  "metadata": {
    "colab": {
      "provenance": []
    },
    "kernelspec": {
      "name": "python3",
      "display_name": "Python 3"
    },
    "language_info": {
      "name": "python"
    }
  },
  "cells": [
    {
      "cell_type": "markdown",
      "source": [
        "# Module 75 Anamoly detection Ass2"
      ],
      "metadata": {
        "id": "PXSUHMFcukOR"
      }
    },
    {
      "cell_type": "markdown",
      "source": [
        "Q1. What is the role of feature selection in anomaly detection?"
      ],
      "metadata": {
        "id": "CPbdgluyuuB9"
      }
    },
    {
      "cell_type": "markdown",
      "source": [
        "A1. Feature selection helps improve anomaly detection by:\n",
        "\n",
        "1.) **Enhancing model performance** – Removing irrelevant features reduces noise.\n",
        "\n",
        "2.) **Reducing computational complexity** – Fewer features make the model run faster.\n",
        "\n",
        "3.) **Avoiding the curse of dimensionality** – High-dimensional data makes distance-based detection ineffective.\n",
        "\n",
        "4.) **Improving interpretability** – Helps understand which features contribute to anomalies.\n"
      ],
      "metadata": {
        "id": "BNOvOQi8vS7f"
      }
    },
    {
      "cell_type": "code",
      "source": [],
      "metadata": {
        "id": "cTypui4hulIl"
      },
      "execution_count": null,
      "outputs": []
    },
    {
      "cell_type": "markdown",
      "source": [
        "Q2. What are some common evaluation metrics for anomaly detection algorithms and how are they\n",
        "computed?"
      ],
      "metadata": {
        "id": "cAaWTzKyuyw7"
      }
    },
    {
      "cell_type": "markdown",
      "source": [
        "A2. Some common evaluation metrics for anomaly detection algorithms are :\n",
        "\n",
        "1.) **Precision** – Measures how many detected anomalies are actual anomalies.\n",
        "\n",
        "``` Precision = TP/ (TP+FP) ```\n",
        "\n",
        "2.) **Recall (Sensitivity)** – Measures how many actual anomalies are detected.\n",
        "\n",
        "``` Recall = TP/ (TP + FN) ```\n",
        "\n",
        "3.) **F1-Score** – Harmonic mean of precision and recall.\n",
        "\n",
        "``` F1 = 2 * [(Precision * Recall) / (Precision + Recall)] ```\n",
        "\n",
        "4.) **Area Under ROC Curve (AUC-ROC)** – Measures model’s ability to separate anomalies and normal points.\n",
        "\n",
        "5.) **Mean Squared Error (MSE)** – Used for reconstruction-based models (e.g., autoencoders).\n"
      ],
      "metadata": {
        "id": "dyuVlyEavisy"
      }
    },
    {
      "cell_type": "code",
      "source": [],
      "metadata": {
        "id": "ySSlPydWuzHq"
      },
      "execution_count": null,
      "outputs": []
    },
    {
      "cell_type": "markdown",
      "source": [
        "Q3. What is DBSCAN and how does it work for clustering?"
      ],
      "metadata": {
        "id": "zknyLXdYu0ad"
      }
    },
    {
      "cell_type": "markdown",
      "source": [
        "A3. DBSCAN (Density-Based Spatial Clustering of Applications with Noise) groups points based on density.\n",
        "\n",
        "## Steps:\n",
        "\n",
        "### 1.) **Define parameters:**\n",
        "\n",
        "i.) eps (ε): Neighborhood radius.\n",
        "\n",
        "ii.) min_samples: Minimum points required to form a cluster.\n",
        "\n",
        "\n",
        "### 2.) **Classify points:**\n",
        "\n",
        "i.) Core points – Have at least min_samples within eps.\n",
        "\n",
        "ii.) Border points – Near a core point but do not satisfy min_samples.\n",
        "\n",
        "iii.) Noise points (outliers) – Not part of any cluster.\n",
        "\n",
        "\n",
        "### 3.) **Expand clusters:**  \n",
        "By connecting core points and border points.\n",
        "\n",
        "**Key advantage:** No need to specify the number of clusters."
      ],
      "metadata": {
        "id": "-nHZVZAvWzQV"
      }
    },
    {
      "cell_type": "code",
      "source": [],
      "metadata": {
        "id": "PXzyBfaJu0vF"
      },
      "execution_count": null,
      "outputs": []
    },
    {
      "cell_type": "markdown",
      "source": [
        "Q4. How does the epsilon parameter affect the performance of DBSCAN in detecting anomalies?"
      ],
      "metadata": {
        "id": "n36Y7xwdu2A4"
      }
    },
    {
      "cell_type": "markdown",
      "source": [
        "A4. The epsilon parameter affect the performance of DBSCAN in detecting anomalies by following -\n",
        "\n",
        "1.) **Small eps** → Many small clusters, more outliers.\n",
        "\n",
        "2.) **Large eps** → Fewer clusters, fewer outliers (risk of merging distinct clusters).\n",
        "\n",
        "3.) **Optimal eps** is chosen using a k-distance plot, where the elbow point suggests a good value."
      ],
      "metadata": {
        "id": "Ez0BaGvSX2hf"
      }
    },
    {
      "cell_type": "code",
      "source": [],
      "metadata": {
        "id": "wmwAfV6Qu2SX"
      },
      "execution_count": null,
      "outputs": []
    },
    {
      "cell_type": "markdown",
      "source": [
        "Q5. What are the differences between the core, border, and noise points in DBSCAN, and how do they relate\n",
        "to anomaly detection?"
      ],
      "metadata": {
        "id": "Hy0FZyIPu3h8"
      }
    },
    {
      "cell_type": "markdown",
      "source": [
        "A5. Difference between these 3 points are -\n",
        "\n",
        "### 1.) Core point\n",
        "Definition - Has at least min_samples within eps.\n",
        "\n",
        "Role in Anamoly detection - Forms the cluster structure.\n",
        "\n",
        "### 2.) Border point\n",
        "Definition - Lies within eps of a core point but has < min_samples neighbors.\n",
        "\n",
        "Role in Anamoly detection - Helps expand clusters.\n",
        "\n",
        "### 3.) Noise(Outlier) point\n",
        "Definition - Doesn't belong to any cluster.\n",
        "\n",
        "Role in Anamoly detection - Considered an anomaly."
      ],
      "metadata": {
        "id": "TbsciZ0EYLGq"
      }
    },
    {
      "cell_type": "code",
      "source": [],
      "metadata": {
        "id": "sGd2N2_Tu32F"
      },
      "execution_count": null,
      "outputs": []
    },
    {
      "cell_type": "markdown",
      "source": [
        "Q6. How does DBSCAN detect anomalies and what are the key parameters involved in the process?"
      ],
      "metadata": {
        "id": "Gp8ROXlRu5O8"
      }
    },
    {
      "cell_type": "markdown",
      "source": [
        "A6. DBSCAN treats noise points (points that don’t belong to any cluster) as anomalies.\n",
        "\n",
        "### Key parameters:\n",
        "\n",
        "1.) eps (epsilon) – Controls the radius for neighborhood search.\n",
        "\n",
        "2.) min_samples – Minimum number of points needed to form a cluster.\n",
        "\n",
        "3.) Distance metric – Typically Euclidean distance, but can vary based on data type.\n",
        "\n",
        "Larger eps reduces anomalies, while smaller eps increases them."
      ],
      "metadata": {
        "id": "LwCAQOgrY8To"
      }
    },
    {
      "cell_type": "code",
      "source": [],
      "metadata": {
        "id": "ixOVVntsu5kV"
      },
      "execution_count": null,
      "outputs": []
    },
    {
      "cell_type": "markdown",
      "source": [
        "Q7. What is the make_circles package in scikit-learn used for?"
      ],
      "metadata": {
        "id": "rAJfaKWKu7Yh"
      }
    },
    {
      "cell_type": "markdown",
      "source": [
        "A7. The make_circles function generates two concentric circles for clustering and classification tasks. Usage:\n",
        "\n",
        "\n",
        "\n",
        "```\n",
        "from sklearn.datasets import make_circles\n",
        "X, y = make_circles(n_samples=500, factor=0.3, noise=0.1)\n",
        "\n",
        "```\n",
        "\n",
        "factor: Controls the distance between inner and outer circles.\n",
        "\n",
        "noise: Adds randomness to make clustering more challenging.\n",
        "\n",
        "Useful for **non-linear clustering** algorithms like DBSCAN.\n"
      ],
      "metadata": {
        "id": "EkTwEnKxZG2L"
      }
    },
    {
      "cell_type": "code",
      "source": [],
      "metadata": {
        "id": "VvwhOIQdu7uF"
      },
      "execution_count": null,
      "outputs": []
    },
    {
      "cell_type": "markdown",
      "source": [
        "Q8. What are local outliers and global outliers, and how do they differ from each other?"
      ],
      "metadata": {
        "id": "hKXXSqDuvEB9"
      }
    },
    {
      "cell_type": "markdown",
      "source": [
        "A8. Global and local outliers are different like :\n",
        "\n",
        "## Global outliers:\n",
        "\n",
        "Deviate significantly from the entire dataset.\n",
        "\n",
        "Example: A 7-foot-tall person in a general population.\n",
        "\n",
        "Detected by: Isolation Forest, Z-score.\n",
        "\n",
        "\n",
        "## Local outliers:\n",
        "\n",
        "Anomalous within a small region but not globally.\n",
        "\n",
        "Example: A person wearing winter clothes in summer.\n",
        "\n",
        "Detected by: LOF (Local Outlier Factor).\n"
      ],
      "metadata": {
        "id": "K4ho9dQmZeUn"
      }
    },
    {
      "cell_type": "code",
      "source": [],
      "metadata": {
        "id": "58vG1N2kvEV9"
      },
      "execution_count": null,
      "outputs": []
    },
    {
      "cell_type": "markdown",
      "source": [
        "Q9. How can local outliers be detected using the Local Outlier Factor (LOF) algorithm?"
      ],
      "metadata": {
        "id": "-xuoinPpvF78"
      }
    },
    {
      "cell_type": "markdown",
      "source": [
        "A9. LOF detects local anomalies by comparing the density of a point to its neighbors.\n",
        "\n",
        "### Steps:\n",
        "\n",
        "1.) Compute local reachability density (LRD) for each point.\n",
        "\n",
        "2.) Compute LOF score using the density ratio with neighbors.\n",
        "\n",
        "3.) LOF > 1 → Likely an outlier.\n",
        "\n",
        "```\n",
        "from sklearn.neighbors import LocalOutlierFactor\n",
        "lof = LocalOutlierFactor(n_neighbors=20)\n",
        "outlier_scores = lof.fit_predict(X)\n",
        "```\n",
        "\n",
        "Points labeled -1 are anomalies.\n"
      ],
      "metadata": {
        "id": "kQ2jDJ16Zymv"
      }
    },
    {
      "cell_type": "code",
      "source": [],
      "metadata": {
        "id": "ec71PZcqvGNV"
      },
      "execution_count": null,
      "outputs": []
    },
    {
      "cell_type": "markdown",
      "source": [
        "Q10. How can global outliers be detected using the Isolation Forest algorithm?"
      ],
      "metadata": {
        "id": "uZ-E0Fj_vHYq"
      }
    },
    {
      "cell_type": "markdown",
      "source": [
        "A10. Isolation Forest detects global anomalies by recursively splitting the dataset.\n",
        "\n",
        "### Steps:\n",
        "\n",
        "1.) Randomly select a feature and split the data.\n",
        "\n",
        "2.) Repeat until all points are isolated.\n",
        "\n",
        "3.) Points with shorter average path lengths are anomalies.\n",
        "\n",
        "```\n",
        "from sklearn.ensemble import IsolationForest\n",
        "\n",
        "iso_forest = IsolationForest(n_estimators=100, contamination=0.05)\n",
        "outliers = iso_forest.fit_predict(X)\n",
        "\n",
        "```\n",
        "\n",
        "Points labeled -1 are anomalies.\n"
      ],
      "metadata": {
        "id": "HWW76956aEpP"
      }
    },
    {
      "cell_type": "code",
      "source": [],
      "metadata": {
        "id": "HXJbkanEvHpX"
      },
      "execution_count": null,
      "outputs": []
    },
    {
      "cell_type": "markdown",
      "source": [
        "Q11. What are some real-world applications where local outlier detection is more appropriate than global outlier detection, and vice versa?"
      ],
      "metadata": {
        "id": "TFFycwa3vJCL"
      }
    },
    {
      "cell_type": "markdown",
      "source": [
        "A11. Lets' take\n",
        "\n",
        "LOF = Local Outlier Detection\n",
        "\n",
        "GOD = Global Outlier Detection (Isolation Forest, Z- score)\n",
        "\n",
        "## Based on the application -\n",
        "\n",
        "### 1.) Fraud detection\n",
        "\n",
        "**LOF** - Unusual spending patterns in specific categories\n",
        "\n",
        "**GOD** - Overall spending deviates from past behavior\n",
        "\n",
        "### 2.) Industrial monitoring -\n",
        "\n",
        "**LOF** - \tA sensor in one machine behaving abnormally\n",
        "\n",
        "**GOD** - A sensor reading far outside normal range\n",
        "\n",
        "### 3.) Cybersecurity -\n",
        "\n",
        "**LOF** - Abnormal network traffic in a subnet\n",
        "\n",
        "**GOD** - Sudden increase in failed login attempts\n",
        "\n",
        "### 4.) Healthcare -\n",
        "\n",
        "**LOF** - Unusual heart rate within a specific age group\n",
        "\n",
        "**GOD** - Extremely high or low heart rate overall\n",
        "\n",
        "### 5.) Finance -\n",
        "\n",
        "**LOF** - Local stock price anomalies\n",
        "\n",
        "**GOD** - Market-wide anomalies in financial data.\n",
        "\n",
        "\n",
        "## Key takeaway:\n",
        "\n",
        "LOF is useful for detecting context-dependent anomalies.\n",
        "\n",
        "Isolation Forest/Z-score is useful for detecting extreme values globally.\n"
      ],
      "metadata": {
        "id": "4nIK7k03ajf5"
      }
    },
    {
      "cell_type": "code",
      "source": [],
      "metadata": {
        "id": "TmW6WZkAvKF1"
      },
      "execution_count": null,
      "outputs": []
    },
    {
      "cell_type": "code",
      "source": [],
      "metadata": {
        "id": "jp2GlQRpvKxG"
      },
      "execution_count": null,
      "outputs": []
    }
  ]
}