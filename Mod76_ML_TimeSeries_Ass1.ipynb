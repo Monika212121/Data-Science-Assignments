{
  "nbformat": 4,
  "nbformat_minor": 0,
  "metadata": {
    "colab": {
      "provenance": []
    },
    "kernelspec": {
      "name": "python3",
      "display_name": "Python 3"
    },
    "language_info": {
      "name": "python"
    }
  },
  "cells": [
    {
      "cell_type": "markdown",
      "source": [
        "# Module76 Time Series Assignment 1"
      ],
      "metadata": {
        "id": "stAtJYKgVfsk"
      }
    },
    {
      "cell_type": "markdown",
      "source": [
        "Q1. What is a time series, and what are some common applications of time series analysis?"
      ],
      "metadata": {
        "id": "XfGhB0xzVKPj"
      }
    },
    {
      "cell_type": "markdown",
      "source": [
        "A1. A time series is a sequence of data points recorded at successive time intervals. It captures trends, seasonality, and patterns in data over time.\n",
        "\n",
        "### Common Applications:\n",
        "\n",
        "1. Finance: Stock price prediction, risk assessment\n",
        "\n",
        "2. Economics: GDP forecasting, inflation analysis\n",
        "\n",
        "3. Retail: Sales forecasting, demand prediction\n",
        "\n",
        "4. Healthcare: Disease outbreak monitoring, patient vitals tracking\n",
        "\n",
        "5. Weather Forecasting: Temperature, rainfall, and storm predictions"
      ],
      "metadata": {
        "id": "RHS37NRWWMVl"
      }
    },
    {
      "cell_type": "code",
      "source": [],
      "metadata": {
        "id": "6JBBNcv9Vgb5"
      },
      "execution_count": null,
      "outputs": []
    },
    {
      "cell_type": "markdown",
      "source": [
        "Q2. What are some common time series patterns, and how can they be identified and interpreted?"
      ],
      "metadata": {
        "id": "sbMdKd3oVMb6"
      }
    },
    {
      "cell_type": "markdown",
      "source": [
        "A2. Some common time series patterns are :-\n",
        "\n",
        "1. Trend: A long-term increase or decrease in the data.\n",
        "\n",
        "Identified using moving averages or linear regression.\n",
        "\n",
        "2. Seasonality: A pattern that repeats over a fixed period.\n",
        "\n",
        "Detected using decomposition techniques and Fourier transforms.\n",
        "\n",
        "3. Cyclic patterns: Fluctuations occurring over irregular intervals (e.g., business cycles).\n",
        "\n",
        "Identified using spectral analysis.\n",
        "\n",
        "4. Irregular variations (Noise): Random fluctuations that cannot be predicted.\n"
      ],
      "metadata": {
        "id": "xXdWYM8VWcCh"
      }
    },
    {
      "cell_type": "code",
      "source": [],
      "metadata": {
        "id": "CaHZuJ5JVhA0"
      },
      "execution_count": null,
      "outputs": []
    },
    {
      "cell_type": "markdown",
      "source": [
        "Q3. How can time series data be preprocessed before applying analysis techniques?"
      ],
      "metadata": {
        "id": "jBfdUJhuVOaF"
      }
    },
    {
      "cell_type": "markdown",
      "source": [
        "A3. Time series data can be preprocessed before applying analysis techniques -\n",
        "\n",
        "1.) **Handling Missing Values:** Imputation using interpolation, mean, or forward fill.\n",
        "\n",
        "2.) **Smoothing:** Using moving averages or exponential smoothing to remove noise.\n",
        "\n",
        "3.) **Differencing:** Converting a non-stationary series to stationary.\n",
        "\n",
        "4.) **Normalization/Standardization:** Scaling data to handle varying magnitudes.\n",
        "\n",
        "5.) **Outlier Detection:** Removing extreme values using statistical methods."
      ],
      "metadata": {
        "id": "wwVrsSz3W9cj"
      }
    },
    {
      "cell_type": "code",
      "source": [],
      "metadata": {
        "id": "coJA2qHaVhuY"
      },
      "execution_count": null,
      "outputs": []
    },
    {
      "cell_type": "markdown",
      "source": [
        "Q4. How can time series forecasting be used in business decision-making, and what are some common\n",
        "challenges and limitations?"
      ],
      "metadata": {
        "id": "IH2PGbLGVQcj"
      }
    },
    {
      "cell_type": "markdown",
      "source": [
        "A4.\n",
        "\n",
        "## Uses in Business:\n",
        "\n",
        "1. Inventory management (predicting demand)\n",
        "\n",
        "2. Financial planning (forecasting revenue)\n",
        "\n",
        "3. Customer behavior analysis\n",
        "\n",
        "4. Energy consumption prediction\n",
        "\n",
        "\n",
        "## Challenges & Limitations:\n",
        "\n",
        "1. Requires stationarity for most models to perform well.\n",
        "\n",
        "2. Data quality issues like missing values or irregular timestamps.\n",
        "\n",
        "3. Seasonal and trend shifts can reduce model accuracy.\n",
        "\n",
        "4. External factors (pandemics, economic crises) are hard to model.\n"
      ],
      "metadata": {
        "id": "fHUtMGd9czaN"
      }
    },
    {
      "cell_type": "code",
      "source": [],
      "metadata": {
        "id": "Ch47X11AViUq"
      },
      "execution_count": null,
      "outputs": []
    },
    {
      "cell_type": "markdown",
      "source": [
        "Q5. What is ARIMA modelling, and how can it be used to forecast time series data?"
      ],
      "metadata": {
        "id": "FwJMfXGuVSSe"
      }
    },
    {
      "cell_type": "markdown",
      "source": [
        "A5. ARIMA (AutoRegressive Integrated Moving Average) is a statistical model for time series forecasting.\n",
        "\n",
        "The 3 different components of ARIMA are -\n",
        "\n",
        "1. **AR (p):** Uses past values to predict future values.\n",
        "\n",
        "2. **I (d):** Differencing applied to make the series stationary.\n",
        "\n",
        "3. **MA (q):** Uses past forecast errors to improve predictions.\n",
        "\n",
        "\n",
        "Used for financial forecasting, demand prediction, and economic trends."
      ],
      "metadata": {
        "id": "5233crUbdHB7"
      }
    },
    {
      "cell_type": "code",
      "source": [],
      "metadata": {
        "id": "1_kwHCMZVi9O"
      },
      "execution_count": null,
      "outputs": []
    },
    {
      "cell_type": "markdown",
      "source": [
        "Q6. How do Autocorrelation Function (ACF) and Partial Autocorrelation Function (PACF) plots help in\n",
        "identifying the order of ARIMA models?"
      ],
      "metadata": {
        "id": "tQzdMMgYVUS8"
      }
    },
    {
      "cell_type": "markdown",
      "source": [
        "A6. **ACF (Autocorrelation Function):** Shows correlation between a time series and its past values.\n",
        "\n",
        "Helps determine the MA(q) order by checking where ACF cuts off.\n",
        "\n",
        "**PACF (Partial Autocorrelation Function):** Measures direct correlation with past lags.\n",
        "\n",
        "Helps determine the AR(p) order by checking where PACF cuts off.\n"
      ],
      "metadata": {
        "id": "SjhWM7fRdgVg"
      }
    },
    {
      "cell_type": "code",
      "source": [],
      "metadata": {
        "id": "RU0w5fppVjl-"
      },
      "execution_count": null,
      "outputs": []
    },
    {
      "cell_type": "markdown",
      "source": [
        "Q7. What are the assumptions of ARIMA models, and how can they be tested for in practice?"
      ],
      "metadata": {
        "id": "J_Rhz_7xVWW5"
      }
    },
    {
      "cell_type": "markdown",
      "source": [
        "A7.\n",
        "\n",
        "1.) **Stationarity:** The mean and variance should be constant over time.\n",
        "\n",
        "Checked using ADF Test (Augmented Dickey-Fuller Test).\n",
        "\n",
        "\n",
        "2.) **Independence of residuals:** No autocorrelation in model errors.\n",
        "\n",
        "Checked using Ljung-Box Test.\n",
        "\n",
        "\n",
        "3.) **Normal distribution of residuals:** Ensures better predictions.\n",
        "\n",
        "Verified using histogram or Q-Q plot.\n"
      ],
      "metadata": {
        "id": "hvASfrchd1Dy"
      }
    },
    {
      "cell_type": "code",
      "source": [],
      "metadata": {
        "id": "lOFBtNqTVu7o"
      },
      "execution_count": null,
      "outputs": []
    },
    {
      "cell_type": "markdown",
      "source": [
        "Q8. Suppose you have monthly sales data for a retail store for the past three years. Which type of time\n",
        "series model would you recommend for forecasting future sales, and why?"
      ],
      "metadata": {
        "id": "rD0ZJt0VVYQ6"
      }
    },
    {
      "cell_type": "markdown",
      "source": [
        "A8. I would recommend SARIMA (Seasonal ARIMA) because sales data typically exhibits seasonality (monthly patterns) and trends. SARIMA extends ARIMA by incorporating seasonal components.\n"
      ],
      "metadata": {
        "id": "ft0kw9cgq6SB"
      }
    },
    {
      "cell_type": "code",
      "source": [],
      "metadata": {
        "id": "Tskii3ODVvcH"
      },
      "execution_count": null,
      "outputs": []
    },
    {
      "cell_type": "markdown",
      "source": [
        "Q9. What are some of the limitations of time series analysis? Provide an example of a scenario where the\n",
        "limitations of time series analysis may be particularly relevant."
      ],
      "metadata": {
        "id": "vkVCc7TbVZ7A"
      }
    },
    {
      "cell_type": "markdown",
      "source": [
        "A9.\n",
        "\n",
        "## Limitations:\n",
        "1. Cannot predict sudden external shocks (e.g., economic crashes).\n",
        "\n",
        "2. Requires large historical data for accuracy.\n",
        "\n",
        "3. Sensitive to non-stationarity and missing values.\n",
        "\n",
        "\n",
        "## Example:\n",
        "COVID-19 disrupted travel demand in 2020, making previous time series forecasts for airlines unreliable."
      ],
      "metadata": {
        "id": "5Fo1Bpviq_Ar"
      }
    },
    {
      "cell_type": "code",
      "source": [],
      "metadata": {
        "id": "YfXnIM-JVwCp"
      },
      "execution_count": null,
      "outputs": []
    },
    {
      "cell_type": "markdown",
      "source": [
        "Q10. Explain the difference between a stationary and non-stationary time series. How does the stationarity\n",
        "of a time series affect the choice of forecasting model?"
      ],
      "metadata": {
        "id": "MilWc_S1VbjF"
      }
    },
    {
      "cell_type": "markdown",
      "source": [
        "A10. The difference between a stationary and non-stationary time series are -\n",
        "\n",
        "## Stationary Time Series:\n",
        "\n",
        "1. Mean and variance are constant over time.\n",
        "\n",
        "2. Easier to model with ARIMA.\n",
        "Example: Differenced stock prices.\n",
        "\n",
        "\n",
        "## Non-Stationary Time Series:\n",
        "\n",
        "1. Has trends, seasonality, or changing variance.\n",
        "\n",
        "2. Needs transformation (differencing, logarithm).\n",
        "Example: Raw stock prices with upward trends.\n",
        "\n",
        "3. Most time series models (like ARIMA) require stationarity, so non-stationary series are often transformed before applying forecasting models.\n",
        "\n",
        "\n"
      ],
      "metadata": {
        "id": "FlwgaqNLrQj4"
      }
    },
    {
      "cell_type": "code",
      "source": [],
      "metadata": {
        "id": "kONB5d-ZVw8i"
      },
      "execution_count": null,
      "outputs": []
    },
    {
      "cell_type": "code",
      "source": [],
      "metadata": {
        "id": "iMKErzKbVwwn"
      },
      "execution_count": null,
      "outputs": []
    }
  ]
}