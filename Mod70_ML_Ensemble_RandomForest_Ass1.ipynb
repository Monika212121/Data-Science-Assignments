{
  "nbformat": 4,
  "nbformat_minor": 0,
  "metadata": {
    "colab": {
      "provenance": []
    },
    "kernelspec": {
      "name": "python3",
      "display_name": "Python 3"
    },
    "language_info": {
      "name": "python"
    }
  },
  "cells": [
    {
      "cell_type": "markdown",
      "source": [
        "# Module70 Ensemble Techniques Ass1"
      ],
      "metadata": {
        "id": "zoQMT6CpNTlo"
      }
    },
    {
      "cell_type": "markdown",
      "source": [
        "Q1. What is an ensemble technique in machine learning?\n",
        "\n",
        "A1. An ensemble technique combines predictions from multiple individual models to improve the overall performance and robustness of the model.\n",
        "\n",
        "The goal is to reduce errors by leveraging the strengths of multiple models."
      ],
      "metadata": {
        "id": "UbJdlErGNkBy"
      }
    },
    {
      "cell_type": "code",
      "source": [],
      "metadata": {
        "id": "hMZbwj1KNuPf"
      },
      "execution_count": null,
      "outputs": []
    },
    {
      "cell_type": "markdown",
      "source": [
        "Q2. Why are ensemble techniques used in machine learning?\n",
        "\n",
        "A2. Ensemble techniques are used to:\n",
        "\n",
        "1.) Improve predictive accuracy.\n",
        "\n",
        "2.) Reduce overfitting (in some cases).\n",
        "\n",
        "3.) Make models more robust by averaging out the errors of individual models.\n",
        "\n",
        "4.) Address model variance and bias, leading to better generalization on unseen data."
      ],
      "metadata": {
        "id": "YH8FaYrxNw9D"
      }
    },
    {
      "cell_type": "code",
      "source": [],
      "metadata": {
        "id": "VuQVnMcKN4q_"
      },
      "execution_count": null,
      "outputs": []
    },
    {
      "cell_type": "markdown",
      "source": [
        "Q3. What is bagging?\n",
        "\n",
        "A3. Bagging (Bootstrap Aggregating) is an ensemble technique that involves:\n",
        "\n",
        "1.) Creating multiple subsets of the training dataset by random sampling with replacement (bootstrap sampling).\n",
        "\n",
        "2.) Training separate models (usually of the same type) on each subset.\n",
        "\n",
        "3.) Combining their predictions using averaging (for regression) or majority voting (for classification).\n",
        "\n",
        "Example: Random Forest is a bagging algorithm applied to decision trees.\n",
        "\n"
      ],
      "metadata": {
        "id": "bJwixSeFN90J"
      }
    },
    {
      "cell_type": "code",
      "source": [],
      "metadata": {
        "id": "ezzoNCtaOGyG"
      },
      "execution_count": null,
      "outputs": []
    },
    {
      "cell_type": "markdown",
      "source": [
        "Q4. What is boosting?\n",
        "\n",
        "A4. Boosting is an ensemble technique that builds models sequentially, where each model focuses on correcting the errors of the previous one.\n",
        "\n",
        "The final prediction is a weighted combination of all models.\n",
        "\n",
        "Steps:\n",
        "\n",
        "1.) Train the first model and evaluate its errors.\n",
        "\n",
        "2.) Train the next model by giving higher importance (weights) to the previously misclassified samples.\n",
        "\n",
        "3.) Repeat this process iteratively.\n",
        "\n",
        "Example: Gradient Boosting, AdaBoost, XGBoost."
      ],
      "metadata": {
        "id": "M8Nv4uD3OJ5_"
      }
    },
    {
      "cell_type": "code",
      "source": [],
      "metadata": {
        "id": "nW1qUbhWOXWf"
      },
      "execution_count": null,
      "outputs": []
    },
    {
      "cell_type": "markdown",
      "source": [
        "Q5. What are the benefits of using ensemble techniques?\n",
        "\n",
        "A5. The benefits of using Ensemble techniques are -\n",
        "\n",
        "1.) Improved accuracy: They combine the strengths of multiple models, leading to better predictions.\n",
        "\n",
        "2.) Robustness: They reduce the risk of overfitting.\n",
        "\n",
        "3.) Reduction in bias and variance: Bagging reduces variance, while boosting reduces bias.\n",
        "\n",
        "4.) Versatility: They can be used with different types of base learners (e.g., decision trees, SVMs)."
      ],
      "metadata": {
        "id": "DP4lYWVSOa9A"
      }
    },
    {
      "cell_type": "code",
      "source": [],
      "metadata": {
        "id": "LUz7RfyMOsdH"
      },
      "execution_count": null,
      "outputs": []
    },
    {
      "cell_type": "markdown",
      "source": [
        "Q6. Are ensemble techniques always better than individual models?\n",
        "\n",
        "A6. No, ensemble techniques are not always better. Situations where they might not outperform individual models include:\n",
        "\n",
        "1.) Small datasets: Ensembles can overfit small datasets.\n",
        "\n",
        "2.) Simple problems: A single well-trained model might perform sufficiently well for simple tasks.\n",
        "\n",
        "3.) Computational cost: Ensembles often require more computation, which may not justify marginal improvements."
      ],
      "metadata": {
        "id": "Z5aQmNdBOvxl"
      }
    },
    {
      "cell_type": "code",
      "source": [],
      "metadata": {
        "id": "2r9sHG1yO5Tf"
      },
      "execution_count": null,
      "outputs": []
    },
    {
      "cell_type": "markdown",
      "source": [
        "Q7. How is the confidence interval calculated using bootstrap?\n",
        "\n",
        "A7. To calculate a confidence interval using bootstrap:\n",
        "\n",
        "1.) **Resample the dataset:** Randomly sample with replacement to create multiple bootstrap samples.\n",
        "\n",
        "2.) **Calculate the statistic:** Compute the desired statistic (e.g., mean, median) for each sample.\n",
        "\n",
        "3.) **Sort the statistics:** Arrange the computed statistics in ascending order.\n",
        "\n",
        "4.) **Select percentiles:** Identify the lower and upper percentiles (e.g., 2.5th and 97.5th percentiles for a 95% CI)."
      ],
      "metadata": {
        "id": "qk514ngLO-bT"
      }
    },
    {
      "cell_type": "code",
      "source": [],
      "metadata": {
        "id": "6xEP200qPPIf"
      },
      "execution_count": null,
      "outputs": []
    },
    {
      "cell_type": "markdown",
      "source": [
        "Q8. How does bootstrap work, and what are the steps involved?\n",
        "\n",
        "A8. Bootstrap is a resampling method used to estimate the distribution of a statistic by sampling with replacement.\n",
        "\n",
        "**Steps:**\n",
        "\n",
        "1.) Draw n samples (with replacement) from the original dataset of size n.\n",
        "\n",
        "2.) Compute the statistic (e.g., mean, variance) for the sample.\n",
        "\n",
        "3.) Repeat the above steps multiple times (e.g., 1,000 iterations).\n",
        "\n",
        "4.) Use the distribution of the computed statistics to estimate confidence intervals or other metrics."
      ],
      "metadata": {
        "id": "zPbLnqdTPR_X"
      }
    },
    {
      "cell_type": "code",
      "source": [],
      "metadata": {
        "id": "D8y3xwXiPcT_"
      },
      "execution_count": null,
      "outputs": []
    },
    {
      "cell_type": "markdown",
      "source": [
        "Q9. Bootstrap to estimate the 95% confidence interval for the mean height of trees"
      ],
      "metadata": {
        "id": "xvsHwElIPhPL"
      }
    },
    {
      "cell_type": "markdown",
      "source": [
        "A9. Given:\n",
        "\n",
        "Sample size = 50\n",
        "\n",
        "Mean height = 15 meters\n",
        "\n",
        "Standard deviation = 2 meters\n",
        "\n",
        "### Steps to estimate the 95% confidence interval using bootstrap:\n",
        "\n",
        "1.) **Generate bootstrap samples:** Create multiple bootstrap samples (e.g., 1,000) of size 50 by sampling with replacement from the original dataset.\n",
        "\n",
        "2.) **Calculate the mean for each bootstrap sample:** For each resample, compute the mean height.\n",
        "\n",
        "3.) **Sort the means:** Arrange the bootstrap means in ascending order.\n",
        "\n",
        "4.)**Find the percentiles:** Identify the 2.5th percentile and 97.5th percentile of the bootstrap means to get the 95% confidence interval.\n",
        "\n",
        "\n",
        "Here's the Python code to calculate the confidence interval:"
      ],
      "metadata": {
        "id": "ZFKugKpQPi_W"
      }
    },
    {
      "cell_type": "code",
      "source": [
        "import numpy as np\n",
        "\n",
        "# Given data\n",
        "sample_size = 50\n",
        "mean_height = 15\n",
        "std_dev = 2\n",
        "num_bootstrap_samples = 1000\n",
        "\n",
        "# Generate random sample data based on the given mean and standard deviation\n",
        "np.random.seed(42)  # For reproducibility\n",
        "original_sample = np.random.normal(loc=mean_height, scale=std_dev, size=sample_size)\n",
        "\n",
        "# Bootstrap sampling\n",
        "bootstrap_means = []\n",
        "for _ in range(num_bootstrap_samples):\n",
        "    bootstrap_sample = np.random.choice(original_sample, size=sample_size, replace=True)\n",
        "    bootstrap_means.append(np.mean(bootstrap_sample))\n",
        "\n",
        "# Calculate the 95% confidence interval\n",
        "lower_bound = np.percentile(bootstrap_means, 2.5)\n",
        "upper_bound = np.percentile(bootstrap_means, 97.5)\n",
        "\n",
        "print(f\"95% Confidence Interval for the mean height: ({lower_bound:.2f}, {upper_bound:.2f})\")\n"
      ],
      "metadata": {
        "colab": {
          "base_uri": "https://localhost:8080/"
        },
        "id": "vLuxbv7LPh7H",
        "outputId": "35447c0f-a9ce-4dc1-b297-aac852d8c92b"
      },
      "execution_count": 1,
      "outputs": [
        {
          "output_type": "stream",
          "name": "stdout",
          "text": [
            "95% Confidence Interval for the mean height: (14.03, 15.09)\n"
          ]
        }
      ]
    },
    {
      "cell_type": "markdown",
      "source": [
        "This code will output the 95% confidence interval for the mean height of the trees."
      ],
      "metadata": {
        "id": "mnYOFzGUPxJW"
      }
    },
    {
      "cell_type": "code",
      "source": [],
      "metadata": {
        "id": "JFEHZQyxPuVJ"
      },
      "execution_count": null,
      "outputs": []
    },
    {
      "cell_type": "code",
      "source": [],
      "metadata": {
        "id": "t7Uu9pD5QYH6"
      },
      "execution_count": null,
      "outputs": []
    }
  ]
}