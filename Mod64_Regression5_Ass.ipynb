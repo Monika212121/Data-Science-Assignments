{
  "nbformat": 4,
  "nbformat_minor": 0,
  "metadata": {
    "colab": {
      "provenance": []
    },
    "kernelspec": {
      "name": "python3",
      "display_name": "Python 3"
    },
    "language_info": {
      "name": "python"
    }
  },
  "cells": [
    {
      "cell_type": "markdown",
      "source": [
        "# Module64 Regression5 ElasticNet Regression Assignment\n"
      ],
      "metadata": {
        "id": "UrzbiOKdcfbp"
      }
    },
    {
      "cell_type": "markdown",
      "source": [
        "Q1. What is Elastic Net Regression and how does it differ from other regression techniques?"
      ],
      "metadata": {
        "id": "V4S82fb7crHB"
      }
    },
    {
      "cell_type": "markdown",
      "source": [
        "A1. **Elastic Net Regression:**\n",
        "\n",
        "Combines the penalties of Lasso Regression (L1) and Ridge Regression (L2) to create a hybrid model that can handle multicollinearity and perform feature selection.\n",
        "\n",
        "**Objective Function:**\n",
        "\n",
        "`L = MSE + 𝜆1 * ∑(j=1 to p) ∣𝛽𝑗∣ + 𝜆2 * ∑(j=1 to p) ∣𝛽𝑗∣^2 `\n",
        "\n",
        "𝜆1 = Lasso penalty (L1),\n",
        "\n",
        "𝜆2 = Ridge penalty (L2)\n",
        "\n",
        "**Differences:**\n",
        "\n",
        "1.) Lasso tends to select one feature among correlated variables, ignoring others.\n",
        "\n",
        "2.) Ridge shrinks coefficients of all correlated features without excluding them.\n",
        "\n",
        "3.) Elastic Net combines the strengths of both by balancing L1 and L2 penalties.\n"
      ],
      "metadata": {
        "id": "1XF7wBLWcrJY"
      }
    },
    {
      "cell_type": "code",
      "source": [],
      "metadata": {
        "id": "WzowZ9ZVcshp"
      },
      "execution_count": null,
      "outputs": []
    },
    {
      "cell_type": "markdown",
      "source": [
        "Q2. How do you choose the optimal values of the regularization parameters for Elastic Net Regression?"
      ],
      "metadata": {
        "id": "R2v-SxJIcrLu"
      }
    },
    {
      "cell_type": "markdown",
      "source": [
        "A2. Use Cross- Validation to find the best combination of:\n",
        "\n",
        "1.) α: The weight between L1 (Lasso) and L2(Ridge) penalties.\n",
        "\n",
        "2.) λ: The overall strength of regularization."
      ],
      "metadata": {
        "id": "HaFFjpKOcrOJ"
      }
    },
    {
      "cell_type": "code",
      "source": [
        "# Implementation of Cross- Validation\n",
        "\n",
        "from sklearn.linear_model import ElasticNetCV\n",
        "from sklearn.model_selection import train_test_split\n",
        "import numpy as np\n",
        "\n",
        "# example dataset\n",
        "from sklearn.datasets import make_regression\n",
        "x, y = make_regression(n_samples = 1000, n_features= 20, noise = 0.1, random_state= 42)\n",
        "\n",
        "# split data\n",
        "x_train, x_test, y_train, y_test = train_test_split(x, y, test_size = 0.2, random_state = 42)\n",
        "\n",
        "\n",
        "# fit ElasticNetCV\n",
        "elastic_net_cv = ElasticNetCV(l1_ratio= np.linspace(-1,1,10), cv= 5, random_state= 42)\n",
        "elastic_net_cv.fit(x_train, y_train)\n",
        "\n",
        "# Optimal parameters\n",
        "print(\"Optimal Alpha (L1 Ratio):\", elastic_net_cv.l1_ratio_)\n",
        "print(\"Optimal Lambda:\", elastic_net_cv.alpha_)"
      ],
      "metadata": {
        "id": "Fi3-gS02ctI8",
        "colab": {
          "base_uri": "https://localhost:8080/"
        },
        "outputId": "aad4827d-9868-48d8-e50a-41bb61c6ee09"
      },
      "execution_count": 13,
      "outputs": [
        {
          "output_type": "stream",
          "name": "stdout",
          "text": [
            "Optimal Alpha (L1 Ratio): -1.0\n",
            "Optimal Lambda: 1e-15\n"
          ]
        }
      ]
    },
    {
      "cell_type": "code",
      "source": [],
      "metadata": {
        "id": "3Ay4_ScGf29Y"
      },
      "execution_count": null,
      "outputs": []
    },
    {
      "cell_type": "markdown",
      "source": [
        "Q3. What are the advantages and disadvantages of Elastic Net Regression?"
      ],
      "metadata": {
        "id": "WI5K1i18crQo"
      }
    },
    {
      "cell_type": "markdown",
      "source": [
        "A3. Advantages and Disadvantages are:-\n",
        "\n",
        "**Advantages:**\n",
        "\n",
        "1.) Combines benefits of Lasso and Ridge.\n",
        "\n",
        "2.) Handles multicollinearity effectively.\n",
        "\n",
        "3.) Performs feature selection (via Lasso).\n",
        "\n",
        "4.) Prevents over-selection (a Lasso issue).\n",
        "\n",
        "\n",
        "**Disadvantages:**\n",
        "\n",
        "1.) More complex than Lasso or Ridge.\n",
        "\n",
        "2.) Requires tuning of two parameters.\n",
        "\n",
        "3.) Sensitive to parameter scaling.\n",
        "\n",
        "4.) May over-penalize small datasets."
      ],
      "metadata": {
        "id": "4097UU5lcrTY"
      }
    },
    {
      "cell_type": "code",
      "source": [],
      "metadata": {
        "id": "uT0dmw4fct-H"
      },
      "execution_count": null,
      "outputs": []
    },
    {
      "cell_type": "markdown",
      "source": [
        "Q4. What are some common use cases for Elastic Net Regression?"
      ],
      "metadata": {
        "id": "dRauMmTMcrV7"
      }
    },
    {
      "cell_type": "markdown",
      "source": [
        "A4. Some use cases for ElasticNet Regression are:\n",
        "\n",
        "**1. Genomics:**\n",
        "Handling datasets with highly correlated features (e.g., gene expressions).\n",
        "\n",
        "**2. Finance:**\n",
        "Predicting stock prices or risk factors with correlated variables.\n",
        "\n",
        "**3. Marketing:**\n",
        "Feature selection in customer segmentation or predicting customer lifetime value.\n",
        "\n",
        "**4. High-Dimensional Data:**\n",
        "Suitable for datasets with more features than observations."
      ],
      "metadata": {
        "id": "gv45tEdLcrYd"
      }
    },
    {
      "cell_type": "code",
      "source": [],
      "metadata": {
        "id": "qpmA99-3cuzq"
      },
      "execution_count": null,
      "outputs": []
    },
    {
      "cell_type": "markdown",
      "source": [
        "Q5. How do you interpret the coefficients in Elastic Net Regression?"
      ],
      "metadata": {
        "id": "R0cH79i0crbI"
      }
    },
    {
      "cell_type": "markdown",
      "source": [
        "A5. Interpretation of ElasticNet Regression coefficients are:\n",
        "\n",
        "**Non-Zero Coefficients:**\n",
        "\n",
        "Features with non-zero coefficients are important predictors. Larger coefficients indicate greater influence.\n",
        "\n",
        "**Zero Coefficients:**\n",
        "\n",
        "Features with coefficients shrunk to zero are excluded, similar to Lasso.\n",
        "\n",
        "**Example:**\n",
        "For predicting house prices, if the coefficient for location is large and non-zero, it significantly impacts the target variable."
      ],
      "metadata": {
        "id": "A6ddknPccrd8"
      }
    },
    {
      "cell_type": "code",
      "source": [],
      "metadata": {
        "id": "wTaFv04_cwGh"
      },
      "execution_count": null,
      "outputs": []
    },
    {
      "cell_type": "markdown",
      "source": [
        "Q6. How do you handle missing values when using Elastic Net Regression?"
      ],
      "metadata": {
        "id": "3b9n3WRncrhT"
      }
    },
    {
      "cell_type": "markdown",
      "source": [
        "A6. Preprocessing Steps:\n",
        "\n",
        "1.) **Imputation:** Replace missing values with the mean, median, or mode using SimpleImputer from sklearn.\n",
        "\n",
        "2.) **Drop Rows/Columns:** Remove rows/columns with excessive missing data.\n",
        "\n",
        "3.) **Advanced Imputation:** Use KNN or regression-based imputation for better handling of missing values."
      ],
      "metadata": {
        "id": "nyxE8TK9cyBT"
      }
    },
    {
      "cell_type": "code",
      "source": [
        "# Implementation of Imputation\n",
        "\n",
        "from sklearn.impute import SimpleImputer\n",
        "\n",
        "# Impute missing values\n",
        "imputer = SimpleImputer(strategy = 'mean')\n",
        "x_imputed = imputer.fit_transform(x)"
      ],
      "metadata": {
        "id": "JBRsEckDl67w"
      },
      "execution_count": 14,
      "outputs": []
    },
    {
      "cell_type": "code",
      "source": [],
      "metadata": {
        "id": "tPDujYzCcw8M"
      },
      "execution_count": null,
      "outputs": []
    },
    {
      "cell_type": "markdown",
      "source": [
        "Q7. How do you use Elastic Net Regression for feature selection?"
      ],
      "metadata": {
        "id": "d_jYI8gWcy-k"
      }
    },
    {
      "cell_type": "markdown",
      "source": [
        "A7. Elastic Net automatically selects features by shrinking some coefficients to zero. Steps:\n",
        "\n",
        "1.) Fit the Elastic Net model.\n",
        "\n",
        "2.) Identify features with non-zero coefficients."
      ],
      "metadata": {
        "id": "sNs8A-gzczlq"
      }
    },
    {
      "cell_type": "code",
      "source": [
        "# Implementation of ElasticNet Regression for Feature selection\n",
        "\n",
        "import numpy as np\n",
        "import pandas as pd\n",
        "from sklearn.linear_model import ElasticNet\n",
        "from sklearn.datasets import make_regression\n",
        "from sklearn.model_selection import train_test_split\n",
        "\n",
        "# Generate synthetic data (for demonstration)\n",
        "X, y = make_regression(n_samples=1000, n_features=20, noise=0.1, random_state=42)\n",
        "feature_names = [f\"Feature_{i}\" for i in range(X.shape[1])]\n",
        "\n",
        "# Split data into training and testing sets\n",
        "X_train, X_test, y_train, y_test = train_test_split(X, y, test_size=0.2, random_state=42)\n",
        "\n",
        "# Fit Elastic Net model\n",
        "elastic_net = ElasticNet(alpha=0.1, l1_ratio=0.5, random_state=42)\n",
        "elastic_net.fit(X_train, y_train)\n",
        "\n",
        "# Extract coefficients and perform feature selection\n",
        "coefficients = elastic_net.coef_\n",
        "selected_features = [feature for feature, coef in zip(feature_names, coefficients) if coef != 0]\n",
        "\n",
        "# Display selected features and their coefficients\n",
        "selected_features_with_coefficients = [(feature, coef) for feature, coef in zip(feature_names, coefficients) if coef != 0]\n",
        "\n",
        "print(\"Selected Features:\")\n",
        "for feature, coef in selected_features_with_coefficients:\n",
        "    print(f\"{feature}: {coef:.4f}\")\n"
      ],
      "metadata": {
        "colab": {
          "base_uri": "https://localhost:8080/"
        },
        "id": "_4yFn3hym4bL",
        "outputId": "a07ff478-4093-4ef4-be8e-89ce6e40ea37"
      },
      "execution_count": 19,
      "outputs": [
        {
          "output_type": "stream",
          "name": "stdout",
          "text": [
            "Selected Features:\n",
            "Feature_0: 76.4144\n",
            "Feature_1: 93.3816\n",
            "Feature_2: 5.2781\n",
            "Feature_3: 0.2508\n",
            "Feature_4: 82.0917\n",
            "Feature_6: 65.9546\n",
            "Feature_7: 0.2817\n",
            "Feature_8: -0.1346\n",
            "Feature_9: 0.1633\n",
            "Feature_10: 17.3265\n",
            "Feature_11: 37.7238\n",
            "Feature_12: 0.1982\n",
            "Feature_13: 2.6801\n",
            "Feature_14: -0.0106\n",
            "Feature_15: 25.3154\n",
            "Feature_16: -0.3472\n",
            "Feature_17: 82.5606\n",
            "Feature_18: 0.1739\n",
            "Feature_19: 0.0123\n"
          ]
        }
      ]
    },
    {
      "cell_type": "code",
      "source": [],
      "metadata": {
        "id": "_a8X01yZc0Hz"
      },
      "execution_count": null,
      "outputs": []
    },
    {
      "cell_type": "markdown",
      "source": [
        "Q8. How do you pickle and unpickle a trained Elastic Net Regression model in Python?"
      ],
      "metadata": {
        "id": "4k6xpy6jdI_g"
      }
    },
    {
      "cell_type": "code",
      "source": [
        "# A8. Pickling and Unpickling:\n",
        "\n",
        "import pickle\n",
        "from sklearn.linear_model import ElasticNet\n",
        "\n",
        "# train\n",
        "model = ElasticNet(alpha = 0.1 , l1_ratio= 0.5)\n",
        "model.fit(x_train, y_train)\n",
        "\n",
        "# pickle the model\n",
        "with open('elastic.pkl', 'wb') as file:\n",
        "  pickle.dump(model, file)\n",
        "\n",
        "# unpickle the model\n",
        "with open('elastic.pkl', 'rb') as file:\n",
        "  loaded_model = pickle.load(file)\n",
        "\n",
        "# use the loaded model\n",
        "y_pred = loaded_model.predict(x_test)\n"
      ],
      "metadata": {
        "id": "NaBoIq8joIT3"
      },
      "execution_count": 11,
      "outputs": []
    },
    {
      "cell_type": "code",
      "source": [],
      "metadata": {
        "id": "hO-nVxA4dLXx"
      },
      "execution_count": null,
      "outputs": []
    },
    {
      "cell_type": "markdown",
      "source": [
        "Q9. What is the purpose of pickling a model in machine learning?"
      ],
      "metadata": {
        "id": "5CCaGDnFdL3Q"
      }
    },
    {
      "cell_type": "markdown",
      "source": [
        "A9. Pickling a model has following:\n",
        "\n",
        "# Purpose:\n",
        "\n",
        "1.) Save a trained model to a file for reuse without retraining.\n",
        "\n",
        "2.) Share the model with others.\n",
        "\n",
        "3.) Deploy the model in production environments.\n",
        "\n",
        "# Advantages:\n",
        "\n",
        "1.) Saves time by preserving training results.\n",
        "\n",
        "2.) Ensures reproducibility across different systems or applications."
      ],
      "metadata": {
        "id": "Ye6qXrb5dMi3"
      }
    },
    {
      "cell_type": "code",
      "source": [],
      "metadata": {
        "id": "donZvYujdNKu"
      },
      "execution_count": null,
      "outputs": []
    }
  ]
}