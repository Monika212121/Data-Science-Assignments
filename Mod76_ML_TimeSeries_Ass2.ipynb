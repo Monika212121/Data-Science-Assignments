{
  "nbformat": 4,
  "nbformat_minor": 0,
  "metadata": {
    "colab": {
      "provenance": []
    },
    "kernelspec": {
      "name": "python3",
      "display_name": "Python 3"
    },
    "language_info": {
      "name": "python"
    }
  },
  "cells": [
    {
      "cell_type": "markdown",
      "source": [
        "# Module76 Time Series Assignment 2"
      ],
      "metadata": {
        "id": "wWeC71kur2Sk"
      }
    },
    {
      "cell_type": "markdown",
      "source": [
        "Q1. What is meant by time-dependent seasonal components?"
      ],
      "metadata": {
        "id": "0-B_9fgBsCXu"
      }
    },
    {
      "cell_type": "markdown",
      "source": [
        "A1. Time-dependent seasonal components refer to seasonal patterns in a time series that evolve or change over time.\n",
        "\n",
        "Unlike fixed seasonal patterns, which remain consistent, these components may increase, decrease, shift, or fluctuate unpredictably due to factors such as climate change, economic trends, or policy changes."
      ],
      "metadata": {
        "id": "b0YSqKqwsW-W"
      }
    },
    {
      "cell_type": "code",
      "source": [],
      "metadata": {
        "id": "ufkIdbgzr3Gq"
      },
      "execution_count": null,
      "outputs": []
    },
    {
      "cell_type": "markdown",
      "source": [
        "Q2. How can time-dependent seasonal components be identified in time series data?"
      ],
      "metadata": {
        "id": "OaVkRxiysEpt"
      }
    },
    {
      "cell_type": "markdown",
      "source": [
        "A2. To identify time-dependent seasonal components, you can use:\n",
        "\n",
        "1. **Visual Inspection:** Plot the time series to see if seasonal effects change over time.\n",
        "\n",
        "2. **Rolling Statistics:** Compute moving averages to detect shifts in seasonality.\n",
        "\n",
        "3. **Seasonal Decomposition (STL Decomposition):** Break the series into trend, seasonal, and residual components.\n",
        "\n",
        "4. **Autocorrelation Function (ACF) and Partial Autocorrelation Function (PACF) Plots:** Identify seasonality by observing significant spikes at seasonal lags.\n",
        "\n",
        "5. **Fourier Transform:** Detect periodic patterns in frequency space."
      ],
      "metadata": {
        "id": "f-jQSWBisd0T"
      }
    },
    {
      "cell_type": "code",
      "source": [],
      "metadata": {
        "id": "ps1YX06zsOEA"
      },
      "execution_count": null,
      "outputs": []
    },
    {
      "cell_type": "markdown",
      "source": [
        "Q3. What are the factors that can influence time-dependent seasonal components?"
      ],
      "metadata": {
        "id": "ziQQIcfXsGRY"
      }
    },
    {
      "cell_type": "markdown",
      "source": [
        "A3. The factors that can influence time-dependent seasonal components are -\n",
        "\n",
        "1.) **Climate & Weather Changes:** Affect industries like agriculture, energy, and tourism.\n",
        "\n",
        "2.) **Economic Conditions:** Inflation, recessions, and market cycles can alter seasonal patterns.\n",
        "\n",
        "3.) **Regulations & Policies:** Government policies may introduce new trends or disrupt existing cycles.\n",
        "\n",
        "4.) **Consumer Behavior & Technology:** New product launches, changing demand patterns, and tech advancements can impact seasonality.\n",
        "\n",
        "5.) **Pandemics & Global Events:** COVID-19 significantly changed seasonal trends in industries like travel and e-commerce."
      ],
      "metadata": {
        "id": "ieiXOZ6VswQX"
      }
    },
    {
      "cell_type": "code",
      "source": [],
      "metadata": {
        "id": "UtG77nrtsOod"
      },
      "execution_count": null,
      "outputs": []
    },
    {
      "cell_type": "markdown",
      "source": [
        "Q4. How are autoregression models used in time series analysis and forecasting?"
      ],
      "metadata": {
        "id": "0wZlJjF-sH1H"
      }
    },
    {
      "cell_type": "markdown",
      "source": [
        "A4. Autoregression (AR) models predict future values based on a linear combination of past values. The formula for an AR(p) model is:\n",
        "\n",
        "``` Xt = c + ϕ1*X(t-1) + ϕ2*X(t-2) + .... + ϕp*X(t-p) + ϵt​  ```\n",
        "\n",
        "where,\n",
        "\n",
        "Xt = Current value\n",
        "\n",
        "X(t-1), X(t-2), ... X(t-p) = Past values\n",
        "\n",
        "ϕ1, ϕ2,..... ϕp  = Model coefficients\n",
        "\n",
        "ϵt = White noise\n",
        "\n",
        "\n",
        "AR models are useful when past values significantly impact future observations.\n",
        "\n"
      ],
      "metadata": {
        "id": "2Z5XB5UxtfxZ"
      }
    },
    {
      "cell_type": "code",
      "source": [],
      "metadata": {
        "id": "hI97tFPYsPN1"
      },
      "execution_count": null,
      "outputs": []
    },
    {
      "cell_type": "markdown",
      "source": [
        "Q5. How do you use autoregression models to make predictions for future time points?"
      ],
      "metadata": {
        "id": "Xmg0L6M4sJU8"
      }
    },
    {
      "cell_type": "markdown",
      "source": [
        "A5. We use autoregression models to make predictions for future time points by following -\n",
        "\n",
        "1.) **Check for Stationarity:** Use Dickey-Fuller Test to ensure the series is stationary. If not, apply differencing.\n",
        "\n",
        "2.) **Determine the Lag Order (p):** Use PACF plot to identify significant lags.\n",
        "\n",
        "3.) **Fit the AR Model:** Use libraries like statsmodels to train an AR model.\n",
        "\n",
        "4.) **Make Predictions:** Use the trained model to forecast future values.\n",
        "\n",
        "5.) **Evaluate Performance:** Check RMSE, AIC, or BIC to assess the model’s accuracy.\n"
      ],
      "metadata": {
        "id": "6SvLOgLmbukz"
      }
    },
    {
      "cell_type": "code",
      "source": [],
      "metadata": {
        "id": "xzvxcOuZsP6U"
      },
      "execution_count": null,
      "outputs": []
    },
    {
      "cell_type": "markdown",
      "source": [
        "Q6. What is a moving average (MA) model and how does it differ from other time series models?"
      ],
      "metadata": {
        "id": "CU7sy1qrsLA4"
      }
    },
    {
      "cell_type": "markdown",
      "source": [
        "A6. A Moving Average (MA) model predicts future values using past forecast errors rather than past values:\n",
        "\n",
        "``` Xt = c + ϵt + θ1​*ϵt−1 ​+ θ2​*ϵt−2 + .... + θq*ϵt−q ```\n",
        "\n",
        "where,\n",
        "\n",
        "ϵt = White noise (error term)\n",
        "\n",
        "θ1, θ2, θ3,......θq = Model coefficients\n",
        "\n",
        "\n",
        "## Difference from Other Models:\n",
        "\n",
        "**AR Model:** Uses past values for predictions.\n",
        "\n",
        "**MA Model:** Uses past errors for predictions.\n",
        "\n",
        "**ARMA Model:** Combines AR and MA components.\n",
        "\n"
      ],
      "metadata": {
        "id": "ioXR9LKNcJhl"
      }
    },
    {
      "cell_type": "code",
      "source": [],
      "metadata": {
        "id": "8r9diXiWsQin"
      },
      "execution_count": null,
      "outputs": []
    },
    {
      "cell_type": "markdown",
      "source": [
        "Q7. What is a mixed ARMA model and how does it differ from an AR or MA model?"
      ],
      "metadata": {
        "id": "Z3O9nj9TsMtX"
      }
    },
    {
      "cell_type": "markdown",
      "source": [
        "A7. An ARMA (Autoregressive Moving Average) model is a combination of both AR and MA models. It can handle both trend and noise in time series data:\n",
        "\n",
        "``` Xt = c + ∑(i=1 to p) ϕi*X(t-i) +\n",
        "∑(j=1 to q) θj*ϵ(t-j) + ϵt ```\n",
        "\n",
        "where:\n",
        "\n",
        "p = Order of autoregression\n",
        "\n",
        "q = Order of moving average\n",
        "\n",
        "## Differences:\n",
        "\n",
        "**AR Model:** Only considers past values.\n",
        "\n",
        "**MA Model:** Only considers past errors.\n",
        "\n",
        "**ARMA Model:** Considers both past values & past errors for better forecasting."
      ],
      "metadata": {
        "id": "54Y9F8y5dTlY"
      }
    },
    {
      "cell_type": "code",
      "source": [],
      "metadata": {
        "id": "UgeYD3_rsRkK"
      },
      "execution_count": null,
      "outputs": []
    },
    {
      "cell_type": "code",
      "source": [],
      "metadata": {
        "id": "iw540yRcsSQj"
      },
      "execution_count": null,
      "outputs": []
    }
  ]
}