{
  "nbformat": 4,
  "nbformat_minor": 0,
  "metadata": {
    "colab": {
      "provenance": []
    },
    "kernelspec": {
      "name": "python3",
      "display_name": "Python 3"
    },
    "language_info": {
      "name": "python"
    }
  },
  "cells": [
    {
      "cell_type": "markdown",
      "source": [
        "# Module70 Ensemble Techniques Ass3"
      ],
      "metadata": {
        "id": "gXYjdgQ1Yz-e"
      }
    },
    {
      "cell_type": "markdown",
      "source": [
        "Q1. What is Random Forest Regressor?"
      ],
      "metadata": {
        "id": "aOivUjOIZuWh"
      }
    },
    {
      "cell_type": "markdown",
      "source": [
        "A1. The Random Forest Regressor is an ensemble machine learning algorithm used for regression tasks.\n",
        "\n",
        "It constructs multiple decision trees during training and aggregates their predictions (by averaging) to provide the final output.\n",
        "\n",
        "This method reduces overfitting, improves accuracy, and works well for both linear and non-linear relationships."
      ],
      "metadata": {
        "id": "05jQ8HWJVQkn"
      }
    },
    {
      "cell_type": "code",
      "source": [],
      "metadata": {
        "id": "HW9IMG-CVXp_"
      },
      "execution_count": null,
      "outputs": []
    },
    {
      "cell_type": "markdown",
      "source": [
        "Q2. How does Random Forest Regressor reduce the risk of overfitting?\n"
      ],
      "metadata": {
        "id": "WB8zFhu4ZMLr"
      }
    },
    {
      "cell_type": "markdown",
      "source": [
        "A2. Random forest Regressor reduces the risk of overfitting by following -  \n",
        "\n",
        "1.) **Bootstrap Aggregation (Bagging):** Each tree is trained on a different bootstrap sample of the data, introducing randomness and reducing the likelihood of overfitting to a specific dataset.\n",
        "\n",
        "2.) **Feature Subset Selection:** At each split, only a random subset of features is considered, preventing trees from becoming overly specialized to certain features.\n",
        "\n",
        "3.) **Ensemble Averaging:** The predictions of multiple trees are averaged, reducing variance and smoothing out errors caused by individual overfitted trees."
      ],
      "metadata": {
        "id": "VPd0ezXuVZQf"
      }
    },
    {
      "cell_type": "code",
      "source": [],
      "metadata": {
        "id": "EJE3vBVrVYT7"
      },
      "execution_count": null,
      "outputs": []
    },
    {
      "cell_type": "markdown",
      "source": [
        "Q3. How does Random Forest Regressor aggregate the predictions of multiple decision trees?"
      ],
      "metadata": {
        "id": "l60C10idZ0dA"
      }
    },
    {
      "cell_type": "markdown",
      "source": [
        "A3. In a Random Forest Regressor:\n",
        "\n",
        "**For regression tasks:** It calculates the average of the predictions from all individual decision trees.\n",
        "\n",
        "```Final Prediction = { ∑(from i=1 to N) Prediction of Treei } / N ```\n",
        "\n",
        "This averaging process reduces variance and provides a robust final prediction."
      ],
      "metadata": {
        "id": "yamn_Gm6V3uV"
      }
    },
    {
      "cell_type": "code",
      "source": [],
      "metadata": {
        "id": "z6AQ8lviWscP"
      },
      "execution_count": null,
      "outputs": []
    },
    {
      "cell_type": "markdown",
      "source": [
        "Q4. What are the hyperparameters of Random Forest Regressor?\n",
        "\n",
        "A4. The key hyperparameters include:\n",
        "\n",
        "1. n_estimators: Number of decision trees in the forest.\n",
        "\n",
        "2. max_depth: Maximum depth of each tree to control overfitting.\n",
        "\n",
        "3. min_samples_split: Minimum number of samples required to split an internal node.\n",
        "\n",
        "4. min_samples_leaf: Minimum number of samples required to be in a leaf node.\n",
        "\n",
        "5. max_features: Number of features to consider when looking for the best split.\n",
        "\n",
        "6. bootstrap: Whether to use bootstrap sampling for training trees.\n",
        "\n",
        "7. random_state: Seed for reproducibility.\n",
        "max_samples: Maximum number of samples to draw for each tree.\n",
        "\n",
        "8. max_samples: Maximum number of samples to draw for each tree."
      ],
      "metadata": {
        "id": "XYAIUhX5W30e"
      }
    },
    {
      "cell_type": "code",
      "source": [],
      "metadata": {
        "id": "N5lIMV9HXLNG"
      },
      "execution_count": null,
      "outputs": []
    },
    {
      "cell_type": "markdown",
      "source": [
        "Q5. What is the difference between Random Forest Regressor and Decision Tree Regressor?"
      ],
      "metadata": {
        "id": "00arvZquXNhm"
      }
    },
    {
      "cell_type": "markdown",
      "source": [
        "A5. The difference between Random Forest Regressor and Decision Tree Regressor are -\n",
        "\n",
        "## Based on the following features -\n",
        "\n",
        "Lets take\n",
        "\n",
        "DTR = Decision Tree Regressor\n",
        "\n",
        "RFR = Random Forest Regressor\n",
        "\n",
        "\n",
        "1.) **Model type**\n",
        "\n",
        "DTR- Single tree\n",
        "\n",
        "RFR- Ensemble of multiple trees\n",
        "\n",
        "\n",
        "2.) **Overfitting**\n",
        "\n",
        "DTR- Prone to overfitting\n",
        "\n",
        "RFR- Reduces overfitting via bagging and averaging\n",
        "\n",
        "\n",
        "3.) **Stability**\n",
        "\n",
        "DTR- Sensitive to small changes in data\n",
        "\n",
        "RFR- Robust and stable\n",
        "\n",
        "\n",
        "4.) **Accuracy**\n",
        "\n",
        "DTR- May be lower due to overfitting\n",
        "\n",
        "RFR- Generally higher due to ensemble averaging\n",
        "\n",
        "\n",
        "5.) **Training Time**\n",
        "\n",
        "DTR- Faster\n",
        "\n",
        "RFR- Slower due to multiple trees"
      ],
      "metadata": {
        "id": "1w_kwEkxXQPA"
      }
    },
    {
      "cell_type": "code",
      "source": [],
      "metadata": {
        "id": "BBJ_gco1Yw9X"
      },
      "execution_count": null,
      "outputs": []
    },
    {
      "cell_type": "code",
      "source": [],
      "metadata": {
        "id": "PzB1eAd-ZdoJ"
      },
      "execution_count": null,
      "outputs": []
    }
  ]
}