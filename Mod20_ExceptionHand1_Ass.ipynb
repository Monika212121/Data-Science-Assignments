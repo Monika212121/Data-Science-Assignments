{
  "nbformat": 4,
  "nbformat_minor": 0,
  "metadata": {
    "colab": {
      "provenance": []
    },
    "kernelspec": {
      "name": "python3",
      "display_name": "Python 3"
    },
    "language_info": {
      "name": "python"
    }
  },
  "cells": [
    {
      "cell_type": "markdown",
      "source": [
        "# Module20 Exception Handling1 Assignment"
      ],
      "metadata": {
        "id": "nOnvRiitOHD2"
      }
    },
    {
      "cell_type": "markdown",
      "source": [
        "Q1. What is an Exception in python? Write the difference between Exceptions and Syntax errors."
      ],
      "metadata": {
        "id": "DpgGfCfPKSXB"
      }
    },
    {
      "cell_type": "markdown",
      "source": [
        "A1. **Exception:**\n",
        "\n",
        " An exception is an error that occurs during program execution that disrupts the normal flow of a program.\n",
        "\n",
        " Exceptions are raised when the interpreter detects an error during runtime.\n",
        "\n",
        "\n",
        "**Syntax Error:**\n",
        "\n",
        " A syntax error occurs when the Python interpreter finds invalid syntax during the parsing stage.\n",
        "\n",
        " These errors must be fixed before the code can run.\n",
        "\n",
        "\n",
        "## Difference Between Exception and Syntax Error:\n",
        "\n",
        "### Exception\n",
        "\n",
        "1.) Definition - Errors during program execution.\n",
        "\n",
        "2.) When it occurs - Runtime (after code execution starts).\n",
        "\n",
        "3.) Handling - Can be handled using try-except.\n",
        "\n",
        "4.) Example - print(5 / 0) (ZeroDivisionError).\n",
        "\n",
        "### Syntax error\n",
        "\n",
        "1.) Definition - Errors due to incorrect syntax.\n",
        "\n",
        "2.) When it occurs - Compile-time (before execution).\n",
        "\n",
        "3.) Handling - Cannot be handled; code won't run.\n",
        "\n",
        "4.) Example - print(\"Hello (missing quote).\n",
        "\n",
        "------------------------------------\n",
        "### Example of Exception:\n",
        "\n",
        " ```print(5 / 0)  # Raises ZeroDivisionError ```\n",
        "\n",
        "### Example of Syntax Error:\n",
        "\n",
        "``` print(\"Hello  # SyntaxError: Missing closing quote ```"
      ],
      "metadata": {
        "id": "toP4ShulLHQz"
      }
    },
    {
      "cell_type": "code",
      "execution_count": null,
      "metadata": {
        "id": "loNUEkO-KECY"
      },
      "outputs": [],
      "source": []
    },
    {
      "cell_type": "markdown",
      "source": [
        "Q2. What happens when an exception is not handled? Explain with an example."
      ],
      "metadata": {
        "id": "1EhNKWf3KUpm"
      }
    },
    {
      "cell_type": "markdown",
      "source": [
        "A2. If an exception is not handled, the Python interpreter terminates the program and prints a traceback with the error message.\n",
        "\n",
        "### Example (Unhandled Exception):"
      ],
      "metadata": {
        "id": "kdAMgvuiMmNf"
      }
    },
    {
      "cell_type": "code",
      "source": [
        "x = 10 / 0\n",
        "print(\"This will not be printed\")\n"
      ],
      "metadata": {
        "colab": {
          "base_uri": "https://localhost:8080/",
          "height": 158
        },
        "id": "9lNlkCFYMsag",
        "outputId": "58ed58a5-f903-4929-83b6-fe4196807691"
      },
      "execution_count": 1,
      "outputs": [
        {
          "output_type": "error",
          "ename": "ZeroDivisionError",
          "evalue": "division by zero",
          "traceback": [
            "\u001b[0;31m---------------------------------------------------------------------------\u001b[0m",
            "\u001b[0;31mZeroDivisionError\u001b[0m                         Traceback (most recent call last)",
            "\u001b[0;32m<ipython-input-1-9dff02ceef76>\u001b[0m in \u001b[0;36m<cell line: 0>\u001b[0;34m()\u001b[0m\n\u001b[0;32m----> 1\u001b[0;31m \u001b[0mx\u001b[0m \u001b[0;34m=\u001b[0m \u001b[0;36m10\u001b[0m \u001b[0;34m/\u001b[0m \u001b[0;36m0\u001b[0m\u001b[0;34m\u001b[0m\u001b[0;34m\u001b[0m\u001b[0m\n\u001b[0m\u001b[1;32m      2\u001b[0m \u001b[0mprint\u001b[0m\u001b[0;34m(\u001b[0m\u001b[0;34m\"This will not be printed\"\u001b[0m\u001b[0;34m)\u001b[0m\u001b[0;34m\u001b[0m\u001b[0;34m\u001b[0m\u001b[0m\n",
            "\u001b[0;31mZeroDivisionError\u001b[0m: division by zero"
          ]
        }
      ]
    },
    {
      "cell_type": "code",
      "source": [],
      "metadata": {
        "id": "eh60eLsNKU-M"
      },
      "execution_count": null,
      "outputs": []
    },
    {
      "cell_type": "markdown",
      "source": [
        "Q3. Which Python statements are used to catch and handle exceptions? Explain with an example."
      ],
      "metadata": {
        "id": "74kGwfVuKWuw"
      }
    },
    {
      "cell_type": "markdown",
      "source": [
        "A3. **try-except Statement:**\n",
        "The try block allows you to test code that might raise an exception, while the except block handles the error."
      ],
      "metadata": {
        "id": "gfP3ddpTM200"
      }
    },
    {
      "cell_type": "code",
      "source": [
        "# Example (Handling Division by Zero):\n",
        "\n",
        "try:\n",
        "    result = 10 / 0\n",
        "except ZeroDivisionError:\n",
        "    print(\"You cannot divide by zero!\")\n"
      ],
      "metadata": {
        "colab": {
          "base_uri": "https://localhost:8080/"
        },
        "id": "aj476paTM-Va",
        "outputId": "4acfb64b-83a5-42a6-beed-b1ed59ce6217"
      },
      "execution_count": 2,
      "outputs": [
        {
          "output_type": "stream",
          "name": "stdout",
          "text": [
            "You cannot divide by zero!\n"
          ]
        }
      ]
    },
    {
      "cell_type": "code",
      "source": [],
      "metadata": {
        "id": "pr7jZItzKXAh"
      },
      "execution_count": null,
      "outputs": []
    },
    {
      "cell_type": "markdown",
      "source": [
        "Q4. Explain with an example:\n",
        "\n",
        "a.) try and else\n",
        "\n",
        "b.) finall\n",
        "\n",
        "c.) raise\n"
      ],
      "metadata": {
        "id": "9zeHRkr1KYXv"
      }
    },
    {
      "cell_type": "markdown",
      "source": [
        "A4.  \n",
        "\n",
        "1.) **try and else Block:**\n",
        "The else block executes only if no exception is raised in the try block."
      ],
      "metadata": {
        "id": "qSLIeI_9NJf8"
      }
    },
    {
      "cell_type": "code",
      "source": [
        "# Example:\n",
        "\n",
        "try:\n",
        "    num = int(input(\"Enter a number: \"))\n",
        "    print(\"Valid number:\", num)\n",
        "except ValueError:\n",
        "    print(\"Invalid input!\")\n",
        "else:\n",
        "    print(\"No errors occurred.\")\n"
      ],
      "metadata": {
        "colab": {
          "base_uri": "https://localhost:8080/"
        },
        "id": "PreKJSYgNPt3",
        "outputId": "5b80ef51-94ef-4e04-fe92-0622fe1aabc6"
      },
      "execution_count": 3,
      "outputs": [
        {
          "output_type": "stream",
          "name": "stdout",
          "text": [
            "Enter a number: 3\n",
            "Valid number: 3\n",
            "No errors occurred.\n"
          ]
        }
      ]
    },
    {
      "cell_type": "markdown",
      "source": [
        "2.) **finally Block:** The finally block always executes, regardless of whether an exception occurred or not. It is commonly used for clean-up actions (e.g., closing files)."
      ],
      "metadata": {
        "id": "l1gvb6uHNXGM"
      }
    },
    {
      "cell_type": "code",
      "source": [
        "# Example:\n",
        "\n",
        "try:\n",
        "    file = open(\"example.txt\", \"r\")\n",
        "    print(file.read())\n",
        "except FileNotFoundError:\n",
        "    print(\"File not found!\")\n",
        "finally:\n",
        "    print(\"This will always run.\")\n"
      ],
      "metadata": {
        "colab": {
          "base_uri": "https://localhost:8080/"
        },
        "id": "V05QBSwWNcQj",
        "outputId": "487af459-d30f-43b9-bc28-73d408d5cfc4"
      },
      "execution_count": 4,
      "outputs": [
        {
          "output_type": "stream",
          "name": "stdout",
          "text": [
            "File not found!\n",
            "This will always run.\n"
          ]
        }
      ]
    },
    {
      "cell_type": "markdown",
      "source": [
        "3.) **raise Statement:** You can manually trigger exceptions using the raise keyword."
      ],
      "metadata": {
        "id": "NDPTXkEdNhuG"
      }
    },
    {
      "cell_type": "code",
      "source": [
        "# Example:\n",
        "\n",
        "def check_age(age):\n",
        "    if age < 18:\n",
        "        raise ValueError(\"Age must be 18 or older.\")\n",
        "    print(\"Access granted.\")\n",
        "\n",
        "try:\n",
        "    check_age(16)\n",
        "except ValueError as e:\n",
        "    print(\"Error:\", e)\n"
      ],
      "metadata": {
        "colab": {
          "base_uri": "https://localhost:8080/"
        },
        "id": "e8nNhXNcNm0i",
        "outputId": "281569ad-58d3-43d9-dffa-9525cd11f8c3"
      },
      "execution_count": 5,
      "outputs": [
        {
          "output_type": "stream",
          "name": "stdout",
          "text": [
            "Error: Age must be 18 or older.\n"
          ]
        }
      ]
    },
    {
      "cell_type": "code",
      "source": [],
      "metadata": {
        "id": "inKHfDjZKYsJ"
      },
      "execution_count": null,
      "outputs": []
    },
    {
      "cell_type": "markdown",
      "source": [
        "Q5. What are Custom Exceptions in python? Why do we need Custom Exceptions? Explain with an example."
      ],
      "metadata": {
        "id": "yhLjH0CaKiVT"
      }
    },
    {
      "cell_type": "markdown",
      "source": [
        "A5. **Custom Exceptions:** Custom exceptions are user-defined error classes that allow us to create specific exceptions to improve clarity and handle business-specific logic.\n",
        "\n",
        "### Why Use Custom Exceptions?\n",
        "\n",
        "1.) **Improved Clarity:** Identifies specific problems (e.g., InvalidAgeError vs. ValueError).\n",
        "\n",
        "2.) **Business Logic:** Helps enforce application-specific rules (e.g., age limits, access control).\n",
        "\n",
        "3.) **Debugging:** Easier to track custom errors during development."
      ],
      "metadata": {
        "id": "7hfQVL9ZNspP"
      }
    },
    {
      "cell_type": "code",
      "source": [
        "class InvalidAgeError(Exception):\n",
        "    pass\n",
        "\n",
        "def check_age(age):\n",
        "    if age < 18:\n",
        "        raise InvalidAgeError(\"Age must be 18 or above.\")\n",
        "    print(\"Age is valid.\")\n",
        "\n",
        "try:\n",
        "    check_age(16)\n",
        "except InvalidAgeError as e:\n",
        "    print(\"Custom Exception Caught:\", e)\n"
      ],
      "metadata": {
        "colab": {
          "base_uri": "https://localhost:8080/"
        },
        "id": "rzgWCFKzN6OS",
        "outputId": "7aa7f4db-c41b-4d30-d53c-bc58c517a50d"
      },
      "execution_count": 6,
      "outputs": [
        {
          "output_type": "stream",
          "name": "stdout",
          "text": [
            "Custom Exception Caught: Age must be 18 or above.\n"
          ]
        }
      ]
    },
    {
      "cell_type": "code",
      "source": [],
      "metadata": {
        "id": "YhSKGzwOKipz"
      },
      "execution_count": null,
      "outputs": []
    },
    {
      "cell_type": "markdown",
      "source": [
        "Q6. Create a custom exception class. Use this class to handle an exception."
      ],
      "metadata": {
        "id": "0yehb3j9KkMA"
      }
    },
    {
      "cell_type": "markdown",
      "source": [
        "A6. Example (Custom Exception Class for Negative Numbers):"
      ],
      "metadata": {
        "id": "qQLBEDfrN-Yl"
      }
    },
    {
      "cell_type": "code",
      "source": [
        "# Custom Exception Class\n",
        "class NegativeNumberError(Exception):\n",
        "    def __init__(self, value):\n",
        "        self.value = value\n",
        "        super().__init__(f\"Negative number error: {value}\")\n",
        "\n",
        "# Function to Validate Positive Number\n",
        "def check_positive(number):\n",
        "    if number < 0:\n",
        "        raise NegativeNumberError(number)\n",
        "    print(f\"Valid number: {number}\")\n",
        "\n",
        "# Handling the Custom Exception\n",
        "try:\n",
        "    check_positive(-10)\n",
        "except NegativeNumberError as e:\n",
        "    print(\"Caught Exception:\", e)\n"
      ],
      "metadata": {
        "colab": {
          "base_uri": "https://localhost:8080/"
        },
        "id": "9ogqqzfaKkoR",
        "outputId": "cbb3650d-2e54-41c7-de3d-fda1ae34aef2"
      },
      "execution_count": 7,
      "outputs": [
        {
          "output_type": "stream",
          "name": "stdout",
          "text": [
            "Caught Exception: Negative number error: -10\n"
          ]
        }
      ]
    },
    {
      "cell_type": "code",
      "source": [],
      "metadata": {
        "id": "Ua77DnY2OD5R"
      },
      "execution_count": null,
      "outputs": []
    },
    {
      "cell_type": "code",
      "source": [],
      "metadata": {
        "id": "naoIFSgMOFAy"
      },
      "execution_count": null,
      "outputs": []
    }
  ]
}