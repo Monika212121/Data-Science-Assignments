{
  "nbformat": 4,
  "nbformat_minor": 0,
  "metadata": {
    "colab": {
      "provenance": []
    },
    "kernelspec": {
      "name": "python3",
      "display_name": "Python 3"
    },
    "language_info": {
      "name": "python"
    }
  },
  "cells": [
    {
      "cell_type": "markdown",
      "source": [
        "# Module73 PCA (Pricipal Componenet Analysis) Assignment2\n"
      ],
      "metadata": {
        "id": "bkA9p6ORCUZx"
      }
    },
    {
      "cell_type": "markdown",
      "source": [
        "Q1: What is a projection and how is it used in PCA?"
      ],
      "metadata": {
        "id": "WSzlexPRCTfk"
      }
    },
    {
      "cell_type": "markdown",
      "source": [
        "A1. A projection is the representation of data points onto a lower-dimensional subspace while retaining as much information as possible.\n",
        "\n",
        "In PCA, data points are projected onto new axes (principal components) that are linear combinations of the original features.\n",
        "\n",
        "These axes are chosen such that they maximize the variance (spread) of the data in each successive component."
      ],
      "metadata": {
        "id": "xCRR6upLCTIx"
      }
    },
    {
      "cell_type": "code",
      "execution_count": null,
      "metadata": {
        "id": "VYLYKcFYCQss"
      },
      "outputs": [],
      "source": []
    },
    {
      "cell_type": "markdown",
      "source": [
        "Q2: How does the optimization problem in PCA work, and what is it trying to achieve?"
      ],
      "metadata": {
        "id": "0iheWclFCh8m"
      }
    },
    {
      "cell_type": "markdown",
      "source": [
        "A2. The optimization problem in PCA aims to:\n",
        "\n",
        "1.) **Maximize Variance:** Identify directions (principal components) in the data that maximize the variance.\n",
        "\n",
        "2.) **Minimize Reconstruction Error:** Reduce the loss of information when the data is projected onto fewer dimensions.\n",
        "\n",
        "Mathematically, this is achieved by solving an eigenvalue decomposition or singular value decomposition (SVD) of the covariance matrix of the data. The eigenvectors represent the principal components, and the corresponding eigenvalues indicate the amount of variance explained."
      ],
      "metadata": {
        "id": "jaPUvjl0CksH"
      }
    },
    {
      "cell_type": "code",
      "source": [],
      "metadata": {
        "id": "UfLvTKEGCqyz"
      },
      "execution_count": null,
      "outputs": []
    },
    {
      "cell_type": "markdown",
      "source": [
        "Q3: What is the relationship between covariance matrices and PCA?"
      ],
      "metadata": {
        "id": "uDCNzFDHCtA9"
      }
    },
    {
      "cell_type": "markdown",
      "source": [
        "A3. The covariance matrix summarizes the relationships (covariances) between pairs of features. In PCA:\n",
        "\n",
        "1.) The eigenvectors of the covariance matrix define the directions of the principal components.\n",
        "\n",
        "2.) The eigenvalues correspond to the variance explained by each principal component.\n",
        "\n",
        "3.) PCA works by decomposing the covariance matrix to identify the principal components that capture the most variance in the data.\n"
      ],
      "metadata": {
        "id": "GF6cFA04CvAm"
      }
    },
    {
      "cell_type": "code",
      "source": [],
      "metadata": {
        "id": "PxC5cdWaC1hT"
      },
      "execution_count": null,
      "outputs": []
    },
    {
      "cell_type": "markdown",
      "source": [
        "Q4: How does the choice of the number of principal components impact the performance of PCA?"
      ],
      "metadata": {
        "id": "jws91kb5C3q0"
      }
    },
    {
      "cell_type": "markdown",
      "source": [
        "A4. The choice of the number of principal components impact the performance of PCA\n",
        "\n",
        "1.) **Too Few Components:** Leads to significant information loss, reducing model performance.\n",
        "\n",
        "2.) **Too Many Components:** May retain noise and redundant information, reducing the benefits of dimensionality reduction.\n",
        "\n",
        "3.) **Optimal Choice:** Balances information retention and dimensionality reduction. The number of components is often selected to capture a high percentage (e.g., 90-95%) of the total variance in the data."
      ],
      "metadata": {
        "id": "2i6I280bC5pw"
      }
    },
    {
      "cell_type": "code",
      "source": [],
      "metadata": {
        "id": "K4z6XRoZDCXr"
      },
      "execution_count": null,
      "outputs": []
    },
    {
      "cell_type": "markdown",
      "source": [
        "Q5: How can PCA be used in feature selection, and what are the benefits of using it for this purpose?"
      ],
      "metadata": {
        "id": "gvUeG0kTDIO2"
      }
    },
    {
      "cell_type": "markdown",
      "source": [
        "A5. PCA can be used for feature selection by:\n",
        "\n",
        "1.) Identifying and retaining the most significant principal components.\n",
        "\n",
        "2.) Discarding components with low variance that contribute less information.\n",
        "\n",
        "### Benefits:\n",
        "\n",
        "A.) Reduces dimensionality while retaining essential information.\n",
        "\n",
        "B.) Improves computational efficiency.\n",
        "\n",
        "C.) Reduces overfitting by eliminating redundant features."
      ],
      "metadata": {
        "id": "NC7CDjw9DLH0"
      }
    },
    {
      "cell_type": "code",
      "source": [],
      "metadata": {
        "id": "qrY5fEggDTOT"
      },
      "execution_count": null,
      "outputs": []
    },
    {
      "cell_type": "markdown",
      "source": [
        "Q6: What are some common applications of PCA in data science and machine learning?"
      ],
      "metadata": {
        "id": "0MKXv9K-DWdj"
      }
    },
    {
      "cell_type": "markdown",
      "source": [
        "A6. Some common applications of PCA in data science and machine learning are -\n",
        "\n",
        "1.) **Dimensionality Reduction:** For visualization and preprocessing.\n",
        "\n",
        "2.) **Noise Filtering:** Removes irrelevant or noisy components.\n",
        "\n",
        "3.) **Data Compression:** Reduces storage requirements.\n",
        "\n",
        "4.) **Feature Extraction:** Generates meaningful, uncorrelated features.\n",
        "\n",
        "5.) **Image Processing:** Used in tasks like facial recognition and compression.\n",
        "\n",
        "6.) **Genomics:** Identifies patterns in high-dimensional genetic data."
      ],
      "metadata": {
        "id": "hRGqzMNdDYUL"
      }
    },
    {
      "cell_type": "code",
      "source": [],
      "metadata": {
        "id": "Bi8bavIxDoBz"
      },
      "execution_count": null,
      "outputs": []
    },
    {
      "cell_type": "markdown",
      "source": [
        "Q7: What is the relationship between spread and variance in PCA?"
      ],
      "metadata": {
        "id": "vqsGZEdQDqK0"
      }
    },
    {
      "cell_type": "markdown",
      "source": [
        "A7. The relationship between spread and variance in PCA -\n",
        "\n",
        "1.) **Spread:** Refers to how data points are distributed in different directions.\n",
        "\n",
        "2.) **Variance:** Measures the degree of spread or dispersion in a dataset.\n",
        "\n",
        "In PCA, variance quantifies the spread of the data along a particular direction (principal component).\n",
        "\n",
        "Components with higher variance are prioritized, as they capture more information about the data."
      ],
      "metadata": {
        "id": "prbh2605DsZO"
      }
    },
    {
      "cell_type": "code",
      "source": [],
      "metadata": {
        "id": "ZpevJ4U-D3hL"
      },
      "execution_count": null,
      "outputs": []
    },
    {
      "cell_type": "markdown",
      "source": [
        "Q8: How does PCA use the spread and variance of the data to identify principal components?"
      ],
      "metadata": {
        "id": "XS2ykTiOD5_-"
      }
    },
    {
      "cell_type": "markdown",
      "source": [
        "A8. PCA identifies principal components by:\n",
        "\n",
        "1.) Calculating the covariance matrix of the data.\n",
        "\n",
        "2.) Performing eigenvalue decomposition or SVD to find eigenvectors (directions of maximum spread) and eigenvalues (variance along those directions).\n",
        "\n",
        "3.) Ranking components based on variance (eigenvalues) and selecting the top components to maximize spread and information retention."
      ],
      "metadata": {
        "id": "PZB8x2MMD7w2"
      }
    },
    {
      "cell_type": "code",
      "source": [],
      "metadata": {
        "id": "GcS4KCmREA9r"
      },
      "execution_count": null,
      "outputs": []
    },
    {
      "cell_type": "markdown",
      "source": [
        "Q9: How does PCA handle data with high variance in some dimensions but low variance in others?"
      ],
      "metadata": {
        "id": "BrVn7BnlEDHq"
      }
    },
    {
      "cell_type": "markdown",
      "source": [
        "A9. PCA naturally prioritizes dimensions with high variance:\n",
        "\n",
        "1.) High-variance dimensions are captured in the first few principal components.\n",
        "\n",
        "2.) Low-variance dimensions are ignored or assigned to later components, effectively discarding noise or irrelevant information.\n",
        "\n",
        "By doing so, PCA compresses the data while preserving the most informative directions, even if there are significant differences in variance across dimensions. Feature scaling (e.g., standardization) is typically applied to ensure fair comparison between features with different ranges."
      ],
      "metadata": {
        "id": "riVg1_n5EEYy"
      }
    },
    {
      "cell_type": "code",
      "source": [],
      "metadata": {
        "id": "jJ1Y_1P-EKUD"
      },
      "execution_count": null,
      "outputs": []
    },
    {
      "cell_type": "code",
      "source": [],
      "metadata": {
        "id": "TnEryIS5EMEc"
      },
      "execution_count": null,
      "outputs": []
    }
  ]
}