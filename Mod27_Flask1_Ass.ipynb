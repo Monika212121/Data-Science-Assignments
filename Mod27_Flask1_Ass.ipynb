{
  "nbformat": 4,
  "nbformat_minor": 0,
  "metadata": {
    "colab": {
      "provenance": []
    },
    "kernelspec": {
      "name": "python3",
      "display_name": "Python 3"
    },
    "language_info": {
      "name": "python"
    }
  },
  "cells": [
    {
      "cell_type": "markdown",
      "source": [
        "# Flask1 Assignment"
      ],
      "metadata": {
        "id": "UTLKjU326FjX"
      }
    },
    {
      "cell_type": "markdown",
      "source": [
        "Q1. What is Flask Framework? What are the advantages of Flask Framework?"
      ],
      "metadata": {
        "id": "oarQyhN76bhN"
      }
    },
    {
      "cell_type": "markdown",
      "source": [
        "A1. **Flask Framework:**\n",
        "\n",
        "Flask is a lightweight and flexible web framework for Python, designed to build web applications quickly and efficiently.\n",
        "\n",
        "It is classified as a micro-framework because it does not require particular tools or libraries, making it easy to use and extend.\n",
        "\n",
        "### Advantages of Flask:\n",
        "\n",
        "1.) **Lightweight & Minimalistic:** Does not require large dependencies, making it easy to get started.\n",
        "\n",
        "2.) **Modular & Scalable:** Supports extensions for additional functionalities.\n",
        "\n",
        "3.) **Built-in Development Server & Debugger:** Helps developers test and debug efficiently.\n",
        "\n",
        "4.) **RESTful Request Handling:** Well-suited for developing APIs.\n",
        "\n",
        "5.) **Jinja2 Templating Engine:** Allows dynamic HTML generation.\n",
        "\n",
        "6.) **Flexibility & Customization:** No predefined project structure, allowing developers to customize it as needed."
      ],
      "metadata": {
        "id": "bPeT9cIs7oXc"
      }
    },
    {
      "cell_type": "code",
      "source": [],
      "metadata": {
        "id": "vuwuuQHq6ZQs"
      },
      "execution_count": null,
      "outputs": []
    },
    {
      "cell_type": "markdown",
      "source": [
        "Q2. Create a simple Flask application to display ‘Hello World!!’. Attach the screenshot of the output in\n",
        "Jupyter Notebook."
      ],
      "metadata": {
        "id": "MMRjaeH-6d5P"
      }
    },
    {
      "cell_type": "code",
      "source": [
        "# A2. Creating a simple Flask application\n",
        "\n",
        "from flask import Flask\n",
        "\n",
        "app = Flask(__name__)\n",
        "\n",
        "@app.route('/')\n",
        "def hello_world():\n",
        "  return \"Hello World\"\n",
        "\n",
        "if __name__ == '__main__':\n",
        "  app.run(debug = True)\n"
      ],
      "metadata": {
        "colab": {
          "base_uri": "https://localhost:8080/"
        },
        "id": "feXD1ftI8L5_",
        "outputId": "106e208d-f2dc-4ad1-8eef-3618901f9575"
      },
      "execution_count": 4,
      "outputs": [
        {
          "output_type": "stream",
          "name": "stdout",
          "text": [
            " * Serving Flask app '__main__'\n",
            " * Debug mode: on\n"
          ]
        },
        {
          "output_type": "stream",
          "name": "stderr",
          "text": [
            "INFO:werkzeug:\u001b[31m\u001b[1mWARNING: This is a development server. Do not use it in a production deployment. Use a production WSGI server instead.\u001b[0m\n",
            " * Running on http://127.0.0.1:5000\n",
            "INFO:werkzeug:\u001b[33mPress CTRL+C to quit\u001b[0m\n",
            "INFO:werkzeug: * Restarting with stat\n"
          ]
        }
      ]
    },
    {
      "cell_type": "code",
      "source": [
        "!python app.py"
      ],
      "metadata": {
        "colab": {
          "base_uri": "https://localhost:8080/"
        },
        "id": "MsW2-8Ru6eTD",
        "outputId": "e2d8ebd7-1657-4d2b-9f40-8fd18d44cb40"
      },
      "execution_count": 9,
      "outputs": [
        {
          "output_type": "stream",
          "name": "stdout",
          "text": [
            "python3: can't open file '/content/app.py': [Errno 2] No such file or directory\n"
          ]
        }
      ]
    },
    {
      "cell_type": "code",
      "source": [],
      "metadata": {
        "id": "Z2-Y2UnEAWiO"
      },
      "execution_count": null,
      "outputs": []
    },
    {
      "cell_type": "markdown",
      "source": [
        "Q3. What is App routing in Flask? Why do we use app routes?"
      ],
      "metadata": {
        "id": "d7fPTAzr6fzL"
      }
    },
    {
      "cell_type": "markdown",
      "source": [
        "A3. **App Routing in Flask:**\n",
        "\n",
        "App routing in Flask is the process of mapping URLs to specific functions so that different web pages or APIs can be accessed.\n",
        "\n",
        "**Why Use App Routes?**\n",
        "\n",
        "1.) Defines URL Endpoints: Assigns specific URLs to functions.\n",
        "\n",
        "2.) Improves Code Organization: Keeps different functionalities separate.\n",
        "\n",
        "3.) Allows Dynamic URLs: Can pass variables in routes.\n",
        "\n",
        "4.) Makes Navigation Easy: Users can easily navigate between pages.\n",
        "\n",
        "### Example:\n"
      ],
      "metadata": {
        "id": "WiKPe5zG9e-i"
      }
    },
    {
      "cell_type": "code",
      "source": [
        "@app.route('/home')\n",
        "def home():\n",
        "    return 'This is the Home Page'\n"
      ],
      "metadata": {
        "id": "1t3HqQhC6gLz"
      },
      "execution_count": 5,
      "outputs": []
    },
    {
      "cell_type": "markdown",
      "source": [
        "This maps the URL /home to the home() function.\n",
        "\n"
      ],
      "metadata": {
        "id": "u8JprNBx9xmU"
      }
    },
    {
      "cell_type": "code",
      "source": [],
      "metadata": {
        "id": "SNjU36SY9vNl"
      },
      "execution_count": null,
      "outputs": []
    },
    {
      "cell_type": "markdown",
      "source": [
        "Q4. Create a “/welcome” route to display the welcome message “Welcome to ABC Corporation” and a “/”\n",
        "route to show the following details:\n",
        "```\n",
        "Company Name: ABC Corporation\n",
        "Location: India\n",
        "Contact Detail: 999-999-9999\n",
        "```\n",
        "Attach the screenshot of the output in Jupyter Notebook.\n"
      ],
      "metadata": {
        "id": "wjafY6Lq6iqs"
      }
    },
    {
      "cell_type": "code",
      "source": [
        "# A4. Creating a welcome route\n",
        "\n",
        "from flask import Flask\n",
        "\n",
        "app = Flask(__name__)\n",
        "\n",
        "@app.route('/')\n",
        "def company_info():\n",
        "    return '''\n",
        "    <h2>Company Name: ABC Corporation</h2>\n",
        "    <h3>Location: India</h3>\n",
        "    <h3>Contact Detail: 999-999-9999</h3>\n",
        "    '''\n",
        "\n",
        "@app.route('/welcome')\n",
        "def welcome():\n",
        "    return '<h2>Welcome to ABC Corporation</h2>'\n",
        "\n",
        "if __name__ == '__main__':\n",
        "    app.run(debug=True)\n"
      ],
      "metadata": {
        "colab": {
          "base_uri": "https://localhost:8080/"
        },
        "id": "Okzv93l7-D8i",
        "outputId": "fc15bb62-1273-4e5b-90e1-803aef86b66a"
      },
      "execution_count": 6,
      "outputs": [
        {
          "output_type": "stream",
          "name": "stdout",
          "text": [
            " * Serving Flask app '__main__'\n",
            " * Debug mode: on\n"
          ]
        },
        {
          "output_type": "stream",
          "name": "stderr",
          "text": [
            "INFO:werkzeug:\u001b[31m\u001b[1mWARNING: This is a development server. Do not use it in a production deployment. Use a production WSGI server instead.\u001b[0m\n",
            " * Running on http://127.0.0.1:5000\n",
            "INFO:werkzeug:\u001b[33mPress CTRL+C to quit\u001b[0m\n",
            "INFO:werkzeug: * Restarting with stat\n"
          ]
        }
      ]
    },
    {
      "cell_type": "code",
      "source": [
        "!python app.py"
      ],
      "metadata": {
        "colab": {
          "base_uri": "https://localhost:8080/"
        },
        "id": "MUBj09Xs-gjv",
        "outputId": "b62f66a6-faa1-4de1-9213-1f871a81c69f"
      },
      "execution_count": 7,
      "outputs": [
        {
          "output_type": "stream",
          "name": "stdout",
          "text": [
            "python3: can't open file '/content/app.py': [Errno 2] No such file or directory\n"
          ]
        }
      ]
    },
    {
      "cell_type": "code",
      "source": [],
      "metadata": {
        "id": "qAiexVw5-ggU"
      },
      "execution_count": null,
      "outputs": []
    },
    {
      "cell_type": "markdown",
      "source": [
        "Q5. What function is used in Flask for URL Building? Write a Python code to demonstrate the working of the\n",
        "url_for() function."
      ],
      "metadata": {
        "id": "OvFkVWu06rV8"
      }
    },
    {
      "cell_type": "markdown",
      "source": [
        "A5. The url_for() function is used for dynamically generating URLs in Flask.\n",
        "\n",
        "Example Code:"
      ],
      "metadata": {
        "id": "mJ7vK4zM--Ak"
      }
    },
    {
      "cell_type": "code",
      "source": [
        "from flask import Flask, url_for\n",
        "\n",
        "app = Flask(__name__)\n",
        "\n",
        "@app.route('/')\n",
        "def index():\n",
        "    return 'Welcome to the Homepage'\n",
        "\n",
        "@app.route('/profile/<username>')\n",
        "def profile(username):\n",
        "    return f'User Profile Page of {username}'\n",
        "\n",
        "@app.route('/links')\n",
        "def links():\n",
        "    home_url = url_for('index')\n",
        "    profile_url = url_for('profile', username='Monika')\n",
        "    return f'''\n",
        "    <h3>Home URL: {home_url}</h3>\n",
        "    <h3>Profile URL: {profile_url}</h3>\n",
        "    '''\n",
        "\n",
        "if __name__ == '__main__':\n",
        "    app.run(debug=True)\n"
      ],
      "metadata": {
        "colab": {
          "base_uri": "https://localhost:8080/"
        },
        "id": "LMhN7Eog6rxD",
        "outputId": "93ce3fbb-92e8-4977-86f3-b3ac83797cb9"
      },
      "execution_count": 8,
      "outputs": [
        {
          "output_type": "stream",
          "name": "stdout",
          "text": [
            " * Serving Flask app '__main__'\n",
            " * Debug mode: on\n"
          ]
        },
        {
          "output_type": "stream",
          "name": "stderr",
          "text": [
            "INFO:werkzeug:\u001b[31m\u001b[1mWARNING: This is a development server. Do not use it in a production deployment. Use a production WSGI server instead.\u001b[0m\n",
            " * Running on http://127.0.0.1:5000\n",
            "INFO:werkzeug:\u001b[33mPress CTRL+C to quit\u001b[0m\n",
            "INFO:werkzeug: * Restarting with stat\n"
          ]
        }
      ]
    },
    {
      "cell_type": "markdown",
      "source": [
        "### How It Works:\n",
        "\n",
        "url_for('index') → Generates URL for the homepage.\n",
        "\n",
        "url_for('profile', username='Monika') → Generates URL for profile/Monika."
      ],
      "metadata": {
        "id": "2fkqrrIR_GK-"
      }
    },
    {
      "cell_type": "code",
      "source": [],
      "metadata": {
        "id": "SNEEh5fH_IcS"
      },
      "execution_count": null,
      "outputs": []
    },
    {
      "cell_type": "code",
      "source": [],
      "metadata": {
        "id": "W1YHq9-tAiwZ"
      },
      "execution_count": null,
      "outputs": []
    }
  ]
}