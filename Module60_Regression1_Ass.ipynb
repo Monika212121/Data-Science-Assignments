{
  "nbformat": 4,
  "nbformat_minor": 0,
  "metadata": {
    "colab": {
      "provenance": []
    },
    "kernelspec": {
      "name": "python3",
      "display_name": "Python 3"
    },
    "language_info": {
      "name": "python"
    }
  },
  "cells": [
    {
      "cell_type": "markdown",
      "source": [
        "# Module60 Regression 1 Assignment"
      ],
      "metadata": {
        "id": "UhcWtbBpyhG4"
      }
    },
    {
      "cell_type": "markdown",
      "source": [
        "Q1. Explain the difference between simple linear regression and multiple linear regression. Provide an\n",
        "example of each."
      ],
      "metadata": {
        "id": "-QVzlHgryhJl"
      }
    },
    {
      "cell_type": "markdown",
      "source": [
        "A1.\n",
        "\n",
        "# Simple Linear Regression:\n",
        "\n",
        "Involves one dependent variable (y) and one independent variable (x).\n",
        "\n",
        "**Equation:** y = b0 + b1*x + c\n",
        "\n",
        "**Example:** Predicting a student’s score (y) based on study hours (x).\n",
        "\n",
        "\n",
        "# Multiple Linear Regression:\n",
        "\n",
        "Involves one dependent variable (y) and multiple independent variables (𝑥1,𝑥2,...,𝑥𝑛).\n",
        "\n",
        "**Equation:** y = b0 + b1*x1 + b2*x2 + ...... + bn * xn + c\n",
        "\n",
        "**Example:** Predicting house prices (y) based on features like square footage (x1), number of bedrooms (x2), and location (x3).\n"
      ],
      "metadata": {
        "id": "2IJqYT80yhMW"
      }
    },
    {
      "cell_type": "code",
      "execution_count": null,
      "metadata": {
        "id": "bDa38COVydmz"
      },
      "outputs": [],
      "source": []
    },
    {
      "cell_type": "markdown",
      "source": [
        "Q2. Discuss the assumptions of linear regression. How can you check whether these assumptions hold in\n",
        "a given dataset?"
      ],
      "metadata": {
        "id": "USCOaT9oyhO1"
      }
    },
    {
      "cell_type": "markdown",
      "source": [
        "A2. The assumptions of Linear Regression are :-\n",
        "\n",
        "**1.) Linear Relationship:** The relationship between independent and dependent variables must be linear.\n",
        "Check: Scatter plots or correlation matrices.\n",
        "\n",
        "**2.) No Multicollinearity:** Independent variables should not be highly correlated.\n",
        "Check: Variance Inflation Factor (VIF) or correlation matrix.\n",
        "\n",
        "**3.) Homoscedasticity:** Constant variance of residuals across all levels of the independent variable.\n",
        "Check: Plot residuals vs. predicted values.\n",
        "\n",
        "**4.) Normality of Residuals:** Residuals should follow a normal distribution.\n",
        "Check: Q-Q plot or Shapiro-Wilk test.\n",
        "\n",
        "**5.) Independence of Errors:** Residuals should not be correlated.\n",
        "Check: Durbin-Watson test."
      ],
      "metadata": {
        "id": "BEo2GVJUyhRz"
      }
    },
    {
      "cell_type": "code",
      "source": [],
      "metadata": {
        "id": "NBNNGLKbyoc6"
      },
      "execution_count": null,
      "outputs": []
    },
    {
      "cell_type": "markdown",
      "source": [
        "Q3. How do you interpret the slope and intercept in a linear regression model? Provide an example using\n",
        "a real-world scenario."
      ],
      "metadata": {
        "id": "H4o1mINCyhUc"
      }
    },
    {
      "cell_type": "markdown",
      "source": [
        "A3. Intercept (b0): The value of y when x=0.\n",
        "\n",
        "Slope (b1): The change in y for a one-unit increase in x.\n",
        "\n",
        "**Example:**\n",
        "\n",
        "A linear model predicts monthly electricity bills (y) based on the number of units consumed (x):\n",
        "\n",
        "y = 50 + 5*x\n",
        "\n",
        "where, b0 = 50, Fixed charges of Rs50 regardless of usage.\n",
        "\n",
        "b1 = 5, Each additional unit increases the bill by Rs5."
      ],
      "metadata": {
        "id": "SVFnJJQ7yhXM"
      }
    },
    {
      "cell_type": "code",
      "source": [],
      "metadata": {
        "id": "7sVTFVLQyps-"
      },
      "execution_count": null,
      "outputs": []
    },
    {
      "cell_type": "markdown",
      "source": [
        "Q4. Explain the concept of gradient descent. How is it used in machine learning?"
      ],
      "metadata": {
        "id": "dqqCeVXdyhZ1"
      }
    },
    {
      "cell_type": "markdown",
      "source": [
        "A4. Gradient descent\n",
        "\n",
        "# Concept:\n",
        "Gradient descent is an optimization algorithm used to minimize the loss function by iteratively adjusting model parameters.\n",
        "\n",
        "# Process:\n",
        "\n",
        "1.) Start with random parameter values (b0, b1,... ).\n",
        "\n",
        "2.) Calculate the gradiesnt of the loss function (eg. MSE).\n",
        "\n",
        "3.) Update parameters:\n",
        "\n",
        "`theta = theta - a * delta J(theta)`\n",
        "\n",
        "where, a = Learning rate\n",
        "\n",
        "theta0 = intercept\n",
        "\n",
        "theta1 = slope\n",
        "\n",
        "4.) Repeat until convergance.\n",
        "\n",
        "# Use:\n",
        "\n",
        "Essential for training linear regression, logistic regression, neural networks, etc.\n",
        "\n",
        "\n"
      ],
      "metadata": {
        "id": "T3qc_Qi7yhcg"
      }
    },
    {
      "cell_type": "code",
      "source": [],
      "metadata": {
        "id": "7F-NmvNkyqpZ"
      },
      "execution_count": null,
      "outputs": []
    },
    {
      "cell_type": "markdown",
      "source": [
        "Q5. Describe the multiple linear regression model. How does it differ from simple linear regression?"
      ],
      "metadata": {
        "id": "4NlT7_JYyhfy"
      }
    },
    {
      "cell_type": "markdown",
      "source": [
        "A5.\n",
        "\n",
        "# Multiple Linear Regression:\n",
        "\n",
        "Involves multiple predictors and estimates the relationship between each predictor and the dependent variable.\n",
        "\n",
        "# Difference:\n",
        "\n",
        "Simple linear regression has only one independent variable, while multiple linear regression incorporates multiple predictors to better explain the variance in\n",
        "𝑦\n",
        "y."
      ],
      "metadata": {
        "id": "0g0Ps81OyhiH"
      }
    },
    {
      "cell_type": "code",
      "source": [],
      "metadata": {
        "id": "8fHL_KKGyr47"
      },
      "execution_count": null,
      "outputs": []
    },
    {
      "cell_type": "markdown",
      "source": [
        "Q6. Explain the concept of multicollinearity in multiple linear regression. How can you detect and\n",
        "address this issue?"
      ],
      "metadata": {
        "id": "z0fRRF1wyhk8"
      }
    },
    {
      "cell_type": "markdown",
      "source": [
        "A6. Multicollinearity in Multiple Linear Regression:\n",
        "\n",
        "# Concept:\n",
        "Multicollinearity occurs when independent variables are highly correlated, making it difficult to estimate their individual effects on y.\n",
        "\n",
        "# Detection:\n",
        "1.) High Variance Inflation Factor (VIF > 5 or 10).\n",
        "\n",
        "2.) High pairwise correlations in a correlation matrix.\n",
        "\n",
        "# Address:\n",
        "\n",
        "1.) Remove highly correlated predictors.\n",
        "\n",
        "2.) Use dimensionality reduction (e.g., PCA).\n",
        "\n",
        "3.) Apply regularization techniques like Ridge or Lasso regression."
      ],
      "metadata": {
        "id": "GTBxTUwbyhne"
      }
    },
    {
      "cell_type": "code",
      "source": [],
      "metadata": {
        "id": "26rzV-8Sysnh"
      },
      "execution_count": null,
      "outputs": []
    },
    {
      "cell_type": "markdown",
      "source": [
        "Q7. Describe the polynomial regression model. How is it different from linear regression?"
      ],
      "metadata": {
        "id": "ssTY8LONyhrF"
      }
    },
    {
      "cell_type": "markdown",
      "source": [
        "A7.\n",
        "\n",
        "# Polynomial Regression:\n",
        "\n",
        "Models a non-linear relationship by including polynomial terms of independent variables.\n",
        "\n",
        "**Equation:**\n",
        "\n",
        "`y = b0 + b1*x + b2*x^2 + b3*x^3 + ..... + bn*x^n + c`.\n",
        "\n",
        "**Difference:**\n",
        "\n",
        "Unlike linear regression, which assumes a straight-line relationship, polynomial regression captures curvatures in the data.\n"
      ],
      "metadata": {
        "id": "tvEjgk2IzDlb"
      }
    },
    {
      "cell_type": "code",
      "source": [],
      "metadata": {
        "id": "lQurjPTvzEJc"
      },
      "execution_count": null,
      "outputs": []
    },
    {
      "cell_type": "markdown",
      "source": [
        "Q8. What are the advantages and disadvantages of polynomial regression compared to linear\n",
        "regression? In what situations would you prefer to use polynomial regression?"
      ],
      "metadata": {
        "id": "iOneSK3FzFJj"
      }
    },
    {
      "cell_type": "markdown",
      "source": [
        "A8. Polynomial Regression upon Linear Regression :-\n",
        "\n",
        "**Advantages:**\n",
        "\n",
        "1.) Captures non-linear relationships.\n",
        "\n",
        "2.) Provides better fit for curved datasets.\n",
        "\n",
        "**Disadvantages:**\n",
        "\n",
        "1.) Prone to overfitting with high-degree polynomials.\n",
        "\n",
        "2.) Less interpretable compared to linear regression.\n",
        "\n",
        "3.) Requires careful tuning of the degree of the polynomial.\n",
        "\n",
        "**When to Use:**\n",
        "\n",
        "1.) When scatterplots indicate a clear non-linear pattern.\n",
        "\n",
        "2.) For problems like predicting growth rates or modeling seasonal trends."
      ],
      "metadata": {
        "id": "Icq-k1vIzF2D"
      }
    },
    {
      "cell_type": "code",
      "source": [],
      "metadata": {
        "id": "Q_On5BJUzGVs"
      },
      "execution_count": null,
      "outputs": []
    }
  ]
}