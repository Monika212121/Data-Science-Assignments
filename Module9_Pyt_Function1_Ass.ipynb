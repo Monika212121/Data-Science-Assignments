{
  "nbformat": 4,
  "nbformat_minor": 0,
  "metadata": {
    "colab": {
      "provenance": []
    },
    "kernelspec": {
      "name": "python3",
      "display_name": "Python 3"
    },
    "language_info": {
      "name": "python"
    }
  },
  "cells": [
    {
      "cell_type": "markdown",
      "source": [
        "# Module9 Functions Part-1 Assignment"
      ],
      "metadata": {
        "id": "ak1R3RP7aaGz"
      }
    },
    {
      "cell_type": "markdown",
      "source": [
        "Q1. Which keyword is used to create a function? Create a function to return a list of odd numbers in the\n",
        "range of 1 to 25."
      ],
      "metadata": {
        "id": "IKVaArKDablo"
      }
    },
    {
      "cell_type": "markdown",
      "source": [
        "A1. The keyword used to create a function is 'def' ."
      ],
      "metadata": {
        "id": "8lZZBz7Eabwv"
      }
    },
    {
      "cell_type": "code",
      "execution_count": null,
      "metadata": {
        "colab": {
          "base_uri": "https://localhost:8080/"
        },
        "id": "iWVqYm9vaLLW",
        "outputId": "61a11b7f-f46e-4247-b4a7-8b58b6ff2d2b"
      },
      "outputs": [
        {
          "output_type": "execute_result",
          "data": {
            "text/plain": [
              "[1, 3, 5, 7, 9, 11, 13, 15, 17, 19, 21, 23, 25]"
            ]
          },
          "metadata": {},
          "execution_count": 1
        }
      ],
      "source": [
        "# The function to return a list of odd numbers in the range of 1 to 25.\n",
        "\n",
        "def getOddNums(start, end):\n",
        "  oddNums = []\n",
        "  for i in range (start, end+1):\n",
        "    if i%2 != 0:\n",
        "      oddNums.append(i)\n",
        "  return oddNums\n",
        "\n",
        "\n",
        "getOddNums(1, 25)"
      ]
    },
    {
      "cell_type": "code",
      "source": [],
      "metadata": {
        "id": "g7fg-W1Gac7A"
      },
      "execution_count": null,
      "outputs": []
    },
    {
      "cell_type": "markdown",
      "source": [
        "Q2. Why *args and **kwargs is used in some functions? Create a function each for *args and **kwargs\n",
        "to demonstrate their use."
      ],
      "metadata": {
        "id": "sfwLeLONadMS"
      }
    },
    {
      "cell_type": "markdown",
      "source": [
        "A2. *args(Non keyworded argument) is used to send a variable number of non-keyworded arguments to a function.\n",
        "It collects all the positional arguments passed to the function into a tuple.\n",
        "\n",
        "\n",
        "**kwargs(keyworded argument) allows you to pass a variable number of keyword arguments to a function.\n",
        "It collects all the keyword arguments into a dictionary.\n",
        "\n",
        "Below are the implementations:-\n"
      ],
      "metadata": {
        "id": "Z--G6A6uadPu"
      }
    },
    {
      "cell_type": "code",
      "source": [
        "# Implementation of *args\n",
        "def greeter(*args):\n",
        "  for name in args:\n",
        "    print(f\"Hi my friend, Good morning {name}! \")\n",
        "\n",
        "greeter(\"Monika\", \"Suberna\", \"Niharika\")\n",
        "\n",
        "# Implementation of **kwargs\n",
        "def introduce(**kwargs):\n",
        "  for key, value in kwargs.items():\n",
        "    print(f\"{key} : {value}\")\n",
        "\n",
        "introduce(name= \"Monika\", surname= \"Gadewar\", age= 25, job= \"Data scientist\")"
      ],
      "metadata": {
        "colab": {
          "base_uri": "https://localhost:8080/"
        },
        "id": "TEupLz_PadjP",
        "outputId": "10f636cd-95e1-44bd-af3c-7c36cbc9bb34"
      },
      "execution_count": null,
      "outputs": [
        {
          "output_type": "stream",
          "name": "stdout",
          "text": [
            "Hi my friend, Good morning Monika! \n",
            "Hi my friend, Good morning Suberna! \n",
            "Hi my friend, Good morning Niharika! \n",
            "name : Monika\n",
            "surname : Gadewar\n",
            "age : 25\n",
            "job : Data scientist\n"
          ]
        }
      ]
    },
    {
      "cell_type": "code",
      "source": [],
      "metadata": {
        "id": "kp61qU1Radmy"
      },
      "execution_count": null,
      "outputs": []
    },
    {
      "cell_type": "markdown",
      "source": [
        "Q3. What is an iterator in python? Name the method used to initialise the iterator object and the method\n",
        "used for iteration. Use these methods to print the first five elements of the given list [2, 4, 6, 8, 10, 12, 14,\n",
        "16, 18, 20]."
      ],
      "metadata": {
        "id": "naD-ihCEad0r"
      }
    },
    {
      "cell_type": "markdown",
      "source": [
        "A3. An iterator in Python is an object that enables you to traverse through all the elements of a collection (like a list or tuple) one element at a time, without needing to know the underlying structure.\n",
        "\n",
        "**Key Methods in Iterators**\n",
        "\n",
        "__iter__(): Used to initialize the iterator object and returns the iterator object itself.\n",
        "\n",
        "__next__(): Used to retrieve the next element from the iterator and raises a StopIteration exception when there are no more elements."
      ],
      "metadata": {
        "id": "D_TxMQ0gad4V"
      }
    },
    {
      "cell_type": "code",
      "source": [
        "# Implementation of iter object to iterate in the given list for first 5 elements.\n",
        "\n",
        "numlist = [2, 4, 6, 8, 10, 12, 14, 16, 18, 20]\n",
        "\n",
        "# Inititalize the ier object\n",
        "iterator = iter(numlist)          # calls __iter__()\n",
        "\n",
        "# To print the first 5 values from the list\n",
        "for _ in range(5):\n",
        "  print(next(iterator))           # calls __next__()\n"
      ],
      "metadata": {
        "colab": {
          "base_uri": "https://localhost:8080/"
        },
        "id": "kh-PAF5-aeGi",
        "outputId": "1bac8564-54d6-470b-81d8-08f53858bb43"
      },
      "execution_count": null,
      "outputs": [
        {
          "output_type": "stream",
          "name": "stdout",
          "text": [
            "2\n",
            "4\n",
            "6\n",
            "8\n",
            "10\n"
          ]
        }
      ]
    },
    {
      "cell_type": "markdown",
      "source": [
        "Explanation :-\n",
        "\n",
        "iter(numlist): Converts the list into an iterator object.\n",
        "\n",
        "next(iterator): Retrieves the next element of the iterator. Each call moves to the next item in the sequence."
      ],
      "metadata": {
        "id": "3pWBjmiKuDVH"
      }
    },
    {
      "cell_type": "code",
      "source": [],
      "metadata": {
        "id": "ZPogK_p3aePP"
      },
      "execution_count": null,
      "outputs": []
    },
    {
      "cell_type": "markdown",
      "source": [
        "Q4. What is a generator function in python? Why yield keyword is used? Give an example of a generator\n",
        "function."
      ],
      "metadata": {
        "id": "ZHy9uDafaev6"
      }
    },
    {
      "cell_type": "markdown",
      "source": [
        "A4. A generator function is a special type of function that can pause and resume its execution at any point. Generators are useful for handling large or infinite streams of data, and are often used for iteration, asynchronous operations, and lazy evaluation.\n",
        "\n",
        "The yield keyword is used in generator functions to enable them to produce a sequence of values, one at a time, without storing all the values in memory. It allows the function to pause its execution and resume from where it left off when the generator is iterated over."
      ],
      "metadata": {
        "id": "BKSryc-faezS"
      }
    },
    {
      "cell_type": "code",
      "source": [
        "# Implementation of generator function\n",
        "\n",
        "def getEvenNumbers(num):\n",
        "  for i in range(num+1):\n",
        "    if i%2 == 0:\n",
        "      yield i\n",
        "\n",
        "# to retrieve data from the above generator function\n",
        "for i in getEvenNumbers(10):\n",
        "  print(i)"
      ],
      "metadata": {
        "colab": {
          "base_uri": "https://localhost:8080/"
        },
        "id": "jUXKQ3v9nOFR",
        "outputId": "8ea7a089-e2b9-48e6-a0aa-7bdf96e16f40"
      },
      "execution_count": null,
      "outputs": [
        {
          "output_type": "stream",
          "name": "stdout",
          "text": [
            "0\n",
            "2\n",
            "4\n",
            "6\n",
            "8\n",
            "10\n"
          ]
        }
      ]
    },
    {
      "cell_type": "code",
      "source": [],
      "metadata": {
        "id": "GdV6AYrqafDc"
      },
      "execution_count": null,
      "outputs": []
    },
    {
      "cell_type": "markdown",
      "source": [
        "Q5. Create a generator function for prime numbers less than 1000. Use the next() method to print the\n",
        "first 20 prime numbers."
      ],
      "metadata": {
        "id": "-hSEYb4ua5ht"
      }
    },
    {
      "cell_type": "code",
      "source": [
        "# A5. Generator function for getting priume numbers.\n",
        "def getPrimeNumber(limit):\n",
        "    for num in range(2, limit):\n",
        "      isPrime = True\n",
        "\n",
        "      for i in range(2, int(num**0.5) + 1):\n",
        "        if num%i == 0:\n",
        "          isPrime = False\n",
        "          break\n",
        "\n",
        "      if isPrime == True:\n",
        "        yield num\n",
        "\n",
        "\n",
        "# create the object\n",
        "prime = getPrimeNumber(1000)\n",
        "\n",
        "# to retrieve the prime numbers\n",
        "for i in range (20):\n",
        "  print(next(prime))\n"
      ],
      "metadata": {
        "id": "LM5PeyZ1a6hu",
        "colab": {
          "base_uri": "https://localhost:8080/"
        },
        "outputId": "3da04e13-22d4-4443-b4ec-f5684ae417b1"
      },
      "execution_count": null,
      "outputs": [
        {
          "output_type": "stream",
          "name": "stdout",
          "text": [
            "2\n",
            "3\n",
            "5\n",
            "7\n",
            "11\n",
            "13\n",
            "17\n",
            "19\n",
            "23\n",
            "29\n",
            "31\n",
            "37\n",
            "41\n",
            "43\n",
            "47\n",
            "53\n",
            "59\n",
            "61\n",
            "67\n",
            "71\n"
          ]
        }
      ]
    },
    {
      "cell_type": "code",
      "source": [],
      "metadata": {
        "id": "CIt9HYFWa6lY"
      },
      "execution_count": null,
      "outputs": []
    },
    {
      "cell_type": "markdown",
      "source": [
        "Q6. Write a python program to print the first 10 Fibonacci numbers using a while loop."
      ],
      "metadata": {
        "id": "tSdn3rKFa803"
      }
    },
    {
      "cell_type": "code",
      "source": [
        "# A6. Program to print first 10 Fibonacci numbers.\n",
        "\n",
        "def getFibonacci():\n",
        "  a, b = 0, 1\n",
        "  for i in range(10):\n",
        "    yield a\n",
        "    a, b = b, a+b\n",
        "\n",
        "# to retrieve data fromt he gabove generator function.\n",
        "for i in getFibonacci():\n",
        "  print(i)\n"
      ],
      "metadata": {
        "id": "OB2bxWVia_UZ",
        "colab": {
          "base_uri": "https://localhost:8080/"
        },
        "outputId": "1090ccda-c04a-4788-d3fe-4fb17ccfd78e"
      },
      "execution_count": null,
      "outputs": [
        {
          "output_type": "stream",
          "name": "stdout",
          "text": [
            "0\n",
            "1\n",
            "1\n",
            "2\n",
            "3\n",
            "5\n",
            "8\n",
            "13\n",
            "21\n",
            "34\n"
          ]
        }
      ]
    },
    {
      "cell_type": "code",
      "source": [],
      "metadata": {
        "id": "wf_fuFj2bAWw"
      },
      "execution_count": null,
      "outputs": []
    },
    {
      "cell_type": "markdown",
      "source": [
        "Q7. Write a List Comprehension to iterate through the given string: ‘pwskills’.\n",
        "Expected output: ['p', 'w', 's', 'k', 'i', 'l', 'l', 's']"
      ],
      "metadata": {
        "id": "xXZ6VCK-bCpF"
      }
    },
    {
      "cell_type": "code",
      "source": [
        "# A7. List comprehension to iterate through the given string 'pwskills'.\n",
        "myString= 'pwskills'\n",
        "\n",
        "l = [letter for letter in myString]\n",
        "print(l)"
      ],
      "metadata": {
        "id": "K8UDT4kabEaS",
        "colab": {
          "base_uri": "https://localhost:8080/"
        },
        "outputId": "cf0cc58d-d922-412c-e2ca-b5390064897d"
      },
      "execution_count": null,
      "outputs": [
        {
          "output_type": "stream",
          "name": "stdout",
          "text": [
            "['p', 'w', 's', 'k', 'i', 'l', 'l', 's']\n"
          ]
        }
      ]
    },
    {
      "cell_type": "code",
      "source": [],
      "metadata": {
        "id": "-jrp8Kt_bE2u"
      },
      "execution_count": null,
      "outputs": []
    },
    {
      "cell_type": "markdown",
      "source": [
        "Q8. Write a python program to check whether a given number is Palindrome or not using a while loop."
      ],
      "metadata": {
        "id": "ADNy8SUobHlM"
      }
    },
    {
      "cell_type": "code",
      "source": [
        "# A8. Program to check whether a given number is Pallindrome or not.\n",
        "\n",
        "def isPalindrome(num):\n",
        "  original_num = num\n",
        "  reverse_num = 0\n",
        "\n",
        "  while num > 0 :\n",
        "    digit = num % 10\n",
        "    reverse_num = reverse_num*10 + digit\n",
        "    num = num // 10\n",
        "\n",
        "  if original_num == reverse_num:\n",
        "    return True\n",
        "  else:\n",
        "    return False\n",
        "\n",
        "num = int(input(\"Enter the number to check for Pallindrome: \"))\n",
        "isPalindrome(num)"
      ],
      "metadata": {
        "id": "_zw4AUxgbIgU",
        "colab": {
          "base_uri": "https://localhost:8080/"
        },
        "outputId": "b65d1849-da21-4633-c50d-b9dc4b135204"
      },
      "execution_count": null,
      "outputs": [
        {
          "name": "stdout",
          "output_type": "stream",
          "text": [
            "Enter the number to check for Pallindrome: 11\n"
          ]
        },
        {
          "output_type": "execute_result",
          "data": {
            "text/plain": [
              "True"
            ]
          },
          "metadata": {},
          "execution_count": 19
        }
      ]
    },
    {
      "cell_type": "code",
      "source": [],
      "metadata": {
        "id": "ciYc6PiYbJAx"
      },
      "execution_count": null,
      "outputs": []
    },
    {
      "cell_type": "markdown",
      "source": [
        "Q9. Write a code to print odd numbers from 1 to 100 using list comprehension.\n",
        "Note: Use a list comprehension to create a list from 1 to 100 and use another List comprehension to filter\n",
        "out odd numbers."
      ],
      "metadata": {
        "id": "S2QgCx8ybJ6h"
      }
    },
    {
      "cell_type": "code",
      "source": [
        "# A9. Program to print odd numbers from 1 to 100 using list comprehension.\n",
        "\n",
        "l= [num for num in range(1,101)]\n",
        "print(l)\n",
        "\n",
        "odd_num_list = [num for num in l if num%2 != 0]\n",
        "print(odd_num_list)\n"
      ],
      "metadata": {
        "id": "p6l5zj_AbNVa",
        "colab": {
          "base_uri": "https://localhost:8080/"
        },
        "outputId": "fc189e50-44c6-46dc-d348-94cd18c3b2b2"
      },
      "execution_count": 2,
      "outputs": [
        {
          "output_type": "stream",
          "name": "stdout",
          "text": [
            "[1, 2, 3, 4, 5, 6, 7, 8, 9, 10, 11, 12, 13, 14, 15, 16, 17, 18, 19, 20, 21, 22, 23, 24, 25, 26, 27, 28, 29, 30, 31, 32, 33, 34, 35, 36, 37, 38, 39, 40, 41, 42, 43, 44, 45, 46, 47, 48, 49, 50, 51, 52, 53, 54, 55, 56, 57, 58, 59, 60, 61, 62, 63, 64, 65, 66, 67, 68, 69, 70, 71, 72, 73, 74, 75, 76, 77, 78, 79, 80, 81, 82, 83, 84, 85, 86, 87, 88, 89, 90, 91, 92, 93, 94, 95, 96, 97, 98, 99, 100]\n",
            "[1, 3, 5, 7, 9, 11, 13, 15, 17, 19, 21, 23, 25, 27, 29, 31, 33, 35, 37, 39, 41, 43, 45, 47, 49, 51, 53, 55, 57, 59, 61, 63, 65, 67, 69, 71, 73, 75, 77, 79, 81, 83, 85, 87, 89, 91, 93, 95, 97, 99]\n"
          ]
        }
      ]
    },
    {
      "cell_type": "code",
      "source": [],
      "metadata": {
        "id": "6PtwW8SQbNix"
      },
      "execution_count": null,
      "outputs": []
    }
  ]
}