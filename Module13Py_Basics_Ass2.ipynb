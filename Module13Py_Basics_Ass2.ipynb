{
  "nbformat": 4,
  "nbformat_minor": 0,
  "metadata": {
    "colab": {
      "provenance": []
    },
    "kernelspec": {
      "name": "python3",
      "display_name": "Python 3"
    },
    "language_info": {
      "name": "python"
    }
  },
  "cells": [
    {
      "cell_type": "markdown",
      "source": [
        "# Module13 Python Basics Assignment 2\n"
      ],
      "metadata": {
        "id": "Qn_zVI0gQtdi"
      }
    },
    {
      "cell_type": "markdown",
      "source": [
        "Q1. Write a program to acccept percentage from the user and display the grade according to the following criteria.\n",
        "```\n",
        "Marks, Grade\n",
        "\n",
        ">90, A\n",
        "\n",
        ">80 and <=90, B\n",
        "\n",
        ">=60 and <=80, C\n",
        "\n",
        "Below 60, D\n",
        "\n",
        "\n",
        "```"
      ],
      "metadata": {
        "id": "diK4xJSgQtgK"
      }
    },
    {
      "cell_type": "code",
      "source": [
        "# A1. Program to accept percentage and display grade.\n",
        "\n",
        "percentage = int(input(\"Enter your percentage: \"))\n",
        "\n",
        "if percentage > 90 :\n",
        "  print(\"Grade: A\")\n",
        "elif percentage > 80 and percentage <= 90 :\n",
        "  print(\"Grade: B\")\n",
        "elif percentage >= 60 and percentage <= 80 :\n",
        "  print(\"Grade: C\")\n",
        "else :\n",
        "  print(\"Grade: D\")\n"
      ],
      "metadata": {
        "colab": {
          "base_uri": "https://localhost:8080/"
        },
        "id": "fqp1_DjhRrSR",
        "outputId": "3b6153ba-112f-40c7-9840-bb45b3f85dee"
      },
      "execution_count": null,
      "outputs": [
        {
          "output_type": "stream",
          "name": "stdout",
          "text": [
            "Enter your percentage: 33\n",
            "Grade: D\n"
          ]
        }
      ]
    },
    {
      "cell_type": "code",
      "source": [],
      "metadata": {
        "id": "3aPRwwtcTFc6"
      },
      "execution_count": null,
      "outputs": []
    },
    {
      "cell_type": "markdown",
      "source": [
        "Q2. Write a program to accept the cost price of a bike and display the road tax to be paid acccording to the following criteria:\n",
        "```\n",
        "Tax, Cost Price(in Rs)\n",
        "\n",
        "15%, > 100000\n",
        "\n",
        "10%, > 50000 and <= 100000\n",
        "\n",
        "5%, <=50000\n",
        "\n",
        "```"
      ],
      "metadata": {
        "id": "OoGUjdiKQtjE"
      }
    },
    {
      "cell_type": "code",
      "source": [
        "# A2. Program to accept the cost price of a bike and display the road tax to be paid.\n",
        "\n",
        "cost_price = int(input(\"Enter the cost price of the bike: \"))\n",
        "\n",
        "if cost_price > 100000 :\n",
        "  print(\"Road tax to be paid: 15% and i.e. Rs\", cost_price * 0.15)\n",
        "elif cost_price > 50000 and cost_price <= 100000 :\n",
        "  print(\"Road tax to be paid: 10% and i.e. Rs\", cost_price * 0.10)\n",
        "else :\n",
        "  print(\"Road tax to be paid: 5% and i.e. Rs\", cost_price * 0.05)\n"
      ],
      "metadata": {
        "colab": {
          "base_uri": "https://localhost:8080/"
        },
        "id": "HLB0f_xNTqGu",
        "outputId": "8b93f37d-3178-4a3b-88ed-59d3ffd8e28b"
      },
      "execution_count": null,
      "outputs": [
        {
          "output_type": "stream",
          "name": "stdout",
          "text": [
            "Enter the cost price of the bike: 300000\n",
            "Road tax to be paid: 15% and i.e. Rs 45000.0\n"
          ]
        }
      ]
    },
    {
      "cell_type": "code",
      "source": [],
      "metadata": {
        "id": "QogQVMFBEVZb"
      },
      "execution_count": null,
      "outputs": []
    },
    {
      "cell_type": "markdown",
      "source": [
        "Q3. Accept any city from the user and display monuments of that city.\n",
        "\n",
        "```\n",
        "City, Monument\n",
        "\n",
        "Delhi, Red Fort\n",
        "\n",
        "Agra, Taj Mahal\n",
        "\n",
        "Jaipur, Jal Mahal\n",
        "\n",
        "```"
      ],
      "metadata": {
        "id": "5yEsczTzQtlz"
      }
    },
    {
      "cell_type": "code",
      "source": [
        "# A3. Program to display monuments of the entered city\n",
        "\n",
        "city = input(\"Enter the city name: \")\n",
        "\n",
        "if city.lower() == \"delhi\" :\n",
        "  print(\"Monument: Red Fort\")\n",
        "elif city.lower() == \"agra\" :\n",
        "  print(\"Monument: Taj Mahal\")\n",
        "elif city.lower() == \"jaipur\" :\n",
        "  print(\"Monument: Jal Mahal\")\n"
      ],
      "metadata": {
        "colab": {
          "base_uri": "https://localhost:8080/"
        },
        "id": "fcp7vvAMVClX",
        "outputId": "d775badb-ea65-4b93-a8dd-ffb5c91b8e8f"
      },
      "execution_count": null,
      "outputs": [
        {
          "output_type": "stream",
          "name": "stdout",
          "text": [
            "Enter the city name: Agra\n",
            "Monument: Taj Mahal\n"
          ]
        }
      ]
    },
    {
      "cell_type": "code",
      "source": [],
      "metadata": {
        "id": "6kuNtl3YEXKJ"
      },
      "execution_count": null,
      "outputs": []
    },
    {
      "cell_type": "markdown",
      "source": [
        "Q4. Check how many times a given number can be divided by 3 before it is less than or equal to 10."
      ],
      "metadata": {
        "id": "QKnYvOTmQtob"
      }
    },
    {
      "cell_type": "code",
      "source": [
        "# A4. Program to check given number can be divided by 3 before it is less than or equal to 10.\n",
        "\n",
        "num = int(input(\"Enter a number: \"))\n",
        "count = 0\n",
        "\n",
        "while num > 10:\n",
        "  num = num / 3\n",
        "  count = count + 1\n",
        "\n",
        "print(\"No. of times the given number can be divided by 3 is: \", count)"
      ],
      "metadata": {
        "colab": {
          "base_uri": "https://localhost:8080/"
        },
        "id": "n-5HLUM4V-pa",
        "outputId": "3fcddba8-00d0-4cb4-949e-1296f50a324f"
      },
      "execution_count": null,
      "outputs": [
        {
          "output_type": "stream",
          "name": "stdout",
          "text": [
            "Enter a number: 600\n",
            "No. of times the given number can be divided by 3 is:  4\n"
          ]
        }
      ]
    },
    {
      "cell_type": "code",
      "source": [],
      "metadata": {
        "id": "FSMxNYN6W7K8"
      },
      "execution_count": null,
      "outputs": []
    },
    {
      "cell_type": "markdown",
      "source": [
        "Q5. Why and when to use while loop in Python give a detailed description with example."
      ],
      "metadata": {
        "id": "e6Y7qVlAQtra"
      }
    },
    {
      "cell_type": "markdown",
      "source": [
        "A5. Reasons to use while loop are :-\n",
        "\n",
        "1. Condition-Based Iteration: A while loop is ideal when the termination condition depends on a variable or external input that may change during execution.\n",
        "\n",
        "2. Unknown Number of Iterations: Use while when you don’t know beforehand how many times the loop needs to execute (e.g., reading data until EOF, waiting for user input).\n",
        "\n",
        "3. Infinite Loops: A while loop can create infinite loops (useful for event-driven programs like servers or games) by ensuring the condition is always True.\n",
        "\n",
        "When to Use a while Loop?\n",
        "\n",
        "1. Dynamic Conditions: If the loop depends on a condition that is dynamically updated inside the loop, such as reaching a certain user-defined threshold.\n",
        "\n",
        "2. User Input Validation: When validating user input and prompting again if invalid.\n",
        "\n",
        "3. Event-Driven Scenarios: In real-time applications where the program needs to wait for a specific event or condition.\n",
        "\n",
        "4. Reading Data Streams: Reading data until there is no more data (e.g., reading lines from a file or data from a sensor).\n",
        "\n"
      ],
      "metadata": {
        "id": "tRJzsyUGQtuG"
      }
    },
    {
      "cell_type": "code",
      "source": [
        "# Implementation of while loop :-\n",
        "\n",
        "count = 0\n",
        "while True:\n",
        "  print(\"Monika\")\n",
        "  count = count + 1\n",
        "  if count == 5:\n",
        "    break"
      ],
      "metadata": {
        "colab": {
          "base_uri": "https://localhost:8080/"
        },
        "id": "Flk9nZ0V8X1W",
        "outputId": "1e776cb5-3e5a-41e5-99ef-2fe3c8eb91ba"
      },
      "execution_count": null,
      "outputs": [
        {
          "output_type": "stream",
          "name": "stdout",
          "text": [
            "Monika\n",
            "Monika\n",
            "Monika\n",
            "Monika\n",
            "Monika\n"
          ]
        }
      ]
    },
    {
      "cell_type": "markdown",
      "source": [
        "Q6. Use nested while loop to print 3 different pattern."
      ],
      "metadata": {
        "id": "XfYB5sMDQtwl"
      }
    },
    {
      "cell_type": "code",
      "source": [
        "# A6. Program to print patterns\n",
        "\n",
        "tot_rows = 6\n",
        "\n",
        "row = 1\n",
        "\n",
        "while row <= tot_rows:\n",
        "  col = 1\n",
        "  while col <= row:\n",
        "    print(\"*\", end = \" \")\n",
        "    col = col + 1\n",
        "\n",
        "  print() # move to the next line\n",
        "  row = row + 1\n"
      ],
      "metadata": {
        "colab": {
          "base_uri": "https://localhost:8080/"
        },
        "id": "-bhwvPgw9VBW",
        "outputId": "4ef3398c-a930-43d1-ccce-5391a198bd42"
      },
      "execution_count": 5,
      "outputs": [
        {
          "output_type": "stream",
          "name": "stdout",
          "text": [
            "* \n",
            "* * \n",
            "* * * \n",
            "* * * * \n",
            "* * * * * \n",
            "* * * * * * \n"
          ]
        }
      ]
    },
    {
      "cell_type": "code",
      "source": [
        "# Pattern 2\n",
        "\n",
        "rows = 5\n",
        "\n",
        "while rows > 0 :\n",
        "  col = 1\n",
        "  while col <= rows :\n",
        "    print(\"*\", end = \" \")\n",
        "    col = col + 1\n",
        "\n",
        "  print()\n",
        "  rows = rows - 1\n",
        ""
      ],
      "metadata": {
        "id": "LPoMwq7n_sxp"
      },
      "execution_count": null,
      "outputs": []
    },
    {
      "cell_type": "code",
      "source": [
        "# Pattern 3\n",
        "tot_rows = 5\n",
        "row = 1\n",
        "\n",
        "while row <= tot_rows:\n",
        "\n",
        "  # Printing spaces\n",
        "  spaces = tot_rows - row\n",
        "  while spaces > 0:\n",
        "    print(\" \", end = \" \")\n",
        "    spaces = spaces - 1\n",
        "\n",
        "  # Printing stars\n",
        "  col = 1\n",
        "  while col <= row:\n",
        "    print(\"*\", end = \"   \")\n",
        "    col = col + 1\n",
        "\n",
        "\n",
        "  print()\n",
        "  row = row + 1"
      ],
      "metadata": {
        "colab": {
          "base_uri": "https://localhost:8080/"
        },
        "id": "0iks3hTNAxx4",
        "outputId": "a2373b6f-3ef5-4571-cae2-84a9e1b8e594"
      },
      "execution_count": 14,
      "outputs": [
        {
          "output_type": "stream",
          "name": "stdout",
          "text": [
            "        *   \n",
            "      *   *   \n",
            "    *   *   *   \n",
            "  *   *   *   *   \n",
            "*   *   *   *   *   \n"
          ]
        }
      ]
    },
    {
      "cell_type": "code",
      "source": [],
      "metadata": {
        "id": "HHJQvIfFEbu4"
      },
      "execution_count": null,
      "outputs": []
    },
    {
      "cell_type": "markdown",
      "source": [
        "Q7. Reverse a while loop to display numbers from 10 to 1."
      ],
      "metadata": {
        "id": "mDeVzKR8Qtzk"
      }
    },
    {
      "cell_type": "code",
      "source": [
        "# A7. Program to reverse while loop to display numbers from 10 to 1.\n",
        "\n",
        "num = 10\n",
        "\n",
        "while num > 0:\n",
        "  print(num)\n",
        "  num = num - 1\n"
      ],
      "metadata": {
        "colab": {
          "base_uri": "https://localhost:8080/"
        },
        "id": "h6ooKDLWDc8W",
        "outputId": "d8cbff18-4ac9-407f-d3bc-f9fe685695cb"
      },
      "execution_count": 16,
      "outputs": [
        {
          "output_type": "stream",
          "name": "stdout",
          "text": [
            "10\n",
            "9\n",
            "8\n",
            "7\n",
            "6\n",
            "5\n",
            "4\n",
            "3\n",
            "2\n",
            "1\n"
          ]
        }
      ]
    },
    {
      "cell_type": "code",
      "source": [],
      "metadata": {
        "id": "M5mOC7F8EeBL"
      },
      "execution_count": null,
      "outputs": []
    },
    {
      "cell_type": "markdown",
      "source": [
        "Q8. Reverse a while loop to display numbers from 10 to 1."
      ],
      "metadata": {
        "id": "m3hUQ5AYQt2b"
      }
    },
    {
      "cell_type": "code",
      "source": [
        "# A8. Program to reverse while loop to display numbers from 10 to 1.\n",
        "\n",
        "num = 10\n",
        "\n",
        "while num > 0:\n",
        "  print(num)\n",
        "  num = num - 1\n"
      ],
      "metadata": {
        "colab": {
          "base_uri": "https://localhost:8080/"
        },
        "id": "ECFbLThPD-MU",
        "outputId": "e38cae99-4945-45d7-bfeb-b575bcb2413c"
      },
      "execution_count": 17,
      "outputs": [
        {
          "output_type": "stream",
          "name": "stdout",
          "text": [
            "10\n",
            "9\n",
            "8\n",
            "7\n",
            "6\n",
            "5\n",
            "4\n",
            "3\n",
            "2\n",
            "1\n"
          ]
        }
      ]
    },
    {
      "cell_type": "code",
      "source": [],
      "metadata": {
        "id": "QCzVtlD7Ei4M"
      },
      "execution_count": null,
      "outputs": []
    }
  ]
}