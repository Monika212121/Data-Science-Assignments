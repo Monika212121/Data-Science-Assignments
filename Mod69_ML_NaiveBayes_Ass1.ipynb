{
  "nbformat": 4,
  "nbformat_minor": 0,
  "metadata": {
    "colab": {
      "provenance": []
    },
    "kernelspec": {
      "name": "python3",
      "display_name": "Python 3"
    },
    "language_info": {
      "name": "python"
    }
  },
  "cells": [
    {
      "cell_type": "markdown",
      "source": [
        "# Module 69 Naive Bayes Assignment1"
      ],
      "metadata": {
        "id": "lqDzTXca_RiK"
      }
    },
    {
      "cell_type": "markdown",
      "source": [
        "Q1. What is Bayes' theorem?"
      ],
      "metadata": {
        "id": "B2oE9bQU_nlN"
      }
    },
    {
      "cell_type": "markdown",
      "source": [
        "A1. Bayes' Theorem is a fundamental concept in probability theory that describes how to update the probability of a hypothesis as new evidence is introduced.\n",
        "\n",
        "It provides a mathematical way to compute the posterior probability of an event based on prior probability and likelihood of observed data."
      ],
      "metadata": {
        "id": "gXELEtO91pBU"
      }
    },
    {
      "cell_type": "code",
      "source": [],
      "metadata": {
        "id": "NmKbSXcW1rVP"
      },
      "execution_count": null,
      "outputs": []
    },
    {
      "cell_type": "markdown",
      "source": [
        "Q2. What is the formula for Bayes' theorem?"
      ],
      "metadata": {
        "id": "hAkGd0fQ_ufc"
      }
    },
    {
      "cell_type": "markdown",
      "source": [
        "A2. The formula for Bayes' Theorem is:\n",
        "\n",
        "``` P(H|E) = [P(E|H) * P(H)] / P(E) ```\n",
        "\n",
        "where,\n",
        "\n",
        "P(H|E): Posterior probability (probability of hypothesis H given evidence E)\n",
        "\n",
        "P(E|H): Likelihood (probability of evidence E given hypothesis H)\n",
        "\n",
        "P(H): Prior probability (initial probability of hypothesis H)\n",
        "\n",
        "P(E): Marginal probability of evidence E.\n",
        "\n"
      ],
      "metadata": {
        "id": "0ZCQPTSx1sbk"
      }
    },
    {
      "cell_type": "code",
      "source": [],
      "metadata": {
        "id": "JSeGxWAQ23LS"
      },
      "execution_count": null,
      "outputs": []
    },
    {
      "cell_type": "markdown",
      "source": [
        "Q3. How is Bayes' theorem used in practice?"
      ],
      "metadata": {
        "id": "pSvnk7tB_xaR"
      }
    },
    {
      "cell_type": "markdown",
      "source": [
        "A3. Bayes' Theorem is widely used in various fields such as:\n",
        "\n",
        "1.) **Medical Diagnosis:** Estimating the likelihood of a disease given test results.\n",
        "\n",
        "2.) **Spam Filtering:** Determining whether an email is spam based on its content.\n",
        "\n",
        "3.) **Machine Learning:** Powering algorithms like Naive Bayes classifiers for text classification and sentiment analysis.\n",
        "\n",
        "4.) **Weather Forecasting:** Updating weather predictions based on new data.\n",
        "\n",
        "5.) **Fraud Detection:** Calculating the probability of fraudulent transactions."
      ],
      "metadata": {
        "id": "4tUH2awx24JP"
      }
    },
    {
      "cell_type": "code",
      "source": [],
      "metadata": {
        "id": "RhgQEDnE3NUW"
      },
      "execution_count": null,
      "outputs": []
    },
    {
      "cell_type": "markdown",
      "source": [
        "Q4. What is the relationship between Bayes' theorem and conditional probability?"
      ],
      "metadata": {
        "id": "CWPZKOvG_1ow"
      }
    },
    {
      "cell_type": "markdown",
      "source": [
        "A4. Bayes' Theorem is derived from the definition of conditional probability. Conditional probability measures the probability of an event A occurring given that event B has occurred. Bayes' Theorem allows us to reverse this conditional probability, i.e., calculate P(B|A) using P(A|B).\n",
        "\n",
        "The formula for conditional probability:\n",
        "\n",
        "```P(A|B) = P(A ∩ B)/ P(B) ```\n",
        "\n",
        "Bayes' Theorem utilizes this to express\n",
        " P(B|A) in terms of P(A|B) , P(A) and\n",
        " P(B)."
      ],
      "metadata": {
        "id": "KsAZTeQX3acz"
      }
    },
    {
      "cell_type": "code",
      "source": [],
      "metadata": {
        "id": "K6yGcDK04M0P"
      },
      "execution_count": null,
      "outputs": []
    },
    {
      "cell_type": "markdown",
      "source": [
        "Q5. How do you choose which type of Naive Bayes classifier to use for any given problem?"
      ],
      "metadata": {
        "id": "E9kl1kFT_33W"
      }
    },
    {
      "cell_type": "markdown",
      "source": [
        "A5. Naive Bayes classifiers are chosen based on the nature of the dataset and the type of data distribution:\n",
        "\n",
        "1.) **Gaussian Naive Bayes:**\n",
        "\n",
        "Suitable for continuous data that follows a Gaussian (normal) distribution.\n",
        "\n",
        "Example: Predicting house prices based on continuous features like size and number of rooms.\n",
        "\n",
        "2.) **Multinomial Naive Bayes:**\n",
        "\n",
        "Suitable for discrete data like word counts in text classification problems.\n",
        "\n",
        "Example: Spam detection or sentiment analysis.\n",
        "\n",
        "3.) **Bernoulli Naive Bayes:**\n",
        "\n",
        "Suitable for binary data (0/1 or True/False features).\n",
        "\n",
        "Example: Predicting the presence or absence of keywords in documents.\n"
      ],
      "metadata": {
        "id": "NUR3n_yJ4NoP"
      }
    },
    {
      "cell_type": "code",
      "source": [],
      "metadata": {
        "id": "6aeu831-4iSN"
      },
      "execution_count": null,
      "outputs": []
    },
    {
      "cell_type": "markdown",
      "source": [
        "Q6. Assignment:\n",
        "You have a dataset with two features, X1 and X2, and two possible classes, A and B. You want to use Naive\n",
        "Bayes to classify a new instance with features X1 = 3 and X2 = 4. The following table shows the frequency of\n",
        "each feature value for each class:\n",
        "Class X1=1 X1=2 X1=3 X2=1 X2=2 X2=3 X2=4\n",
        "A 3 3 4 4 3 3 3\n",
        "B 2 2 1 2 2 2 3\n",
        "Assuming equal prior probabilities for each class, which class would Naive Bayes predict the new instance to belong to?"
      ],
      "metadata": {
        "id": "Mpy7vLQA_-Eh"
      }
    },
    {
      "cell_type": "markdown",
      "source": [
        "A6. Naive Bayes Classification Example\n",
        "\n",
        "Given Data:\n",
        "```\n",
        "Class, A , B\n",
        "\n",
        "X1=1, 3, 2\n",
        "\n",
        "X1=2, 3, 2\n",
        "\n",
        "X1=3, 4, 1\n",
        "\n",
        "X1=1, 4, 2\n",
        "\n",
        "X1=2, 3, 2\n",
        "\n",
        "X1=3, 3, 2\n",
        "\n",
        "X1=4, 3, 3\n",
        "```\n",
        "\n",
        "For X1 =3 and X2 = 4, we need to calulate P(A|X1 =3, X2=4) and P(B|X1= 3, X2=4).\n",
        "\n",
        "**Steps:**\n",
        "\n",
        "1.) **Compute Prior Probabilities:** Assume equal priors: P(A) = P(B) = 0.5.\n",
        "\n",
        "2.) ** Compute likelihoods for classA:\n",
        "```\n",
        "P(X1 = 3 | A) = [Frequency of X1 = 3 in A / Total occurences in A ] = 4/(3+3+4) = 0.4\n",
        "\n",
        "P(X2 = 4 | A) = [Frequency of X2 =4 in A] / Total occurences in A = 3 / (4+3+3+3) = 3/13 =\n",
        "```\n",
        "\n",
        "**For Class B:**\n",
        "```\n",
        "P(X1 = 3 | B) = [Frequency of X1 = 3 in B / Total occurences in B ] = 4/(3+3+4) = 0.4\n",
        "\n",
        "P(X2 = 4 | B) = [Frequency of X2 =4 in B] / Total occurences in B = 3 / (4+3+3+3) = 3/13 = 0.230\n",
        "```\n",
        "\n",
        "3.) **Compute Posteriors Using Bayes' Theorem:**\n",
        "\n",
        "\n",
        "**For classA:**\n",
        "```\n",
        "P(A | X1=3,X2=4) ∝ P(X1=3|A) * P(X2=4|A) * P(A) = 0.\n",
        "```\n",
        "\n",
        "**For class B:**\n",
        "```\n",
        "P(B | X1=3,X2=4) ∝ P(X1=3|B) * P(X2=4|B) * P(B) = 0.\n",
        "\n",
        "```\n",
        "\n",
        "4. **Normalize:**\n",
        "\n",
        "```\n",
        "P(A | X1=3,X2=4) = 0.046 / (0.046 + 0.033) = 0.58\n",
        "\n",
        "P(B | X1=3,X2=4) = 0.033 / (0.046 + 0.033) = 0.42\n",
        "```\n",
        "\n",
        "# Prediction:\n",
        "\n",
        "Since P(A | X1=3,X2=4) > P(B | X1=3,X2=4) , the model predicts **class A**.\n"
      ],
      "metadata": {
        "id": "SEpFbVR74n3a"
      }
    },
    {
      "cell_type": "code",
      "source": [],
      "metadata": {
        "id": "vi0JgYzY-tbf"
      },
      "execution_count": null,
      "outputs": []
    },
    {
      "cell_type": "code",
      "source": [],
      "metadata": {
        "id": "wImDw6h6AMk_"
      },
      "execution_count": null,
      "outputs": []
    }
  ]
}