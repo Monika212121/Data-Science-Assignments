{
  "nbformat": 4,
  "nbformat_minor": 0,
  "metadata": {
    "colab": {
      "provenance": []
    },
    "kernelspec": {
      "name": "python3",
      "display_name": "Python 3"
    },
    "language_info": {
      "name": "python"
    }
  },
  "cells": [
    {
      "cell_type": "markdown",
      "source": [
        "Module55: Feature Engineering - 4 Assignment"
      ],
      "metadata": {
        "id": "6fGI8q3-BjDx"
      }
    },
    {
      "cell_type": "markdown",
      "source": [
        "Q1. What is data encoding? How is it useful in data science?"
      ],
      "metadata": {
        "id": "Uw6Ow740Bjic"
      }
    },
    {
      "cell_type": "markdown",
      "source": [
        "A1: Data encoding is the process of converting categorical data (non-numerical data) into a numerical format that can be used by machine learning algorithms. Most machine learning models require numerical input, and encoding ensures that the categorical variables are appropriately represented.\n",
        "\n",
        "Utility in Data Science:\n",
        "\n",
        "1. Converts qualitative information into a machine-readable format.\n",
        "\n",
        "2. Helps preserve relationships or hierarchy in categorical data (if applicable).\n",
        "\n",
        "3. Facilitates model training by representing categories numerically."
      ],
      "metadata": {
        "id": "FsRESiR_CJ6Z"
      }
    },
    {
      "cell_type": "code",
      "source": [],
      "metadata": {
        "id": "ggNwtC8WCKIP"
      },
      "execution_count": null,
      "outputs": []
    },
    {
      "cell_type": "markdown",
      "source": [
        "Q2. What is nominal encoding? Provide an example of how you would use it in a real-world scenario."
      ],
      "metadata": {
        "id": "bZViStkQBjlJ"
      }
    },
    {
      "cell_type": "markdown",
      "source": [
        "A2: Nominal encoding assigns a unique numerical value to each category of a feature without implying any order or hierarchy. It's also referred to as label encoding.\n",
        "\n",
        "Example: Consider a dataset with a feature \"City\" containing values: [\"New York\", \"Los Angeles\", \"Chicago\"].\n",
        "\n",
        "Using nominal encoding:\n",
        "\"New York\" → 0 ,\n",
        "\"Los Angeles\" → 1 ,\n",
        "\"Chicago\" → 2\n",
        "\n",
        "Real-world Scenario: In a customer segmentation project, if \"City\" is a feature and you do not want to use one-hot encoding (to save space or for a tree-based model), you can use nominal encoding.\n"
      ],
      "metadata": {
        "id": "DUQyXQthCKyp"
      }
    },
    {
      "cell_type": "code",
      "source": [],
      "metadata": {
        "id": "JKALxsAWCK_D"
      },
      "execution_count": null,
      "outputs": []
    },
    {
      "cell_type": "markdown",
      "source": [
        "Q3. In what situations is nominal encoding preferred over one-hot encoding? Provide a practical example."
      ],
      "metadata": {
        "id": "rvwKehi2BjoX"
      }
    },
    {
      "cell_type": "markdown",
      "source": [
        "A3: Nominal encoding is preferred when:\n",
        "\n",
        "1. The dataset is large, and one-hot encoding would lead to a significant increase in dimensionality.\n",
        "\n",
        "2. The machine learning model can inherently handle categorical features numerically (e.g., tree-based models like Random Forest and XGBoost).\n",
        "\n",
        "3. The categorical variable has many unique values, making one-hot encoding inefficient.\n",
        "\n",
        "\n",
        "Example: In a dataset containing 1000 unique product IDs, using one-hot encoding would create 1000 additional columns, making it computationally expensive. Using nominal encoding assigns a unique numerical value (e.g., Product A → 0, Product B → 1), reducing dimensionality.\n",
        "\n"
      ],
      "metadata": {
        "id": "Ir7f3kkrCLuq"
      }
    },
    {
      "cell_type": "code",
      "source": [],
      "metadata": {
        "id": "XtEPcnTaCL7S"
      },
      "execution_count": null,
      "outputs": []
    },
    {
      "cell_type": "markdown",
      "source": [
        "Q4. Suppose you have a dataset containing categorical data with 5 unique values. Which encoding\n",
        "technique would you use to transform this data into a format suitable for machine learning algorithms?\n",
        "Explain why you made this choice."
      ],
      "metadata": {
        "id": "0APzjCOmBjq3"
      }
    },
    {
      "cell_type": "markdown",
      "source": [
        "A4: The choice of encoding depends on the model and the nature of the data:\n",
        "\n",
        "1. One-Hot Encoding:\n",
        "\n",
        "A.) Preferred if the 5 unique values have no ordinal relationship.\n",
        "\n",
        "B.) Example: Colors (e.g., \"Red,\" \"Blue,\" \"Green\").\n",
        "\n",
        "C.) It ensures that no unintended ordinal relationship is introduced.\n",
        "\n",
        "\n",
        "2. Nominal Encoding:\n",
        "\n",
        "A.) Preferred if the dataset is large or the categorical feature will be used with a tree-based model.\n",
        "\n",
        "B.) Example: User IDs in a recommender system.\n",
        "For general purposes, one-hot encoding is typically used unless computational efficiency or the model dictates otherwise.\n"
      ],
      "metadata": {
        "id": "EdvSPGiFCMqC"
      }
    },
    {
      "cell_type": "code",
      "source": [],
      "metadata": {
        "id": "BtJ0iRCXCM2B"
      },
      "execution_count": null,
      "outputs": []
    },
    {
      "cell_type": "markdown",
      "source": [
        "Q5. In a machine learning project, you have a dataset with 1000 rows and 5 columns. Two of the columns\n",
        "are categorical, and the remaining three columns are numerical. If you were to use nominal encoding to\n",
        "transform the categorical data, how many new columns would be created? Show your calculations."
      ],
      "metadata": {
        "id": "7P3eEEB6Bjto"
      }
    },
    {
      "cell_type": "markdown",
      "source": [
        "A5: These are the following steps:-\n",
        "\n",
        "1. Using nominal encoding:\n",
        "Each categorical column is replaced with a single\n",
        "column containing numerical values corresponding to categories.\n",
        "\n",
        "\n",
        "2. If both categorical columns are encoded, no additional columns are created.\n",
        "Original columns: 5\n",
        "New columns after nominal encoding: 5 (same as before)."
      ],
      "metadata": {
        "id": "7az7BkCGCOFZ"
      }
    },
    {
      "cell_type": "code",
      "source": [],
      "metadata": {
        "id": "gKiIaVbECOS9"
      },
      "execution_count": null,
      "outputs": []
    },
    {
      "cell_type": "markdown",
      "source": [
        "Q6. You are working with a dataset containing information about different types of animals, including their\n",
        "species, habitat, and diet. Which encoding technique would you use to transform the categorical data into\n",
        "a format suitable for machine learning algorithms? Justify your answer."
      ],
      "metadata": {
        "id": "8R0219R-Bjwc"
      }
    },
    {
      "cell_type": "markdown",
      "source": [
        "A6: Recommended Encoding Technique:\n",
        "\n",
        "1. One-Hot Encoding:\n",
        "\n",
        "a.) Suitable for non-ordinal features like \"species\" (e.g., dog, cat, bird), \"habitat\" (e.g., forest, desert), and \"diet\" (e.g., carnivore, herbivore).\n",
        "\n",
        "b.) Preserves independence between categories.\n",
        "\n",
        "2. Justification:\n",
        "\n",
        "a.) The categories have no ordinal relationship, so one-hot encoding ensures no hierarchy or ordering is implied.\n",
        "\n",
        "b.) Algorithms like logistic regression and neural networks benefit from one-hot encoding."
      ],
      "metadata": {
        "id": "a97REtPdCPSh"
      }
    },
    {
      "cell_type": "code",
      "source": [],
      "metadata": {
        "id": "jwmADPCmCPfX"
      },
      "execution_count": null,
      "outputs": []
    },
    {
      "cell_type": "markdown",
      "source": [
        "Q7.You are working on a project that involves predicting customer churn for a telecommunications\n",
        "company. You have a dataset with 5 features, including the customer's gender, age, contract type,\n",
        "monthly charges, and tenure. Which encoding technique(s) would you use to transform the categorical\n",
        "data into numerical data? Provide a step-by-step explanation of how you would implement the encoding."
      ],
      "metadata": {
        "id": "by4wH_z1Bjy_"
      }
    },
    {
      "cell_type": "markdown",
      "source": [
        "A7: Categorical Features:\n",
        "\n",
        "1. Gender (e.g., Male, Female):\n",
        "Use label encoding or binary encoding.\n",
        "Male → 0, Female → 1 (binary).\n",
        "\n",
        "2. Contract Type (e.g., Month-to-Month, One Year, Two Year): Use one-hot encoding to represent each type as a separate column. Month-to-Month → [1, 0, 0], One Year → [0, 1, 0], Two Year → [0, 0, 1].\n",
        "\n",
        "Steps:\n",
        "\n",
        "1. Identify the categorical columns (\"Gender\" and \"Contract Type\").\n",
        "\n",
        "2. Apply label encoding to \"Gender.\"\n",
        "\n",
        "3. Apply one-hot encoding to \"Contract Type.\"\n",
        "\n",
        "4. Combine the encoded categorical data with the numerical columns (\"Age,\" \"Monthly Charges,\" \"Tenure\").\n"
      ],
      "metadata": {
        "id": "eJlHsDBFBj1y"
      }
    },
    {
      "cell_type": "code",
      "source": [],
      "metadata": {
        "id": "XHvNN7VsB6Bv"
      },
      "execution_count": null,
      "outputs": []
    }
  ]
}