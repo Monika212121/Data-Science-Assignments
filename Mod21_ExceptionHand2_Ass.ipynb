{
  "nbformat": 4,
  "nbformat_minor": 0,
  "metadata": {
    "colab": {
      "provenance": []
    },
    "kernelspec": {
      "name": "python3",
      "display_name": "Python 3"
    },
    "language_info": {
      "name": "python"
    }
  },
  "cells": [
    {
      "cell_type": "markdown",
      "source": [
        "# Module21 Exception Handling 2 Assignment"
      ],
      "metadata": {
        "id": "SfhIc9q_i7sH"
      }
    },
    {
      "cell_type": "markdown",
      "source": [
        "Q1. Explain why we have to use the Exception class while creating a Custom Exception.\n",
        "Note: Here Exception class refers to the base class for all the exceptions."
      ],
      "metadata": {
        "id": "r5gQm8Std3IL"
      }
    },
    {
      "cell_type": "markdown",
      "source": [
        "A1. **Reason to Inherit from the Exception Class:**\n",
        "\n",
        "When you create a custom exception in Python, you should inherit from the built-in Exception class because:\n",
        "\n",
        "1.) **Consistency:** It follows Python’s standard exception framework, allowing your custom exception to behave like built-in exceptions.\n",
        "\n",
        "2.) **Traceback Information:** Inheriting from Exception enables the interpreter to produce a detailed traceback when the error occurs.\n",
        "\n",
        "3.) **Error Handling Compatibility:** Custom exceptions can be caught using generic except Exception: blocks, making your error-handling more versatile.\n",
        "\n",
        "4.) **Extendability:** You can add custom logic (e.g., custom messages, logging) to your exceptions by overriding the __init__() method."
      ],
      "metadata": {
        "id": "_U_t28oVgFGQ"
      }
    },
    {
      "cell_type": "code",
      "source": [
        "#  Example (Custom Exception Inheriting from Exception Class):\n",
        "\n",
        "class InvalidAgeError(Exception):\n",
        "    def __init__(self, age):\n",
        "        super().__init__(f\"Invalid age: {age}. Age must be 18 or above.\")\n",
        "\n",
        "def check_age(age):\n",
        "    if age < 18:\n",
        "        raise InvalidAgeError(age)\n",
        "\n",
        "try:\n",
        "    check_age(16)\n",
        "except InvalidAgeError as e:\n",
        "    print(\"Caught Exception:\", e)\n"
      ],
      "metadata": {
        "colab": {
          "base_uri": "https://localhost:8080/"
        },
        "id": "bUgkX_xZgVRE",
        "outputId": "f4fe7ab1-c239-47fa-b640-86872925d432"
      },
      "execution_count": 1,
      "outputs": [
        {
          "output_type": "stream",
          "name": "stdout",
          "text": [
            "Caught Exception: Invalid age: 16. Age must be 18 or above.\n"
          ]
        }
      ]
    },
    {
      "cell_type": "code",
      "execution_count": null,
      "metadata": {
        "id": "DT_qt0wXdnf5"
      },
      "outputs": [],
      "source": []
    },
    {
      "cell_type": "markdown",
      "source": [
        "Q2. Write a python program to print Python Exception Hierarchy."
      ],
      "metadata": {
        "id": "PhL8tfpZd5Rt"
      }
    },
    {
      "cell_type": "markdown",
      "source": [
        "A2. Python organizes its exceptions in a hierarchical structure, where the BaseException class is the ancestor of all exceptions."
      ],
      "metadata": {
        "id": "ztJLcqR4gb-A"
      }
    },
    {
      "cell_type": "code",
      "source": [
        "# Python Code to Display Exception Hierarchy:\n",
        "\n",
        "import sys\n",
        "import inspect\n",
        "\n",
        "# Function to print exception hierarchy\n",
        "def print_exception_hierarchy():\n",
        "    for name, obj in inspect.getmembers(sys.modules[\"builtins\"], inspect.isclass):\n",
        "        if issubclass(obj, BaseException):\n",
        "            print(obj.__name__)\n",
        "\n",
        "print_exception_hierarchy()\n"
      ],
      "metadata": {
        "colab": {
          "base_uri": "https://localhost:8080/"
        },
        "id": "Mi4DQzjhgeXM",
        "outputId": "c5ec1b26-57fe-41c4-f3b8-1ba8b8b523e5"
      },
      "execution_count": 2,
      "outputs": [
        {
          "output_type": "stream",
          "name": "stdout",
          "text": [
            "ArithmeticError\n",
            "AssertionError\n",
            "AttributeError\n",
            "BaseException\n",
            "BaseExceptionGroup\n",
            "BlockingIOError\n",
            "BrokenPipeError\n",
            "BufferError\n",
            "BytesWarning\n",
            "ChildProcessError\n",
            "ConnectionAbortedError\n",
            "ConnectionError\n",
            "ConnectionRefusedError\n",
            "ConnectionResetError\n",
            "DeprecationWarning\n",
            "EOFError\n",
            "EncodingWarning\n",
            "OSError\n",
            "Exception\n",
            "ExceptionGroup\n",
            "FileExistsError\n",
            "FileNotFoundError\n",
            "FloatingPointError\n",
            "FutureWarning\n",
            "GeneratorExit\n",
            "OSError\n",
            "ImportError\n",
            "ImportWarning\n",
            "IndentationError\n",
            "IndexError\n",
            "InterruptedError\n",
            "IsADirectoryError\n",
            "KeyError\n",
            "KeyboardInterrupt\n",
            "LookupError\n",
            "MemoryError\n",
            "ModuleNotFoundError\n",
            "NameError\n",
            "NotADirectoryError\n",
            "NotImplementedError\n",
            "OSError\n",
            "OverflowError\n",
            "PendingDeprecationWarning\n",
            "PermissionError\n",
            "ProcessLookupError\n",
            "RecursionError\n",
            "ReferenceError\n",
            "ResourceWarning\n",
            "RuntimeError\n",
            "RuntimeWarning\n",
            "StopAsyncIteration\n",
            "StopIteration\n",
            "SyntaxError\n",
            "SyntaxWarning\n",
            "SystemError\n",
            "SystemExit\n",
            "TabError\n",
            "TimeoutError\n",
            "TypeError\n",
            "UnboundLocalError\n",
            "UnicodeDecodeError\n",
            "UnicodeEncodeError\n",
            "UnicodeError\n",
            "UnicodeTranslateError\n",
            "UnicodeWarning\n",
            "UserWarning\n",
            "ValueError\n",
            "Warning\n",
            "ZeroDivisionError\n"
          ]
        }
      ]
    },
    {
      "cell_type": "code",
      "source": [],
      "metadata": {
        "id": "NTa5a5V5d5nA"
      },
      "execution_count": null,
      "outputs": []
    },
    {
      "cell_type": "markdown",
      "source": [
        "Q3. What errors are defined in the ArithmeticError class? Explain any two with an example."
      ],
      "metadata": {
        "id": "GadxPcw4d7BB"
      }
    },
    {
      "cell_type": "markdown",
      "source": [
        "A3. ArithmeticError is the base class for all arithmetic-related exceptions. Common subclasses include:\n",
        "\n",
        "1.) **ZeroDivisionError:** Raised when dividing by zero.\n",
        "\n",
        "2.) **OverflowError:** Raised when a numerical calculation exceeds the maximum value.\n",
        "\n",
        "3.) **FloatingPointError:** Raised for floating-point arithmetic errors (rare in Python).\n",
        "\n"
      ],
      "metadata": {
        "id": "igyp3HFLgqBP"
      }
    },
    {
      "cell_type": "code",
      "source": [
        "# Example 1: ZeroDivisionError\n",
        "\n",
        "try:\n",
        "    result = 10 / 0\n",
        "except ZeroDivisionError as e:\n",
        "    print(\"Error:\", e)\n"
      ],
      "metadata": {
        "colab": {
          "base_uri": "https://localhost:8080/"
        },
        "id": "N5KOB9Evg2sC",
        "outputId": "8bce7049-f989-4664-eeb3-f4300ea04fc2"
      },
      "execution_count": 3,
      "outputs": [
        {
          "output_type": "stream",
          "name": "stdout",
          "text": [
            "Error: division by zero\n"
          ]
        }
      ]
    },
    {
      "cell_type": "code",
      "source": [
        "#  Example 2: OverflowError\n",
        "\n",
        "import math\n",
        "\n",
        "try:\n",
        "    print(math.exp(1000))  # Exceeds max float value\n",
        "except OverflowError as e:\n",
        "    print(\"Error:\", e)\n"
      ],
      "metadata": {
        "colab": {
          "base_uri": "https://localhost:8080/"
        },
        "id": "BvWh_eUig8ZB",
        "outputId": "6e11459a-81f5-41e7-8598-12e5b2abfd3f"
      },
      "execution_count": 4,
      "outputs": [
        {
          "output_type": "stream",
          "name": "stdout",
          "text": [
            "Error: math range error\n"
          ]
        }
      ]
    },
    {
      "cell_type": "code",
      "source": [],
      "metadata": {
        "id": "7x-UIpbYd7ZA"
      },
      "execution_count": null,
      "outputs": []
    },
    {
      "cell_type": "markdown",
      "source": [
        "Q4. Why LookupError class is used? Explain with an example KeyError and IndexError."
      ],
      "metadata": {
        "id": "ycmx-kRpd82p"
      }
    },
    {
      "cell_type": "markdown",
      "source": [
        "A4. **LookupError** is the base class for errors that occur when a key or index is not found in a sequence (like lists, dictionaries, etc.).\n",
        "\n",
        "### Example 1: KeyError\n",
        "Raised when trying to access a non-existent key in a dictionary."
      ],
      "metadata": {
        "id": "rreC9Lv6hFHk"
      }
    },
    {
      "cell_type": "code",
      "source": [
        "my_dict = {\"name\": \"Monika\"}\n",
        "\n",
        "try:\n",
        "    print(my_dict[\"age\"])\n",
        "except KeyError as e:\n",
        "    print(\"Error: Key not found -\", e)\n"
      ],
      "metadata": {
        "colab": {
          "base_uri": "https://localhost:8080/"
        },
        "id": "Un88dLEphQTs",
        "outputId": "05ff4cc3-1035-422a-b3f4-cd17f265dbcb"
      },
      "execution_count": 5,
      "outputs": [
        {
          "output_type": "stream",
          "name": "stdout",
          "text": [
            "Error: Key not found - 'age'\n"
          ]
        }
      ]
    },
    {
      "cell_type": "markdown",
      "source": [
        "### Example 2: IndexError\n",
        "Raised when trying to access an out-of-range index in a list."
      ],
      "metadata": {
        "id": "r99l_li4hT00"
      }
    },
    {
      "cell_type": "code",
      "source": [
        "my_list = [1, 2, 3]\n",
        "\n",
        "try:\n",
        "    print(my_list[5])\n",
        "except IndexError as e:\n",
        "    print(\"Error: Index out of range -\", e)\n"
      ],
      "metadata": {
        "colab": {
          "base_uri": "https://localhost:8080/"
        },
        "id": "l3ZtiLqAhWtV",
        "outputId": "57d7cfe7-00aa-4176-9429-f05b4c1dc9a9"
      },
      "execution_count": 6,
      "outputs": [
        {
          "output_type": "stream",
          "name": "stdout",
          "text": [
            "Error: Index out of range - list index out of range\n"
          ]
        }
      ]
    },
    {
      "cell_type": "code",
      "source": [],
      "metadata": {
        "id": "CWzZGAyFd9Eo"
      },
      "execution_count": null,
      "outputs": []
    },
    {
      "cell_type": "markdown",
      "source": [
        "Q5. Explain ImportError. What is ModuleNotFoundError?"
      ],
      "metadata": {
        "id": "_hPKp2sPd-nb"
      }
    },
    {
      "cell_type": "markdown",
      "source": [
        "A5.\n",
        "\n",
        "### 1.) ImportError:\n",
        "Occurs when a Python module or package cannot be imported."
      ],
      "metadata": {
        "id": "IojR-0oZhb1d"
      }
    },
    {
      "cell_type": "code",
      "source": [
        "# Example\n",
        "\n",
        "try:\n",
        "    import non_existent_module\n",
        "except ImportError as e:\n",
        "    print(\"Error:\", e)\n"
      ],
      "metadata": {
        "colab": {
          "base_uri": "https://localhost:8080/"
        },
        "id": "rPngagl_hixS",
        "outputId": "103b07f5-9c45-4467-dd4c-7cb88e80c490"
      },
      "execution_count": 7,
      "outputs": [
        {
          "output_type": "stream",
          "name": "stdout",
          "text": [
            "Error: No module named 'non_existent_module'\n"
          ]
        }
      ]
    },
    {
      "cell_type": "markdown",
      "source": [
        "### 2.) ModuleNotFoundError:\n",
        "A subclass of ImportError, introduced in Python 3.6+, specifically when a module cannot be found."
      ],
      "metadata": {
        "id": "f5CVhgJ3hoGd"
      }
    },
    {
      "cell_type": "code",
      "source": [
        "# Example\n",
        "\n",
        "try:\n",
        "    import imaginary_module\n",
        "except ModuleNotFoundError as e:\n",
        "    print(\"Error:\", e)\n"
      ],
      "metadata": {
        "colab": {
          "base_uri": "https://localhost:8080/"
        },
        "id": "FfLTJnfkhswA",
        "outputId": "637a32af-e0bb-4f20-e890-6f12b6d9ee4b"
      },
      "execution_count": 8,
      "outputs": [
        {
          "output_type": "stream",
          "name": "stdout",
          "text": [
            "Error: No module named 'imaginary_module'\n"
          ]
        }
      ]
    },
    {
      "cell_type": "code",
      "source": [],
      "metadata": {
        "id": "XkS05URtd-5_"
      },
      "execution_count": null,
      "outputs": []
    },
    {
      "cell_type": "markdown",
      "source": [
        "Q6. List down some best practices for exception handling in python."
      ],
      "metadata": {
        "id": "_pz2Yg9FeAL_"
      }
    },
    {
      "cell_type": "markdown",
      "source": [
        "A6. Best Practices for Exception Handling in Python are -\n",
        "\n",
        "1.) **Use Specific Exceptions:**\n",
        "Catch specific exceptions rather than using a generic Exception to improve error traceability."
      ],
      "metadata": {
        "id": "Y2nWKP1phxsO"
      }
    },
    {
      "cell_type": "code",
      "source": [
        "try:\n",
        "    value = 10 / 0\n",
        "except ZeroDivisionError:\n",
        "    print(\"Cannot divide by zero!\")\n"
      ],
      "metadata": {
        "id": "7nIdKDEfh2ff"
      },
      "execution_count": null,
      "outputs": []
    },
    {
      "cell_type": "markdown",
      "source": [
        "2.) **Avoid Bare except:**\n",
        "Always specify the exception type instead of using a bare except: to prevent catching unexpected errors."
      ],
      "metadata": {
        "id": "mZLo0GXnh5bG"
      }
    },
    {
      "cell_type": "code",
      "source": [
        "# Bad Practice:\n",
        "\n",
        "try:\n",
        "    result = 10 / 0\n",
        "except:\n",
        "    print(\"Something went wrong!\")  # Unclear error\n"
      ],
      "metadata": {
        "colab": {
          "base_uri": "https://localhost:8080/"
        },
        "id": "E8Uxs5TqiDtY",
        "outputId": "57594dd9-70f4-4eb5-8187-74afd38d391e"
      },
      "execution_count": 9,
      "outputs": [
        {
          "output_type": "stream",
          "name": "stdout",
          "text": [
            "Something went wrong!\n"
          ]
        }
      ]
    },
    {
      "cell_type": "code",
      "source": [
        "# Good Practice:\n",
        "\n",
        "try:\n",
        "    result = 10 / 0\n",
        "except ZeroDivisionError:\n",
        "    print(\"Division by zero error!\")\n"
      ],
      "metadata": {
        "colab": {
          "base_uri": "https://localhost:8080/"
        },
        "id": "njRlF5keeAmg",
        "outputId": "7fe59eb2-7359-4c12-b95b-12f57404863e"
      },
      "execution_count": 10,
      "outputs": [
        {
          "output_type": "stream",
          "name": "stdout",
          "text": [
            "Division by zero error!\n"
          ]
        }
      ]
    },
    {
      "cell_type": "markdown",
      "source": [
        "3.) **Use ```finally``` for Cleanup:**\n",
        "Use the finally block for resource cleanup (e.g., closing files or database connections)."
      ],
      "metadata": {
        "id": "UxpP5Qc6iN2L"
      }
    },
    {
      "cell_type": "code",
      "source": [
        "try:\n",
        "    file = open(\"data.txt\", \"r\")\n",
        "finally:\n",
        "    file.close()  # Always executes\n"
      ],
      "metadata": {
        "colab": {
          "base_uri": "https://localhost:8080/",
          "height": 349
        },
        "id": "VO4-bjR9eBkK",
        "outputId": "2b59fd11-9a0e-4118-fe88-abca83fdd7e3"
      },
      "execution_count": 11,
      "outputs": [
        {
          "output_type": "error",
          "ename": "NameError",
          "evalue": "name 'file' is not defined",
          "traceback": [
            "\u001b[0;31m---------------------------------------------------------------------------\u001b[0m",
            "\u001b[0;31mFileNotFoundError\u001b[0m                         Traceback (most recent call last)",
            "\u001b[0;32m<ipython-input-11-9f16c6f8e1e6>\u001b[0m in \u001b[0;36m<cell line: 0>\u001b[0;34m()\u001b[0m\n\u001b[1;32m      1\u001b[0m \u001b[0;32mtry\u001b[0m\u001b[0;34m:\u001b[0m\u001b[0;34m\u001b[0m\u001b[0;34m\u001b[0m\u001b[0m\n\u001b[0;32m----> 2\u001b[0;31m     \u001b[0mfile\u001b[0m \u001b[0;34m=\u001b[0m \u001b[0mopen\u001b[0m\u001b[0;34m(\u001b[0m\u001b[0;34m\"data.txt\"\u001b[0m\u001b[0;34m,\u001b[0m \u001b[0;34m\"r\"\u001b[0m\u001b[0;34m)\u001b[0m\u001b[0;34m\u001b[0m\u001b[0;34m\u001b[0m\u001b[0m\n\u001b[0m\u001b[1;32m      3\u001b[0m \u001b[0;32mfinally\u001b[0m\u001b[0;34m:\u001b[0m\u001b[0;34m\u001b[0m\u001b[0;34m\u001b[0m\u001b[0m\n",
            "\u001b[0;31mFileNotFoundError\u001b[0m: [Errno 2] No such file or directory: 'data.txt'",
            "\nDuring handling of the above exception, another exception occurred:\n",
            "\u001b[0;31mNameError\u001b[0m                                 Traceback (most recent call last)",
            "\u001b[0;32m<ipython-input-11-9f16c6f8e1e6>\u001b[0m in \u001b[0;36m<cell line: 0>\u001b[0;34m()\u001b[0m\n\u001b[1;32m      2\u001b[0m     \u001b[0mfile\u001b[0m \u001b[0;34m=\u001b[0m \u001b[0mopen\u001b[0m\u001b[0;34m(\u001b[0m\u001b[0;34m\"data.txt\"\u001b[0m\u001b[0;34m,\u001b[0m \u001b[0;34m\"r\"\u001b[0m\u001b[0;34m)\u001b[0m\u001b[0;34m\u001b[0m\u001b[0;34m\u001b[0m\u001b[0m\n\u001b[1;32m      3\u001b[0m \u001b[0;32mfinally\u001b[0m\u001b[0;34m:\u001b[0m\u001b[0;34m\u001b[0m\u001b[0;34m\u001b[0m\u001b[0m\n\u001b[0;32m----> 4\u001b[0;31m     \u001b[0mfile\u001b[0m\u001b[0;34m.\u001b[0m\u001b[0mclose\u001b[0m\u001b[0;34m(\u001b[0m\u001b[0;34m)\u001b[0m  \u001b[0;31m# Always executes\u001b[0m\u001b[0;34m\u001b[0m\u001b[0;34m\u001b[0m\u001b[0m\n\u001b[0m",
            "\u001b[0;31mNameError\u001b[0m: name 'file' is not defined"
          ]
        }
      ]
    },
    {
      "cell_type": "markdown",
      "source": [
        "4.) **Use with Statement for File Handling:**\n",
        "It ensures the file is automatically closed after use."
      ],
      "metadata": {
        "id": "__OLrAtliaNU"
      }
    },
    {
      "cell_type": "code",
      "source": [
        "with open(\"data.txt\", \"r\") as file:\n",
        "    content = file.read()\n"
      ],
      "metadata": {
        "colab": {
          "base_uri": "https://localhost:8080/",
          "height": 158
        },
        "id": "x_8q9LXwiUVI",
        "outputId": "5e17747e-c8f5-402e-a663-8747247e9129"
      },
      "execution_count": 12,
      "outputs": [
        {
          "output_type": "error",
          "ename": "FileNotFoundError",
          "evalue": "[Errno 2] No such file or directory: 'data.txt'",
          "traceback": [
            "\u001b[0;31m---------------------------------------------------------------------------\u001b[0m",
            "\u001b[0;31mFileNotFoundError\u001b[0m                         Traceback (most recent call last)",
            "\u001b[0;32m<ipython-input-12-9ecdc2a6de8b>\u001b[0m in \u001b[0;36m<cell line: 0>\u001b[0;34m()\u001b[0m\n\u001b[0;32m----> 1\u001b[0;31m \u001b[0;32mwith\u001b[0m \u001b[0mopen\u001b[0m\u001b[0;34m(\u001b[0m\u001b[0;34m\"data.txt\"\u001b[0m\u001b[0;34m,\u001b[0m \u001b[0;34m\"r\"\u001b[0m\u001b[0;34m)\u001b[0m \u001b[0;32mas\u001b[0m \u001b[0mfile\u001b[0m\u001b[0;34m:\u001b[0m\u001b[0;34m\u001b[0m\u001b[0;34m\u001b[0m\u001b[0m\n\u001b[0m\u001b[1;32m      2\u001b[0m     \u001b[0mcontent\u001b[0m \u001b[0;34m=\u001b[0m \u001b[0mfile\u001b[0m\u001b[0;34m.\u001b[0m\u001b[0mread\u001b[0m\u001b[0;34m(\u001b[0m\u001b[0;34m)\u001b[0m\u001b[0;34m\u001b[0m\u001b[0;34m\u001b[0m\u001b[0m\n",
            "\u001b[0;31mFileNotFoundError\u001b[0m: [Errno 2] No such file or directory: 'data.txt'"
          ]
        }
      ]
    },
    {
      "cell_type": "markdown",
      "source": [
        "5.) Raise Custom Exceptions:\n",
        "Use custom exceptions to clearly define application-specific errors.\n"
      ],
      "metadata": {
        "id": "aOQdlMHVijFj"
      }
    },
    {
      "cell_type": "code",
      "source": [
        "class InvalidAgeError(Exception):\n",
        "    pass\n",
        "\n",
        "def check_age(age):\n",
        "    if age < 18:\n",
        "        raise InvalidAgeError(\"Age must be 18 or above.\")\n"
      ],
      "metadata": {
        "id": "zFjgHVDJifmv"
      },
      "execution_count": 13,
      "outputs": []
    },
    {
      "cell_type": "markdown",
      "source": [
        "6.) Log Exceptions:\n",
        "Use the logging module to record exceptions for debugging."
      ],
      "metadata": {
        "id": "8GviH6qIiovK"
      }
    },
    {
      "cell_type": "code",
      "source": [
        "import logging\n",
        "\n",
        "try:\n",
        "    1 / 0\n",
        "except ZeroDivisionError as e:\n",
        "    logging.error(\"Error occurred: %s\", e)\n"
      ],
      "metadata": {
        "colab": {
          "base_uri": "https://localhost:8080/"
        },
        "id": "-TFp118wimqO",
        "outputId": "61592cf7-54e0-40ad-c4da-e6bb9cd8950b"
      },
      "execution_count": 14,
      "outputs": [
        {
          "output_type": "stream",
          "name": "stderr",
          "text": [
            "ERROR:root:Error occurred: division by zero\n"
          ]
        }
      ]
    },
    {
      "cell_type": "markdown",
      "source": [
        "7.) Use else Block:\n",
        "The else block runs if no exceptions are raised."
      ],
      "metadata": {
        "id": "BP65NJhEiuB3"
      }
    },
    {
      "cell_type": "code",
      "source": [
        "try:\n",
        "    num = int(input(\"Enter a number: \"))\n",
        "except ValueError:\n",
        "    print(\"Invalid input!\")\n",
        "else:\n",
        "    print(\"Valid number:\", num)\n"
      ],
      "metadata": {
        "colab": {
          "base_uri": "https://localhost:8080/"
        },
        "id": "OH-jCfDIirxH",
        "outputId": "3bd1b73b-98d6-4f9c-fe80-44ff441115a2"
      },
      "execution_count": 15,
      "outputs": [
        {
          "output_type": "stream",
          "name": "stdout",
          "text": [
            "Enter a number: 67\n",
            "Valid number: 67\n"
          ]
        }
      ]
    },
    {
      "cell_type": "markdown",
      "source": [
        "8.) Do Not Suppress Errors Silently:\n",
        "Always provide meaningful error messages."
      ],
      "metadata": {
        "id": "viQx1hMfi0ja"
      }
    },
    {
      "cell_type": "code",
      "source": [
        "try:\n",
        "    result = 10 / 0\n",
        "except ZeroDivisionError:\n",
        "    print(\"Cannot divide by zero!\")\n"
      ],
      "metadata": {
        "colab": {
          "base_uri": "https://localhost:8080/"
        },
        "id": "MQ4ONVH9iwaI",
        "outputId": "0e02ee7e-3c6c-4f88-854c-8714a3c7c64b"
      },
      "execution_count": 16,
      "outputs": [
        {
          "output_type": "stream",
          "name": "stdout",
          "text": [
            "Cannot divide by zero!\n"
          ]
        }
      ]
    },
    {
      "cell_type": "code",
      "source": [],
      "metadata": {
        "id": "DKAoQ4Wfi3Ai"
      },
      "execution_count": null,
      "outputs": []
    },
    {
      "cell_type": "code",
      "source": [],
      "metadata": {
        "id": "duw_vXHVi5xT"
      },
      "execution_count": null,
      "outputs": []
    }
  ]
}