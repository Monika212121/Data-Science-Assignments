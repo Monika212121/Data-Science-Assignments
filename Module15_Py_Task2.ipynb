{
  "nbformat": 4,
  "nbformat_minor": 0,
  "metadata": {
    "colab": {
      "provenance": []
    },
    "kernelspec": {
      "name": "python3",
      "display_name": "Python 3"
    },
    "language_info": {
      "name": "python"
    }
  },
  "cells": [
    {
      "cell_type": "markdown",
      "source": [
        "# Module15 Python Task 2"
      ],
      "metadata": {
        "id": "CSP67K_7AupP"
      }
    },
    {
      "cell_type": "markdown",
      "source": [
        "Q1. You are writing code for a company. The requirement of the company is that you create a python\n",
        "function that will check whether the password entered by the user is correct or not. The function should\n",
        "take the password as input and return the string “Valid Password” if the entered password follows the\n",
        "below-given password guidelines else it should return “Invalid Password”.\n",
        "Note:\n",
        "1. The Password should contain at least two uppercase letters and at least two lowercase letters.\n",
        "2. The Password should contain at least a number and three special characters.\n",
        "3. The length of the password should be 10 characters long."
      ],
      "metadata": {
        "id": "M7GTNli9AyJP"
      }
    },
    {
      "cell_type": "code",
      "source": [
        "# A1. Program to check validity of the Password.\n",
        "\n",
        "def ValidatePassword(password):\n",
        "  valid = False\n",
        "  lower_count=0\n",
        "  upper_count = 0\n",
        "  number_count = 0\n",
        "  special_count = 0\n",
        "\n",
        "  for i in password:\n",
        "    if i.islower():\n",
        "      lower_count +=1\n",
        "    elif i.isupper():\n",
        "      upper_count +=1\n",
        "    elif i.isnumeric():\n",
        "      number_count +=1\n",
        "    else:\n",
        "      special_count +=1\n",
        "\n",
        "  # conditions for valid password\n",
        "  if lower_count >=2 and upper_count >=2 and number_count >=1 and special_count >=3 and len(password) == 10:\n",
        "    valid = True\n",
        "  else:\n",
        "    valid = False\n",
        "\n",
        "  return valid\n",
        "\n",
        "\n",
        "# To print the validity of entered password\n",
        "password = input(\"Enter your password:\")\n",
        "if ValidatePassword(password):\n",
        "  print(\"Valid Password\")\n",
        "else:\n",
        "  print(\"Invalid Password\")"
      ],
      "metadata": {
        "colab": {
          "base_uri": "https://localhost:8080/"
        },
        "id": "iKn98Ck9AwCi",
        "outputId": "94e34395-caea-40d5-ca94-5872aaba79a8"
      },
      "execution_count": 2,
      "outputs": [
        {
          "output_type": "stream",
          "name": "stdout",
          "text": [
            "Enter your password:MonikA@#$1\n",
            "Valid Password\n"
          ]
        }
      ]
    },
    {
      "cell_type": "code",
      "source": [],
      "metadata": {
        "id": "Zs9J11zfAy44"
      },
      "execution_count": null,
      "outputs": []
    },
    {
      "cell_type": "markdown",
      "source": [
        "Q2. Solve the below-given questions using at least one of the following:\n",
        "1. Lambda function\n",
        "2. Filter function\n",
        "3. Map function\n",
        "4. List ComprehensioI\n",
        "\n",
        "1.) Check if the string starts with a particular letter.\n",
        "\n",
        "2.) Check if the string is numeric.\n",
        "\n",
        "3.) Sort a list of tuples having fruit names and their quantity. [(\"mango\",99),(\"orange\",80), (\"grapes\", 1000)]\n",
        "\n",
        "4.) Find the squares of numbers from 1 to 10.\n",
        "\n",
        "5.) Find the cube root of numbers from 1 to 10.\n",
        "\n",
        "6.) Check if a given number is even.\n",
        "\n",
        "7.) Filter odd numbers from the given list.\n",
        "[1,2,3,4,5,6,7,8,9,10]\n",
        "\n",
        "8.) Sort a list of integers into positive and negative integers lists.\n",
        "[1,2,3,4,5,6,-1,-2,-3,-4,-5,0]"
      ],
      "metadata": {
        "id": "DoTjKhYpAzpX"
      }
    },
    {
      "cell_type": "code",
      "source": [
        "# A2. I am solving all 8 questions one by one.\n",
        "\n",
        "# 1. Program to check if the string starts with a particular letter.\n",
        "\n",
        "str, letter = input(\"Enter the string and letter:\").split()\n",
        "\n",
        "checkForStartLetter = lambda str, letter : str[0].lower() == letter.lower()\n",
        "print(checkForStartLetter(str, letter))"
      ],
      "metadata": {
        "colab": {
          "base_uri": "https://localhost:8080/"
        },
        "id": "I4BEs-GPA1Tl",
        "outputId": "a0d481cb-aaf1-435a-9769-b3e0e3069063"
      },
      "execution_count": 14,
      "outputs": [
        {
          "output_type": "stream",
          "name": "stdout",
          "text": [
            "Enter the string and letter:cvd c\n",
            "True\n"
          ]
        }
      ]
    },
    {
      "cell_type": "code",
      "source": [],
      "metadata": {
        "id": "rkCPpe66A1DW"
      },
      "execution_count": null,
      "outputs": []
    },
    {
      "cell_type": "code",
      "source": [
        "# 2. Program to check if the string is numeric.\n",
        "\n",
        "str = input(\"Enter the string:\")\n",
        "\n",
        "checkForNumeric = lambda str1 : str1.isnumeric()\n",
        "print(checkForNumeric(str))"
      ],
      "metadata": {
        "colab": {
          "base_uri": "https://localhost:8080/"
        },
        "id": "PxNcMyuJR09h",
        "outputId": "0ac8dc5f-42de-4e11-b126-5604f69dd0fb"
      },
      "execution_count": 13,
      "outputs": [
        {
          "output_type": "stream",
          "name": "stdout",
          "text": [
            "Enter the string:abcd1\n",
            "False\n"
          ]
        }
      ]
    },
    {
      "cell_type": "code",
      "source": [],
      "metadata": {
        "id": "6S9Vn7WdSeqe"
      },
      "execution_count": null,
      "outputs": []
    },
    {
      "cell_type": "code",
      "source": [
        "# 3. Program to sort a list of tuples having fruit names and their quantity.\n",
        "\n",
        "fruit_list = [(\"mango\",99),(\"orange\",80), (\"grapes\", 1000)]\n",
        "\n",
        "fruit_list.sort(key = lambda x : x[1])\n",
        "print(fruit_list)"
      ],
      "metadata": {
        "colab": {
          "base_uri": "https://localhost:8080/"
        },
        "id": "a2aReMd3S2LU",
        "outputId": "7c9f3e17-2129-430b-ca60-b5296cd5b21b"
      },
      "execution_count": 15,
      "outputs": [
        {
          "output_type": "stream",
          "name": "stdout",
          "text": [
            "[('orange', 80), ('mango', 99), ('grapes', 1000)]\n"
          ]
        }
      ]
    },
    {
      "cell_type": "code",
      "source": [],
      "metadata": {
        "id": "KIkC-b9cTcKv"
      },
      "execution_count": 15,
      "outputs": []
    },
    {
      "cell_type": "code",
      "source": [
        "# 4. Program to find the sqaures of numbers from 1-10.\n",
        "\n",
        "squared_list = list(map(lambda num:num**2, list(range(1,11))))\n",
        "\n",
        "print(squared_list)"
      ],
      "metadata": {
        "colab": {
          "base_uri": "https://localhost:8080/"
        },
        "id": "mdgwXSDtTgGL",
        "outputId": "97eb28a0-0530-4e6a-f886-7a1ac68e8273"
      },
      "execution_count": 28,
      "outputs": [
        {
          "output_type": "stream",
          "name": "stdout",
          "text": [
            "[1, 4, 9, 16, 25, 36, 49, 64, 81, 100]\n"
          ]
        }
      ]
    },
    {
      "cell_type": "code",
      "source": [],
      "metadata": {
        "id": "JYx2EGrQTgC0"
      },
      "execution_count": null,
      "outputs": []
    },
    {
      "cell_type": "code",
      "source": [
        "# 5. Program to find the cube root of numbers from 1-10.\n",
        "\n",
        "cuberoot_list = [num**(1/3) for num in range(1,11)]\n",
        "\n",
        "print(cuberoot_list)"
      ],
      "metadata": {
        "colab": {
          "base_uri": "https://localhost:8080/"
        },
        "id": "dkJz4BLITgAJ",
        "outputId": "09ad9982-04f8-49b7-a216-3d4717f12cc1"
      },
      "execution_count": 19,
      "outputs": [
        {
          "output_type": "stream",
          "name": "stdout",
          "text": [
            "[1.0, 1.2599210498948732, 1.4422495703074083, 1.5874010519681994, 1.7099759466766968, 1.8171205928321397, 1.912931182772389, 2.0, 2.080083823051904, 2.154434690031884]\n"
          ]
        }
      ]
    },
    {
      "cell_type": "code",
      "source": [],
      "metadata": {
        "id": "kUppp7RzTf9f"
      },
      "execution_count": null,
      "outputs": []
    },
    {
      "cell_type": "code",
      "source": [
        "# 6. Program to check a given number is even.\n",
        "\n",
        "checkForEven = lambda num: num % 2 == 0\n",
        "\n",
        "number = int(input(\"Enter a number: \"))\n",
        "print(checkForEven(number))"
      ],
      "metadata": {
        "colab": {
          "base_uri": "https://localhost:8080/"
        },
        "id": "n3KwLgapTf68",
        "outputId": "6bc7c14f-d078-4376-9542-36e21f272597"
      },
      "execution_count": 22,
      "outputs": [
        {
          "output_type": "stream",
          "name": "stdout",
          "text": [
            "Enter a number: 222\n",
            "True\n"
          ]
        }
      ]
    },
    {
      "cell_type": "code",
      "source": [],
      "metadata": {
        "id": "Q6euxvdnTf4T"
      },
      "execution_count": null,
      "outputs": []
    },
    {
      "cell_type": "code",
      "source": [
        "# 7. Program to filter odd numbers from the given list.\n",
        "\n",
        "num_list = [1,2,3,4,5,6,7,8,9,10]\n",
        "\n",
        "odd_list = list(filter(lambda x : x%2 != 0, num_list))\n",
        "print(odd_list)"
      ],
      "metadata": {
        "colab": {
          "base_uri": "https://localhost:8080/"
        },
        "id": "7ATpZaYvVue4",
        "outputId": "228f5b1b-049f-40cd-8d79-7f43bbc8b04d"
      },
      "execution_count": 23,
      "outputs": [
        {
          "output_type": "stream",
          "name": "stdout",
          "text": [
            "[1, 3, 5, 7, 9]\n"
          ]
        }
      ]
    },
    {
      "cell_type": "code",
      "source": [],
      "metadata": {
        "id": "HGKQo83_Vubg"
      },
      "execution_count": null,
      "outputs": []
    },
    {
      "cell_type": "code",
      "source": [
        "# 8. Program to sort given list of integers into positive and negative integers lists.\n",
        "\n",
        "int_list = [1,2,3,4,5,6,-1,-2,-3,-4,-5,0]\n",
        "\n",
        "pos_list = list(filter(lambda x: x > 0, int_list) )\n",
        "neg_list = list(filter(lambda x: x < 0, int_list) )\n",
        "\n",
        "# sorting both the lists.\n",
        "pos_list.sort()\n",
        "neg_list.sort()\n",
        "\n",
        "print(\"Sorted positive numbers list: \", pos_list)\n",
        "print(\"Sorted negative numbers list: \", neg_list)"
      ],
      "metadata": {
        "colab": {
          "base_uri": "https://localhost:8080/"
        },
        "id": "nO4wxw6KTfhP",
        "outputId": "700b1747-35b3-47a7-9fd2-c62cf6ace2cb"
      },
      "execution_count": 27,
      "outputs": [
        {
          "output_type": "stream",
          "name": "stdout",
          "text": [
            "Sorted positive numbers list:  [1, 2, 3, 4, 5, 6]\n",
            "Sorted negative numbers list:  [-5, -4, -3, -2, -1]\n"
          ]
        }
      ]
    },
    {
      "cell_type": "code",
      "source": [],
      "metadata": {
        "id": "nI3FpiMfX1Xu"
      },
      "execution_count": null,
      "outputs": []
    }
  ]
}