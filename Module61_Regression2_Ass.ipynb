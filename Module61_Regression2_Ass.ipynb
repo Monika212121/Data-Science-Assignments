{
  "nbformat": 4,
  "nbformat_minor": 0,
  "metadata": {
    "colab": {
      "provenance": []
    },
    "kernelspec": {
      "name": "python3",
      "display_name": "Python 3"
    },
    "language_info": {
      "name": "python"
    }
  },
  "cells": [
    {
      "cell_type": "markdown",
      "source": [
        "# Module61 Regression2 Assignment"
      ],
      "metadata": {
        "id": "cn3geME2DpLk"
      }
    },
    {
      "cell_type": "markdown",
      "source": [
        "Q1. Explain the concept of R-squared in linear regression models. How is it calculated, and what does it\n",
        "represent?"
      ],
      "metadata": {
        "id": "aBQgNU8BDpOV"
      }
    },
    {
      "cell_type": "markdown",
      "source": [
        "A1. R-squared (coefficient of determination) measures how well the independent variables explain the variance in the dependent variable. It represents the proportion of the variance in the dependent variable that is predictable from the independent variables.\n",
        "\n",
        "**Formula:**\n",
        "\n",
        "`R^2 = 1 - (SSR/SST)`\n",
        "\n",
        "where, SSR = Sum of squared residuals (errors).\n",
        "\n",
        "SST = Total sum of squares (variance of the target variable).\n",
        "\n",
        "**Interpretation:**\n",
        "\n",
        "R^2 = 1: Perfect fit.\n",
        "\n",
        "𝑅^2 = 0: The model explains none of the variance.\n",
        "\n",
        "Negative 𝑅^2 : Poorer fit than a simple mean-based model.\n"
      ],
      "metadata": {
        "id": "VrxxdMZGDpQ-"
      }
    },
    {
      "cell_type": "code",
      "source": [],
      "metadata": {
        "id": "3KAL62iOEZDp"
      },
      "execution_count": null,
      "outputs": []
    },
    {
      "cell_type": "markdown",
      "source": [
        "Q2. Define adjusted R-squared and explain how it differs from the regular R-squared."
      ],
      "metadata": {
        "id": "dCsDyLNQDpW1"
      }
    },
    {
      "cell_type": "markdown",
      "source": [
        "A2. Adjusted R-squared adjusts the 𝑅^2 value to account for the number of predictors in the model. It penalizes for adding predictors that do not improve the model's fit.\n",
        "\n",
        "\n",
        "**Formula:**\n",
        "\n",
        "` Adjoint R^2 = 1 - [(1-R^2)*(N-1) / (N-K-1)]`\n",
        "\n",
        "where, N = Number of observation\n",
        "\n",
        "K = Number of Predictors\n",
        "\n",
        "\n",
        "**Difference:**\n",
        "\n",
        "R^2 can increase by simply adding more predictors, even if they are irrelevant.\n",
        "\n",
        "Adjusted 𝑅^2 increases only if the added predictor improves the model."
      ],
      "metadata": {
        "id": "09PIhCW5DpYo"
      }
    },
    {
      "cell_type": "code",
      "source": [],
      "metadata": {
        "id": "6HtRuOSDEWzL"
      },
      "execution_count": null,
      "outputs": []
    },
    {
      "cell_type": "markdown",
      "source": [
        "Q3. When is it more appropriate to use adjusted R-squared?"
      ],
      "metadata": {
        "id": "CajmSaCoDpbD"
      }
    },
    {
      "cell_type": "markdown",
      "source": [
        "A3. It is more appropratie to use Adjusted R-squared when:-\n",
        "\n",
        "1.) When comparing models with different numbers of predictors.\n",
        "\n",
        "2.) To penalize overfitting and ensure only relevant variables are included."
      ],
      "metadata": {
        "id": "RVJ2xvrVDpd2"
      }
    },
    {
      "cell_type": "code",
      "source": [],
      "metadata": {
        "id": "xMgRf0i0EViq"
      },
      "execution_count": null,
      "outputs": []
    },
    {
      "cell_type": "markdown",
      "source": [
        "Q4. What are RMSE, MSE, and MAE in the context of regression analysis? How are these metrics\n",
        "calculated, and what do they represent?"
      ],
      "metadata": {
        "id": "ci5YTZuBDpgj"
      }
    },
    {
      "cell_type": "markdown",
      "source": [
        "A4.\n",
        "\n",
        "**1. Mean Squared Error (MSE):** Represents the average squared error between predicted and actual values.\n",
        "\n",
        "`\\text{MSE} = \\frac{1}{n} \\sum_{i=1}^{n} (y_i - \\hat{y}_i)^2 ]`\n",
        "\n",
        "\n",
        "**2. Root Mean Squared Error (RMSE):** Provides the error in the same units as the target variable.\n",
        "\n",
        "`\\text{RMSE} = \\sqrt{\\text{MSE}} ]`\n",
        "\n",
        "\n",
        "**3. Mean Absolute Error (MAE):** Represents the average absolute difference between predicted and actual values.\n",
        "\n",
        "\n",
        "`\\text{MAE} = \\frac{1}{n} \\sum_{i=1}^{n} |y_i - \\hat{y}_i| ]`"
      ],
      "metadata": {
        "id": "VHf09kq3DpjS"
      }
    },
    {
      "cell_type": "code",
      "source": [],
      "metadata": {
        "id": "-K7GFsB3ETQc"
      },
      "execution_count": null,
      "outputs": []
    },
    {
      "cell_type": "markdown",
      "source": [
        "Q5. Discuss the advantages and disadvantages of using RMSE, MSE, and MAE as evaluation metrics in\n",
        "regression analysis."
      ],
      "metadata": {
        "id": "HStMKp8uDpmB"
      }
    },
    {
      "cell_type": "markdown",
      "source": [
        "A5. Advantages and disadvantages of using RMSE, MSE and MAE as evualation metrics in Regression Analysis are :-\n",
        "\n",
        "**1. MSE:**\n",
        "\n",
        "Advantages - Penalizes large errors more (useful for highlighting outliers).\n",
        "\n",
        "Disadvantages - Not intuitive due to squared units.\n",
        "\n",
        "**2. RMSE:**\n",
        "\n",
        "Advantages - Same units as target variable; easier interpretation.\n",
        "\n",
        "Disadvantages - Sensitive to outliers.\n",
        "\n",
        "**3. MAE:**\n",
        "\n",
        "Advantages - Robust to outliers; intuitive interpretation.\n",
        "\n",
        "Disadvantages - Treats all errors equally, may ignore the importance of larger errors."
      ],
      "metadata": {
        "id": "ik3KkjFnDpox"
      }
    },
    {
      "cell_type": "code",
      "source": [],
      "metadata": {
        "id": "2zH4kzTwERW_"
      },
      "execution_count": null,
      "outputs": []
    },
    {
      "cell_type": "markdown",
      "source": [
        "Q6. Explain the concept of Lasso regularization. How does it differ from Ridge regularization, and when is\n",
        "it more appropriate to use?"
      ],
      "metadata": {
        "id": "OFCIlPgYDpsC"
      }
    },
    {
      "cell_type": "markdown",
      "source": [
        "A6.\n",
        "# **Lasso Regularization:**\n",
        "\n",
        "Adds a penalty term proportional to the absolute values of coefficients:\n",
        "\n",
        "`L= MSE + λ *(j=1 to p ∑ ∣βj∣ ) `\n",
        "\n",
        "Shrinks some coefficients to exactly zero, effectively performing feature selection.\n",
        "\n",
        "# **Ridge Regularization:**\n",
        "Adds a penalty term proportional to the square of the coefficients\n",
        "\n",
        "`L= MSE + λ *(j=1 to p ∑ ∣βj∣^2 ) `\n",
        "\n",
        "Shrinks coefficients towards zero but never to exactly zero.\n",
        "\n",
        "# When to Use:\n",
        "1. Use Lasso when feature selection is needed.\n",
        "2. Use Ridge when all features are likely important but require regularization.\n"
      ],
      "metadata": {
        "id": "iWF9JgvRD-NB"
      }
    },
    {
      "cell_type": "code",
      "source": [],
      "metadata": {
        "id": "SIzsS-buEPbd"
      },
      "execution_count": null,
      "outputs": []
    },
    {
      "cell_type": "markdown",
      "source": [
        "Q7. How do regularized linear models help to prevent overfitting in machine learning? Provide an\n",
        "example to illustrate."
      ],
      "metadata": {
        "id": "fKqA1sZlD-QE"
      }
    },
    {
      "cell_type": "markdown",
      "source": [
        "A7. Regularization penalizes large coefficients, forcing the model to generalize better by reducing complexity.\n",
        "\n",
        "**Example:**\n",
        "\n",
        "Without regularization, a linear regression model might perfectly fit training data but perform poorly on unseen data. Ridge or Lasso regularization reduces overfitting by constraining the model."
      ],
      "metadata": {
        "id": "FEtw2Tj5D-Sz"
      }
    },
    {
      "cell_type": "code",
      "source": [],
      "metadata": {
        "id": "fLZre7qPEi1V"
      },
      "execution_count": null,
      "outputs": []
    },
    {
      "cell_type": "markdown",
      "source": [
        "Q8. Discuss the limitations of regularized linear models and explain why they may not always be the best\n",
        "choice for regression analysis."
      ],
      "metadata": {
        "id": "b41Kcle5D-Vm"
      }
    },
    {
      "cell_type": "markdown",
      "source": [
        "A8. The limitations and the scenarios where they are not best choice for Regression Analysis are :-\n",
        "\n",
        "# **Limitations:**\n",
        "\n",
        "1.) Can oversimplify the model, discarding relevant features (Lasso).\n",
        "\n",
        "2.) Struggle with non-linear relationships unless combined with feature transformations.\n",
        "\n",
        "3.) Require careful tuning of the regularization parameter λ.\n",
        "\n",
        "\n",
        "# Not Always Ideal:\n",
        "\n",
        "1.) For small datasets or datasets with irrelevant features.\n",
        "\n",
        "2.) When non-linear relationships dominate."
      ],
      "metadata": {
        "id": "ro63EA_-D-YV"
      }
    },
    {
      "cell_type": "code",
      "source": [],
      "metadata": {
        "id": "UPPUBCpyEMuJ"
      },
      "execution_count": null,
      "outputs": []
    },
    {
      "cell_type": "markdown",
      "source": [
        "Q9. You are comparing the performance of two regression models using different evaluation metrics.\n",
        "Model A has an RMSE of 10, while Model B has an MAE of 8. Which model would you choose as the better\n",
        "performer, and why? Are there any limitations to your choice of metric?"
      ],
      "metadata": {
        "id": "OGm7PrklD-bD"
      }
    },
    {
      "cell_type": "markdown",
      "source": [
        "A9. Comparision of Model A and Model B :-  \n",
        "\n",
        "# Better Model:\n",
        "\n",
        "**Depends on the context:**\n",
        "\n",
        "1.) Use RMSE if large errors are critical.\n",
        "\n",
        "2.) Use MAE if outliers are not significant.\n",
        "\n",
        "\n",
        "# Limitations:\n",
        "\n",
        "RMSE and MAE are not directly comparable because they measure different aspects of error."
      ],
      "metadata": {
        "id": "mDFX1KsPD-d0"
      }
    },
    {
      "cell_type": "code",
      "source": [],
      "metadata": {
        "id": "-NUkS2GeEKxk"
      },
      "execution_count": null,
      "outputs": []
    },
    {
      "cell_type": "markdown",
      "source": [
        "Q10. You are comparing the performance of two regularized linear models using different types of\n",
        "regularization. Model A uses Ridge regularization with a regularization parameter of 0.1, while Model B\n",
        "uses Lasso regularization with a regularization parameter of 0.5. Which model would you choose as the\n",
        "better performer, and why? Are there any trade-offs or limitations to your choice of regularization\n",
        "method?"
      ],
      "metadata": {
        "id": "fDObCeuAD-hQ"
      }
    },
    {
      "cell_type": "markdown",
      "source": [
        "A10.\n",
        "\n",
        "# Better Model:\n",
        "\n",
        "1.) Ridge is better when all features are important but require regularization.\n",
        "\n",
        "2.) Lasso is better if feature selection is critical.\n",
        "\n",
        "\n",
        "#Trade-Offs:\n",
        "\n",
        "1.) Ridge retains all features but may overfit to noisy ones.\n",
        "\n",
        "2.) Lasso may discard some features, leading to simpler but less informative models.\n",
        "\n",
        "**Evaluate models using metrics like RMSE or cross-validation scores.**"
      ],
      "metadata": {
        "id": "mhCi8YhaEJUX"
      }
    },
    {
      "cell_type": "code",
      "source": [],
      "metadata": {
        "id": "C4u5Mi8LEJpr"
      },
      "execution_count": null,
      "outputs": []
    }
  ]
}