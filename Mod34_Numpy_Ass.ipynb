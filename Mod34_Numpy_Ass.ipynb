{
  "nbformat": 4,
  "nbformat_minor": 0,
  "metadata": {
    "colab": {
      "provenance": []
    },
    "kernelspec": {
      "name": "python3",
      "display_name": "Python 3"
    },
    "language_info": {
      "name": "python"
    }
  },
  "cells": [
    {
      "cell_type": "markdown",
      "source": [
        "# Module34 Numpy Assignment"
      ],
      "metadata": {
        "id": "H2IyO3wcNTez"
      }
    },
    {
      "cell_type": "markdown",
      "source": [
        "Consider the below code to answer further questions:\n",
        "```\n",
        "import numpy as np\n",
        "list_ = [ ‘1’ , ’2’ , ‘3’ , ‘4’ , ‘5’ ]\n",
        "array_list = np.array(object = list_)\n",
        "\n",
        "```"
      ],
      "metadata": {
        "id": "sNEPlxbXNagC"
      }
    },
    {
      "cell_type": "markdown",
      "source": [
        "Q1. Is there any difference in the data type of variables list_ and array_list? If there is then write a code to print the data types of both the variables."
      ],
      "metadata": {
        "id": "_dxoD-UFNgZD"
      }
    },
    {
      "cell_type": "markdown",
      "source": [
        "A1. Yes, there is a difference. ```list_``` is a Python list, while ```array_list``` is a NumPy array.\n",
        "\n",
        "We can print their data types using the type() function:"
      ],
      "metadata": {
        "id": "wBmwQR4AOa2o"
      }
    },
    {
      "cell_type": "code",
      "source": [
        "import numpy as np\n",
        "\n",
        "list_ = ['1', '2', '3', '4', '5']\n",
        "array_list = np.array(object=list_)\n",
        "\n",
        "# Printing data types\n",
        "print(\"Data type of list_:\", type(list_))\n",
        "print(\"Data type of array_list:\", type(array_list))\n"
      ],
      "metadata": {
        "colab": {
          "base_uri": "https://localhost:8080/"
        },
        "id": "Y4xJ07VbOk8u",
        "outputId": "61f171ee-047d-425a-827b-1d492f637b91"
      },
      "execution_count": 1,
      "outputs": [
        {
          "output_type": "stream",
          "name": "stdout",
          "text": [
            "Data type of list_: <class 'list'>\n",
            "Data type of array_list: <class 'numpy.ndarray'>\n"
          ]
        }
      ]
    },
    {
      "cell_type": "code",
      "execution_count": null,
      "metadata": {
        "id": "kFnQNPdCNIeh"
      },
      "outputs": [],
      "source": []
    },
    {
      "cell_type": "markdown",
      "source": [
        "Q2. Write a code to print the data type of each and every element of both the variables list_ and arra_list."
      ],
      "metadata": {
        "id": "OfjercURNlqG"
      }
    },
    {
      "cell_type": "markdown",
      "source": [
        "A2. We can iterate through both and use type():"
      ],
      "metadata": {
        "id": "tGbCxfHpOqXH"
      }
    },
    {
      "cell_type": "code",
      "source": [
        "# Print data type of each element in list_\n",
        "print(\"Data type of each element in list_:\")\n",
        "for elem in list_:\n",
        "    print(type(elem))\n",
        "\n",
        "# Print data type of each element in array_list\n",
        "print(\"\\nData type of each element in array_list:\")\n",
        "for elem in array_list:\n",
        "    print(type(elem))\n"
      ],
      "metadata": {
        "colab": {
          "base_uri": "https://localhost:8080/"
        },
        "id": "OBteDApIOuBP",
        "outputId": "7815094e-24ff-4c61-c9d1-6c3645818445"
      },
      "execution_count": 2,
      "outputs": [
        {
          "output_type": "stream",
          "name": "stdout",
          "text": [
            "Data type of each element in list_:\n",
            "<class 'str'>\n",
            "<class 'str'>\n",
            "<class 'str'>\n",
            "<class 'str'>\n",
            "<class 'str'>\n",
            "\n",
            "Data type of each element in array_list:\n",
            "<class 'numpy.str_'>\n",
            "<class 'numpy.str_'>\n",
            "<class 'numpy.str_'>\n",
            "<class 'numpy.str_'>\n",
            "<class 'numpy.str_'>\n"
          ]
        }
      ]
    },
    {
      "cell_type": "code",
      "source": [],
      "metadata": {
        "id": "NqvemS9uNokY"
      },
      "execution_count": null,
      "outputs": []
    },
    {
      "cell_type": "markdown",
      "source": [
        "Q3. Considering the following changes in the variable, array_list:\n",
        "\n",
        "```array_list = np.array(object = list_, dtype = int)```\n",
        "\n",
        "Will there be any difference in the data type of the elements present in both the variables, list_ and arra_list? If so then print the data types of each and every element present in both the variables, list_ and arra_list.\n",
        "\n",
        "Consider the below code to answer further questions:\n",
        "```\n",
        "import numpy as np\n",
        "num_list = [ [ 1 , 2 , 3 ] , [ 4 , 5 , 6 ] ]\n",
        "num_array = np.array(object = num_list)\n",
        "```\n"
      ],
      "metadata": {
        "id": "qj5qIe8ONskR"
      }
    },
    {
      "cell_type": "code",
      "source": [
        "# A3.\n",
        "\n",
        "array_list = np.array(object=list_, dtype=int)\n",
        "\n",
        "print(\"Data type of each element in list_:\")\n",
        "for elem in list_:\n",
        "    print(type(elem))\n",
        "\n",
        "print(\"\\nData type of each element in array_list:\")\n",
        "for elem in array_list:\n",
        "    print(type(elem))\n"
      ],
      "metadata": {
        "colab": {
          "base_uri": "https://localhost:8080/"
        },
        "id": "CeBKdJfgO5HE",
        "outputId": "d01e7bd7-e521-4e38-b185-98aec7266bd4"
      },
      "execution_count": 3,
      "outputs": [
        {
          "output_type": "stream",
          "name": "stdout",
          "text": [
            "Data type of each element in list_:\n",
            "<class 'str'>\n",
            "<class 'str'>\n",
            "<class 'str'>\n",
            "<class 'str'>\n",
            "<class 'str'>\n",
            "\n",
            "Data type of each element in array_list:\n",
            "<class 'numpy.int64'>\n",
            "<class 'numpy.int64'>\n",
            "<class 'numpy.int64'>\n",
            "<class 'numpy.int64'>\n",
            "<class 'numpy.int64'>\n"
          ]
        }
      ]
    },
    {
      "cell_type": "markdown",
      "source": [
        "## Explanation:\n",
        "\n",
        "A.) The original ```list_``` still contains strings.\n",
        "\n",
        "B.) ```array_list``` now contains integers (converted using dtype=int)."
      ],
      "metadata": {
        "id": "AsbQFCsQO_Wh"
      }
    },
    {
      "cell_type": "code",
      "source": [],
      "metadata": {
        "id": "YMhoyvViO3kC"
      },
      "execution_count": null,
      "outputs": []
    },
    {
      "cell_type": "markdown",
      "source": [
        "Q4. Write a code to find the following characteristics of variable, num_array:\n",
        "\n",
        "(i) shape\n",
        "\n",
        "(ii) size"
      ],
      "metadata": {
        "id": "mo1XV8-nOB56"
      }
    },
    {
      "cell_type": "code",
      "source": [
        "# A4.\n",
        "\n",
        "num_list = [[1, 2, 3], [4, 5, 6]]\n",
        "num_array = np.array(object=num_list)\n",
        "\n",
        "# Shape of the array\n",
        "print(\"Shape of num_array:\", num_array.shape)\n",
        "\n",
        "# Size of the array\n",
        "print(\"Size of num_array:\", num_array.size)\n"
      ],
      "metadata": {
        "colab": {
          "base_uri": "https://localhost:8080/"
        },
        "id": "PSPbYI8sPJ4U",
        "outputId": "32ed7f8c-6cda-4606-85bf-f173a37072d7"
      },
      "execution_count": 4,
      "outputs": [
        {
          "output_type": "stream",
          "name": "stdout",
          "text": [
            "Shape of num_array: (2, 3)\n",
            "Size of num_array: 6\n"
          ]
        }
      ]
    },
    {
      "cell_type": "markdown",
      "source": [
        "## Explanation:\n",
        "\n",
        "A.) Shape (2,3) means 2 rows, 3 columns.\n",
        "\n",
        "B.) Size 6 means there are 6 elements in total."
      ],
      "metadata": {
        "id": "p9o5zImkPQSA"
      }
    },
    {
      "cell_type": "code",
      "source": [],
      "metadata": {
        "id": "kpiCvyf3N-Wn"
      },
      "execution_count": null,
      "outputs": []
    },
    {
      "cell_type": "markdown",
      "source": [
        "Q5. Write a code to create numpy array of 3*3 matrix containing zeros only, using a numpy array creation function.\n",
        "\n",
        "[Hint: The size of the array will be 9 and the shape will be (3,3).]"
      ],
      "metadata": {
        "id": "N15gxWmPOJI5"
      }
    },
    {
      "cell_type": "code",
      "source": [
        "# A5.\n",
        "\n",
        "zero_matrix = np.zeros((3, 3))\n",
        "print(\"3×3 Zero Matrix:\\n\", zero_matrix)\n"
      ],
      "metadata": {
        "colab": {
          "base_uri": "https://localhost:8080/"
        },
        "id": "4Ce-ZzHpPZLC",
        "outputId": "a1e02af1-4efa-4e84-d53a-a19637c2aaca"
      },
      "execution_count": 5,
      "outputs": [
        {
          "output_type": "stream",
          "name": "stdout",
          "text": [
            "3×3 Zero Matrix:\n",
            " [[0. 0. 0.]\n",
            " [0. 0. 0.]\n",
            " [0. 0. 0.]]\n"
          ]
        }
      ]
    },
    {
      "cell_type": "markdown",
      "source": [
        "## Explanation:\n",
        "\n",
        "np.zeros((3,3)) creates a 3×3 matrix filled with zeros."
      ],
      "metadata": {
        "id": "Vk_zbSkzPdum"
      }
    },
    {
      "cell_type": "code",
      "source": [],
      "metadata": {
        "id": "4OmFMIbxOLaf"
      },
      "execution_count": null,
      "outputs": []
    },
    {
      "cell_type": "markdown",
      "source": [
        "Q6. Create an identity matrix of shape (5,5) using numpy functions?\n",
        "\n",
        "[Hint: An identity matrix is a matrix containing 1 diagonally and other elements will be 0.]"
      ],
      "metadata": {
        "id": "biDFnQW_ON1w"
      }
    },
    {
      "cell_type": "code",
      "source": [
        "# A6.\n",
        "\n",
        "identity_matrix = np.eye(5)\n",
        "print(\"5×5 Identity Matrix:\\n\", identity_matrix)\n"
      ],
      "metadata": {
        "colab": {
          "base_uri": "https://localhost:8080/"
        },
        "id": "9Rm4mjwdOO83",
        "outputId": "c6ea5728-c804-4149-f784-32ce89048900"
      },
      "execution_count": 6,
      "outputs": [
        {
          "output_type": "stream",
          "name": "stdout",
          "text": [
            "5×5 Identity Matrix:\n",
            " [[1. 0. 0. 0. 0.]\n",
            " [0. 1. 0. 0. 0.]\n",
            " [0. 0. 1. 0. 0.]\n",
            " [0. 0. 0. 1. 0.]\n",
            " [0. 0. 0. 0. 1.]]\n"
          ]
        }
      ]
    },
    {
      "cell_type": "markdown",
      "source": [
        "## Explanation:\n",
        "\n",
        "np.eye(5) creates a 5×5 identity matrix with 1s on the diagonal and 0s elsewhere.\n",
        "\n"
      ],
      "metadata": {
        "id": "qF8BDa_9PrUE"
      }
    },
    {
      "cell_type": "code",
      "source": [],
      "metadata": {
        "id": "Y_ZbQ3UsOQ3T"
      },
      "execution_count": null,
      "outputs": []
    },
    {
      "cell_type": "code",
      "source": [],
      "metadata": {
        "id": "VfuPW4_vORKr"
      },
      "execution_count": null,
      "outputs": []
    }
  ]
}