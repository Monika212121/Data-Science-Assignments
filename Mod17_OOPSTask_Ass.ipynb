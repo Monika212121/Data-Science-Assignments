{
  "nbformat": 4,
  "nbformat_minor": 0,
  "metadata": {
    "colab": {
      "provenance": []
    },
    "kernelspec": {
      "name": "python3",
      "display_name": "Python 3"
    },
    "language_info": {
      "name": "python"
    }
  },
  "cells": [
    {
      "cell_type": "markdown",
      "source": [
        "# Module17 OOPS Task Assignment"
      ],
      "metadata": {
        "id": "fxI7rPcPo0kZ"
      }
    },
    {
      "cell_type": "markdown",
      "source": [
        "Q1, Create a vehicle class with an init method having instance variables as name_of_vehicle, max_speed\n",
        "and average_of_vehicle."
      ],
      "metadata": {
        "id": "YElt_d1yooj_"
      }
    },
    {
      "cell_type": "code",
      "source": [
        "# A1. Creating class 'vehicle'\n",
        "\n",
        "class vehicle :\n",
        "\n",
        "  def __init__(self, name_of_vehicle, max_speed, average_of_vehicle):\n",
        "    self.name_of_vehicle = name_of_vehicle\n",
        "    self.max_speed = max_speed\n",
        "    self.average_of_vehicle = average_of_vehicle\n",
        "\n",
        "  def display_info(self):\n",
        "        return f\"vehicle: {self.name_of_vehicle}, Max Speed: {self.max_speed} km/h, Average: {self.average_of_vehicle} km/l\"\n",
        "\n",
        "# Example Usage\n",
        "veh = vehicle(\"Bike\", 120, 40)\n",
        "print(veh.display_info())  # Output: Vehicle: Bike, Max Speed: 120 km/h, Average: 40 km/l\n",
        ""
      ],
      "metadata": {
        "colab": {
          "base_uri": "https://localhost:8080/"
        },
        "id": "hEOCX7VYo67O",
        "outputId": "a3a4b270-96c1-4a7e-ac2a-bcc38989c3b8"
      },
      "execution_count": 9,
      "outputs": [
        {
          "output_type": "stream",
          "name": "stdout",
          "text": [
            "vehicle: Bike, Max Speed: 120 km/h, Average: 40 km/l\n"
          ]
        }
      ]
    },
    {
      "cell_type": "code",
      "source": [],
      "metadata": {
        "id": "LgljpzecopAH"
      },
      "execution_count": null,
      "outputs": []
    },
    {
      "cell_type": "markdown",
      "source": [
        "Q2. Create a child class car from the vehicle class created in Que 1, which will inherit the vehicle class.\n",
        "Create a method named seating_capacity which takes capacity as an argument and returns the name of\n",
        "the vehicle and its seating capacity."
      ],
      "metadata": {
        "id": "CDkd_Q1QoqeT"
      }
    },
    {
      "cell_type": "code",
      "source": [
        "# A2. Creating class car, inheriting class 'vehicle'\n",
        "\n",
        "class car(vehicle):\n",
        "\n",
        "  def seating_capacity(self, capacity) :\n",
        "    return self.name_of_vehicle, capacity\n",
        "\n",
        "\n",
        "c1 = car(\"Hyndai\", 200, 20)\n",
        "print(c1.display_info())\n",
        "print(c1.seating_capacity(7))"
      ],
      "metadata": {
        "colab": {
          "base_uri": "https://localhost:8080/"
        },
        "id": "otApjnUkpcz5",
        "outputId": "1d802506-be71-4bbf-b4c3-bf05b08be21f"
      },
      "execution_count": 13,
      "outputs": [
        {
          "output_type": "stream",
          "name": "stdout",
          "text": [
            "vehicle: Hyndai, Max Speed: 200 km/h, Average: 20 km/l\n",
            "('Hyndai', 7)\n"
          ]
        }
      ]
    },
    {
      "cell_type": "code",
      "source": [],
      "metadata": {
        "id": "qXgiQ_1xoqxe"
      },
      "execution_count": 13,
      "outputs": []
    },
    {
      "cell_type": "markdown",
      "source": [
        "Q3. What is multiple inheritance? Write a python code to demonstrate multiple inheritance."
      ],
      "metadata": {
        "id": "f46nDXWvosQE"
      }
    },
    {
      "cell_type": "markdown",
      "source": [
        "A3. Definition:\n",
        "Multiple Inheritance is when a child class inherits from more than one parent class.\n",
        "\n"
      ],
      "metadata": {
        "id": "MwHIwSM5tLTv"
      }
    },
    {
      "cell_type": "code",
      "source": [
        "class Engine:\n",
        "    def engine_type(self):\n",
        "        return \"Diesel Engine\"\n",
        "\n",
        "class Wheels:\n",
        "    def number_of_wheels(self):\n",
        "        return 4\n",
        "\n",
        "class Car(Engine, Wheels):\n",
        "    def car_info(self):\n",
        "        return \"This is a four-wheeler car.\"\n",
        "\n",
        "# Example Usage\n",
        "car = Car()\n",
        "print(car.engine_type())  # Output: Diesel Engine\n",
        "print(car.number_of_wheels())  # Output: 4\n",
        "print(car.car_info())  # Output: This is a four-wheeler car.\n"
      ],
      "metadata": {
        "colab": {
          "base_uri": "https://localhost:8080/"
        },
        "id": "ENDHTSSYqHxM",
        "outputId": "3a339fce-c867-46cd-c129-5190b64f98ad"
      },
      "execution_count": 8,
      "outputs": [
        {
          "output_type": "stream",
          "name": "stdout",
          "text": [
            "Diesel Engine\n",
            "4\n",
            "This is a four-wheeler car.\n"
          ]
        }
      ]
    },
    {
      "cell_type": "markdown",
      "source": [
        "Here, Car inherits from both Engine and Wheels."
      ],
      "metadata": {
        "id": "zVK1KAbptSwx"
      }
    },
    {
      "cell_type": "code",
      "source": [],
      "metadata": {
        "id": "EcgLYtd9osjG"
      },
      "execution_count": null,
      "outputs": []
    },
    {
      "cell_type": "markdown",
      "source": [
        "Q4. What are getter and setter in python? Create a class and create a getter and a setter method in this\n",
        "class."
      ],
      "metadata": {
        "id": "Dnn2sXXTot7L"
      }
    },
    {
      "cell_type": "markdown",
      "source": [
        "A4. Definition:\n",
        "\n",
        "**Getter:** Used to access a private attribute.\n",
        "\n",
        "**Setter:** Used to modify a private attribute safely."
      ],
      "metadata": {
        "id": "Mqen8hixtVmT"
      }
    },
    {
      "cell_type": "code",
      "source": [
        "class Student:\n",
        "    def __init__(self, name, age):\n",
        "        self.__name = name  # Private attribute\n",
        "        self.__age = age  # Private attribute\n",
        "\n",
        "    # Getter Method\n",
        "    def get_age(self):\n",
        "        return self.__age\n",
        "\n",
        "    # Setter Method\n",
        "    def set_age(self, age):\n",
        "        if age > 0:\n",
        "            self.__age = age\n",
        "        else:\n",
        "            print(\"Invalid age\")\n",
        "\n",
        "# Example Usage\n",
        "student = Student(\"Alice\", 20)\n",
        "print(student.get_age())  # Output: 20\n",
        "\n",
        "student.set_age(25)  # Updating age\n",
        "print(student.get_age())  # Output: 25\n",
        "\n",
        "student.set_age(-5)  # Output: Invalid age\n"
      ],
      "metadata": {
        "colab": {
          "base_uri": "https://localhost:8080/"
        },
        "id": "lgk9BeQbtc9f",
        "outputId": "0afe0e40-943b-4d5d-a1e5-14e8c2448a42"
      },
      "execution_count": 9,
      "outputs": [
        {
          "output_type": "stream",
          "name": "stdout",
          "text": [
            "20\n",
            "25\n",
            "Invalid age\n"
          ]
        }
      ]
    },
    {
      "cell_type": "code",
      "source": [],
      "metadata": {
        "id": "DdudpSeTouOe"
      },
      "execution_count": null,
      "outputs": []
    },
    {
      "cell_type": "markdown",
      "source": [
        "Q5.What is method overriding in python? Write a python code to demonstrate method overriding."
      ],
      "metadata": {
        "id": "i93qBN5povrU"
      }
    },
    {
      "cell_type": "markdown",
      "source": [
        "A5. Definition:\n",
        "Method Overriding occurs when a child class provides a specific implementation of a method already defined in the parent class.\n"
      ],
      "metadata": {
        "id": "HoIdxNh2tgu-"
      }
    },
    {
      "cell_type": "code",
      "source": [
        "class Animal:\n",
        "    def sound(self):\n",
        "        return \"Animals make sound\"\n",
        "\n",
        "class Dog(Animal):\n",
        "    def sound(self):  # Overriding parent method\n",
        "        return \"Dogs bark\"\n",
        "\n",
        "# Example Usage\n",
        "dog = Dog()\n",
        "print(dog.sound())  # Output: Dogs bark\n",
        "\n",
        "animal = Animal()\n",
        "print(animal.sound())  # Output: Animals make sound\n"
      ],
      "metadata": {
        "colab": {
          "base_uri": "https://localhost:8080/"
        },
        "id": "GXYIW0HeowCN",
        "outputId": "8d197aa0-315b-47eb-c22e-282583e90645"
      },
      "execution_count": 10,
      "outputs": [
        {
          "output_type": "stream",
          "name": "stdout",
          "text": [
            "Dogs bark\n",
            "Animals make sound\n"
          ]
        }
      ]
    },
    {
      "cell_type": "markdown",
      "source": [
        "Here, the Dog class overrides the sound() method of Animal."
      ],
      "metadata": {
        "id": "wUaJx5uDtmQC"
      }
    },
    {
      "cell_type": "code",
      "source": [],
      "metadata": {
        "id": "4q5rb8_rtkNV"
      },
      "execution_count": null,
      "outputs": []
    },
    {
      "cell_type": "code",
      "source": [],
      "metadata": {
        "id": "gjiyVZJ3trFf"
      },
      "execution_count": null,
      "outputs": []
    }
  ]
}