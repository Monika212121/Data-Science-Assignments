{
  "nbformat": 4,
  "nbformat_minor": 0,
  "metadata": {
    "colab": {
      "provenance": []
    },
    "kernelspec": {
      "name": "python3",
      "display_name": "Python 3"
    },
    "language_info": {
      "name": "python"
    }
  },
  "cells": [
    {
      "cell_type": "markdown",
      "source": [
        "# Module85 Tensorflow Assignment"
      ],
      "metadata": {
        "id": "a8IT_Olig_SP"
      }
    },
    {
      "cell_type": "markdown",
      "source": [
        "Objective: The objective of this assignment is to gain practical experience with fundamental operations in TensorFlow, including creating and manipulating matrices, performing arithmetic operations on tensors, and understanding the difference between TensorFlow constants and variables."
      ],
      "metadata": {
        "id": "nkCx9Er8jCmV"
      }
    },
    {
      "cell_type": "markdown",
      "source": [
        "## Part 1: Theoretical Question"
      ],
      "metadata": {
        "id": "jyhAcMS3jGpU"
      }
    },
    {
      "cell_type": "markdown",
      "source": [
        "1. What are the different data structures used in Tensorflow?. Give some examples."
      ],
      "metadata": {
        "id": "z4ZPDmeJjLAv"
      }
    },
    {
      "cell_type": "markdown",
      "source": [
        "A1. TensorFlow uses several core data structures to build and manipulate machine learning models:\n",
        "\n",
        "### 1. Tensors\n",
        "Primary data structure in TensorFlow (like NumPy arrays but optimized for GPUs/TPUs).\n",
        "\n",
        "Can be scalars, vectors, matrices, or higher-dimensional arrays.\n",
        "```\n",
        "import tensorflow as tf\n",
        "a = tf.constant([1, 2, 3])  # 1D Tensor\n",
        "b = tf.constant([[1, 2], [3, 4]])  # 2D Tensor\n",
        "\n",
        "```\n",
        "\n",
        "### 2. Variables\n",
        "Mutable tensors used to hold and update model parameters during training.\n",
        "```\n",
        "var = tf.Variable([1.0, 2.0])\n",
        "```\n",
        "\n",
        "### 3. Datasets\n",
        "Efficient input pipeline builder for model training using tf.data.\n",
        "\n",
        "```\n",
        "dataset = tf.data.Dataset.from_tensor_slices([1, 2, 3, 4])\n",
        "```\n",
        "\n",
        "### 4. SparseTensor\n",
        "Used for representing tensors with a lot of zeros efficiently.\n",
        "\n",
        "```\n",
        "sparse = tf.sparse.SparseTensor(indices=[[0, 0], [1, 2]], values=[1, 2], dense_shape= [3, 4])\n",
        "                                \n",
        "```\n",
        "\n",
        "### 5. RaggedTensor\n",
        "Used for handling non-uniform shaped tensors (e.g., lists of different lengths).\n",
        "\n",
        "```\n",
        "ragged = tf.ragged.constant([[1, 2], [3], [4, 5, 6]])\n",
        "```"
      ],
      "metadata": {
        "id": "DxXcPixUPj03"
      }
    },
    {
      "cell_type": "code",
      "execution_count": null,
      "metadata": {
        "id": "T7HItTxrg9ON"
      },
      "outputs": [],
      "source": []
    },
    {
      "cell_type": "markdown",
      "source": [
        "2. How does the TensorFlow constant differ from a TensorFlow variable? Explain with an example."
      ],
      "metadata": {
        "id": "b6x9fktFjP4j"
      }
    },
    {
      "cell_type": "markdown",
      "source": [
        "A2.\n",
        "```\n",
        "Feature           | tf.constant               | tf.Variable\n",
        "--------------------------------------------------------------------------------------------------\n",
        "Mutability        | Immutable                 | Mutable (can be updated)\n",
        "\n",
        "Use Case          | Fixed values(e.g.config)  | Model parameters (weights, biases)\n",
        "\n",
        "Graph Behavior    | Static                    | Dynamic\n",
        "```"
      ],
      "metadata": {
        "id": "pkzUMhdPQxZV"
      }
    },
    {
      "cell_type": "code",
      "source": [
        "import tensorflow as tf\n",
        "\n",
        "# TensorFlow constant\n",
        "c = tf.constant(10)\n",
        "# TensorFlow variable\n",
        "v = tf.Variable(10)\n",
        "\n",
        "print(\"Constant:\", c)\n",
        "print(\"Variable before update:\", v)\n",
        "\n",
        "# v can be updated\n",
        "v.assign(20)\n",
        "print(\"Variable after update:\", v)\n"
      ],
      "metadata": {
        "id": "CFaPxVnjR-d3"
      },
      "execution_count": null,
      "outputs": []
    },
    {
      "cell_type": "code",
      "source": [],
      "metadata": {
        "id": "nAmNiQtpjSVy"
      },
      "execution_count": null,
      "outputs": []
    },
    {
      "cell_type": "markdown",
      "source": [
        "3. Describe the process of matrix addition, multiplication, and element-wise operations in TensorFlow."
      ],
      "metadata": {
        "id": "vaAZdNOXjUZI"
      }
    },
    {
      "cell_type": "markdown",
      "source": [
        "A3. TensorFlow supports all standard matrix operations, similar to NumPy but optimized for GPUs.\n",
        "\n",
        "### Matrix Addition (Element-wise)\n",
        "```\n",
        "a = tf.constant([[1, 2], [3, 4]])\n",
        "b = tf.constant([[5, 6], [7, 8]])\n",
        "add = tf.add(a, b)  # or a + b\n",
        "```\n",
        "\n",
        "###  Matrix Multiplication\n",
        "```\n",
        "mul = tf.matmul(a, b)\n",
        "```\n",
        "\n",
        "Note: This is matrix multiplication, not element-wise.\n",
        "\n",
        "### Element-wise Multiplication\n",
        "```\n",
        "elementwise = tf.multiply(a, b)  # or a * b\n",
        "```\n"
      ],
      "metadata": {
        "id": "Vn4g7h7lSEV8"
      }
    },
    {
      "cell_type": "code",
      "source": [
        "# Example Output\n",
        "import tensorflow as tf\n",
        "\n",
        "a = tf.constant([[1, 2], [3, 4]])\n",
        "b = tf.constant([[5, 6], [7, 8]])\n",
        "add = tf.add(a, b)                              # or a + b\n",
        "\n",
        "mul = tf.matmul(a, b)\n",
        "\n",
        "elementwise = tf.multiply(a, b)                  # or a * b\n",
        "\n",
        "print(\"Addition:\\n\", add.numpy())\n",
        "print(\"\\nMatrix Multiplication:\\n\", mul.numpy())\n",
        "print(\"\\nElement-wise Multiplication:\\n\", elementwise.numpy())\n"
      ],
      "metadata": {
        "id": "ESmurSdrjWS6",
        "colab": {
          "base_uri": "https://localhost:8080/"
        },
        "outputId": "35b072aa-1e4a-4291-b10e-b849755acc2d"
      },
      "execution_count": 4,
      "outputs": [
        {
          "output_type": "stream",
          "name": "stdout",
          "text": [
            "Addition:\n",
            " [[ 6  8]\n",
            " [10 12]]\n",
            "\n",
            "Matrix Multiplication:\n",
            " [[19 22]\n",
            " [43 50]]\n",
            "\n",
            "Element-wise Multiplication:\n",
            " [[ 5 12]\n",
            " [21 32]]\n"
          ]
        }
      ]
    },
    {
      "cell_type": "code",
      "source": [],
      "metadata": {
        "id": "iKYwAZl7jZpM"
      },
      "execution_count": null,
      "outputs": []
    },
    {
      "cell_type": "markdown",
      "source": [
        "## Part 2: Practical Implementation"
      ],
      "metadata": {
        "id": "4gf98GUmjaGU"
      }
    },
    {
      "cell_type": "markdown",
      "source": [
        "### Task 1: Creating and Manipulating Matrices"
      ],
      "metadata": {
        "id": "Gj_Wpi5rje5G"
      }
    },
    {
      "cell_type": "markdown",
      "source": [
        "1. Create a normal matrix A with dimensions 3x3, using TensorFlow's random_normal function. Display the values of matrix A."
      ],
      "metadata": {
        "id": "Etwm0ikUjleF"
      }
    },
    {
      "cell_type": "code",
      "source": [
        "A = tf.random.normal(shape=(3, 3))\n",
        "print(\"Matrix A (3x3 from random_normal):\\n\", A.numpy())"
      ],
      "metadata": {
        "colab": {
          "base_uri": "https://localhost:8080/"
        },
        "id": "6vk0TX3SZ8fD",
        "outputId": "74f668d3-5c80-4490-9ac3-c4cb1f48d39e"
      },
      "execution_count": 5,
      "outputs": [
        {
          "output_type": "stream",
          "name": "stdout",
          "text": [
            "Matrix A (3x3 from random_normal):\n",
            " [[ 0.19110447 -0.15381949 -1.0791095 ]\n",
            " [ 1.3910027   0.51991004  1.6966654 ]\n",
            " [ 1.2699556   0.33313942  0.36262763]]\n"
          ]
        }
      ]
    },
    {
      "cell_type": "code",
      "source": [],
      "metadata": {
        "id": "UQ1DfbxWjbyK"
      },
      "execution_count": null,
      "outputs": []
    },
    {
      "cell_type": "markdown",
      "source": [
        "2. Create a Gaussian matrix B with dimensions 4x4, using TensorFlow's truncated_normal function. Display the values of matrix B."
      ],
      "metadata": {
        "id": "Ds6lYvwhjrEB"
      }
    },
    {
      "cell_type": "code",
      "source": [
        "B = tf.random.truncated_normal(shape=(4, 4))\n",
        "print(\"\\nMatrix B (4x4 from truncated_normal):\\n\", B.numpy())"
      ],
      "metadata": {
        "colab": {
          "base_uri": "https://localhost:8080/"
        },
        "id": "7Tx2a6XdaBf2",
        "outputId": "646d0eb6-e6a8-4825-a1ad-c33dbace402b"
      },
      "execution_count": 6,
      "outputs": [
        {
          "output_type": "stream",
          "name": "stdout",
          "text": [
            "\n",
            "Matrix B (4x4 from truncated_normal):\n",
            " [[ 1.7386419   0.10299935 -1.5202519  -1.1427886 ]\n",
            " [-1.1204553  -1.1181332   0.40689334 -1.6725258 ]\n",
            " [ 0.6682135  -1.4171058  -0.990104    0.9962366 ]\n",
            " [-0.6734126   0.3335903  -0.3262748  -1.6268419 ]]\n"
          ]
        }
      ]
    },
    {
      "cell_type": "code",
      "source": [],
      "metadata": {
        "id": "FSqhJGU1jtxR"
      },
      "execution_count": null,
      "outputs": []
    },
    {
      "cell_type": "markdown",
      "source": [
        "3. Create a matrix C with dimensions 2x2, where the values are drawn from a normal distribution with a mean of 3 and a standard deviation of 0.5, using TensorFlow's random.normal function. Display the values of matrix C."
      ],
      "metadata": {
        "id": "VrVbwVNcjvsk"
      }
    },
    {
      "cell_type": "code",
      "source": [
        "C = tf.random.normal(shape=(2, 2), mean=3.0, stddev=0.5)\n",
        "print(\"\\nMatrix C (2x2 with mean=3, stddev=0.5):\\n\", C.numpy())"
      ],
      "metadata": {
        "colab": {
          "base_uri": "https://localhost:8080/"
        },
        "id": "m_8i65uKaFFI",
        "outputId": "3edac3e4-c0f7-4261-95a0-e762a2761409"
      },
      "execution_count": 7,
      "outputs": [
        {
          "output_type": "stream",
          "name": "stdout",
          "text": [
            "\n",
            "Matrix C (2x2 with mean=3, stddev=0.5):\n",
            " [[3.1117952 3.9030538]\n",
            " [2.5168352 2.7949271]]\n"
          ]
        }
      ]
    },
    {
      "cell_type": "code",
      "source": [],
      "metadata": {
        "id": "sjmYCvmGjye5"
      },
      "execution_count": null,
      "outputs": []
    },
    {
      "cell_type": "markdown",
      "source": [
        "4. Perform matrix addition between matrix A and matrix B, and store the result in matrix D."
      ],
      "metadata": {
        "id": "HmbaPYS5j0kM"
      }
    },
    {
      "cell_type": "markdown",
      "source": [
        "A4.  Attempting to add matrix A (3x3) and B (4x4) will raise an error due to shape mismatch\n",
        "\n",
        "To demonstrate matrix addition, let's create compatible shapes instead:\n"
      ],
      "metadata": {
        "id": "plTh9IyvaMj7"
      }
    },
    {
      "cell_type": "code",
      "source": [
        "# Optional Fix: Create a new B with same shape as A for demonstration\n",
        "B_compatible = tf.random.truncated_normal(shape=(3, 3))\n",
        "D = tf.add(A, B_compatible)\n",
        "print(\"\\nMatrix D (A + B_compatible):\\n\", D.numpy())"
      ],
      "metadata": {
        "colab": {
          "base_uri": "https://localhost:8080/"
        },
        "id": "ogUN7pMaaWV-",
        "outputId": "d046d7ab-fb08-407b-a3fb-8a4c490db57c"
      },
      "execution_count": 8,
      "outputs": [
        {
          "output_type": "stream",
          "name": "stdout",
          "text": [
            "\n",
            "Matrix D (A + B_compatible):\n",
            " [[ 0.20923033 -1.078168    0.3275808 ]\n",
            " [ 1.2365003  -0.74078757  0.2619064 ]\n",
            " [-0.53423595  0.01466587  0.9583088 ]]\n"
          ]
        }
      ]
    },
    {
      "cell_type": "code",
      "source": [],
      "metadata": {
        "id": "vxveKq2fj2Hq"
      },
      "execution_count": null,
      "outputs": []
    },
    {
      "cell_type": "markdown",
      "source": [
        "5. Perform matrix multiplication between matrix C and matrix D, and store the result in matrix E."
      ],
      "metadata": {
        "id": "n1NxX-2tj4F5"
      }
    },
    {
      "cell_type": "code",
      "source": [
        "#Matrix Multiplication: Matrix C (2x2) * Matrix D (for demo, 2x2)\n",
        "# We'll create a compatible 2x2 D for this\n",
        "\n",
        "D_compatible = tf.random.normal(shape=(2, 2))\n",
        "E = tf.matmul(C, D_compatible)\n",
        "print(\"\\nMatrix E (C x D_compatible):\\n\", E.numpy())"
      ],
      "metadata": {
        "id": "o6YiDDm3j6ER",
        "colab": {
          "base_uri": "https://localhost:8080/"
        },
        "outputId": "d173b740-e83e-4960-9a9f-9a494e0d1b73"
      },
      "execution_count": 9,
      "outputs": [
        {
          "output_type": "stream",
          "name": "stdout",
          "text": [
            "\n",
            "Matrix E (C x D_compatible):\n",
            " [[6.5482593 1.0596771]\n",
            " [5.02656   0.8834576]]\n"
          ]
        }
      ]
    },
    {
      "cell_type": "code",
      "source": [],
      "metadata": {
        "id": "dGRbZWzoj7mb"
      },
      "execution_count": null,
      "outputs": []
    },
    {
      "cell_type": "markdown",
      "source": [
        "## Task 2: Performing Additional Matrix Operation"
      ],
      "metadata": {
        "id": "b9C6Tj54j92G"
      }
    },
    {
      "cell_type": "code",
      "source": [],
      "metadata": {
        "id": "O4NLl9tbj_DI"
      },
      "execution_count": null,
      "outputs": []
    },
    {
      "cell_type": "markdown",
      "source": [
        "1. Create a matrix F with dimensions 3x3, initialized with random values using TensorFlow's random_uniform function."
      ],
      "metadata": {
        "id": "GhbfGpCBkAkq"
      }
    },
    {
      "cell_type": "code",
      "source": [
        "import tensorflow as tf\n",
        "\n",
        "F = tf.random.uniform(shape=(3, 3), minval=0, maxval=10)\n",
        "print(\"Matrix F (3x3 from random_uniform):\\n\", F.numpy())"
      ],
      "metadata": {
        "colab": {
          "base_uri": "https://localhost:8080/"
        },
        "id": "CgvkKJcnfiwX",
        "outputId": "c4f939c9-a47f-4344-b967-5d07b4ffafef"
      },
      "execution_count": 11,
      "outputs": [
        {
          "output_type": "stream",
          "name": "stdout",
          "text": [
            "Matrix F (3x3 from random_uniform):\n",
            " [[5.4183207 2.5836813 8.998205 ]\n",
            " [4.136801  7.6534414 1.5148282]\n",
            " [4.3215704 6.060281  2.6738274]]\n"
          ]
        }
      ]
    },
    {
      "cell_type": "code",
      "source": [],
      "metadata": {
        "id": "18myBukzkD6p"
      },
      "execution_count": null,
      "outputs": []
    },
    {
      "cell_type": "markdown",
      "source": [
        "2. Calculate the transpose of matrix F and store the result in matrix G."
      ],
      "metadata": {
        "id": "Xz51BhFRkGVB"
      }
    },
    {
      "cell_type": "code",
      "source": [
        "G = tf.transpose(F)\n",
        "print(\"\\nMatrix G (Transpose of F):\\n\", G.numpy())"
      ],
      "metadata": {
        "colab": {
          "base_uri": "https://localhost:8080/"
        },
        "id": "1ktqgQgVhnE0",
        "outputId": "6cfd3249-d351-4f86-9ec1-ddf0f9548437"
      },
      "execution_count": 12,
      "outputs": [
        {
          "output_type": "stream",
          "name": "stdout",
          "text": [
            "\n",
            "Matrix G (Transpose of F):\n",
            " [[5.4183207 4.136801  4.3215704]\n",
            " [2.5836813 7.6534414 6.060281 ]\n",
            " [8.998205  1.5148282 2.6738274]]\n"
          ]
        }
      ]
    },
    {
      "cell_type": "code",
      "source": [],
      "metadata": {
        "id": "gUsjK6ilkIQB"
      },
      "execution_count": null,
      "outputs": []
    },
    {
      "cell_type": "markdown",
      "source": [
        "3. Calculate the element-wise exponential of matrix F and store the result in matrix H."
      ],
      "metadata": {
        "id": "GLRpOKl_kKIK"
      }
    },
    {
      "cell_type": "code",
      "source": [
        "H = tf.math.exp(F)\n",
        "print(\"\\nMatrix H (Exponential of F):\\n\", H.numpy())"
      ],
      "metadata": {
        "colab": {
          "base_uri": "https://localhost:8080/"
        },
        "id": "19mSPN67hsFo",
        "outputId": "64d61fb5-a4f0-45f6-a410-1a89d17b946d"
      },
      "execution_count": 13,
      "outputs": [
        {
          "output_type": "stream",
          "name": "stdout",
          "text": [
            "\n",
            "Matrix H (Exponential of F):\n",
            " [[2.25500107e+02 1.32458105e+01 8.08855322e+03]\n",
            " [6.26022224e+01 2.10788721e+03 4.54863977e+00]\n",
            " [7.53067932e+01 4.28495728e+02 1.44953432e+01]]\n"
          ]
        }
      ]
    },
    {
      "cell_type": "code",
      "source": [],
      "metadata": {
        "id": "eC7aQQRRkLnZ"
      },
      "execution_count": null,
      "outputs": []
    },
    {
      "cell_type": "markdown",
      "source": [
        "4. Create a matrix I by concatenating matrix F and matrix G horizontally."
      ],
      "metadata": {
        "id": "me_xosqTkNWK"
      }
    },
    {
      "cell_type": "code",
      "source": [
        "I = tf.concat([F, G], axis=1)\n",
        "print(\"\\nMatrix I (Horizontal concat of F and G):\\n\", I.numpy())"
      ],
      "metadata": {
        "colab": {
          "base_uri": "https://localhost:8080/"
        },
        "id": "ZIlxD8MEhunV",
        "outputId": "30653eed-80c0-4bb4-ca5e-178ca456123c"
      },
      "execution_count": 14,
      "outputs": [
        {
          "output_type": "stream",
          "name": "stdout",
          "text": [
            "\n",
            "Matrix I (Horizontal concat of F and G):\n",
            " [[5.4183207 2.5836813 8.998205  5.4183207 4.136801  4.3215704]\n",
            " [4.136801  7.6534414 1.5148282 2.5836813 7.6534414 6.060281 ]\n",
            " [4.3215704 6.060281  2.6738274 8.998205  1.5148282 2.6738274]]\n"
          ]
        }
      ]
    },
    {
      "cell_type": "code",
      "source": [],
      "metadata": {
        "id": "pHd-KFZFkQDC"
      },
      "execution_count": null,
      "outputs": []
    },
    {
      "cell_type": "markdown",
      "source": [
        "5. Create a matrix J by concatenating matrix F and matrix H vertically."
      ],
      "metadata": {
        "id": "Z3zBo1_OkSd6"
      }
    },
    {
      "cell_type": "code",
      "source": [
        "J = tf.concat([F, H], axis=0)\n",
        "print(\"\\nMatrix J (Vertical concat of F and H):\\n\", J.numpy())"
      ],
      "metadata": {
        "id": "06tFc3LvkU7J",
        "colab": {
          "base_uri": "https://localhost:8080/"
        },
        "outputId": "5a778dff-fb48-4a41-8794-85f150ef7953"
      },
      "execution_count": 15,
      "outputs": [
        {
          "output_type": "stream",
          "name": "stdout",
          "text": [
            "\n",
            "Matrix J (Vertical concat of F and H):\n",
            " [[5.41832066e+00 2.58368134e+00 8.99820518e+00]\n",
            " [4.13680077e+00 7.65344143e+00 1.51482821e+00]\n",
            " [4.32157040e+00 6.06028080e+00 2.67382741e+00]\n",
            " [2.25500107e+02 1.32458105e+01 8.08855322e+03]\n",
            " [6.26022224e+01 2.10788721e+03 4.54863977e+00]\n",
            " [7.53067932e+01 4.28495728e+02 1.44953432e+01]]\n"
          ]
        }
      ]
    },
    {
      "cell_type": "code",
      "source": [],
      "metadata": {
        "id": "F9ByVZVpkfKq"
      },
      "execution_count": null,
      "outputs": []
    },
    {
      "cell_type": "code",
      "source": [],
      "metadata": {
        "id": "J6OT_G93kfHN"
      },
      "execution_count": null,
      "outputs": []
    }
  ]
}