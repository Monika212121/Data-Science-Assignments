{
  "nbformat": 4,
  "nbformat_minor": 0,
  "metadata": {
    "colab": {
      "provenance": []
    },
    "kernelspec": {
      "name": "python3",
      "display_name": "Python 3"
    },
    "language_info": {
      "name": "python"
    }
  },
  "cells": [
    {
      "cell_type": "markdown",
      "source": [
        "# Module73 PCA (Pricipal Component Analysis) Assignment3"
      ],
      "metadata": {
        "id": "k1rwKNsRMEme"
      }
    },
    {
      "cell_type": "markdown",
      "source": [
        "Q1: What are Eigenvalues and Eigenvectors? How are they related to the Eigen-Decomposition approach? Explain with an example."
      ],
      "metadata": {
        "id": "indi7zJ6Fh0I"
      }
    },
    {
      "cell_type": "markdown",
      "source": [
        "A1.\n",
        "\n",
        "**Eigen values** are scalars that indicate how much the eigen vector is scaled during a linear transformation.\n",
        "\n",
        "**Eigen vectors** are non-zero vectors that change only in scale (not direction) during a transformation represented by a matrix.\n",
        "\n",
        "\n",
        "# Mathematically:\n",
        "\n",
        "For a matrix A, an eigenvector v and eigenvalue λ satisfy:\n",
        "\n",
        "``` Av = λv ```\n",
        "\n",
        "# Relation to Eigen-Decomposition:\n",
        "\n",
        "Eigen-Decomposition expresses a matrix A as:\n",
        "\n",
        "``` A = Q Λ Q^-1```\n",
        "\n",
        "where:\n",
        "\n",
        "Q is a matrix of eigenvectors,\n",
        "\n",
        "Λ is a diagonal matrix of eigenvalues.\n",
        "\n",
        "Example:\n",
        "Let\n",
        "\n",
        "A[0][0] = 4, A[0][1] = 2, A[1][0] = 1, A[1][1] = 3\n",
        "\n",
        "Find eigenvalues by solving\n",
        "det (𝐴−𝜆𝐼) = 0 :\n",
        "\n",
        "Let M = (𝐴−𝜆𝐼)\n",
        "\n",
        "M[0][0] = 4-λ , M[0][1] = 2, M[1][0] = 1, M[1][1] = 3 -λ\n",
        "\n",
        "det(M) = 0\n",
        "\n",
        "(4 - λ)(3 - λ) - 2 = λ^2 - 7λ + 10 = 0\n",
        "\n",
        "Eigen values are : λ1 = 5, λ2 = 2.\n",
        "\n",
        "Substitute λ to find eigen vectors."
      ],
      "metadata": {
        "id": "TKODmBQQGVEV"
      }
    },
    {
      "cell_type": "code",
      "source": [],
      "metadata": {
        "id": "sDhHxSMHKhfC"
      },
      "execution_count": null,
      "outputs": []
    },
    {
      "cell_type": "markdown",
      "source": [
        "Q2: What is eigen decomposition and what is its significance in linear algebra?"
      ],
      "metadata": {
        "id": "WpfQUzRGLDpn"
      }
    },
    {
      "cell_type": "markdown",
      "source": [
        "A2.\n",
        "\n",
        "Eigen-Decomposition:\n",
        "It decomposes a square matrix A into\n",
        "A = Q Λ Q^-1, where:\n",
        "\n",
        "Q contains eigenvectors as columns,\n",
        "\n",
        "Λ is a diagonal matrix of eigenvalues.\n",
        "\n",
        "# Significance:\n",
        "\n",
        "1.) Simplifies matrix operations (e.g., powers of A:\n",
        "A^k = Q Λ^k Q^-1).\n",
        "\n",
        "2.) Forms the basis of techniques like PCA, SVD, and spectral clustering.\n",
        "\n",
        "3.) Helps analyze system stability in control systems."
      ],
      "metadata": {
        "id": "ioqupzybLDYO"
      }
    },
    {
      "cell_type": "code",
      "source": [],
      "metadata": {
        "id": "zsNQduw1LFa0"
      },
      "execution_count": null,
      "outputs": []
    },
    {
      "cell_type": "markdown",
      "source": [
        "Q3: What are the conditions for a square matrix to be diagonalizable using the Eigen-Decomposition approach? Provide a brief proof."
      ],
      "metadata": {
        "id": "F1Ny9v9NKhMF"
      }
    },
    {
      "cell_type": "markdown",
      "source": [
        "A3. Condition:\n",
        "A square matrix\n",
        "A is diagonalizable if it has n linearly independent eigenvectors (for n x n).\n",
        "\n",
        "Proof:\n",
        "If A has n independent eigenvectors, they can form Q.\n",
        "By construction:\n",
        "\n",
        "```A = Q Λ Q^−1 ```\n",
        "\n",
        "If eigenvectors are dependent, Q is not invertible, making diagonalization impossible.\n",
        "\n"
      ],
      "metadata": {
        "id": "etj1A-bhKg-Q"
      }
    },
    {
      "cell_type": "code",
      "source": [],
      "metadata": {
        "id": "aj4-wZIBKgoD"
      },
      "execution_count": null,
      "outputs": []
    },
    {
      "cell_type": "markdown",
      "source": [
        "Q4: What is the significance of the spectral theorem in the context of the Eigen-Decomposition approach? How is it related to diagonalizability? Explain with an example.\n"
      ],
      "metadata": {
        "id": "eYBcuTEnJKyW"
      }
    },
    {
      "cell_type": "markdown",
      "source": [
        "A4.\n",
        "\n",
        "### Spectral Theorem:\n",
        "For a symmetric matrix A, eigenvalues are real, and eigenvectors are orthogonal. Hence, A is diagonalizable as:\n",
        "\n",
        "``` A = Q Λ Q ^T```\n",
        "\n",
        "Example:\n",
        "\n",
        "For  A[0][0] = 2, A[0][1] = 1, A[1][0] = 1, A[1][1] = 2, eigen values are real (3,1), and eigenvectors are orthogonal. Thus:\n",
        "\n",
        "``` A = Q Λ Q ^T```"
      ],
      "metadata": {
        "id": "Ajl7vZMxJKda"
      }
    },
    {
      "cell_type": "code",
      "source": [],
      "metadata": {
        "id": "KrelUCe9JJiY"
      },
      "execution_count": null,
      "outputs": []
    },
    {
      "cell_type": "markdown",
      "source": [
        "Q5: How do you find the eigenvalues of a matrix and what do they represent?"
      ],
      "metadata": {
        "id": "fH5ydqzlI1W4"
      }
    },
    {
      "cell_type": "markdown",
      "source": [
        "A5.\n",
        "\n",
        "## Finding Eigenvalues:\n",
        "Solve\n",
        "det(𝐴−𝜆𝐼)=0\n",
        "\n",
        "## Representation:\n",
        "Eigenvalues represent scaling factors for eigenvectors under the transformation A.\n",
        "\n"
      ],
      "metadata": {
        "id": "_ZjCPX7eI3Yi"
      }
    },
    {
      "cell_type": "code",
      "source": [],
      "metadata": {
        "id": "T1CIlnYqI03f"
      },
      "execution_count": null,
      "outputs": []
    },
    {
      "cell_type": "markdown",
      "source": [
        "Q6: What are eigenvectors and how are they related to eigenvalues?"
      ],
      "metadata": {
        "id": "BKoKIxWmIuGY"
      }
    },
    {
      "cell_type": "markdown",
      "source": [
        "A6. Eigenvectors are vectors that maintain direction under the transformation A, while eigenvalues indicate the scaling factor."
      ],
      "metadata": {
        "id": "-T4p_aW5IwS7"
      }
    },
    {
      "cell_type": "code",
      "source": [],
      "metadata": {
        "id": "uWAQBid3Ito0"
      },
      "execution_count": null,
      "outputs": []
    },
    {
      "cell_type": "markdown",
      "source": [
        "Q7: Can you explain the geometric interpretation of eigenvectors and eigenvalues?"
      ],
      "metadata": {
        "id": "Dg4gn_gvIoLG"
      }
    },
    {
      "cell_type": "markdown",
      "source": [
        "A7. Eigenvectors indicate the directions in which a transformation scales the space, and eigenvalues indicate the magnitude of scaling along those directions."
      ],
      "metadata": {
        "id": "ZNuEAGGDIqPy"
      }
    },
    {
      "cell_type": "code",
      "source": [],
      "metadata": {
        "id": "QPN4v1IdInfX"
      },
      "execution_count": null,
      "outputs": []
    },
    {
      "cell_type": "markdown",
      "source": [
        "Q8: What are some real-world applications of eigen decomposition?"
      ],
      "metadata": {
        "id": "VQkxz-mLIPSX"
      }
    },
    {
      "cell_type": "markdown",
      "source": [
        "A8. Some real-world applications of eigen decomposition are -\n",
        "\n",
        "1) **PCA:** For dimensionality reduction.\n",
        "\n",
        "2.) **Spectral Clustering:** In graph-based machine learning.\n",
        "\n",
        "3.) **Vibration *italicised text* Analysis:** Understanding natural frequencies of systems."
      ],
      "metadata": {
        "id": "U8aL9Wb2IUxz"
      }
    },
    {
      "cell_type": "code",
      "source": [],
      "metadata": {
        "id": "Ala59F-7IP0x"
      },
      "execution_count": null,
      "outputs": []
    },
    {
      "cell_type": "markdown",
      "source": [
        "Q9: Can a matrix have more than one set of eigenvectors and eigenvalues?"
      ],
      "metadata": {
        "id": "iu1Vg_9JILCB"
      }
    },
    {
      "cell_type": "markdown",
      "source": [
        "A9. A matrix can have multiple eigenvectors for each eigenvalue, but the eigenvalues themselves are unique (up to multiplicity)."
      ],
      "metadata": {
        "id": "sfi91EAfIL-I"
      }
    },
    {
      "cell_type": "code",
      "execution_count": null,
      "metadata": {
        "id": "vuaj0erhFaX6"
      },
      "outputs": [],
      "source": []
    },
    {
      "cell_type": "markdown",
      "source": [
        "Q10: In what ways is the Eigen-Decomposition approach useful in data analysis and machine learning?"
      ],
      "metadata": {
        "id": "BlKrl73VH7k7"
      }
    },
    {
      "cell_type": "markdown",
      "source": [
        "A10.\n",
        "\n",
        "1.) **Dimensionality Reduction:** PCA reduces feature space while retaining variance.\n",
        "\n",
        "2.) **Data Compression:** Reduces storage by keeping dominant eigenvalues.\n",
        "\n",
        "3.) **Kernel Methods:** Used in SVMs and kernel PCA for complex transformations."
      ],
      "metadata": {
        "id": "PMRtWoMhH_Cj"
      }
    },
    {
      "cell_type": "code",
      "source": [],
      "metadata": {
        "id": "a_ERHbj-II1U"
      },
      "execution_count": null,
      "outputs": []
    },
    {
      "cell_type": "code",
      "source": [],
      "metadata": {
        "id": "2HB9I1FZNjZa"
      },
      "execution_count": null,
      "outputs": []
    }
  ]
}