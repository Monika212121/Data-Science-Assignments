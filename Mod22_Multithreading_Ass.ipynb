{
  "nbformat": 4,
  "nbformat_minor": 0,
  "metadata": {
    "colab": {
      "provenance": []
    },
    "kernelspec": {
      "name": "python3",
      "display_name": "Python 3"
    },
    "language_info": {
      "name": "python"
    }
  },
  "cells": [
    {
      "cell_type": "markdown",
      "source": [
        "# Module22 Multithreading Assignment"
      ],
      "metadata": {
        "id": "9wHVhLLwpAXA"
      }
    },
    {
      "cell_type": "markdown",
      "source": [
        "Q1. What is multithreading in python? Why is it used? Name the module used to handle threads in python."
      ],
      "metadata": {
        "id": "PNNTE6d9kXON"
      }
    },
    {
      "cell_type": "markdown",
      "source": [
        "A1. Multithreading refers to the ability of a program to execute multiple threads concurrently. Each thread represents a separate flow of execution within the same program.\n",
        "\n",
        "Python provides the threading module to work with threads.\n",
        "\n",
        "### Why is Multithreading Used?\n",
        "\n",
        "1.) **Improved Performance:** Allows multiple operations to run concurrently, improving program efficiency.\n",
        "\n",
        "2.) **Better Resource Utilization:** Threads share the same memory space, reducing overhead.\n",
        "\n",
        "3.) **Parallel Execution:** Suitable for I/O-bound tasks (e.g., file handling, network requests).\n",
        "\n",
        "4.) **Responsive Programs:** Keeps the program responsive (e.g., GUI apps handling background tasks).\n",
        "\n",
        "Example of Multithreading:"
      ],
      "metadata": {
        "id": "fITNERGPl6-y"
      }
    },
    {
      "cell_type": "code",
      "source": [
        "import threading\n",
        "\n",
        "def print_numbers():\n",
        "    for i in range(1, 6):\n",
        "        print(f\"Number: {i}\")\n",
        "\n",
        "thread = threading.Thread(target=print_numbers)\n",
        "thread.start()  # Start the thread\n",
        "thread.join()   # Wait for the thread to complete\n"
      ],
      "metadata": {
        "colab": {
          "base_uri": "https://localhost:8080/"
        },
        "id": "XZ7-NHPSmP5s",
        "outputId": "8c56d227-a6be-431f-fe4c-32cf41ef86b7"
      },
      "execution_count": 1,
      "outputs": [
        {
          "output_type": "stream",
          "name": "stdout",
          "text": [
            "Number: 1\n",
            "Number: 2\n",
            "Number: 3\n",
            "Number: 4\n",
            "Number: 5\n"
          ]
        }
      ]
    },
    {
      "cell_type": "code",
      "execution_count": null,
      "metadata": {
        "id": "gniSLN6WkKBI"
      },
      "outputs": [],
      "source": []
    },
    {
      "cell_type": "markdown",
      "source": [
        "Q2. Why threading module used? Write the use of the following functions:\n",
        "\n",
        "1. activeCount()\n",
        "2. currentThread()\n",
        "3. enumerate()"
      ],
      "metadata": {
        "id": "XFSV42KnkZyX"
      }
    },
    {
      "cell_type": "markdown",
      "source": [
        "A2. The threading module in Python is used to create and manage threads.\n",
        "\n",
        "### Functions of the threading Module:\n",
        "\n",
        "1.) activeCount()\n",
        "\n",
        "Returns the number of currently active threads."
      ],
      "metadata": {
        "id": "umnNehK0mUZm"
      }
    },
    {
      "cell_type": "code",
      "source": [
        "# Example\n",
        "\n",
        "import threading\n",
        "print(\"Active Threads:\", threading.active_count())\n"
      ],
      "metadata": {
        "colab": {
          "base_uri": "https://localhost:8080/"
        },
        "id": "JJZsilxWmdpV",
        "outputId": "aecbacc9-5caf-4b2b-cb62-b47372cb1b64"
      },
      "execution_count": 2,
      "outputs": [
        {
          "output_type": "stream",
          "name": "stdout",
          "text": [
            "Active Threads: 3\n"
          ]
        }
      ]
    },
    {
      "cell_type": "markdown",
      "source": [
        "2. currentThread()\n",
        "\n",
        "Returns the current thread object."
      ],
      "metadata": {
        "id": "E-LtGqGDmj0N"
      }
    },
    {
      "cell_type": "code",
      "source": [
        "# Example\n",
        "\n",
        "import threading\n",
        "print(\"Current Thread:\", threading.current_thread().name)\n"
      ],
      "metadata": {
        "colab": {
          "base_uri": "https://localhost:8080/"
        },
        "id": "KHeyNA_FmnAR",
        "outputId": "9a447233-2d50-4955-a24a-679b50c4449d"
      },
      "execution_count": 3,
      "outputs": [
        {
          "output_type": "stream",
          "name": "stdout",
          "text": [
            "Current Thread: MainThread\n"
          ]
        }
      ]
    },
    {
      "cell_type": "markdown",
      "source": [
        "3.) enumerate()\n",
        "\n",
        "Returns a list of all active thread objects."
      ],
      "metadata": {
        "id": "RKexDRlVmrMJ"
      }
    },
    {
      "cell_type": "code",
      "source": [
        "# Example\n",
        "\n",
        "import threading\n",
        "print(\"All Threads:\", threading.enumerate())\n"
      ],
      "metadata": {
        "colab": {
          "base_uri": "https://localhost:8080/"
        },
        "id": "qk5UwS-JmtX-",
        "outputId": "18d19186-5ffd-4859-d649-21bb808a61a7"
      },
      "execution_count": 4,
      "outputs": [
        {
          "output_type": "stream",
          "name": "stdout",
          "text": [
            "All Threads: [<_MainThread(MainThread, started 139909510631424)>, <ParentPollerUnix(Thread-2, started daemon 139908945360448)>, <Thread(_colab_inspector_thread, started daemon 139908542879296)>]\n"
          ]
        }
      ]
    },
    {
      "cell_type": "code",
      "source": [],
      "metadata": {
        "id": "KQ4g741ukho3"
      },
      "execution_count": null,
      "outputs": []
    },
    {
      "cell_type": "markdown",
      "source": [
        "Q3. Explain the following functions:\n",
        "\n",
        "1. run()\n",
        "2. start()\n",
        "3. join()\n",
        "4. isAlive()"
      ],
      "metadata": {
        "id": "VfQbdEbSkjYp"
      }
    },
    {
      "cell_type": "markdown",
      "source": [
        "A3. Explanation of Key threading methods are -\n",
        "\n",
        "1.) run()\n",
        "\n",
        "Defines the thread’s activity.\n",
        "It is automatically called when you use start().\n",
        "\n",
        "2.) start()\n",
        "\n",
        "Begins a thread’s execution.\n",
        "Calls the run() method internally.\n"
      ],
      "metadata": {
        "id": "Qh7jZ4mBm0yK"
      }
    },
    {
      "cell_type": "code",
      "source": [
        "# Example\n",
        "\n",
        "import threading\n",
        "\n",
        "class MyThread(threading.Thread):\n",
        "    def run(self):\n",
        "        print(\"Thread is running\")\n",
        "\n",
        "t = MyThread()\n",
        "t.start()  # Calls run() internally\n"
      ],
      "metadata": {
        "colab": {
          "base_uri": "https://localhost:8080/"
        },
        "id": "55xR2NjHnBjL",
        "outputId": "55f897a1-eab1-40c0-ebcf-09e5eae0d8f5"
      },
      "execution_count": 5,
      "outputs": [
        {
          "output_type": "stream",
          "name": "stdout",
          "text": [
            "Thread is running\n"
          ]
        }
      ]
    },
    {
      "cell_type": "markdown",
      "source": [
        "3.) join()\n",
        "\n",
        "Blocks the calling thread until the thread finishes execution."
      ],
      "metadata": {
        "id": "AlcsMdjonEb3"
      }
    },
    {
      "cell_type": "code",
      "source": [
        "# Example\n",
        "\n",
        "import threading\n",
        "import time\n",
        "\n",
        "def task():\n",
        "    time.sleep(2)\n",
        "    print(\"Task completed\")\n",
        "\n",
        "t = threading.Thread(target=task)\n",
        "t.start()\n",
        "t.join()  # Wait until the thread completes\n",
        "print(\"Main thread continues\")\n"
      ],
      "metadata": {
        "colab": {
          "base_uri": "https://localhost:8080/"
        },
        "id": "QEGXponNkrhv",
        "outputId": "139483d0-ba9c-4cb4-b208-41862ae34aaf"
      },
      "execution_count": 6,
      "outputs": [
        {
          "output_type": "stream",
          "name": "stdout",
          "text": [
            "Task completed\n",
            "Main thread continues\n"
          ]
        }
      ]
    },
    {
      "cell_type": "markdown",
      "source": [
        "4.) is_alive()\n",
        "\n",
        "Returns True if the thread is still running."
      ],
      "metadata": {
        "id": "STAI-w2VnNlV"
      }
    },
    {
      "cell_type": "code",
      "source": [
        "# Example\n",
        "\n",
        "import threading\n",
        "import time\n",
        "\n",
        "def task():\n",
        "    time.sleep(3)\n",
        "\n",
        "t = threading.Thread(target=task)\n",
        "t.start()\n",
        "print(\"Is thread alive?\", t.is_alive())\n"
      ],
      "metadata": {
        "colab": {
          "base_uri": "https://localhost:8080/"
        },
        "id": "oxi-iUVHnRLX",
        "outputId": "ca0ffec7-f605-414e-d7b0-51e1ffec78f1"
      },
      "execution_count": 7,
      "outputs": [
        {
          "output_type": "stream",
          "name": "stdout",
          "text": [
            "Is thread alive? True\n"
          ]
        }
      ]
    },
    {
      "cell_type": "code",
      "source": [],
      "metadata": {
        "id": "7sJqT0eJnXil"
      },
      "execution_count": null,
      "outputs": []
    },
    {
      "cell_type": "markdown",
      "source": [
        "Q4. Write a python program to create two threads. Thread one must print the list of squares and thread\n",
        "two must print the list of cubes."
      ],
      "metadata": {
        "id": "GGPv8XcTktBu"
      }
    },
    {
      "cell_type": "code",
      "source": [
        "# A4. Program\n",
        "\n",
        "import threading\n",
        "\n",
        "def print_squares():\n",
        "    for i in range(1, 6):\n",
        "        print(f\"Square of {i}: {i ** 2}\")\n",
        "\n",
        "def print_cubes():\n",
        "    for i in range(1, 6):\n",
        "        print(f\"Cube of {i}: {i ** 3}\")\n",
        "\n",
        "# Create threads\n",
        "square_thread = threading.Thread(target=print_squares)\n",
        "cube_thread = threading.Thread(target=print_cubes)\n",
        "\n",
        "# Start threads\n",
        "square_thread.start()\n",
        "cube_thread.start()\n",
        "\n",
        "# Wait for both threads to complete\n",
        "square_thread.join()\n",
        "cube_thread.join()\n",
        "\n",
        "print(\"Both threads completed\")\n"
      ],
      "metadata": {
        "colab": {
          "base_uri": "https://localhost:8080/"
        },
        "id": "-b7RnxVYnYXM",
        "outputId": "9651265c-7f86-4f00-e7fb-6a5099a8d986"
      },
      "execution_count": 8,
      "outputs": [
        {
          "output_type": "stream",
          "name": "stdout",
          "text": [
            "Square of 1: 1\n",
            "Square of 2: 4\n",
            "Square of 3: 9\n",
            "Square of 4: 16\n",
            "Square of 5: 25\n",
            "Cube of 1: 1\n",
            "Cube of 2: 8\n",
            "Cube of 3: 27\n",
            "Cube of 4: 64\n",
            "Cube of 5: 125\n",
            "Both threads completed\n"
          ]
        }
      ]
    },
    {
      "cell_type": "code",
      "source": [],
      "metadata": {
        "id": "paiMQmdMktj3"
      },
      "execution_count": null,
      "outputs": []
    },
    {
      "cell_type": "markdown",
      "source": [
        "Q5. State advantages and disadvantages of multithreading."
      ],
      "metadata": {
        "id": "dxszhy6Xku9E"
      }
    },
    {
      "cell_type": "markdown",
      "source": [
        "A5. Advantages and Diadvantages of Multithreading are -\n",
        "\n",
        "### Advantages:\n",
        "\n",
        "1.) **Faster Execution:** Parallel execution of tasks speeds up performance.\n",
        "\n",
        "2.) **Resource Sharing:** Threads share the same memory space, optimizing resources.\n",
        "\n",
        "3.)** Improved Responsiveness:** Keeps applications responsive (e.g., GUI apps).\n",
        "\n",
        "4.) **Concurrent I/O:** Ideal for tasks like file handling and API calls.\n",
        "\n",
        "\n",
        "### Disadvantages:\n",
        "\n",
        "1.) **GIL Limitation:** Python's Global Interpreter Lock (GIL) prevents true parallelism for CPU-bound tasks.\n",
        "\n",
        "2.) **Complex Debugging:** Harder to trace and debug concurrent issues.\n",
        "\n",
        "3.) **Race Conditions:** Can lead to inconsistent data if threads access shared resources.\n",
        "\n",
        "4.) **Deadlocks:** Threads waiting on each other indefinitely can freeze programs.\n"
      ],
      "metadata": {
        "id": "jgkYTppCne2y"
      }
    },
    {
      "cell_type": "code",
      "source": [],
      "metadata": {
        "id": "n776aQFOkvYH"
      },
      "execution_count": null,
      "outputs": []
    },
    {
      "cell_type": "markdown",
      "source": [
        "Q6. Explain deadlocks and race conditions."
      ],
      "metadata": {
        "id": "nRhC1iLNkw5-"
      }
    },
    {
      "cell_type": "markdown",
      "source": [
        "A6. 1.) Deadlock: A deadlock occurs when two or more threads wait indefinitely for resources held by each other."
      ],
      "metadata": {
        "id": "HwWYApPUn_HR"
      }
    },
    {
      "cell_type": "code",
      "source": [
        "# Example of Deadlock:\n",
        "\n",
        "import threading\n",
        "\n",
        "lock1 = threading.Lock()\n",
        "lock2 = threading.Lock()\n",
        "\n",
        "def task1():\n",
        "    lock1.acquire()\n",
        "    print(\"Task 1 acquired Lock 1\")\n",
        "    lock2.acquire()\n",
        "    print(\"Task 1 acquired Lock 2\")\n",
        "    lock2.release()\n",
        "    lock1.release()\n",
        "\n",
        "def task2():\n",
        "    lock2.acquire()\n",
        "    print(\"Task 2 acquired Lock 2\")\n",
        "    lock1.acquire()\n",
        "    print(\"Task 2 acquired Lock 1\")\n",
        "    lock1.release()\n",
        "    lock2.release()\n",
        "\n",
        "t1 = threading.Thread(target=task1)\n",
        "t2 = threading.Thread(target=task2)\n",
        "\n",
        "t1.start()\n",
        "t2.start()\n",
        "\n",
        "t1.join()\n",
        "t2.join()\n"
      ],
      "metadata": {
        "colab": {
          "base_uri": "https://localhost:8080/"
        },
        "id": "rWg4zCDokxXX",
        "outputId": "a0097d47-794d-4e65-e93c-f3996de5cca3"
      },
      "execution_count": 11,
      "outputs": [
        {
          "output_type": "stream",
          "name": "stdout",
          "text": [
            "Task 1 acquired Lock 1\n",
            "Task 1 acquired Lock 2\n",
            "Task 2 acquired Lock 2\n",
            "Task 2 acquired Lock 1\n"
          ]
        }
      ]
    },
    {
      "cell_type": "markdown",
      "source": [
        " Solution: Use threading.Lock() with timeout to prevent deadlocks."
      ],
      "metadata": {
        "id": "4KGDJbnsoHh1"
      }
    },
    {
      "cell_type": "markdown",
      "source": [
        "2.) **Race Condition:** Occurs when multiple threads access and modify shared data simultaneously, leading to inconsistent results."
      ],
      "metadata": {
        "id": "PzaLKlbjoJ-P"
      }
    },
    {
      "cell_type": "code",
      "source": [
        "# Example of Race Condition:\n",
        "\n",
        "import threading\n",
        "\n",
        "counter = 0\n",
        "lock = threading.Lock()\n",
        "\n",
        "def increment():\n",
        "    global counter\n",
        "    for _ in range(1000000):\n",
        "        counter += 1\n",
        "\n",
        "threads = [threading.Thread(target=increment) for _ in range(5)]\n",
        "\n",
        "for t in threads:\n",
        "    t.start()\n",
        "\n",
        "for t in threads:\n",
        "    t.join()\n",
        "\n",
        "print(\"Final Counter Value:\", counter)\n"
      ],
      "metadata": {
        "colab": {
          "base_uri": "https://localhost:8080/"
        },
        "id": "nt27RZ2poDcR",
        "outputId": "c6fa118a-ea97-4c51-e184-a20b4cf0208f"
      },
      "execution_count": 10,
      "outputs": [
        {
          "output_type": "stream",
          "name": "stdout",
          "text": [
            "Final Counter Value: 5000000\n"
          ]
        }
      ]
    },
    {
      "cell_type": "markdown",
      "source": [
        "Expected Output:\n",
        "\n",
        "```Final Counter Value: 5000000 ```\n",
        "\n",
        "Actual Output (Due to Race Condition):\n",
        "\n",
        "```Final Counter Value: 4987329 ```\n",
        "\n",
        "Solution: Use a Lock() to synchronize threads:\n",
        "\n",
        "```def increment():\n",
        "    global counter\n",
        "    for _ in range(1000000):\n",
        "        with lock:\n",
        "            counter += 1\n",
        "```"
      ],
      "metadata": {
        "id": "ZtbAvm5locth"
      }
    },
    {
      "cell_type": "code",
      "source": [],
      "metadata": {
        "id": "l8ZntC1qoNsY"
      },
      "execution_count": null,
      "outputs": []
    },
    {
      "cell_type": "code",
      "source": [],
      "metadata": {
        "id": "beNVnillpIik"
      },
      "execution_count": null,
      "outputs": []
    }
  ]
}