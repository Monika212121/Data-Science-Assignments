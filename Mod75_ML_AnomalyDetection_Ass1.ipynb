{
  "nbformat": 4,
  "nbformat_minor": 0,
  "metadata": {
    "colab": {
      "provenance": []
    },
    "kernelspec": {
      "name": "python3",
      "display_name": "Python 3"
    },
    "language_info": {
      "name": "python"
    }
  },
  "cells": [
    {
      "cell_type": "markdown",
      "source": [
        "# Module 75 Anamoly detection Ass1"
      ],
      "metadata": {
        "id": "noecYN9pte2h"
      }
    },
    {
      "cell_type": "markdown",
      "source": [
        "Q1. What is anomaly detection and what is its purpose?"
      ],
      "metadata": {
        "id": "TeWbUPG8lyh3"
      }
    },
    {
      "cell_type": "markdown",
      "source": [
        "A1. Anomaly detection is the process of identifying data points, events, or patterns that deviate significantly from the norm.\n",
        "\n",
        "# Purpose:\n",
        "\n",
        "1.) Detect fraud (e.g., credit card fraud).\n",
        "\n",
        "2.) Identify network intrusions (cybersecurity).\n",
        "\n",
        "3.) Monitor machine failures in manufacturing.\n",
        "\n",
        "4.) Spot disease outbreaks in healthcare."
      ],
      "metadata": {
        "id": "oIs9XFQLmP8z"
      }
    },
    {
      "cell_type": "code",
      "source": [],
      "metadata": {
        "id": "m9URccuMl1gq"
      },
      "execution_count": null,
      "outputs": []
    },
    {
      "cell_type": "markdown",
      "source": [
        "Q2. What are the key challenges in anomaly detection?"
      ],
      "metadata": {
        "id": "3G5LLy4Nl14Z"
      }
    },
    {
      "cell_type": "markdown",
      "source": [
        "A2. The key challenges in anomaly detection are:\n",
        "\n",
        "1.) **Lack of labeled data** – Most anomalies are rare, making it difficult to train supervised models.\n",
        "\n",
        "2.) **Data imbalance** – Anomalies occur infrequently compared to normal data.\n",
        "\n",
        "3.) **High-dimensional data** – Many algorithms struggle with feature-rich datasets.\n",
        "\n",
        "4.) **Concept drift** – Normal behavior may change over time.\n",
        "\n",
        "5.) **No clear definition of anomalies** – Anomalies can be subjective and depend on context."
      ],
      "metadata": {
        "id": "uYbIhPQbmeIJ"
      }
    },
    {
      "cell_type": "code",
      "source": [],
      "metadata": {
        "id": "vmP_7qyel3wn"
      },
      "execution_count": null,
      "outputs": []
    },
    {
      "cell_type": "markdown",
      "source": [
        "Q3. How does unsupervised anomaly detection differ from supervised anomaly detection?"
      ],
      "metadata": {
        "id": "4oJ-YMUVl4F8"
      }
    },
    {
      "cell_type": "markdown",
      "source": [
        "A5. Difference between Unsupervised Anomaly detection and Supervised anomaly detection are:\n",
        "\n",
        "Lets Supervised Anamoly Detection = SAD\n",
        "\n",
        "Unsupervised Supervised Anamoly Detection = USAD\n",
        "\n",
        "# Based on the features -\n",
        "\n",
        "## 1.) Labeled data\n",
        "\n",
        "SAD - Requires labeled normal and anomaly data\n",
        "\n",
        "USAD - No labeled data required\n",
        "\n",
        "\n",
        "## 2.) Algorithm type\n",
        "\n",
        "SAD - Classification-based (e.g., SVM, Random Forest)\n",
        "\n",
        "USAD - Clustering, density, isolation-based methods\n",
        "\n",
        "## 3.) Use case\n",
        "\n",
        "SAD - When labeled anomalies exist\n",
        "\n",
        "USAD - When anomalies are unknown or evolving\n",
        "\n",
        "## 4.) Examples\n",
        "\n",
        "SAD - Fraud detection (with labeled fraud cases)\n",
        "\n",
        "USAD - Intrusion detection in new network traffic\n"
      ],
      "metadata": {
        "id": "JRvLKP_em2wg"
      }
    },
    {
      "cell_type": "code",
      "source": [],
      "metadata": {
        "id": "Pn1IFN9sl6cr"
      },
      "execution_count": null,
      "outputs": []
    },
    {
      "cell_type": "markdown",
      "source": [
        "Q4. What are the main categories of anomaly detection algorithms?"
      ],
      "metadata": {
        "id": "D_DqwnaZl63Q"
      }
    },
    {
      "cell_type": "markdown",
      "source": [
        "A4. The main categories of anomaly detection algorithms are -\n",
        "\n",
        "1.) Statistical Methods – Z-score, Grubbs' test (assume a distribution).\n",
        "\n",
        "2.) Distance-Based – KNN-based anomaly detection, LOF.\n",
        "\n",
        "3.) Density-Based – DBSCAN, LOF (Local Outlier Factor).\n",
        "\n",
        "4.) Isolation-Based – Isolation Forest.\n",
        "Deep Learning-Based – Autoencoders, GANs.\n"
      ],
      "metadata": {
        "id": "ju-oEVJVoK-z"
      }
    },
    {
      "cell_type": "code",
      "source": [],
      "metadata": {
        "id": "teTWBPacl8xQ"
      },
      "execution_count": null,
      "outputs": []
    },
    {
      "cell_type": "markdown",
      "source": [
        "Q5. What are the main assumptions made by distance-based anomaly detection methods?"
      ],
      "metadata": {
        "id": "0s7nBUtDl9J-"
      }
    },
    {
      "cell_type": "markdown",
      "source": [
        "A5. The main assumptions made by distance-based anomaly detection methods are -\n",
        "\n",
        "1.) Anomalies are far from normal data points in feature space.\n",
        "\n",
        "2.) Normal data points form dense clusters, while anomalies are isolated.\n",
        "\n",
        "3.) Distance metrics (e.g., Euclidean distance) are meaningful for detecting deviations.\n"
      ],
      "metadata": {
        "id": "Pp_bM1wEoYV4"
      }
    },
    {
      "cell_type": "code",
      "source": [],
      "metadata": {
        "id": "4ChQCYCvl-0W"
      },
      "execution_count": null,
      "outputs": []
    },
    {
      "cell_type": "markdown",
      "source": [
        "Q6. How does the LOF algorithm compute anomaly scores?"
      ],
      "metadata": {
        "id": "FdLu2cyXl_Ot"
      }
    },
    {
      "cell_type": "markdown",
      "source": [
        "A6. LOF measures how much a point deviates from its neighbors using local density estimation.\n",
        "\n",
        "## Steps:\n",
        "\n",
        "1.) Compute k-nearest neighbors (kNN) for each point.\n",
        "\n",
        "2.) Compute local reachability density (LRD): Measures how dense the neighborhood of a point is.\n",
        "\n",
        "3.) Compute LOF score:\n",
        "\n",
        "```\n",
        "LOF(A) = { ∑(B belongs to kNN(A)) LRD(B)/LRD(A) } / |kNN(A))|\n",
        "\n",
        "```\n",
        "\n",
        "where,\n",
        "\n",
        "LOF = 1 -> Normal point\n",
        "\n",
        "LOF > 1 -> Anomalous (sparser that neighbors)."
      ],
      "metadata": {
        "id": "gRCIHINHoj1t"
      }
    },
    {
      "cell_type": "code",
      "source": [],
      "metadata": {
        "id": "Ne1N6J5HmAzD"
      },
      "execution_count": null,
      "outputs": []
    },
    {
      "cell_type": "markdown",
      "source": [
        "Q7. What are the key parameters of the Isolation Forest algorithm?"
      ],
      "metadata": {
        "id": "fu_UPw0YmBJK"
      }
    },
    {
      "cell_type": "markdown",
      "source": [
        "A7. The key parameters of the Isolation Forest algorithm are -\n",
        "\n",
        "1.) **Number of trees** (n_estimators) – More trees increase stability (default: 100).\n",
        "\n",
        "2.) **Subsample size** (max_samples) – Number of data points per tree.\n",
        "\n",
        "3.) **Contamination** (contamination) – Expected proportion of anomalies.\n",
        "\n",
        "4.) **Feature selection** (max_features) – Number of features used per split.\n"
      ],
      "metadata": {
        "id": "wj_X-NDxrqFN"
      }
    },
    {
      "cell_type": "code",
      "source": [],
      "metadata": {
        "id": "s1bH_K-xmDmp"
      },
      "execution_count": null,
      "outputs": []
    },
    {
      "cell_type": "markdown",
      "source": [
        "Q8. If a data point has only 2 neighbours of the same class within a radius of 0.5, what is its anomaly score using KNN with K=10?"
      ],
      "metadata": {
        "id": "WqFvQd1amEGg"
      }
    },
    {
      "cell_type": "markdown",
      "source": [
        "A8.\n",
        "\n",
        "1.) KNN-based anomaly detection computes anomaly scores based on neighborhood density.\n",
        "\n",
        "2.) Since only 2 out of 10 neighbors belong to the same class, the point has a low density compared to others.\n",
        "\n",
        "3.) Anomaly Score = High (closer to 1, indicating an anomaly).\n"
      ],
      "metadata": {
        "id": "ccgxXgYgr_do"
      }
    },
    {
      "cell_type": "code",
      "source": [],
      "metadata": {
        "id": "XIsDpoOtmFmP"
      },
      "execution_count": null,
      "outputs": []
    },
    {
      "cell_type": "markdown",
      "source": [
        "Q9. Using the Isolation Forest algorithm with 100 trees and a dataset of 3000 data points, what is the\n",
        "anomaly score for a data point that has an average path length of 5.0 compared to the average path\n",
        "length of the trees?"
      ],
      "metadata": {
        "id": "5sgnCnYlmIGN"
      }
    },
    {
      "cell_type": "markdown",
      "source": [
        "A9.\n",
        "\n",
        "1.) Isolation Forest scores anomalies based on path length:\n",
        "\n",
        "Shorter path → More anomalous.\n",
        "\n",
        "Longer path → Normal point.\n",
        "\n",
        "\n",
        "2.) The expected average path length for 3000 data points is approximately:\n",
        "\n",
        "```\n",
        "c(n) = 2* H(n-1) - [2*(n-1)/n]\n",
        "```\n",
        "\n",
        "where, H(n) is the harmonic number.\n",
        "\n",
        "Approximate value = 11-12\n",
        "\n",
        "Given that the data point's path length is 5.0, which is much lower than the expected 11-12, it is highly anomalous.\n",
        "\n",
        "Anomaly Score: Close to 1.0 (very anomalous)."
      ],
      "metadata": {
        "id": "P4lClu7MtA74"
      }
    },
    {
      "cell_type": "code",
      "source": [],
      "metadata": {
        "id": "b1OaBhIMmIuS"
      },
      "execution_count": null,
      "outputs": []
    },
    {
      "cell_type": "code",
      "source": [],
      "metadata": {
        "id": "22Q8WlqPmJMA"
      },
      "execution_count": null,
      "outputs": []
    }
  ]
}