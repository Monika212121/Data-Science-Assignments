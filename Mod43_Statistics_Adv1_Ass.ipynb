{
  "nbformat": 4,
  "nbformat_minor": 0,
  "metadata": {
    "colab": {
      "provenance": []
    },
    "kernelspec": {
      "name": "python3",
      "display_name": "Python 3"
    },
    "language_info": {
      "name": "python"
    }
  },
  "cells": [
    {
      "cell_type": "markdown",
      "source": [
        "# Module43 Statistics Advance1 Assignment"
      ],
      "metadata": {
        "id": "tQ8B-FTHvHiT"
      }
    },
    {
      "cell_type": "markdown",
      "source": [
        "Q1. What is the Probability density function?"
      ],
      "metadata": {
        "id": "c6dQvMcMQmlA"
      }
    },
    {
      "cell_type": "markdown",
      "source": [
        "A1. The Probability Density Function (PDF) is a function that describes the likelihood of a random variable taking on a specific value in a continuous probability distribution. The area under the curve of a PDF over a given range represents the probability of the variable falling within that range.\n",
        "\n",
        "Mathematically, for a continuous random variable X, the probability that X lies between two values a and b is given by:\n",
        "\n",
        "``` P(a ≤ X ≤ b)=∫(a to b) f(x)dx```\n",
        "\n",
        "where, f(x) is the probability density function.\n",
        "\n"
      ],
      "metadata": {
        "id": "Cm4kP6kJvlVf"
      }
    },
    {
      "cell_type": "code",
      "source": [],
      "metadata": {
        "id": "Phzo5ByLvBSQ"
      },
      "execution_count": null,
      "outputs": []
    },
    {
      "cell_type": "markdown",
      "source": [
        "Q2. What are the types of Probability distribution?"
      ],
      "metadata": {
        "id": "8U4DBgwTvFBI"
      }
    },
    {
      "cell_type": "markdown",
      "source": [
        "A2. Probability distributions are mainly classified into:\n",
        "\n",
        "##1.) Discrete Distributions:\n",
        "\n",
        "1. Binomial Distribution (e.g., number of heads in coin tosses)\n",
        "\n",
        "2. Poisson Distribution (e.g., number of calls received at a call center per hour)\n",
        "\n",
        "3. Geometric Distribution\n",
        "\n",
        "4. Bernoulli Distribution\n",
        "\n",
        "5. Negative Binomial Distribution\n",
        "\n",
        "\n",
        "##2.) Continuous Distributions:\n",
        "\n",
        "1. Normal Distribution (e.g., height of people in a population)\n",
        "\n",
        "2. Exponential Distribution (e.g., time between arrivals in a Poisson process)\n",
        "\n",
        "3. Uniform Distribution\n",
        "\n",
        "4. Gamma Distribution\n",
        "\n",
        "5. Beta Distribution\n",
        "\n"
      ],
      "metadata": {
        "id": "Tw2ZJB9zwbQa"
      }
    },
    {
      "cell_type": "code",
      "source": [],
      "metadata": {
        "id": "JLk19pf5vGOO"
      },
      "execution_count": null,
      "outputs": []
    },
    {
      "cell_type": "markdown",
      "source": [
        "Q3. Write a Python function to calculate the probability density function of a normal distribution with given mean and standard deviation at a given point."
      ],
      "metadata": {
        "id": "JnJxzt35vAAC"
      }
    },
    {
      "cell_type": "code",
      "source": [
        "# A3. Function to calculate the Probablity Desity Function\n",
        "\n",
        "import scipy.stats as stats\n",
        "\n",
        "def get_normal_pdf_curve(x, mean, std_dev):\n",
        "    \"\"\"Calculate the probability density function of a normal distribution.\"\"\"\n",
        "    return stats.norm.pdf(x, mean, std_dev)\n",
        "\n",
        "# Example usage\n",
        "x_value = 2\n",
        "mean = 0\n",
        "std_dev = 1\n",
        "pdf_value = get_normal_pdf_curve(x_value, mean, std_dev)\n",
        "print(f\"PDF Value at x={x_value}: {pdf_value}\")\n"
      ],
      "metadata": {
        "colab": {
          "base_uri": "https://localhost:8080/"
        },
        "id": "6J_eGD2LxFpe",
        "outputId": "945ff573-dd7f-4ae8-ea59-e0ff662b5d66"
      },
      "execution_count": 1,
      "outputs": [
        {
          "output_type": "stream",
          "name": "stdout",
          "text": [
            "PDF Value at x=2: 0.05399096651318806\n"
          ]
        }
      ]
    },
    {
      "cell_type": "code",
      "source": [],
      "metadata": {
        "id": "zHN1UpaMu_gS"
      },
      "execution_count": null,
      "outputs": []
    },
    {
      "cell_type": "markdown",
      "source": [
        "Q4. What are the properties of Binomial distribution? Give two examples of events where binomial distribution can be applied."
      ],
      "metadata": {
        "id": "SLnMj1Bxu74Q"
      }
    },
    {
      "cell_type": "markdown",
      "source": [
        "A4. Properties of Binomial Distribution:\n",
        "\n",
        "1. The experiment consists of n independent trials.\n",
        "\n",
        "2. Each trial has exactly two possible outcomes: success or failure.\n",
        "\n",
        "3. The probability of success p is the same in each trial.\n",
        "\n",
        "4. The probability of failure is 1−p.\n",
        "\n",
        "5. The random variable X (number of successes) follows the binomial formula:\n",
        "\n",
        "``` P(X=k) = (k n) p^k * (1−p)^(n−k)```\n",
        "\n",
        "where, k is the number of successes.\n",
        "\n",
        "### Examples of Binomial Distribution Applications:\n",
        "\n",
        "1. **Tossing a Coin**: The number of heads obtained when flipping a coin 10 times.\n",
        "\n",
        "2. **Product Defects:** The number of defective items in a batch of 100 when the probability of defect is 5%.\n",
        "\n"
      ],
      "metadata": {
        "id": "B7jLf-GAxm6n"
      }
    },
    {
      "cell_type": "code",
      "source": [],
      "metadata": {
        "id": "rmyVviW5u5H5"
      },
      "execution_count": null,
      "outputs": []
    },
    {
      "cell_type": "markdown",
      "source": [
        "Q5. Generate a random sample of size 1000 from a binomial distribution with probability of success 0.4 and plot a histogram of the results using matplotlib."
      ],
      "metadata": {
        "id": "RI819YOvu3aX"
      }
    },
    {
      "cell_type": "code",
      "source": [
        "# A5.\n",
        "\n",
        "import numpy as np\n",
        "import matplotlib.pyplot as plt\n",
        "\n",
        "# Parameters\n",
        "n = 10  # Number of trials\n",
        "p = 0.4  # Probability of success\n",
        "size = 1000  # Sample size\n",
        "\n",
        "# Generate sample\n",
        "sample = np.random.binomial(n, p, size)\n",
        "\n",
        "# Plot histogram\n",
        "plt.hist(sample, bins=range(n+2), density=True, alpha=0.6, color='b', edgecolor='black')\n",
        "plt.xlabel('Number of Successes')\n",
        "plt.ylabel('Probability')\n",
        "plt.title('Binomial Distribution Histogram')\n",
        "plt.show()\n"
      ],
      "metadata": {
        "colab": {
          "base_uri": "https://localhost:8080/",
          "height": 472
        },
        "id": "RV8KSOe9yzxh",
        "outputId": "32c7bdf5-c4ea-4cb6-f27a-bebd2e5e895f"
      },
      "execution_count": 2,
      "outputs": [
        {
          "output_type": "display_data",
          "data": {
            "text/plain": [
              "<Figure size 640x480 with 1 Axes>"
            ],
            "image/png": "[encoded data removed]"
          },
          "metadata": {}
        }
      ]
    },
    {
      "cell_type": "code",
      "source": [],
      "metadata": {
        "id": "fT7tFqcTuzkc"
      },
      "execution_count": null,
      "outputs": []
    },
    {
      "cell_type": "markdown",
      "source": [
        "Q6. Write a Python function to calculate the cumulative distribution function of a Poisson distribution with given mean at a given point."
      ],
      "metadata": {
        "id": "J2H7OtEoux_G"
      }
    },
    {
      "cell_type": "code",
      "source": [
        "# A6.\n",
        "\n",
        "import scipy.stats as stats\n",
        "\n",
        "def get_poisson_cdf(k, mean):\n",
        "    \"\"\"Calculate the cumulative distribution function of a Poisson distribution.\"\"\"\n",
        "    return stats.poisson.cdf(k, mean)\n",
        "\n",
        "# Example usage\n",
        "k_value = 3\n",
        "mean = 5\n",
        "cdf_value = get_poisson_cdf(k_value, mean)\n",
        "print(f\"CDF Value at k={k_value}: {cdf_value}\")\n"
      ],
      "metadata": {
        "colab": {
          "base_uri": "https://localhost:8080/"
        },
        "id": "1CNDchBszPAX",
        "outputId": "15847575-6d34-4051-f20a-274c43bf7ad0"
      },
      "execution_count": 3,
      "outputs": [
        {
          "output_type": "stream",
          "name": "stdout",
          "text": [
            "CDF Value at k=3: 0.2650259152973616\n"
          ]
        }
      ]
    },
    {
      "cell_type": "code",
      "source": [],
      "metadata": {
        "id": "DC9qxTGYuxdY"
      },
      "execution_count": null,
      "outputs": []
    },
    {
      "cell_type": "markdown",
      "source": [
        "Q7. How Binomial distribution different from Poisson distribution?"
      ],
      "metadata": {
        "id": "EtXFpPSkutRS"
      }
    },
    {
      "cell_type": "markdown",
      "source": [
        "A7. Difference between Binomial and Poisson Distribution according the below features are:\n",
        "\n",
        "## Binomial Distribution:-\n",
        "\n",
        "1. Types of trials - Fixed number of trials n.\n",
        "\n",
        "2. Success Probablity(p) - Fixed for each trial.\n",
        "\n",
        "3. Mean(μ) - n*p\n",
        "\n",
        "4. Variance - n*p*(1−p)\n",
        "\n",
        "5. Example - Number of defective items in a batch.\n",
        "\n",
        "\n",
        "\n",
        "## Poisson Distribution:-\n",
        "\n",
        "1. Types of trials - Infinite possible occurrences\n",
        "\n",
        "2. Success Probablity(p) - Very small for each occurrence.\n",
        "\n",
        "3. Mean(μ) - λ (average rate)\n",
        "\n",
        "4. Variance - λ\n",
        "\n",
        "5. Example - Number of emails received per hour.\n"
      ],
      "metadata": {
        "id": "acPB4jZNzaPW"
      }
    },
    {
      "cell_type": "code",
      "source": [],
      "metadata": {
        "id": "Yu6K0YGmuszr"
      },
      "execution_count": null,
      "outputs": []
    },
    {
      "cell_type": "markdown",
      "source": [
        "Q8. Generate a random sample of size 1000 from a Poisson distribution with mean 5 and calculate the sample mean and variance."
      ],
      "metadata": {
        "id": "YEeKS9WqupCH"
      }
    },
    {
      "cell_type": "code",
      "source": [
        "# A8.\n",
        "\n",
        "# Parameters\n",
        "mean = 5\n",
        "size = 1000\n",
        "\n",
        "# Generate sample\n",
        "sample = np.random.poisson(mean, size)\n",
        "\n",
        "# Calculate sample mean and variance\n",
        "sample_mean = np.mean(sample)\n",
        "sample_variance = np.var(sample)\n",
        "\n",
        "print(f\"Sample Mean: {sample_mean}\")\n",
        "print(f\"Sample Variance: {sample_variance}\")\n"
      ],
      "metadata": {
        "colab": {
          "base_uri": "https://localhost:8080/"
        },
        "id": "qgKJ98C61BlO",
        "outputId": "ce542102-5594-4dec-badc-8a03451b400f"
      },
      "execution_count": 4,
      "outputs": [
        {
          "output_type": "stream",
          "name": "stdout",
          "text": [
            "Sample Mean: 5.018\n",
            "Sample Variance: 5.421676000000001\n"
          ]
        }
      ]
    },
    {
      "cell_type": "code",
      "source": [],
      "metadata": {
        "id": "UYfpEXqsuoh6"
      },
      "execution_count": null,
      "outputs": []
    },
    {
      "cell_type": "markdown",
      "source": [
        "Q9. How mean and variance are related in Binomial distribution and Poisson distribution?"
      ],
      "metadata": {
        "id": "5guBKy0UukNY"
      }
    },
    {
      "cell_type": "markdown",
      "source": [
        "A9.\n",
        "\n",
        "## 1.) Binomial Distribution:\n",
        "\n",
        "1. Mean: ```𝜇 = n * p```\n",
        "\n",
        "2. Variance: ```𝜎^2 = 𝑛 * 𝑝 * (1−𝑝)```\n",
        "\n",
        "3. The variance depends on both n and p.\n",
        "\n",
        "## 2.) Poisson Distribution:\n",
        "\n",
        "1. Mean: λ\n",
        "\n",
        "2. Variance: λ\n",
        "\n",
        "3. In Poisson, mean and variance are always equal."
      ],
      "metadata": {
        "id": "392Bzya11JDv"
      }
    },
    {
      "cell_type": "code",
      "source": [],
      "metadata": {
        "id": "AWl-aCvLujms"
      },
      "execution_count": null,
      "outputs": []
    },
    {
      "cell_type": "markdown",
      "source": [
        "Q10. In normal distribution with respect to mean position, where does the least frequent data appear?"
      ],
      "metadata": {
        "id": "hR1ozzPYugXA"
      }
    },
    {
      "cell_type": "markdown",
      "source": [
        "A10. In a normal distribution, the least frequent data points appear in the tails of the distribution, farthest from the mean (center).\n",
        "\n",
        "This corresponds to values that are more than three standard deviations away from the mean (extreme values)."
      ],
      "metadata": {
        "id": "b0kpd9I32Btg"
      }
    },
    {
      "cell_type": "code",
      "source": [],
      "metadata": {
        "id": "E0_5DRCOEZ_v"
      },
      "execution_count": null,
      "outputs": []
    },
    {
      "cell_type": "code",
      "source": [],
      "metadata": {
        "id": "gDTl_eEhEaCt"
      },
      "execution_count": null,
      "outputs": []
    }
  ]
}