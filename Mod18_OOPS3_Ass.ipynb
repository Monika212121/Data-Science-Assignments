{
  "nbformat": 4,
  "nbformat_minor": 0,
  "metadata": {
    "colab": {
      "provenance": []
    },
    "kernelspec": {
      "name": "python3",
      "display_name": "Python 3"
    },
    "language_info": {
      "name": "python"
    }
  },
  "cells": [
    {
      "cell_type": "markdown",
      "source": [
        "# Module 18 OOPS 3 Assignment"
      ],
      "metadata": {
        "id": "e6tGNOQUqGFD"
      }
    },
    {
      "cell_type": "markdown",
      "source": [
        "Q1. Which function is used to open a file? What are the different modes of opening a file? Explain each mode\n",
        "of file opening."
      ],
      "metadata": {
        "id": "c6TVfFZUqFyh"
      }
    },
    {
      "cell_type": "markdown",
      "source": [
        "A1. Function to open a file:\n",
        "In Python, the open() function is used to open a file. Syntax:\n",
        "\n",
        "```\n",
        "file = open(file_name, mode)\n",
        "\n",
        "```\n",
        "\n",
        "### File opening modes are -\n",
        "\n",
        "1.) **'r' -> Read Mode (Default):** Opens a file for reading. Raises FileNotFoundError if the file doesn't exist.\n",
        "\n",
        "2.) **'w' -> Write Mode:** Opens a file for writing. Overwrites the content if the file exists; creates a new one if it doesn't.\n",
        "\n",
        "3.) **'a' -> Append Mode:** Opens a file for writing. Appends new data without overwriting existing content.\n",
        "\n",
        "4.) **'r+' -> Read and Write:** Opens a file for both reading and writing. Requires the file to exist.\n",
        "\n",
        "5.) **'w+' -> \tWrite and Read:** Opens a file for both reading and writing. Overwrites the content if the file exists.\n",
        "\n",
        "6.) **'a+' -> Append and Read:** Opens a file for reading and appending. Keeps the existing content.\n",
        "\n",
        "7.) **'rb', 'wb', 'ab' -> Binary Modes:** Used for working with non-text files (e.g., images, audio files).\n",
        "\n",
        "\n",
        "\n",
        "\n"
      ],
      "metadata": {
        "id": "LG-Wr02xq1VB"
      }
    },
    {
      "cell_type": "code",
      "execution_count": null,
      "metadata": {
        "id": "bae8JkdzqAMs"
      },
      "outputs": [],
      "source": []
    },
    {
      "cell_type": "markdown",
      "source": [
        "Q2. Why close() function is used? Why is it important to close a file?"
      ],
      "metadata": {
        "id": "egvIwG3SqP1m"
      }
    },
    {
      "cell_type": "markdown",
      "source": [
        "A2. The close() method is used to close an open file and free up system resources.\n",
        "\n",
        "## Importance of Closing a File:\n",
        "\n",
        "1.) Releases Resources: Frees memory and file locks.\n",
        "\n",
        "2.) Data Integrity: Ensures all data is written to the file (buffered output).\n",
        "\n",
        "3.) Prevents Errors: Avoids corruption by properly terminating the connection to the file.\n"
      ],
      "metadata": {
        "id": "_IBU7ShurxhE"
      }
    },
    {
      "cell_type": "code",
      "source": [
        "# Example\n",
        "file = open(\"example.txt\", \"w\")\n",
        "file.write(\"Hello, World!\")\n",
        "file.close()  # Closing the file\n"
      ],
      "metadata": {
        "id": "sRA-eMsrr9Gt"
      },
      "execution_count": 1,
      "outputs": []
    },
    {
      "cell_type": "code",
      "source": [],
      "metadata": {
        "id": "cCaJ1a4sqQWJ"
      },
      "execution_count": null,
      "outputs": []
    },
    {
      "cell_type": "markdown",
      "source": [
        "Q3. Write a python program to create a text file. Write ‘I want to become a Data Scientist’ in that file. Then\n",
        "close the file. Open this file and read the content of the file."
      ],
      "metadata": {
        "id": "W3N-P7gBqSDf"
      }
    },
    {
      "cell_type": "code",
      "source": [
        "# A3. Creating a text file\n",
        "\n",
        "# Create and write to the file\n",
        "with open(\"data_scientist.txt\", \"w\") as file:\n",
        "    file.write(\"I want to become a Data Scientist\")\n",
        "\n",
        "# Open and read the content\n",
        "with open(\"data_scientist.txt\", \"r\") as file:\n",
        "    content = file.read()\n",
        "    print(content)\n"
      ],
      "metadata": {
        "colab": {
          "base_uri": "https://localhost:8080/"
        },
        "id": "xMocnhwFsE89",
        "outputId": "ac8c6495-c537-4adf-877f-174023926c71"
      },
      "execution_count": 2,
      "outputs": [
        {
          "output_type": "stream",
          "name": "stdout",
          "text": [
            "I want to become a Data Scientist\n"
          ]
        }
      ]
    },
    {
      "cell_type": "code",
      "source": [],
      "metadata": {
        "id": "J_-7BfB4qSbo"
      },
      "execution_count": null,
      "outputs": []
    },
    {
      "cell_type": "markdown",
      "source": [
        "Q4. Explain the following with python code: read(), readline() and readlines()."
      ],
      "metadata": {
        "id": "YVj179ygqT8K"
      }
    },
    {
      "cell_type": "markdown",
      "source": [
        "A4. read(): Reads the entire content of the file as a single string.\n",
        "\n",
        "readline(): Reads a single line from the file.\n",
        "\n",
        "readlines(): Returns a list of lines, where each line is an item."
      ],
      "metadata": {
        "id": "FXaAvZZAsMRQ"
      }
    },
    {
      "cell_type": "code",
      "source": [
        "# Example:\n",
        "\n",
        "# Creating a sample file\n",
        "with open(\"sample.txt\", \"w\") as file:\n",
        "    file.write(\"Line 1\\nLine 2\\nLine 3\")\n",
        "\n",
        "# Using read(), readline(), and readlines()\n",
        "with open(\"sample.txt\", \"r\") as file:\n",
        "    print(\"Using read():\", file.read())         # Reads entire content\n",
        "\n",
        "with open(\"sample.txt\", \"r\") as file:\n",
        "    print(\"Using readline():\", file.readline())  # Reads the first line\n",
        "\n",
        "with open(\"sample.txt\", \"r\") as file:\n",
        "    print(\"Using readlines():\", file.readlines())  # Returns a list of lines\n"
      ],
      "metadata": {
        "colab": {
          "base_uri": "https://localhost:8080/"
        },
        "id": "EJJarL_7sR_E",
        "outputId": "0c920634-a5f2-40c3-cf96-28e2d51fc146"
      },
      "execution_count": 3,
      "outputs": [
        {
          "output_type": "stream",
          "name": "stdout",
          "text": [
            "Using read(): Line 1\n",
            "Line 2\n",
            "Line 3\n",
            "Using readline(): Line 1\n",
            "\n",
            "Using readlines(): ['Line 1\\n', 'Line 2\\n', 'Line 3']\n"
          ]
        }
      ]
    },
    {
      "cell_type": "code",
      "source": [],
      "metadata": {
        "id": "Yxpx5nQQqURh"
      },
      "execution_count": null,
      "outputs": []
    },
    {
      "cell_type": "markdown",
      "source": [
        "Q5. Explain why with statement is used with open(). What is the advantage of using with statement and\n",
        "open() together?"
      ],
      "metadata": {
        "id": "u1WLiURTqVnn"
      }
    },
    {
      "cell_type": "markdown",
      "source": [
        "A5. The with statement provides better file handling by automatically closing the file once operations are complete.\n",
        "\n",
        "### Advantages of using with statement:\n",
        "\n",
        "1.) Automatic Cleanup: Closes the file automatically after the block ends.\n",
        "\n",
        "2.) **Error Handling:** Safely handles exceptions and ensures the file is closed even if an error occurs.\n",
        "\n",
        "3.) **Cleaner Code:** No need to explicitly call close()."
      ],
      "metadata": {
        "id": "mJsWDk7sspO1"
      }
    },
    {
      "cell_type": "code",
      "source": [
        "# Example without 'with'\n",
        "\n",
        "file = open(\"example.txt\", \"w\")\n",
        "file.write(\"Without with statement\")\n",
        "file.close()\n"
      ],
      "metadata": {
        "id": "3MjkfTLss3LB"
      },
      "execution_count": 4,
      "outputs": []
    },
    {
      "cell_type": "code",
      "source": [
        "# Example with 'with'\n",
        "\n",
        "with open(\"example.txt\", \"w\") as file:\n",
        "    file.write(\"Using with statement\")  # Automatically closes the file\n"
      ],
      "metadata": {
        "id": "7dMDPBvws8u4"
      },
      "execution_count": 5,
      "outputs": []
    },
    {
      "cell_type": "code",
      "source": [],
      "metadata": {
        "id": "de2DMJUGqV8Z"
      },
      "execution_count": null,
      "outputs": []
    },
    {
      "cell_type": "markdown",
      "source": [
        "Q6. Explain the write() and writelines() functions. Give a suitable example."
      ],
      "metadata": {
        "id": "1otjAULzqXZy"
      }
    },
    {
      "cell_type": "markdown",
      "source": [
        "A6.\n",
        "\n",
        "1.) **write() Method:**\n",
        "\n",
        "Used to write a single string to a file."
      ],
      "metadata": {
        "id": "ZRlV9BQOtF3q"
      }
    },
    {
      "cell_type": "code",
      "source": [
        "with open(\"example.txt\", \"w\") as file:\n",
        "    file.write(\"Hello, Python!\\n\")\n"
      ],
      "metadata": {
        "id": "YkzHBmq4qXtR"
      },
      "execution_count": 6,
      "outputs": []
    },
    {
      "cell_type": "markdown",
      "source": [
        "2.) **writelines() Method:**\n",
        "\n",
        "Used to write a list of strings to a file."
      ],
      "metadata": {
        "id": "dAumOavWuEHa"
      }
    },
    {
      "cell_type": "code",
      "source": [
        "lines = [\"Line 1\\n\", \"Line 2\\n\", \"Line 3\\n\"]\n",
        "with open(\"example.txt\", \"w\") as file:\n",
        "    file.writelines(lines)\n"
      ],
      "metadata": {
        "id": "P_YBhPRKqZi6"
      },
      "execution_count": 7,
      "outputs": []
    },
    {
      "cell_type": "markdown",
      "source": [
        "Reading the file:"
      ],
      "metadata": {
        "id": "k-_ewAGTuuB4"
      }
    },
    {
      "cell_type": "code",
      "source": [
        "with open(\"example.txt\", \"r\") as file:\n",
        "    print(file.read())\n"
      ],
      "metadata": {
        "colab": {
          "base_uri": "https://localhost:8080/"
        },
        "id": "cktklEBGtbFx",
        "outputId": "73238896-66c1-44e5-b23a-6e5559356d6d"
      },
      "execution_count": 8,
      "outputs": [
        {
          "output_type": "stream",
          "name": "stdout",
          "text": [
            "Line 1\n",
            "Line 2\n",
            "Line 3\n",
            "\n"
          ]
        }
      ]
    },
    {
      "cell_type": "code",
      "source": [],
      "metadata": {
        "id": "otPm3Y0ruw0T"
      },
      "execution_count": null,
      "outputs": []
    },
    {
      "cell_type": "code",
      "source": [],
      "metadata": {
        "id": "3oJH2uoju7Ke"
      },
      "execution_count": null,
      "outputs": []
    }
  ]
}