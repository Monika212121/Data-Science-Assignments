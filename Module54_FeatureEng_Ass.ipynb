{
  "nbformat": 4,
  "nbformat_minor": 0,
  "metadata": {
    "colab": {
      "provenance": []
    },
    "kernelspec": {
      "name": "python3",
      "display_name": "Python 3"
    },
    "language_info": {
      "name": "python"
    }
  },
  "cells": [
    {
      "cell_type": "markdown",
      "source": [
        "Module 54 - Feature Engineering- 3 Assignment"
      ],
      "metadata": {
        "id": "9trZh2m22FIA"
      }
    },
    {
      "cell_type": "markdown",
      "source": [
        "Q1. What is Min-Max scaling, and how is it used in data preprocessing? Provide an example to illustrate its\n",
        "application."
      ],
      "metadata": {
        "id": "b6fEkgSYAFly"
      }
    },
    {
      "cell_type": "markdown",
      "source": [
        "A1: Min-Max Scaling is a normalization technique used in data preprocessing to scale the values of a feature to a specific range, typically [0, 1] or [-1, 1]. It transforms each value x in the dataset using the formula:\n",
        "Xi = [(X - Xmin) * (new_max - new_min) / (Xmax -\n",
        "Xmin) ] + new_min\n",
        "\n",
        "This technique is particularly useful for algorithms sensitive to the scale of data, such as gradient-based optimizations in machine learning models.\n",
        "\n",
        "Example: Suppose we have a dataset: [10, 20, 30, 40, 50], and we want to scale it to the range [0, 1].\n",
        "\n",
        "𝑥𝑚𝑖𝑛 = 10, 𝑥𝑚𝑎𝑥 = 50\n",
        "\n",
        "The scaled values are computed as:\n",
        "x′ = [(x-10)*(1-0) / (50-10)] + 0\n",
        "\n",
        "Transformed values are [0,0.25,0.5,0.75,1]\n"
      ],
      "metadata": {
        "id": "HS-ht8UT20pM"
      }
    },
    {
      "cell_type": "code",
      "source": [],
      "metadata": {
        "id": "Lr6CJSMe2cjj"
      },
      "execution_count": 2,
      "outputs": []
    },
    {
      "cell_type": "markdown",
      "source": [
        "Q2. What is the Unit Vector technique in feature scaling, and how does it differ from Min-Max scaling?\n",
        "Provide an example to illustrate its application."
      ],
      "metadata": {
        "id": "FXedCDatAIpN"
      }
    },
    {
      "cell_type": "markdown",
      "source": [
        "A2: Unit Vector Scaling (or normalization) transforms features such that their Euclidean norm (L2 norm) is 1. Each value 𝑥𝑖 in the feature vector x is caled as:\n",
        "\n",
        "𝑥𝑖′= 𝑥𝑖 / ∥𝑥∥ where ||x|| = sqrt(sum of squares of xi), and i = [1,n]\n",
        "\n",
        "Difference from Min-Max Scaling:\n",
        "\n",
        "Min-Max Scaling: Focuses on fitting values into a specific range (e.g., [0, 1]).\n",
        "Unit Vector Scaling: Normalizes the magnitude of the entire vector, emphasizing proportions.\n",
        "\n",
        "Example: Feature vector: [3, 4].\n",
        "\n",
        "∥𝑥∥ = sqrt(3 X 3 + 4 X 4) = 5\n",
        "\n",
        "Scaled vector:\n",
        "\n",
        "[3/5, 4/5] = [0.6, 0.8]\n"
      ],
      "metadata": {
        "id": "3iPFkI264agz"
      }
    },
    {
      "cell_type": "code",
      "source": [],
      "metadata": {
        "id": "VrpDPI_L2diM"
      },
      "execution_count": 2,
      "outputs": []
    },
    {
      "cell_type": "markdown",
      "source": [
        "Q3. What is PCA (Principle Component Analysis), and how is it used in dimensionality reduction? Provide an\n",
        "example to illustrate its application."
      ],
      "metadata": {
        "id": "uBmruoAFAPC0"
      }
    },
    {
      "cell_type": "markdown",
      "source": [
        "A3: Principal Component Analysis (PCA) is a statistical technique used to reduce the dimensionality of a dataset while retaining as much variance as possible. It identifies the directions (principal components) along which the variance of the data is maximized.\n",
        "\n",
        "Steps in PCA:\n",
        "\n",
        "1. Standardize the data.\n",
        "\n",
        "2. Compute the covariance matrix.\n",
        "\n",
        "3. Calculate eigenvalues and eigenvectors.\n",
        "\n",
        "4. Choose the top 𝑘 eigenvectors corresponding to the largest eigenvalues.\n",
        "\n",
        "5. Project the data onto these principal components.\n",
        "\n",
        "Example: Consider a dataset with two highly correlated features: exam score and study hours. PCA can combine them into one principal component that explains most of the variance, reducing the dataset's dimensionality to one while retaining essential information."
      ],
      "metadata": {
        "id": "Ti0eubKJ6tKb"
      }
    },
    {
      "cell_type": "code",
      "source": [],
      "metadata": {
        "id": "xYn301h2AUPJ"
      },
      "execution_count": 2,
      "outputs": []
    },
    {
      "cell_type": "markdown",
      "source": [
        "Q4. What is the relationship between PCA and Feature Extraction, and how can PCA be used for Feature\n",
        "Extraction? Provide an example to illustrate this concept."
      ],
      "metadata": {
        "id": "fMrouqeUASPD"
      }
    },
    {
      "cell_type": "markdown",
      "source": [
        "A4: Relationship: PCA is a form of feature extraction because it transforms the original features into a new set of features (principal components) that are linear combinations of the original ones.\n",
        "\n",
        "Using PCA for Feature Extraction:\n",
        "\n",
        "1. Select the top 𝑘 principal components with the highest variance.\n",
        "\n",
        "2. These components represent the most informative features, effectively \"extracting\" them from the dataset.\n",
        "\n",
        "Example: A dataset has 5 features: [height, weight, age, gender, blood pressure]. After applying PCA, we may find that the first 2 components explain 95% of the variance. These components become the extracted features for the model."
      ],
      "metadata": {
        "id": "yQEMGZAK6ypt"
      }
    },
    {
      "cell_type": "code",
      "source": [],
      "metadata": {
        "id": "xMB2ElCQ2e_G"
      },
      "execution_count": 2,
      "outputs": []
    },
    {
      "cell_type": "markdown",
      "source": [
        "Q5. You are working on a project to build a recommendation system for a food delivery service. The dataset\n",
        "contains features such as price, rating, and delivery time. Explain how you would use Min-Max scaling to\n",
        "preprocess the data."
      ],
      "metadata": {
        "id": "XM4ahrVQAXc6"
      }
    },
    {
      "cell_type": "markdown",
      "source": [
        "A5: Step1: Identify the range for each feature:\n",
        "\n",
        "Price: e.g., [100, 1000].\n",
        "\n",
        "Rating: e.g., [1, 5].\n",
        "\n",
        "Delivery time: e.g., [10, 60] minutes.\n",
        "\n",
        "\n",
        "Step2: Apply Min-Max Scaling:\n",
        "\n",
        "𝑥′= (X − X𝑚𝑖𝑛) / (Xm𝑎𝑥 − X𝑚𝑖𝑛)\n",
        "\n",
        "Step3: Scale each feature to a common range (e.g., [0, 1]) to ensure they contribute equally to the distance or similarity metrics in the recommendation system.\n",
        "\n",
        "Example: Feature \"Price\" for values [100, 550, 1000]:\n",
        "\n",
        "𝑥′= (𝑥−100) / (1000-100)\n",
        "\n",
        "Transformed: [0, 0.5, 1]."
      ],
      "metadata": {
        "id": "7xeF1QJb64sS"
      }
    },
    {
      "cell_type": "code",
      "source": [],
      "metadata": {
        "id": "vZCvqzdd2fwO"
      },
      "execution_count": 2,
      "outputs": []
    },
    {
      "cell_type": "markdown",
      "source": [
        "Q6. You are working on a project to build a model to predict stock prices. The dataset contains many\n",
        "features, such as company financial data and market trends. Explain how you would use PCA to reduce the\n",
        "dimensionality of the dataset."
      ],
      "metadata": {
        "id": "pCUZeeWxAbAV"
      }
    },
    {
      "cell_type": "markdown",
      "source": [
        "A6: These steps are to be followed:\n",
        "\n",
        "1. Standardize the dataset to ensure all features have zero mean and unit variance.\n",
        "2. Compute the covariance matrix of the features.\n",
        "3. Calculate eigenvalues and eigenvectors.\n",
        "4. Select the top 𝑘 eigenvectors that explain most of the variance (e.g., 95%).\n",
        "5. Project the original features onto these 𝑘 principal components to create a reduced dataset.\n",
        "\n",
        "This reduces computational complexity and mitigates overfitting while retaining the most critical information."
      ],
      "metadata": {
        "id": "9I6F8nKh7rnf"
      }
    },
    {
      "cell_type": "code",
      "source": [],
      "metadata": {
        "id": "kUMTjtlM2goo"
      },
      "execution_count": 2,
      "outputs": []
    },
    {
      "cell_type": "markdown",
      "source": [
        "Q7. For a dataset containing the following values: [1, 5, 10, 15, 20], perform Min-Max scaling to transform the\n",
        "values to a range of -1 to 1."
      ],
      "metadata": {
        "id": "Jozn9WUKAdWr"
      }
    },
    {
      "cell_type": "markdown",
      "source": [
        "A7: This is the formula, we will use,      \n",
        "\n",
        " Xi = [(X - Xmin) * (new_max - new_min) / (Xmax -\n",
        "Xmin) ] + new_min\n",
        "\n",
        "Here:\n",
        "Xmin = 1, Xmax= 20, new_max = 1, new_min= -1\n",
        "\n",
        "Transformed values:\n",
        "\n",
        "x' = [(x-1) * (1-(-1)) / (20-1)]\n",
        "\n",
        "Results are : [-1, -0.7368, -0.2632, 0.2632, 1]"
      ],
      "metadata": {
        "id": "KdWBU8158HR4"
      }
    },
    {
      "cell_type": "markdown",
      "source": [
        "Q8. For a dataset containing the following features: [height, weight, age, gender, blood pressure], perform\n",
        "Feature Extraction using PCA. How many principal components would you choose to retain, and why?"
      ],
      "metadata": {
        "id": "BBMfbHZgAh6a"
      }
    },
    {
      "cell_type": "markdown",
      "source": [
        "A8: Compute the explained variance ratio for all 5 principal components.\n",
        "\n",
        "Retain components that explain most of the variance (e.g., 95%).\n",
        "\n",
        "If the first 2 components explain 95% of the variance, retain them.\n",
        "The exact number depends on the dataset and how variance is distributed across components. Retaining fewer components simplifies the model without losing significant information."
      ],
      "metadata": {
        "id": "Dn_IstRE-Y-X"
      }
    },
    {
      "cell_type": "code",
      "source": [],
      "metadata": {
        "id": "l3bIAJ6k1g07"
      },
      "execution_count": 2,
      "outputs": []
    }
  ]
}