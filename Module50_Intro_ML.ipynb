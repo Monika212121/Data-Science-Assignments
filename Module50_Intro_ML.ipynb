{
  "nbformat": 4,
  "nbformat_minor": 0,
  "metadata": {
    "colab": {
      "provenance": []
    },
    "kernelspec": {
      "name": "python3",
      "display_name": "Python 3"
    },
    "language_info": {
      "name": "python"
    }
  },
  "cells": [
    {
      "cell_type": "markdown",
      "source": [
        "Introduction to Machine Learning-1"
      ],
      "metadata": {
        "id": "P3-gjQkYCSG3"
      }
    },
    {
      "cell_type": "markdown",
      "source": [
        "Q1: Explain the following with an example:\n",
        "1.) Artificial Intelligence\n",
        "2.) Machine Learning\n",
        "3.) Deep Learning\n",
        "\n",
        "A1: 1.) Artificial Intelligence\n",
        "Artificial Intelligence is the broader field of computer science focused on creating systems that can perform tasks typically requiring human intelligence, such as reasoning, problem-solving, decision-making, and language understanding.\n",
        "Example:\n",
        "AI Application: Virtual assistants like Siri or Alexa.\n",
        "How it works: These systems process natural language, understand user commands, and provide appropriate responses by integrating different AI techniques.\n",
        "\n",
        "2.) Machine Learning\n",
        "Machine Learning is a subset of AI that focuses on developing algorithms that allow computers to learn from and make predictions or decisions based on data, without being explicitly programmed for every scenario.\n",
        "Example:\n",
        "ML Application: Email spam filters.\n",
        "How it works: The system analyzes historical email data to identify patterns that distinguish spam from non-spam. It then classifies new emails accordingly.\n",
        "\n",
        "\n",
        "3.) Deep Learning\n",
        "Deep Learning is a specialized subset of ML that uses neural networks with many layers (deep neural networks) to analyze large datasets and make complex predictions or classifications. It mimics how the human brain processes information.\n",
        "Example:\n",
        "DL Application: Self-driving cars.\n",
        "How it works: The deep learning model uses sensors and images from cameras to detect objects, traffic signals, and pedestrians. The system can then make decisions in real-time about how to navigate roads safely."
      ],
      "metadata": {
        "id": "xRDmLYB5CVfU"
      }
    },
    {
      "cell_type": "markdown",
      "source": [
        "Q2: What is supervised learning? List some examples of supervised learning.\n",
        "\n",
        "A2: Supervised learning is a type of machine learning where the model is trained on a labeled dataset. This means that each training example includes both the input data and the corresponding output (label). The goal is to learn a mapping function from inputs to outputs, which can then be used to make predictions on new, unseen data.\n",
        "\n",
        "Key Characteristics of Supervised Learning are:-\n",
        "1. Labeled Data: The dataset includes input-output pairs (e.g., images of cats labeled as \"cat\").\n",
        "2. Training and Testing: The dataset is divided into training data (to train the model) and testing data (to evaluate its performance).\n",
        "3. Feedback: The model adjusts itself based on the error between the predicted and actual outputs.\n",
        "\n",
        "Examples of Supervised Learning\n",
        "1. Classification Tasks\n",
        "Definition: Predict a discrete label or category.\n",
        "Example: Email spam detection (Spam vs. Not Spam).\n",
        "\n",
        "2. Regression Tasks\n",
        "Definition: Predict a continuous output value.\n",
        "Example: Predicting house prices based on features like location, size, and number of rooms."
      ],
      "metadata": {
        "id": "74QTCYuWCVkP"
      }
    },
    {
      "cell_type": "markdown",
      "source": [],
      "metadata": {
        "id": "rKfv9xc3CVnB"
      }
    },
    {
      "cell_type": "markdown",
      "source": [
        "Q3: What is unsupervised learning? List some examples of unsupervised learning.\n",
        "\n",
        "A3: Unsupervised learning is a type of machine learning where the model is trained on data that is not labeled. This means the model tries to find hidden patterns or structures in the data without any predefined outputs (labels). The goal is to explore the underlying structure of the data, group similar instances, or reduce dimensionality.\n",
        "\n",
        "Key Characteristics of Unsupervised Learning are:-\n",
        "No Labeled Data: Unlike supervised learning, there are no explicit input-output pairs in the training data.\n",
        "Pattern Discovery: The algorithm identifies hidden patterns, clusters, or structures in the data.\n",
        "Output is Not Defined: The model doesn’t predict specific labels or values. Instead, it categorizes data into clusters, reduces its dimensions, or discovers relationships.\n",
        "\n",
        "Examples of Unsupervised Learning\n",
        "1. Clustering\n",
        "Definition: The task of grouping data into clusters, where similar data points are grouped together.Example:\n",
        "Customer segmentation: Grouping customers based on purchasing behavior, allowing businesses to target specific customer groups.\n",
        "\n",
        "2. Association Rule Learning\n",
        "Definition: Finding interesting relationships between variables in large datasets.\n",
        "Example:\n",
        "Market basket analysis: Identifying items frequently bought together in a supermarket, like \"people who buy bread also buy butter.\"\n",
        "\n",
        "3. Dimensionality Reduction\n",
        "Definition: Reducing the number of input features in the data while retaining essential information.\n",
        "Example:\n",
        "Principal Component Analysis (PCA): Reducing the complexity of high-dimensional data, such as for visualizing high-dimensional datasets or speeding up machine learning models.\n",
        "\n",
        "4. Anomaly Detection\n",
        "Definition: Identifying unusual data points or outliers that don’t fit the normal patterns.\n",
        "Example:\n",
        "Fraud detection: Identifying unusual credit card transactions that might indicate fraudulent activity."
      ],
      "metadata": {
        "id": "Mlplni84CVsL"
      }
    },
    {
      "cell_type": "markdown",
      "source": [
        "Q4: What is the difference between AI, ML, DL, and DS?\n",
        "\n",
        "A4: 1. Artificial Intelligence (AI)\n",
        "AI is the overarching field of computer science that focuses on creating systems capable of performing tasks that typically require human intelligence, such as decision-making, problem-solving, language processing, and vision.\n",
        "Key Features:\n",
        "Mimics human intelligence.\n",
        "Includes tasks like reasoning, learning, planning, and understanding natural language.\n",
        "\n",
        "\n",
        "2. Machine Learning (ML)\n",
        "ML is a subset of AI that uses algorithms to enable computers to learn from and make predictions or decisions based on data, without being explicitly programmed for every task.\n",
        "Key Features :-\n",
        "Focuses on data-driven learning.\n",
        "Relies on statistical methods to identify patterns in data.\n",
        "Relationship with AI :-\n",
        "ML is a way to achieve AI.\n",
        "\n",
        "\n",
        "3. Deep Learning (DL)\n",
        "DL is a specialized subset of ML that uses neural networks with multiple layers (hence \"deep\") to analyze data and make decisions. It is particularly effective for tasks like image recognition and natural language processing.\n",
        "Key Features :-\n",
        "Works well with large datasets.\n",
        "Utilizes architectures like Convolutional Neural Networks (CNNs) and Recurrent Neural Networks (RNNs).\n",
        "Automates feature extraction (no need for manual selection).\n",
        "Relationship with ML and AI :-\n",
        "DL is a more advanced form of ML.\n",
        "DL is used to solve more complex AI problems.\n",
        "\n",
        "\n",
        "4. Data Science (DS)\n",
        "DS is an interdisciplinary field that combines statistics, data analysis, machine learning, and domain expertise to extract insights from structured and unstructured data.\n",
        "Key Features :-\n",
        "Focuses on the entire data lifecycle: collection, cleaning, exploration, modeling, and communication of results.\n",
        "Not limited to AI or ML.\n",
        "Relationship with AI, ML, and DL :-\n",
        "DS uses ML and DL to build predictive and analytical models.\n",
        "AI provides tools and techniques (like ML and DL) for certain tasks in DS.\n"
      ],
      "metadata": {
        "id": "GGgukbuaCVu5"
      }
    },
    {
      "cell_type": "markdown",
      "source": [
        "Q5: What are the main differences between supervised, unsupervised, and semi-supervised learning?\n",
        "\n",
        "A5: 1. Supervised Learning\n",
        "In supervised learning, the model is trained on a labeled dataset, where each input has a corresponding correct output (label). The goal is to learn a mapping between inputs and outputs to make predictions on unseen data.\n",
        "\n",
        "2. Unsupervised Learning\n",
        "In unsupervised learning, the model is trained on an unlabeled dataset. The goal is to find hidden patterns, structure, or relationships in the data.\n",
        "\n",
        "3. Semi-Supervised Learning\n",
        "Semi-supervised learning is a hybrid approach where the model is trained on a dataset containing both labeled and unlabeled data. The labeled data provides supervision, while the unlabeled data helps improve the model’s generalization.\n"
      ],
      "metadata": {
        "id": "wjxxtHJRCVxc"
      }
    },
    {
      "cell_type": "markdown",
      "source": [
        "Q6: What is train, test and validation split? Explain the importance of each term.\n",
        "\n",
        "A6: In machine learning, data is divided into three subsets: train, test, and validation. Each serves a specific purpose to ensure the model generalizes well to new, unseen data.\n",
        "\n",
        "1. Train Dataset\n",
        "The train dataset is the portion of data used to train the machine learning model. The model learns patterns, relationships, and parameters from this data.\n",
        "Importance:\n",
        "A sufficient amount of diverse data in the train set ensures the model can capture underlying patterns effectively.\n",
        "Size:\n",
        "Typically, 60-80% of the dataset.\n",
        "\n",
        "2. Test Dataset\n",
        "Definition:\n",
        "The test dataset is a separate subset of data used to evaluate the model's performance after it has been trained. It is not used during training.\n",
        "Importance:\n",
        "Provides an unbiased estimate of the model’s performance.\n",
        "Ensures that the model hasn’t simply memorized the training data (overfitting).\n",
        "Size:\n",
        "Typically, 10-20% of the dataset.\n",
        "\n",
        "3. Validation Dataset\n",
        "Definition:\n",
        "The validation dataset is used during the training process to tune hyperparameters (e.g., learning rate, number of layers) and to prevent overfitting.\n",
        "It acts as a checkpoint to evaluate the model's performance on unseen data during training.\n",
        "Importance:\n",
        "Guides model improvement by providing feedback on parameter adjustments.\n",
        "Helps in selecting the best-performing model variant.\n",
        "Size:\n",
        "Typically, 10-20% of the dataset.\n",
        "\n",
        "This split is important due to the following reasons:-\n",
        "\n",
        "1.) Generalization:\n",
        "Ensures the model performs well on new, unseen data rather than just memorizing the training data.\n",
        "\n",
        "2.) Bias Avoidance:\n",
        "Using a separate test set prevents biased evaluation of the model's performance.\n",
        "Hyperparameter Tuning.\n",
        "\n",
        "3.) The validation set helps choose the best hyperparameters without contaminating the test set, which would give an overly optimistic performance estimate."
      ],
      "metadata": {
        "id": "ahbQwuUQCV0H"
      }
    },
    {
      "cell_type": "markdown",
      "source": [
        "A7: Unsupervised learning is a powerful approach for anomaly detection, where the goal is to identify unusual data points, patterns, or behaviors that deviate significantly from the norm. Since anomalies are rare and often unlabeled, unsupervised learning methods are well-suited for this task.\n",
        "\n",
        "Key Idea:-\n",
        "Unsupervised learning models analyze the underlying structure of the data without relying on labeled examples. In anomaly detection, these models identify anomalies as data points that do not conform to the learned patterns or clusters.\n",
        "\n",
        "Techniques in Unsupervised Anomaly Detection are :-\n",
        "\n",
        "Clustering-Based Methods: Clustering algorithms, such as k-means or DBSCAN, group similar data points together. Data points that do not belong to any cluster or are far from cluster centroids are flagged as anomalies.\n",
        "\n",
        "Example: Detecting fraudulent transactions in a banking dataset. Outliers in clusters of transaction amounts and frequencies are flagged as suspicious.\n",
        "\n",
        "\n",
        "Density-Based Methods: Density-based models, such as Isolation Forest or Local Outlier Factor (LOF), identify anomalies by measuring how isolated or sparsely distributed a data point is compared to the rest of the dataset.\n",
        "\n",
        "Example: Detecting rare diseases in medical datasets where anomalous patterns in test results may indicate outliers.\n",
        "\n",
        "\n",
        "Dimensionality Reduction Methods: Algorithms like Principal Component Analysis (PCA) reduce data to lower dimensions, capturing most of the variance. Anomalies are points with high reconstruction error in the reduced space.\n",
        "\n",
        "Example: Identifying abnormal sensor readings in industrial IoT systems.\n",
        "\n",
        "Autoencoders (Deep Learning): Autoencoders compress data into a latent space and then reconstruct it. Data points with high reconstruction errors are treated as anomalies.\n",
        "\n",
        "Example: Detecting cybersecurity threats where anomalous network traffic patterns differ from normal usage.\n",
        "\n",
        "\n",
        "Workflow for Anomaly Detection:-\n",
        "1.) Data Collection and Preprocessing\n",
        "Collect unlabeled data.\n",
        "Normalize and clean the data to remove noise.\n",
        "\n",
        "2.) Model Selection\n",
        "Choose an unsupervised learning method (e.g., clustering, PCA, or Isolation Forest).\n",
        "\n",
        "3.) Training\n",
        "Train the model on the dataset to learn normal patterns.\n",
        "\n",
        "4.) Anomaly Scoring\n",
        "Compute an anomaly score for each data point based on distance from clusters, density, or reconstruction error.\n",
        "\n",
        "5.) Threshold Setting\n",
        "Set a threshold for the anomaly score to classify data points as normal or anomalous.\n",
        "\n",
        "6.) Evaluation\n",
        "Use domain expertise or limited labeled data to validate the model’s performance.\n"
      ],
      "metadata": {
        "id": "n2Nn1asbCV2g"
      }
    },
    {
      "cell_type": "code",
      "source": [
        "from sklearn.ensemble import IsolationForest\n",
        "import numpy as np\n",
        "\n",
        "# Sample data\n",
        "data = np.array([[1, 2], [2, 3], [2, 2], [8, 8], [9, 9], [10, 10]])  # 8, 9, 10 are anomalies\n",
        "\n",
        "# Fit Isolation Forest\n",
        "model = IsolationForest(contamination=0.2)  # 20% of data is anomalous\n",
        "model.fit(data)\n",
        "\n",
        "# Predict anomalies\n",
        "anomalies = model.predict(data)\n",
        "\n",
        "# Output\n",
        "print(\"Anomalies:\", anomalies)  # -1 for anomalies, 1 for normal\n"
      ],
      "metadata": {
        "colab": {
          "base_uri": "https://localhost:8080/"
        },
        "id": "vJZa58dMJ6I7",
        "outputId": "b98d509e-5c9c-4337-ef93-0b045469112c"
      },
      "execution_count": 1,
      "outputs": [
        {
          "output_type": "stream",
          "name": "stdout",
          "text": [
            "Anomalies: [ 1  1  1  1  1 -1]\n"
          ]
        }
      ]
    },
    {
      "cell_type": "markdown",
      "source": [
        "Q8: List down some commonly used supervised learning algorithms and unsupervised learning\n",
        "algorithms.\n",
        "\n",
        "A8: Commonly Used Supervised and Unsupervised Learning Algorithms\n",
        "Supervised Learning Algorithms\n",
        "Supervised learning uses labeled data to train models. The algorithm learns a mapping function from input to output.\n",
        "\n",
        "1. Linear Models\n",
        "Linear Regression: Predicts a continuous target variable based on a linear relationship between input variables.\n",
        "Logistic Regression: Used for binary classification tasks, predicts probabilities for discrete classes.\n",
        "2. Decision Trees and Ensemble Methods\n",
        "Decision Trees: Simple interpretable models used for both classification and regression tasks.\n",
        "Random Forests: Ensemble method using multiple decision trees for improved accuracy.\n",
        "Gradient Boosting Machines (GBM): Sequentially builds models to correct errors from previous iterations (e.g., XGBoost, LightGBM).\n",
        "3. Support Vector Machines (SVM)\n",
        "Used for classification and regression; finds the hyperplane that best separates classes in high-dimensional space.\n",
        "4. Neural Networks\n",
        "Multi-Layer Perceptrons (MLP): Basic neural networks for classification and regression.\n",
        "Convolutional Neural Networks (CNN): Specialized for image and spatial data.\n",
        "Recurrent Neural Networks (RNN): Designed for sequential data like time series or text.\n",
        "5. K-Nearest Neighbors (KNN)\n",
        "Classification or regression by finding the closest data points to a query.\n",
        "6. Naive Bayes\n",
        "Probabilistic classifiers based on Bayes' Theorem; works well with categorical data.\n",
        "Examples of Applications\n",
        "Predicting house prices (Linear Regression).\n",
        "Email spam detection (Naive Bayes).\n",
        "Image recognition (CNN).\n",
        "Unsupervised Learning Algorithms\n",
        "Unsupervised learning works with unlabeled data to find patterns or structures.\n",
        "\n",
        "1. Clustering Algorithms\n",
        "K-Means Clustering: Partitions data into\n",
        "𝑘\n",
        "k clusters based on similarity.\n",
        "Hierarchical Clustering: Builds a tree of clusters for hierarchical grouping.\n",
        "DBSCAN (Density-Based Spatial Clustering): Detects clusters in dense regions and outliers.\n",
        "2. Dimensionality Reduction\n",
        "Principal Component Analysis (PCA): Reduces data dimensions while retaining variance.\n",
        "t-SNE (t-Distributed Stochastic Neighbor Embedding): Visualizes high-dimensional data in two or three dimensions.\n",
        "3. Association Rule Learning\n",
        "Apriori Algorithm: Identifies frequent itemsets and association rules (e.g., market basket analysis).\n",
        "Eclat: An alternative to Apriori with a focus on frequent itemset mining.\n",
        "4. Anomaly Detection\n",
        "Isolation Forest: Detects anomalies by isolating outliers.\n",
        "Autoencoders: Deep learning-based anomaly detection by identifying reconstruction errors.\n",
        "5. Self-Organizing Maps (SOM)\n",
        "Neural networks that cluster data and map it into a lower-dimensional space.\n",
        "Examples of Applications\n",
        "Customer segmentation (K-Means Clustering).\n",
        "Reducing features for visualization (PCA).\n",
        "Fraud detection (Isolation Forest).\n"
      ],
      "metadata": {
        "id": "Rg3rEOFsCV5M"
      }
    }
  ]
}