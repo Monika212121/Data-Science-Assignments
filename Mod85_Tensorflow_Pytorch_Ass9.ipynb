{
  "nbformat": 4,
  "nbformat_minor": 0,
  "metadata": {
    "colab": {
      "provenance": []
    },
    "kernelspec": {
      "name": "python3",
      "display_name": "Python 3"
    },
    "language_info": {
      "name": "python"
    }
  },
  "cells": [
    {
      "cell_type": "markdown",
      "source": [
        "# Mod85 Weight Inititalization Assignment"
      ],
      "metadata": {
        "id": "84z8zyjmiGH5"
      }
    },
    {
      "cell_type": "markdown",
      "source": [
        "Objective: Assess understanding of weight initialization techniques in artificial neural networks. Evaluate the impact of different initialization methods on model performance. Enhance knowledge of weight initialization's role in improving convergence and avoiding vanishing/exploding gradients."
      ],
      "metadata": {
        "id": "YnPQUN_NiOTf"
      }
    },
    {
      "cell_type": "code",
      "source": [],
      "metadata": {
        "id": "BPGfTj_liQMo"
      },
      "execution_count": null,
      "outputs": []
    },
    {
      "cell_type": "markdown",
      "source": [
        "# Part 1: Understanding Weight Initialization"
      ],
      "metadata": {
        "id": "7w-m3CariSNK"
      }
    },
    {
      "cell_type": "markdown",
      "source": [
        "1. Explain the importance of weight initialization in artificial neural networks. Why is it necessary to initialize\n",
        "the weights carefully?"
      ],
      "metadata": {
        "id": "LzygUVLDiWwN"
      }
    },
    {
      "cell_type": "markdown",
      "source": [
        "A1. Importance of Weight Initialization in Artificial Neural Networks\n",
        "Weight initialization plays a critical role in how well and how fast a neural network learns. It refers to assigning initial values to the weights before training begins.\n",
        "\n",
        "- Neural networks learn by adjusting weights to minimize loss.\n",
        "\n",
        "- If weights are poorly initialized (too small, too large, or all the same), it can slow down learning, prevent convergence, or cause unstable training.\n",
        "\n",
        "- A good initialization provides a balanced starting point so that gradients flow properly during backpropagation.\n",
        "\n"
      ],
      "metadata": {
        "id": "tCkm4WO45Xoy"
      }
    },
    {
      "cell_type": "code",
      "source": [],
      "metadata": {
        "id": "uDdoY4RDiWJY"
      },
      "execution_count": null,
      "outputs": []
    },
    {
      "cell_type": "markdown",
      "source": [
        "2. Describe the challenges associated with improper weight initialization. How do these issues affect model training and convergence?"
      ],
      "metadata": {
        "id": "MqU5vfcxidFl"
      }
    },
    {
      "cell_type": "markdown",
      "source": [
        "A2. 2. Challenges of Improper Weight Initialization\n",
        "Improper initialization can lead to several problems:\n",
        "\n",
        "### 1. Vanishing Gradients:\n",
        "- If weights are too small, the outputs of neurons (especially with sigmoid or tanh) are near-zero.\n",
        "\n",
        "- This causes gradients to shrink, slowing learning or completely stopping it.\n",
        "\n",
        "### 2. Exploding Gradients:\n",
        "- If weights are too large, gradients can become extremely large.\n",
        "\n",
        "- This leads to unstable training, causing the model to diverge or produce NaNs.\n",
        "\n",
        "### 3. Symmetry Problem:\n",
        "- If all weights are initialized to the same value, every neuron in a layer learns the same thing.\n",
        "\n",
        "- This destroys the diversity needed to learn complex features.\n"
      ],
      "metadata": {
        "id": "QABWcnay5eg1"
      }
    },
    {
      "cell_type": "code",
      "source": [],
      "metadata": {
        "id": "ZIcUWJLeiTHA"
      },
      "execution_count": null,
      "outputs": []
    },
    {
      "cell_type": "markdown",
      "source": [
        "3. Discuss the concept of variance and how it relates to weight initialization. Why is it crucial to consider the variance of weights during initialization?"
      ],
      "metadata": {
        "id": "dyPoDSDRihev"
      }
    },
    {
      "cell_type": "markdown",
      "source": [
        "A3. In simple terms, variance is a statistical measure of how spread out numbers are. For neural networks, it refers to the spread of the weight values during initialization.\n",
        "\n",
        "- A high variance means weight values are spread far from the mean.\n",
        "\n",
        "- A low variance means they're close to the mean (i.e., very similar).\n",
        "\n",
        "\n",
        "## Variance in Weight Initialization\n",
        "When initializing weights in a neural network, maintaining the right variance is crucial because it directly affects:\n",
        "\n",
        "- The magnitude of activations flowing forward through the network.\n",
        "\n",
        "- The magnitude of gradients flowing backward during backpropagation.\n",
        "\n",
        "If not handled properly, it can lead to:\n",
        "\n",
        "- **Vanishing gradients** (weights too small → activations shrink → gradients disappear).\n",
        "\n",
        "- **Exploding gradients** (weights too large → activations grow → gradients blow up).\n",
        "\n",
        "\n",
        "##  Why Is Maintaining Proper Variance Important?\n",
        "Let’s break it down:\n",
        "\n",
        "1. **Balanced Activations:**\n",
        "\n",
        "   - Proper variance ensures that activations don’t die out or explode as they move through layers.\n",
        "\n",
        "   - This keeps the signal stable and learnable across all layers.\n",
        "\n",
        "2. **Stable Gradients:**\n",
        "\n",
        "   - During backpropagation, gradients are calculated layer by layer.\n",
        "\n",
        "   - A good variance ensures gradients stay within a reasonable range, allowing learning to happen smoothly.\n",
        "\n",
        "3. **Faster & More Reliable Convergence:**\n",
        "\n",
        "  - With well-initialized weights, models train faster and are less sensitive to learning rate tuning.\n",
        "\n",
        "\n",
        "\n"
      ],
      "metadata": {
        "id": "YrKiV3Hi55S9"
      }
    },
    {
      "cell_type": "code",
      "source": [],
      "metadata": {
        "id": "U4igkJYFijp4"
      },
      "execution_count": null,
      "outputs": []
    },
    {
      "cell_type": "code",
      "source": [],
      "metadata": {
        "id": "cTSiVLwVilJy"
      },
      "execution_count": null,
      "outputs": []
    },
    {
      "cell_type": "markdown",
      "source": [
        "# Part 2: Weight Initialization Technique"
      ],
      "metadata": {
        "id": "vS2PkBN-ildp"
      }
    },
    {
      "cell_type": "markdown",
      "source": [
        "4. Explain the concept of zero initialization. Discuss its potential limitations and when it can be appropriate\n",
        "to use."
      ],
      "metadata": {
        "id": "8hNEV06eipiW"
      }
    },
    {
      "cell_type": "markdown",
      "source": [
        "A4. Zero initialization means initializing all weights in a neural network to zero at the start of training.\n",
        "```\n",
        "weights = tf.Variable(tf.zeros([input_dim, output_dim]))\n",
        "```\n",
        "\n",
        "## Why Zero Initialization is a Problem\n",
        "While this might seem like a reasonable starting point (simple, consistent), it leads to a big issue:\n",
        "\n",
        "### Symmetry Problem:\n",
        "\n",
        "- If all weights are initialized to zero, then during forward propagation, all neurons in a layer compute the same output.\n",
        "\n",
        "- And during backpropagation, they receive identical gradients.\n",
        "\n",
        "- So they learn the same things — the model fails to break symmetry and becomes useless, no matter how many neurons you have.\n",
        "\n",
        "**Example:** Imagine 10 neurons in a layer — all start with zero weights, get the same inputs, do the same calculation, and update the same way. They're essentially duplicates of each other.\n",
        "\n",
        "\n",
        "## When is Zero Initialization Acceptable?\n",
        "\n",
        "1. **Bias terms only:** It's okay (and common) to initialize biases to zero, because weights (with random initialization) still allow neurons to learn differently.\n",
        "\n",
        "```\n",
        "weights = tf.Variable(tf.random.normal([in_dim, out_dim]))\n",
        "biases = tf.Variable(tf.zeros([out_dim]))\n",
        "```\n",
        "\n",
        "2. **For debugging:** Sometimes, you might use zero initialization temporarily to verify shapes and code structure during model development.\n"
      ],
      "metadata": {
        "id": "j-gzi3vJ7KPL"
      }
    },
    {
      "cell_type": "code",
      "source": [],
      "metadata": {
        "id": "QQ3wgMqBimyQ"
      },
      "execution_count": null,
      "outputs": []
    },
    {
      "cell_type": "markdown",
      "source": [
        "5. Describe the process of random initialization. How can random initialization be adjusted to mitigate potential issues like saturation or vanishing/exploding gradients?"
      ],
      "metadata": {
        "id": "g8geQHy1itot"
      }
    },
    {
      "cell_type": "markdown",
      "source": [
        "A5. Random initialization refers to starting the neural network’s weights with small random values rather than zeros or constants.\n",
        "\n",
        "## Why random?\n",
        "\n",
        "- It breaks the symmetry: different neurons learn different features.\n",
        "\n",
        "- It enables the network to start learning effectively from the beginning.\n",
        "\n",
        "## The Problem: Not All Randomness is Good\n",
        "If weights are:\n",
        "\n",
        "- Too small → Gradients may vanish → Training becomes slow or stuck.\n",
        "\n",
        "- Too large → Gradients may explode → Training becomes unstable.\n",
        "\n",
        "- Improperly scaled → Can lead to saturation of activation functions like sigmoid or tanh.\n",
        "\n",
        "\n",
        "## The Solution: Smart Random Initialization (Using Variance)\n",
        "To mitigate those issues, random initialization is adjusted using statistical techniques like:\n",
        "\n",
        "\n",
        "1. Xavier (Glorot) Initialization\n",
        "\n",
        "  - Used with: sigmoid or tanh activations\n",
        "\n",
        "  - Ensures that the variance of activations and gradients remains stable across layers.\n",
        "\n",
        "\n",
        "2. He Initialization\n",
        "\n",
        "  - Used with: ReLU or Leaky ReLU\n",
        "\n",
        "  - Takes into account that ReLU discards half the values (negative ones).\n",
        "\n",
        "\n",
        "## Why This Works\n",
        "  - These methods control variance flow through the network.\n",
        "\n",
        "  - Prevent neurons from becoming saturated (where gradients vanish) or overshooting (where gradients explode).\n",
        "\n",
        "\n",
        "##  In TensorFlow/Keras\n",
        "Keras makes this easy with built-in initializers:\n",
        "```\n",
        "from tensorflow.keras.initializers import HeNormal, GlorotUniform\n",
        "\n",
        "model.add(Dense(64, activation='relu', kernel_initializer=HeNormal()))\n",
        "model.add(Dense(64, activation='tanh', kernel_initializer=GlorotUniform()))\n",
        "```"
      ],
      "metadata": {
        "id": "UttznTbu8BE2"
      }
    },
    {
      "cell_type": "code",
      "source": [],
      "metadata": {
        "id": "uA4Vv1VIiw1A"
      },
      "execution_count": null,
      "outputs": []
    },
    {
      "cell_type": "markdown",
      "source": [
        "6. Discuss the concept of Xavier/Glorot initialization. Explain how it addresses the challenges of improper\n",
        "weight initialization and the underlying theory behind it."
      ],
      "metadata": {
        "id": "-lM8eHl3iz8v"
      }
    },
    {
      "cell_type": "markdown",
      "source": [
        "A6. Xavier Initialization, also known as Glorot Initialization, is a weight initialization strategy designed to maintain the variance of inputs and outputs across layers.\n",
        "\n",
        "## Why Do We Need It?\n",
        "In deep networks, if weights are not properly initialized:\n",
        "\n",
        "- Too small → activations shrink → vanishing gradients\n",
        "\n",
        "- Too large → activations grow → exploding gradients\n",
        "\n",
        "This makes training unstable or even impossible.\n",
        "\n",
        "## Core Idea Behind Xavier Initialization\n",
        "To keep the signal (activation and gradient) flow stable, the initialization must ensure:\n",
        "\n",
        "- Variance of input to a layer = Variance of output\n",
        "\n",
        "- Variance of gradient at input = Variance of gradient at output\n",
        "\n",
        "This ensures **consistent learning** across layers.\n",
        "\n",
        "\n",
        "## How It Helps\n",
        "\n",
        "1. **Balances Variance:** Keeps variance of inputs and outputs consistent\n",
        "\n",
        "2. **Prevents Saturation:** Neurons don’t get stuck with near-zero gradients (especially for sigmoid/tanh)\n",
        "\n",
        "3. **Improves Convergence:** Helps faster and more stable training.\n",
        "\n",
        "\n",
        "## Use in practice\n",
        "```\n",
        "from tensorflow.keras.initializers import GlorotUniform\n",
        "\n",
        "model.add(Dense(64, activation='tanh', kernel_initializer=GlorotUniform()))\n",
        "```\n",
        "\n",
        "It's the default initializer in many Keras layers when using tanh or sigmoid.\n",
        "\n",
        "## Note:\n",
        "\n",
        "- Best suited for sigmoid and tanh activation functions.\n",
        "\n",
        "- For ReLU, use He Initialization (which scales the variance differently).\n"
      ],
      "metadata": {
        "id": "_4Qa7kRF9Saq"
      }
    },
    {
      "cell_type": "code",
      "source": [],
      "metadata": {
        "id": "p34IN3qBi3Jo"
      },
      "execution_count": null,
      "outputs": []
    },
    {
      "cell_type": "markdown",
      "source": [
        "7. Explain the concept of He initialization. How does it differ from Xavier initialization, and when is it preferred?"
      ],
      "metadata": {
        "id": "_vAbSyo_i5GC"
      }
    },
    {
      "cell_type": "markdown",
      "source": [
        "A7. He Initialization (also known as Kaiming Initialization) is a method for initializing the weights of neural networks to improve training stability, particularly in networks that use ReLU or its variants (like Leaky ReLU).\n",
        "\n",
        "## The Core Idea\n",
        "- He Initialization is designed to preserve the variance of activations across layers — just like Xavier — **but accounts for the properties of ReLU activations, which zero out negative values.**\n",
        "\n",
        "- Because ReLU drops roughly **half the input activations**, the initialization compensates by using **larger weight variance.**\n",
        "\n",
        "\n",
        "## How it is different from  Xavier Initialization?\n",
        "\n",
        "### Xavier:\n",
        "\n",
        "- Activation function target -> Sigmoid, tanh\n",
        "\n",
        "- Designed for -> Keeping both forward and backward signal flow stable.\n",
        "\n",
        "### He:\n",
        "\n",
        "- Activation function target -> ReLU, Leaky ReLU\n",
        "\n",
        "- Designed for -> Compensating for ReLU's dead outputs.\n",
        "\n",
        "\n",
        "## Use in Practice (Keras / TensorFlow)\n",
        "\n",
        "```\n",
        "from tensorflow.keras.initializers import HeNormal\n",
        "\n",
        "model.add(Dense(128, activation='relu', kernel_initializer=HeNormal()))\n",
        "```\n",
        "\n",
        "This is often the default initializer when using relu in Keras.\n",
        "\n",
        "## When to Use He Initialization\n",
        "Use He Initialization when:\n",
        "\n",
        "- Your model uses ReLU, Leaky ReLU, Parametric ReLU, etc.\n",
        "\n",
        "- You're training deep feedforward or CNN models\n",
        "\n",
        "It generally leads to **faster convergence** and **better accuracy** than Xavier with ReLU-based networks."
      ],
      "metadata": {
        "id": "xjBpHsj0-MsL"
      }
    },
    {
      "cell_type": "code",
      "source": [],
      "metadata": {
        "id": "4hCOyjMIi6_4"
      },
      "execution_count": null,
      "outputs": []
    },
    {
      "cell_type": "code",
      "source": [],
      "metadata": {
        "id": "YujESeLbi8cr"
      },
      "execution_count": null,
      "outputs": []
    },
    {
      "cell_type": "markdown",
      "source": [
        "# Part 3: Applying Weight Initialization"
      ],
      "metadata": {
        "id": "3B1g7rKQi8uf"
      }
    },
    {
      "cell_type": "markdown",
      "source": [
        "8. Implement different weight initialization techniques (zero initialization, random initialization, Xavier initialization, and He initialization) in a neural network using a framework of your choice. Train the model\n",
        "on a suitable dataset and compare the performance of the initialized models."
      ],
      "metadata": {
        "id": "aAK6YOBJi_r2"
      }
    },
    {
      "cell_type": "code",
      "source": [
        "import tensorflow as tf\n",
        "from tensorflow.keras.models import Sequential\n",
        "from tensorflow.keras.layers import Dense, Flatten\n",
        "from tensorflow.keras.datasets import mnist\n",
        "from tensorflow.keras.utils import to_categorical\n",
        "from tensorflow.keras.initializers import Zeros, RandomNormal, GlorotNormal, HeNormal\n",
        "import matplotlib.pyplot as plt\n",
        "import pandas as pd\n",
        "\n",
        "# Load and preprocess MNIST dataset\n",
        "(x_train, y_train), (x_test, y_test) = mnist.load_data()\n",
        "x_train, x_val = x_train[:50000] / 255.0, x_train[50000:] / 255.0\n",
        "y_train, y_val = y_train[:50000], y_train[50000:]\n",
        "\n",
        "x_test = x_test / 255.0\n",
        "y_train_cat = to_categorical(y_train, 10)\n",
        "y_val_cat = to_categorical(y_val, 10)\n",
        "y_test_cat = to_categorical(y_test, 10)\n",
        "\n",
        "# Define model creation function\n",
        "def create_model(initializer):\n",
        "    model = Sequential([\n",
        "        Flatten(input_shape=(28, 28)),\n",
        "        Dense(128, activation='relu', kernel_initializer=initializer),\n",
        "        Dense(64, activation='relu', kernel_initializer=initializer),\n",
        "        Dense(10, activation='softmax')\n",
        "    ])\n",
        "    model.compile(optimizer='adam', loss='categorical_crossentropy', metrics=['accuracy'])\n",
        "    return model\n",
        "\n",
        "# Test different initializers\n",
        "initializers = {\n",
        "    'Zero': Zeros(),\n",
        "    'Random': RandomNormal(mean=0.0, stddev=0.05),\n",
        "    'Xavier': GlorotNormal(),\n",
        "    'He': HeNormal()\n",
        "}\n",
        "\n",
        "histories = {}\n",
        "for name, init in initializers.items():\n",
        "    print(f\"Training with {name} initialization...\")\n",
        "    model = create_model(init)\n",
        "    history = model.fit(x_train, y_train_cat, epochs=10, batch_size=128,\n",
        "                        validation_data=(x_val, y_val_cat), verbose=0)\n",
        "    histories[name] = history.history\n",
        "\n",
        "histories_df = pd.DataFrame({key: val['val_accuracy'] for key, val in histories.items()})\n",
        "histories_df.index.name = 'Epoch'\n",
        "\n",
        "histories_df.plot(figsize=(10, 6), title='Validation Accuracy by Weight Initialization')\n",
        "plt.ylabel('Validation Accuracy')\n",
        "plt.grid(True)\n",
        "plt.show()\n",
        "\n",
        "print(\"Final validation accuracies:\")\n",
        "print(histories_df.tail(1).T)\n"
      ],
      "metadata": {
        "colab": {
          "base_uri": "https://localhost:8080/",
          "height": 787
        },
        "id": "VSDI3C-BAn3D",
        "outputId": "ce9c36a4-9f3d-4c3d-f6fd-4193d41376a0"
      },
      "execution_count": 2,
      "outputs": [
        {
          "output_type": "stream",
          "name": "stdout",
          "text": [
            "Downloading data from https://storage.googleapis.com/tensorflow/tf-keras-datasets/mnist.npz\n",
            "\u001b[1m11490434/11490434\u001b[0m \u001b[32m━━━━━━━━━━━━━━━━━━━━\u001b[0m\u001b[37m\u001b[0m \u001b[1m0s\u001b[0m 0us/step\n",
            "Training with Zero initialization...\n"
          ]
        },
        {
          "output_type": "stream",
          "name": "stderr",
          "text": [
            "/usr/local/lib/python3.11/dist-packages/keras/src/layers/reshaping/flatten.py:37: UserWarning: Do not pass an `input_shape`/`input_dim` argument to a layer. When using Sequential models, prefer using an `Input(shape)` object as the first layer in the model instead.\n",
            "  super().__init__(**kwargs)\n"
          ]
        },
        {
          "output_type": "stream",
          "name": "stdout",
          "text": [
            "Training with Random initialization...\n",
            "Training with Xavier initialization...\n",
            "Training with He initialization...\n"
          ]
        },
        {
          "output_type": "display_data",
          "data": {
            "text/plain": [
              "<Figure size 1000x600 with 1 Axes>"
            ],
            "image/png": "[encoded data removed]"
          },
          "metadata": {}
        },
        {
          "output_type": "stream",
          "name": "stdout",
          "text": [
            "Final validation accuracies:\n",
            "Epoch        9\n",
            "Zero    0.1064\n",
            "Random  0.9775\n",
            "Xavier  0.9764\n",
            "He      0.9769\n"
          ]
        }
      ]
    },
    {
      "cell_type": "code",
      "source": [],
      "metadata": {
        "id": "k40fjPDvi92g"
      },
      "execution_count": null,
      "outputs": []
    },
    {
      "cell_type": "markdown",
      "source": [
        "9. Discuss the considerations and tradeoffs when choosing the appropriate weight initialization technique for a given neural network architecture and task."
      ],
      "metadata": {
        "id": "YwOs6YAdjEnX"
      }
    },
    {
      "cell_type": "markdown",
      "source": [
        "A9. When choosing a weight initialization technique for a neural network, your decision can significantly impact how well (and how quickly) your model learns. Here are the key considerations and tradeoffs to keep in mind:\n",
        "\n",
        "## 1.) Type of Activation Function\n",
        "\n",
        "1. ReLU / Leaky ReLU:\n",
        "\n",
        "  - Use: He Initialization\n",
        "\n",
        "  - Why: He initialization is designed to keep the variance of activations stable in deep networks using ReLU-like activations.\n",
        "\n",
        "2. Sigmoid / tanh:\n",
        "\n",
        "  - Use: Xavier (Glorot) Initialization\n",
        "\n",
        "  - Why: Xavier assumes symmetric activations and helps prevent saturation by balancing the flow of gradients.\n",
        "\n",
        "\n",
        "## 2.) Depth of the Network\n",
        "\n",
        "1. Shallow Networks:\n",
        "\n",
        "   - Random initialization or even Xavier may suffice.\n",
        "\n",
        "2. Deep Networks:\n",
        "\n",
        "   - Require better initialization (e.g., He or Xavier) to avoid vanishing/exploding gradients.\n",
        "\n",
        "\n",
        "## 3.) Risk of Vanishing or Exploding Gradients\n",
        "\n",
        "   - Too small weights → Gradients vanish → No learning\n",
        "\n",
        "   - Too large weights → Exploding gradients → Unstable updates\n",
        "\n",
        "   - Proper initialization (like Xavier or He) helps mitigate both issues by maintaining variance across layers.\n",
        "\n",
        "## 4.) Nature of the Task\n",
        "\n",
        "1. Classification Tasks (Softmax Output):\n",
        "\n",
        "  - Xavier is often a good starting point.\n",
        "\n",
        "2. Regression Tasks:\n",
        "\n",
        "    - Custom initialization might be useful, especially if outputs are expected within certain ranges.\n",
        "\n",
        "\n",
        "## 5.) Learning Stability and Speed\n",
        "\n",
        "1. Zero Initialization:\n",
        "\n",
        "   - Leads to symmetry problem (all neurons learn the same thing) → Bad idea in hidden layers.\n",
        "\n",
        "2. Random Initialization:\n",
        "\n",
        "  - Works better, but unscaled variance can still cause training instability.\n",
        "\n",
        "3. He / Xavier:\n",
        "\n",
        "  - Designed to speed up convergence by stabilizing gradient flow.\n",
        "\n",
        "## 6.) When it Can Go Wrong\n",
        "\n",
        "  - **He Initialization + Sigmoid:** May cause exploding activations due to mismatch.\n",
        "\n",
        "  - **Xavier + ReLU:** Sometimes not enough variance; leads to slower learning.\n"
      ],
      "metadata": {
        "id": "EOdBukZyA7w7"
      }
    },
    {
      "cell_type": "code",
      "source": [],
      "metadata": {
        "id": "zqePX1zMjGK3"
      },
      "execution_count": null,
      "outputs": []
    },
    {
      "cell_type": "code",
      "source": [],
      "metadata": {
        "id": "gQE_JoWZCJe6"
      },
      "execution_count": null,
      "outputs": []
    }
  ]
}