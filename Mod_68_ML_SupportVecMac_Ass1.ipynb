{
  "nbformat": 4,
  "nbformat_minor": 0,
  "metadata": {
    "colab": {
      "provenance": []
    },
    "kernelspec": {
      "name": "python3",
      "display_name": "Python 3"
    },
    "language_info": {
      "name": "python"
    }
  },
  "cells": [
    {
      "cell_type": "markdown",
      "source": [
        "# Module68 Support Vector Machines Assignment1"
      ],
      "metadata": {
        "id": "CFdxlt5OdIhr"
      }
    },
    {
      "cell_type": "markdown",
      "source": [
        "Q1. What is the mathematical formula for a linear SVM?"
      ],
      "metadata": {
        "id": "rMMadF0Scf9K"
      }
    },
    {
      "cell_type": "markdown",
      "source": [
        "A1. A linear SVM aims to find the hyperplane that separates the data into two classes with the maximum margin. For a linear SVM, the hyperplane is defined as:\n",
        "\n",
        "``` f(x)  = wT * x + b ```\n",
        "\n",
        "Where:\n",
        "\n",
        "w: Weight vector (perpendicular to the hyperplane)\n",
        "\n",
        "x: Input feature vector\n",
        "\n",
        "b: Bias term (offset of the hyperplane from the origin)\n",
        "\n",
        "The decision boundary is defined as:\n",
        "\n",
        "``` wT * x + b = 0 ```\n",
        "\n"
      ],
      "metadata": {
        "id": "Lfl1ttgMcf5n"
      }
    },
    {
      "cell_type": "code",
      "source": [],
      "metadata": {
        "id": "j8qdse7eciWP"
      },
      "execution_count": null,
      "outputs": []
    },
    {
      "cell_type": "markdown",
      "source": [
        "Q2. What is the objective function of a linear SVM?"
      ],
      "metadata": {
        "id": "5Uj0jcHacf3E"
      }
    },
    {
      "cell_type": "markdown",
      "source": [
        "A2. The objective function of a linear SVM consists of two parts:\n",
        "\n",
        "1.) Minimize the norm of the weight vector ||W||2 : This maximizes the margin between the two classes.\n",
        "\n",
        "2.) Ensure correct classification with a margin: Add constraints to ensure that all data points lie on the correct side of the margin.\n",
        "\n",
        "The optimization problem is:\n",
        "\n",
        "``` min(w,b) (1/2 * ||w||^2) ```\n",
        "\n",
        "Subject to:\n",
        "\n",
        "``` yi*(wT*xi + b) >= 1, ∀i ```\n",
        "\n",
        "Here:\n",
        "\n",
        "yi : Class label (+1 or -1)\n",
        "\n",
        "xi : Input feature vector\n",
        "\n",
        "w,b: Parameters to be optimized\n",
        "\n",
        "For soft-margin SVMs, a slack variable ξi is introduced to allow some misclassification:\n",
        "\n",
        "```[ min(w,b,ξ) (1/2 * ||w||^2) ] + [C* ∑(from i=1 to N) ξi ]```\n",
        "\n",
        "Subject to:\n",
        "\n",
        "``` yi*(wT*xi + b) >= 1 - ξi, ξi >= 0 ```\n",
        "\n",
        "Where C is a regularization parameter controlling the trade-off between maximizing the margin and minimizing classification errors.\n",
        "\n"
      ],
      "metadata": {
        "id": "jK1nyx-Vcf0Z"
      }
    },
    {
      "cell_type": "code",
      "source": [],
      "metadata": {
        "id": "jvxU82MwcjWi"
      },
      "execution_count": null,
      "outputs": []
    },
    {
      "cell_type": "markdown",
      "source": [
        "Q3. What is the kernel trick in SVM?"
      ],
      "metadata": {
        "id": "vHGaxtG-cfxp"
      }
    },
    {
      "cell_type": "markdown",
      "source": [
        "A3. The kernel trick allows SVMs to handle non-linear data by transforming the input space into a higher-dimensional feature space. Instead of computing the transformation explicitly, the kernel trick computes the dot product in the transformed space using a kernel function K(x1, xj).\n",
        "\n",
        "For example, the kernel function K(x1, xj) replaces xiT * xj  in the optimization problem. Common kernels include:\n",
        "\n",
        "Linear kernel: K(x1, xj) = xiT * xj\n",
        "\n",
        "Polynomial kernel: K(x1, xj) = (xiT * xj + 1)^d\n",
        "\n",
        "Gaussian RBF kernel: K(x1, xj) = exp(-γ||xi-xj||^2)\n",
        "\n",
        "The kernel trick allows SVMs to find non-linear decision boundaries without explicitly computing the high-dimensional feature space."
      ],
      "metadata": {
        "id": "DI3jxb9Bcfu4"
      }
    },
    {
      "cell_type": "code",
      "source": [],
      "metadata": {
        "id": "1twnyLKFckW_"
      },
      "execution_count": null,
      "outputs": []
    },
    {
      "cell_type": "markdown",
      "source": [
        "Q4. What is the role of support vectors in SVM Explain with example"
      ],
      "metadata": {
        "id": "FMGupD-3cfsA"
      }
    },
    {
      "cell_type": "markdown",
      "source": [
        "A4. Support vectors are the data points closest to the decision boundary (hyperplane). They define the margin and influence the orientation and position of the hyperplane. Points farther from the margin do not affect the decision boundary.\n",
        "\n",
        "**Example:**\n",
        "\n",
        "1.) Suppose we have two classes of data:\n",
        "ClassA and ClassB.\n",
        "\n",
        "2.) The hyperplane is positioned such that the margin (distance between the nearest data points of the two classes) is maximized.\n",
        "\n",
        "3.) The data points lying on the margin boundaries are the support vectors.\n",
        "\n",
        "**Role:**\n",
        "\n",
        "1.) They determine the optimal hyperplane.\n",
        "\n",
        "2.) The decision boundary depends only on the support vectors, not the other data points.\n",
        "\n",
        "**For instance:**\n",
        "\n",
        "If the support vectors are x1, x2, .... , xk, then the hyperplane is computed using only these points."
      ],
      "metadata": {
        "id": "etJN-MoFcfpC"
      }
    },
    {
      "cell_type": "code",
      "source": [],
      "metadata": {
        "id": "nVVgLw22clWu"
      },
      "execution_count": null,
      "outputs": []
    },
    {
      "cell_type": "markdown",
      "source": [
        "Q5. Illustrate with examples and graphs of Hyperplane, Marginal plane, Soft margin and Hard margin in\n",
        "SVM?"
      ],
      "metadata": {
        "id": "t3FbN0opcfmV"
      }
    },
    {
      "cell_type": "markdown",
      "source": [
        "A5. Key Concepts\n",
        "\n",
        "1.) **Hyperplane:** The decision boundary separating the two classes.\n",
        "\n",
        "2.) **Marginal Plane:** The boundaries of the margin on both sides of the hyperplane.\n",
        "\n",
        "3.) **Hard Margin:** Assumes perfectly separable data, with no tolerance for misclassification.\n",
        "\n",
        "4.) **Soft Margin:** Allows some misclassification by introducing slack variables.\n",
        "\n",
        "I'll create a visualization with clear labels for Hyperplane, Marginal Plane, Soft Margin, and Hard Margin.\n",
        "\n",
        "\n",
        "1.) **Hard Margin SVM: **\n",
        "\n",
        "Assumes the data is perfectly separable.\n",
        "\n",
        "The hyperplane is positioned to maximize the margin without any tolerance for misclassification.\n",
        "\n",
        "Only the support vectors (circled points) influence the decision boundary.\n",
        "\n",
        "\n",
        "2.) **Soft Margin SVM: **\n",
        "\n",
        "Allows for some misclassification.\n",
        "\n",
        "The margin is wider, and slack variables are introduced for points that are either within the margin or on the wrong side of the decision boundary.\n",
        "\n",
        "\n",
        "**Key Elements:**\n",
        "\n",
        "Hyperplane: Solid line dividing the two classes.\n",
        "\n",
        "Marginal Planes: Dashed lines showing the boundaries of the margin.\n",
        "\n",
        "Support Vectors: Points closest to the hyperplane (circled).\n",
        "\n",
        "Soft Margin: Includes misclassified points or points within the margin."
      ],
      "metadata": {
        "id": "Z45TmYy3cfjj"
      }
    },
    {
      "cell_type": "code",
      "source": [],
      "metadata": {
        "id": "q0YZTCHgcmXh"
      },
      "execution_count": null,
      "outputs": []
    },
    {
      "cell_type": "markdown",
      "source": [
        "Q6. SVM Implementation through Iris dataset.\n",
        "\n",
        "~ Load the iris dataset from the scikit-learn library and split it into a training set and a testing set.\n",
        "\n",
        "~ Train a linear SVM classifier on the training set and predict the labels for the testing set.\n",
        "\n",
        "~ Compute the accuracy of the model on the testing set.\n",
        "\n",
        "~ Plot the decision boundaries of the trained model using two of the features.\n",
        "\n",
        "~ Try different values of the regularisation parameter C and see how it affects the performance of\n",
        "the model.\n",
        "\n",
        "Bonus task: Implement a linear SVM classifier from scratch using Python and compare its\n",
        "performance with the scikit-learn implementation."
      ],
      "metadata": {
        "id": "xeqFb9Q1cfg1"
      }
    },
    {
      "cell_type": "markdown",
      "source": [
        "A6. Follow these steps :-  \n",
        "\n",
        "1.) Load the Iris dataset from scikit-learn.\n",
        "\n",
        "2.) Split the data into training and testing sets.\n",
        "\n",
        "3.) Train a linear SVM classifier and predict labels for the test set.\n",
        "\n",
        "4.) Compute accuracy.\n",
        "\n",
        "5.) Plot decision boundaries using two selected features.\n",
        "\n",
        "6.) Experiment with different regularization parameters C.\n",
        "\n",
        "7.) Bonus: Implement a linear SVM classifier from scratch and compare performance."
      ],
      "metadata": {
        "id": "0MQCWixWc5t9"
      }
    },
    {
      "cell_type": "code",
      "execution_count": 1,
      "metadata": {
        "colab": {
          "base_uri": "https://localhost:8080/",
          "height": 562
        },
        "id": "gZwbQlkVcSau",
        "outputId": "427a6312-9690-4ff2-9b5e-51c3ef3c42e5"
      },
      "outputs": [
        {
          "output_type": "display_data",
          "data": {
            "text/plain": [
              "<Figure size 800x600 with 1 Axes>"
            ],
            "image/png": "[encoded data removed]"
          },
          "metadata": {}
        },
        {
          "output_type": "execute_result",
          "data": {
            "text/plain": [
              "{0.01: 0.8666666666666667, 0.1: 1.0, 1.0: 1.0, 10.0: 1.0, 100.0: 1.0}"
            ]
          },
          "metadata": {},
          "execution_count": 1
        }
      ],
      "source": [
        "from sklearn.datasets import load_iris\n",
        "from sklearn.model_selection import train_test_split\n",
        "from sklearn.svm import SVC\n",
        "from sklearn.metrics import accuracy_score\n",
        "import numpy as np\n",
        "import matplotlib.pyplot as plt\n",
        "\n",
        "# Step 1: Load the Iris dataset\n",
        "iris = load_iris()\n",
        "X = iris.data[:, :2]  # Select only two features for visualization\n",
        "y = iris.target\n",
        "\n",
        "# Only consider two classes (binary classification for simplicity)\n",
        "X = X[y != 2]\n",
        "y = y[y != 2]\n",
        "\n",
        "# Step 2: Split the dataset into training and testing sets\n",
        "X_train, X_test, y_train, y_test = train_test_split(X, y, test_size=0.3, random_state=42, stratify=y)\n",
        "\n",
        "# Step 3: Train a linear SVM classifier\n",
        "svc = SVC(kernel=\"linear\", C=1.0, random_state=42)\n",
        "svc.fit(X_train, y_train)\n",
        "\n",
        "# Step 4: Predict the labels for the test set\n",
        "y_pred = svc.predict(X_test)\n",
        "\n",
        "# Compute accuracy\n",
        "accuracy = accuracy_score(y_test, y_pred)\n",
        "\n",
        "# Step 5: Plot decision boundaries\n",
        "def plot_decision_boundaries(X, y, model, ax, title):\n",
        "    x_min, x_max = X[:, 0].min() - 1, X[:, 0].max() + 1\n",
        "    y_min, y_max = X[:, 1].min() - 1, X[:, 1].max() + 1\n",
        "    xx, yy = np.meshgrid(np.arange(x_min, x_max, 0.01),\n",
        "                         np.arange(y_min, y_max, 0.01))\n",
        "    Z = model.predict(np.c_[xx.ravel(), yy.ravel()])\n",
        "    Z = Z.reshape(xx.shape)\n",
        "    ax.contourf(xx, yy, Z, alpha=0.8, cmap=plt.cm.Paired)\n",
        "    ax.scatter(X[:, 0], X[:, 1], c=y, edgecolors=\"k\", cmap=plt.cm.Paired)\n",
        "    ax.set_title(title)\n",
        "\n",
        "# Plot for default C=1.0\n",
        "fig, ax = plt.subplots(figsize=(8, 6))\n",
        "plot_decision_boundaries(X_test, y_test, svc, ax, \"Linear SVM (C=1.0)\")\n",
        "plt.show()\n",
        "\n",
        "# Step 6: Experiment with different values of C\n",
        "C_values = [0.01, 0.1, 1.0, 10.0, 100.0]\n",
        "accuracy_results = {}\n",
        "\n",
        "for C in C_values:\n",
        "    svc = SVC(kernel=\"linear\", C=C, random_state=42)\n",
        "    svc.fit(X_train, y_train)\n",
        "    y_pred = svc.predict(X_test)\n",
        "    accuracy_results[C] = accuracy_score(y_test, y_pred)\n",
        "\n",
        "# Display accuracy results for different C values\n",
        "accuracy_results\n"
      ]
    }
  ]
}