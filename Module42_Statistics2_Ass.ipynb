{
  "nbformat": 4,
  "nbformat_minor": 0,
  "metadata": {
    "colab": {
      "provenance": []
    },
    "kernelspec": {
      "name": "python3",
      "display_name": "Python 3"
    },
    "language_info": {
      "name": "python"
    }
  },
  "cells": [
    {
      "cell_type": "markdown",
      "source": [
        "Module42: STATISTICS BASICS -2  Assignment"
      ],
      "metadata": {
        "id": "bfEr_2tZRGdN"
      }
    },
    {
      "cell_type": "markdown",
      "source": [
        "Q1. What are the three measures of central tendency?"
      ],
      "metadata": {
        "id": "9bcX4phDRWo4"
      }
    },
    {
      "cell_type": "markdown",
      "source": [
        "A1: The three measures of central tendency are:\n",
        "\n",
        "1. Mean: The arithmetic average of a dataset.\n",
        "\n",
        "2. Median: The middle value when the dataset is arranged in ascending order.\n",
        "\n",
        "3. Mode: The most frequently occurring value(s) in the dataset."
      ],
      "metadata": {
        "id": "nQWTokonRWmE"
      }
    },
    {
      "cell_type": "code",
      "source": [],
      "metadata": {
        "id": "LGY-QMbIRasL"
      },
      "execution_count": 4,
      "outputs": []
    },
    {
      "cell_type": "markdown",
      "source": [
        "Q2. What is the difference between the mean, median, and mode? How are they used to measure the\n",
        "central tendency of a dataset?"
      ],
      "metadata": {
        "id": "mb3eEFPcRWi1"
      }
    },
    {
      "cell_type": "markdown",
      "source": [
        "A2: The main differneces are -\n",
        "\n",
        "1.) Mean - The sum of all values divided by the number of values. Its best used when data is evenly distributed (not skewed).\n",
        "\n",
        "2.) Median - The middle value in an ordered dataset. Preferred for skewed data or when outliers are present.\n",
        "\n",
        "3.) Mode - The value(s) that appear most frequently in the dataset. Useful for categorical data or identifying common occurrences.\n",
        "\n",
        "Example: For the dataset [1, 2, 3, 4, 100]:\n",
        "\n",
        "Mean = (1+2+3+4+100) / 5 = 22 (affected by the outlier 100).\n",
        "\n",
        "Median = 3 (not affected by the outlier).\n",
        "Mode =  No mode (as all values occur once).\n"
      ],
      "metadata": {
        "id": "E_gFed1JRWgS"
      }
    },
    {
      "cell_type": "code",
      "source": [],
      "metadata": {
        "id": "d-VbH2F-Rdww"
      },
      "execution_count": 4,
      "outputs": []
    },
    {
      "cell_type": "markdown",
      "source": [
        "Q3. Measure the three measures of central tendency for the given height data:\n",
        "[178,177,176,177,178.2,178,175,179,180,175,178.9,176.2,177,172.5,178,176.5]"
      ],
      "metadata": {
        "id": "H-Snq4ciRWdd"
      }
    },
    {
      "cell_type": "code",
      "source": [
        "import numpy as np\n",
        "from scipy import stats\n",
        "\n",
        "heights_list =  [178, 177, 176, 177, 178.2, 178, 175, 179, 180, 175, 178.9, 176.2, 177, 172.5, 178, 176.5]\n",
        "\n",
        "# Calculate mean and meadian:\n",
        "mean_height = np.mean(heights_list)\n",
        "median_height = np.median(heights_list)\n",
        "\n",
        "# Calculate mode:\n",
        "mode_height = stats.mode(heights_list)\n",
        "\n",
        "mean_height, median_height, mode_height\n",
        "\n"
      ],
      "metadata": {
        "colab": {
          "base_uri": "https://localhost:8080/"
        },
        "id": "K5xPKaHERgXf",
        "outputId": "37fbe796-0281-4efc-8ac0-a0fcb0deb08a"
      },
      "execution_count": 5,
      "outputs": [
        {
          "output_type": "execute_result",
          "data": {
            "text/plain": [
              "(177.01875, 177.0, ModeResult(mode=177.0, count=3))"
            ]
          },
          "metadata": {},
          "execution_count": 5
        }
      ]
    },
    {
      "cell_type": "code",
      "source": [],
      "metadata": {
        "id": "FaKz5_WyfPNX"
      },
      "execution_count": 5,
      "outputs": []
    },
    {
      "cell_type": "markdown",
      "source": [
        "Q4. Find the standard deviation for the given data:\n",
        "[178,177,176,177,178.2,178,175,179,180,175,178.9,176.2,177,172.5,178,176.5]"
      ],
      "metadata": {
        "id": "5yq0eXhXRWYT"
      }
    },
    {
      "cell_type": "code",
      "source": [
        "import numpy as np\n",
        "\n",
        "data = [178,177,176,177,178.2,178,175,179,180,175,178.9,176.2,177,172.5,178,176.5]\n",
        "\n",
        "std_dev = np.std(data)\n",
        "\n",
        "std_dev"
      ],
      "metadata": {
        "colab": {
          "base_uri": "https://localhost:8080/"
        },
        "id": "WbiNZNBuRpoT",
        "outputId": "ac948a4c-64a1-49bb-bfc7-56a17dd0d9d6"
      },
      "execution_count": 6,
      "outputs": [
        {
          "output_type": "execute_result",
          "data": {
            "text/plain": [
              "1.7885814036548633"
            ]
          },
          "metadata": {},
          "execution_count": 6
        }
      ]
    },
    {
      "cell_type": "code",
      "source": [],
      "metadata": {
        "id": "sgeUFyB-fUV2"
      },
      "execution_count": 6,
      "outputs": []
    },
    {
      "cell_type": "markdown",
      "source": [
        "Q5. How are measures of dispersion such as range, variance, and standard deviation used to describe\n",
        "the spread of a dataset? Provide an example."
      ],
      "metadata": {
        "id": "IpKepzFJRWTE"
      }
    },
    {
      "cell_type": "markdown",
      "source": [
        "A5: Measures of Dispersion:\n",
        "\n",
        "1. Range: Difference between the maximum and minimum values. Indicates the extent of the data spread.Example: Dataset [1, 3, 5, 7] → Range = 7−1 = 6.\n",
        "\n",
        "2. Variance: The average squared deviation from the mean. Reflects how far data points are spread.\n",
        "Example: Variance for [1, 3, 5] → [sqr(1-3) + sqr(3-3) + sqr(5-3)] / 3 = 2.67.\n",
        "\n",
        "3. Standard Deviation: The square root of variance. Represents the average deviation in original units.\n",
        "Examole: Standard deviation for [1, 3, 5] → sqroot(2.67) = 1.63\n",
        "\n",
        "Usage: These measures help understand data variability, detect outliers, and gauge reliability in datasets."
      ],
      "metadata": {
        "id": "qF-PBkvxRsUx"
      }
    },
    {
      "cell_type": "code",
      "source": [],
      "metadata": {
        "id": "So-e-g11Rs2E"
      },
      "execution_count": 6,
      "outputs": []
    },
    {
      "cell_type": "markdown",
      "source": [
        "Q6. What is a Venn diagram?"
      ],
      "metadata": {
        "id": "F8bmQeFuRtNO"
      }
    },
    {
      "cell_type": "markdown",
      "source": [
        "A6: A Venn diagram is a visual representation of the relationships between different sets. It uses overlapping circles to show common and distinct elements.\n",
        "\n",
        "Example: Set A: {1, 2, 3}, Set B: {3, 4, 5}\n",
        "\n",
        "The overlapping area represents {3}, which is common to both sets.\n"
      ],
      "metadata": {
        "id": "E3SgmV3URvSQ"
      }
    },
    {
      "cell_type": "code",
      "source": [],
      "metadata": {
        "id": "M_qYgnvtRvuM"
      },
      "execution_count": 6,
      "outputs": []
    },
    {
      "cell_type": "markdown",
      "source": [
        "Q7. For the two given sets A = (2,3,4,5,6,7) & B = (0,2,6,8,10). Find:\n",
        "(i) A ∩ B\n",
        "(ii) A ⋃ B"
      ],
      "metadata": {
        "id": "PIUcMAlgRwL8"
      }
    },
    {
      "cell_type": "markdown",
      "source": [
        "A7: Fot the 2 given data sets:\n",
        "\n",
        "A = (2,3,4,5,6,7), B = (0,2,6,8,10)\n",
        "\n",
        "1. Intersection(common elements)\n",
        "Answer= {2,6}\n",
        "\n",
        "2. Union (all unique elements)\n",
        "Answer = {0,2,3,4,5,6,7,8,10}\n"
      ],
      "metadata": {
        "id": "F8a4O4oiRyyC"
      }
    },
    {
      "cell_type": "code",
      "source": [],
      "metadata": {
        "id": "QIxWzUSTRzLT"
      },
      "execution_count": 6,
      "outputs": []
    },
    {
      "cell_type": "markdown",
      "source": [
        "Q8. What do you understand about skewness in data?"
      ],
      "metadata": {
        "id": "Hu6gGDx2Rzgv"
      }
    },
    {
      "cell_type": "markdown",
      "source": [
        "A8: Skewness measures the asymmetry of a dataset's distribution:\n",
        "\n",
        "1. Positive Skew (Right-skewed): Tail extends to the right. Mean > Median.\n",
        "\n",
        "2. Negative Skew (Left-skewed): Tail extends to the left. Mean < Median.\n",
        "\n",
        "3. Symmetrical: No skewness. Mean = Median = Mode."
      ],
      "metadata": {
        "id": "ZTmcZJx1R2gk"
      }
    },
    {
      "cell_type": "code",
      "source": [],
      "metadata": {
        "id": "n0sHDuuBR26k"
      },
      "execution_count": 6,
      "outputs": []
    },
    {
      "cell_type": "markdown",
      "source": [
        "Q9. If a data is right skewed then what will be the position of median with respect to mean?"
      ],
      "metadata": {
        "id": "lGO3MdbER3X3"
      }
    },
    {
      "cell_type": "markdown",
      "source": [
        "A9: In a right-skewed dataset, the median will be less than the mean because the extreme large values (tail) pull the mean to the right."
      ],
      "metadata": {
        "id": "ItieNEb-R5e8"
      }
    },
    {
      "cell_type": "code",
      "source": [],
      "metadata": {
        "id": "NqPVqszpR6E3"
      },
      "execution_count": 6,
      "outputs": []
    },
    {
      "cell_type": "markdown",
      "source": [
        "Q10. Explain the difference between covariance and correlation. How are these measures used in\n",
        "statistical analysis?"
      ],
      "metadata": {
        "id": "jnqS1B4BR6ft"
      }
    },
    {
      "cell_type": "markdown",
      "source": [
        "A10: The difference between them are:-\n",
        "\n",
        "1. Covariance: Measures how two variables vary together.\n",
        "Scale: Unbounded\n",
        "Interpretation: Positive/Negative relationship.\n",
        "\n",
        "2. Correlation: Standardized measure of the linear relationship between variables.\n",
        "Scale: [-1, 1]\n",
        "Interpretation: Strength and direction of relationship.\n",
        "\n",
        "Usage:\n",
        "\n",
        "1. Covariance helps in PCA and feature selection.\n",
        "\n",
        "2. Correlation identifies strong linear relationships for predictive modeling."
      ],
      "metadata": {
        "id": "rQlxpVltR9zS"
      }
    },
    {
      "cell_type": "code",
      "source": [],
      "metadata": {
        "id": "0XGTMJF_R-Jg"
      },
      "execution_count": 6,
      "outputs": []
    },
    {
      "cell_type": "markdown",
      "source": [
        "Q11. What is the formula for calculating the sample mean? Provide an example calculation for a\n",
        "dataset."
      ],
      "metadata": {
        "id": "323hrFu9R-dt"
      }
    },
    {
      "cell_type": "markdown",
      "source": [
        "A11: The sample mean can be calculated as\n",
        "\n",
        "Formula: mean(X) = Sum of all x datapoints / Number of datapoints\n",
        "\n",
        "Example: Datasets - [10,20,30,40]\n",
        "\n",
        "Mean= (10+20+30+40) / 4 = 25"
      ],
      "metadata": {
        "id": "GHPCPdcYSAGq"
      }
    },
    {
      "cell_type": "code",
      "source": [],
      "metadata": {
        "id": "97E45yn_SAgD"
      },
      "execution_count": 6,
      "outputs": []
    },
    {
      "cell_type": "markdown",
      "source": [
        "Q12. For a normal distribution data what is the relationship between its measure of central tendency?"
      ],
      "metadata": {
        "id": "ISF3Lal_SBDm"
      }
    },
    {
      "cell_type": "markdown",
      "source": [
        "A12: In a normal distribution:\n",
        "\n",
        "Mean = Median = Mode\n",
        "\n",
        "The distribution is symmetrical."
      ],
      "metadata": {
        "id": "Xk57ejWfSC7G"
      }
    },
    {
      "cell_type": "code",
      "source": [],
      "metadata": {
        "id": "8yBWPCKFSDTU"
      },
      "execution_count": 6,
      "outputs": []
    },
    {
      "cell_type": "markdown",
      "source": [
        "Q13. How is covariance different from correlation?"
      ],
      "metadata": {
        "id": "PkE1MGDFSFJz"
      }
    },
    {
      "cell_type": "markdown",
      "source": [
        "Covariance is an absolute measure of relationship; correlation is a relative measure.\n",
        "\n",
        "Covariance is influenced by units, while correlation is unitless."
      ],
      "metadata": {
        "id": "4o8sTYr4SHX7"
      }
    },
    {
      "cell_type": "code",
      "source": [],
      "metadata": {
        "id": "VJrQtzBESHv4"
      },
      "execution_count": 6,
      "outputs": []
    },
    {
      "cell_type": "markdown",
      "source": [
        "Q14. How do outliers affect measures of central tendency and dispersion? Provide an example."
      ],
      "metadata": {
        "id": "DDHdAhTNSJdi"
      }
    },
    {
      "cell_type": "markdown",
      "source": [
        "A14: Central Tendency: Outliers disproportionately affect the mean but have minimal impact on the median and mode.\n",
        "Example: [10, 12, 15, 1000] → Mean: 259.25; Median: 13.5.\n",
        "\n",
        "Dispersion: Outliers increase the range, variance, and standard deviation.\n",
        "Example: [10, 12, 15, 1000] → SD increases significantly compared to [10, 12, 15, 18]."
      ],
      "metadata": {
        "id": "ZRm2wSMGSKtY"
      }
    },
    {
      "cell_type": "code",
      "source": [],
      "metadata": {
        "id": "K7UKsRdVSLYD"
      },
      "execution_count": 6,
      "outputs": []
    }
  ]
}