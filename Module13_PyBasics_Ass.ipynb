{
  "nbformat": 4,
  "nbformat_minor": 0,
  "metadata": {
    "colab": {
      "provenance": []
    },
    "kernelspec": {
      "name": "python3",
      "display_name": "Python 3"
    },
    "language_info": {
      "name": "python"
    }
  },
  "cells": [
    {
      "cell_type": "markdown",
      "source": [
        "# Module13 Python basics Assignment"
      ],
      "metadata": {
        "id": "ZvYNQxbdFd_e"
      }
    },
    {
      "cell_type": "markdown",
      "source": [
        "Q1. Who developed Python Programming language?"
      ],
      "metadata": {
        "id": "yYuGRN4eFkxG"
      }
    },
    {
      "cell_type": "markdown",
      "source": [
        "A1. Guido van Rossum began working on Python in the late 1980s as a successor to the ABC programming language and first released it in 1991 as Python 0.9. 0. Python 2.0 was released in 2000."
      ],
      "metadata": {
        "id": "07TGLzxLHa4I"
      }
    },
    {
      "cell_type": "code",
      "source": [],
      "metadata": {
        "id": "6ZK30ZiCHbnY"
      },
      "execution_count": null,
      "outputs": []
    },
    {
      "cell_type": "markdown",
      "source": [
        "Q2. Which type of Programming does Python support?"
      ],
      "metadata": {
        "id": "H6kaqY4CFldx"
      }
    },
    {
      "cell_type": "markdown",
      "source": [
        "A2. Python is an interpreted programming language, which supports object-oriented, structured, and functional programming."
      ],
      "metadata": {
        "id": "aIwclYS6Hccw"
      }
    },
    {
      "cell_type": "code",
      "source": [],
      "metadata": {
        "id": "WaOeKy8zHdCd"
      },
      "execution_count": null,
      "outputs": []
    },
    {
      "cell_type": "markdown",
      "source": [
        "Q3. Is Python case sensitive when dealing with identifiers?"
      ],
      "metadata": {
        "id": "My59mDjKFlgT"
      }
    },
    {
      "cell_type": "markdown",
      "source": [
        "A3. Yes, Python is a case-sensitive language. It considers that uppercase and lowercase characters are different. It is also applicable to identifiers. The property is useful while naming identifiers to make the code more readable and maintainable."
      ],
      "metadata": {
        "id": "ROT3JMOxHdqF"
      }
    },
    {
      "cell_type": "code",
      "source": [],
      "metadata": {
        "id": "dognnvspHeOE"
      },
      "execution_count": null,
      "outputs": []
    },
    {
      "cell_type": "markdown",
      "source": [
        "Q4. What is the correct extension of the python file?"
      ],
      "metadata": {
        "id": "IGyIrwf-FljS"
      }
    },
    {
      "cell_type": "markdown",
      "source": [
        "A4. Correct extension of the python file is .py"
      ],
      "metadata": {
        "id": "lqfFVQh7He3F"
      }
    },
    {
      "cell_type": "code",
      "source": [],
      "metadata": {
        "id": "t929t5f-Hffs"
      },
      "execution_count": null,
      "outputs": []
    },
    {
      "cell_type": "markdown",
      "source": [
        "Q5. Is Python file compiled or interpreted?"
      ],
      "metadata": {
        "id": "4wbVgSjrFlmJ"
      }
    },
    {
      "cell_type": "markdown",
      "source": [
        "A5. Interpreted"
      ],
      "metadata": {
        "id": "1z04iojPHgOk"
      }
    },
    {
      "cell_type": "code",
      "source": [],
      "metadata": {
        "id": "aGuojYVyHhSu"
      },
      "execution_count": null,
      "outputs": []
    },
    {
      "cell_type": "markdown",
      "source": [
        "Q6. Name a few blocks of code used to define in Python language?"
      ],
      "metadata": {
        "id": "j_TgqROrFlpz"
      }
    },
    {
      "cell_type": "markdown",
      "source": [
        "A6. Python uses indentation to define blocks of code. Each code block starts with an indentation and ends when the indentation level returns to a previous level."
      ],
      "metadata": {
        "id": "aQT_WNWDHiwg"
      }
    },
    {
      "cell_type": "code",
      "source": [],
      "metadata": {
        "id": "tG3p1JQoHjgS"
      },
      "execution_count": null,
      "outputs": []
    },
    {
      "cell_type": "markdown",
      "source": [
        "Q7. State a character used to give single line comments in Python?"
      ],
      "metadata": {
        "id": "s-XFxFx-Fkts"
      }
    },
    {
      "cell_type": "markdown",
      "source": [
        "A7. The # symbol"
      ],
      "metadata": {
        "id": "4GJOqX7FHkGb"
      }
    },
    {
      "cell_type": "code",
      "source": [],
      "metadata": {
        "id": "ytXGBCl9Hkop"
      },
      "execution_count": null,
      "outputs": []
    },
    {
      "cell_type": "markdown",
      "source": [
        "Q8. Mention function which can help us to find the version of Python that we are currently working on?"
      ],
      "metadata": {
        "id": "U1fMip1LFkq7"
      }
    },
    {
      "cell_type": "markdown",
      "source": [
        "A8. sys.version"
      ],
      "metadata": {
        "id": "vz4wq6C3HmXI"
      }
    },
    {
      "cell_type": "code",
      "source": [],
      "metadata": {
        "id": "KDxq8XxZHm7o"
      },
      "execution_count": null,
      "outputs": []
    },
    {
      "cell_type": "markdown",
      "source": [
        "Q9. PytHon supports the creation of anonymous functions at runtime, using a contruct called ________?"
      ],
      "metadata": {
        "id": "xp-ZZwdAFkoJ"
      }
    },
    {
      "cell_type": "markdown",
      "source": [
        "A9. In Python, the lambda keyword is used to create anonymous functions at runtime."
      ],
      "metadata": {
        "id": "TSIwz5g9J9Z7"
      }
    },
    {
      "cell_type": "code",
      "source": [],
      "metadata": {
        "id": "oTAXGSdCJ61W"
      },
      "execution_count": null,
      "outputs": []
    },
    {
      "cell_type": "markdown",
      "source": [
        "Q10. What does pip stands for Python?"
      ],
      "metadata": {
        "id": "h18ZwhkgFklM"
      }
    },
    {
      "cell_type": "markdown",
      "source": [
        "A10.  pip stands for \"pip Install Packages.\n",
        "\n",
        "Pip is a package manager for Python that allows users to install and manage Python packages and their dependencies. It's the standard tool for installing Python packages securely."
      ],
      "metadata": {
        "id": "oy1s-KjgHoz1"
      }
    },
    {
      "cell_type": "code",
      "source": [],
      "metadata": {
        "id": "lddsDSDmHp6t"
      },
      "execution_count": null,
      "outputs": []
    },
    {
      "cell_type": "markdown",
      "source": [
        "Q11. Mention a few built in functions in Python?"
      ],
      "metadata": {
        "id": "yf2HBx68FkiL"
      }
    },
    {
      "cell_type": "markdown",
      "source": [
        "A11. Some built in functions in Python are:-\n",
        "\n",
        "abs(): Returns the absolute value of a number\n",
        "\n",
        "all(): Returns true if all elements in an iterable are true, and false if not\n",
        "\n",
        "dir(): Returns a list of an object's properties and methods\n",
        "\n",
        "divmod(): Returns the quotient and remainder when one argument is divided by another\n",
        "\n",
        "enumerate(): Returns a collection as an enumerate object\n",
        "\n",
        "max(): Returns the largest of two or more arguments or the largest item in an iterable\n",
        "\n",
        "min(): Returns the smallest of two or more arguments or the smallest item in an iterable\n",
        "\n",
        "pow(): Returns x to the power of y, optionally with a modulus z\n",
        "\n",
        "range(): Returns a sequence of numbers between start and stop\n",
        "\n",
        "round(): Rounds a number to specified decimals\n",
        "\n",
        "set(): Constructs and returns a set\n",
        "\n",
        "sorted(): Returns a sorted list from the specified iterable\n",
        "\n",
        "str(): Returns the string version of the object\n",
        "\n",
        "sum(): Adds items of an iterable\n",
        "\n",
        "strip(): Removes specific leading and trailing characters from a string\n",
        "\n",
        "zip(): Returns an iterator of tuples"
      ],
      "metadata": {
        "id": "GGQIj2WRHqlY"
      }
    },
    {
      "cell_type": "code",
      "source": [],
      "metadata": {
        "id": "dSLqR-hfHrI4"
      },
      "execution_count": null,
      "outputs": []
    },
    {
      "cell_type": "markdown",
      "source": [
        "Q12. What is the maximum possible length of an identifier in Python?"
      ],
      "metadata": {
        "id": "XuzP5DyKG7WU"
      }
    },
    {
      "cell_type": "markdown",
      "source": [
        "A12.  An identifier can have a maximum length of 79 characters in Python."
      ],
      "metadata": {
        "id": "V0I3wlNuHrvr"
      }
    },
    {
      "cell_type": "code",
      "source": [],
      "metadata": {
        "id": "EBikkPr5HsUM"
      },
      "execution_count": null,
      "outputs": []
    },
    {
      "cell_type": "markdown",
      "source": [
        "Q13. What are the benefits of using Python?"
      ],
      "metadata": {
        "id": "AwM0cni8G7Te"
      }
    },
    {
      "cell_type": "markdown",
      "source": [
        "A13. Python is a popular programming language with many benefits, including:\n",
        "\n",
        "**Easy to learn** : Python's clear syntax and structure make it easy for beginners to understand and start coding.\n",
        "\n",
        "**Extensive libraries** : Python offers a wide range of libraries that can be used across various applications.\n",
        "\n",
        "**Web development** : Python frameworks like Django and Flask offer robust structures for building web applications.\n",
        "\n",
        "**Artificial intelligence**: Python is an ideal choice for Artificial Intelligence and Machine Learning.\n",
        "\n",
        "**Development efficiency** : Python's readability, word economy, and natural language-like syntax mean fewer bugs to fix.\n",
        "\n",
        "**Community support** : Python's large and active community provides resources, tutorials, and documentation to help with learning and troubleshooting.\n",
        "\n",
        "**Open-source**: Python's open-source nature allows developers to contribute to its development.\n",
        "\n",
        "Other benefits of Python include: Secure programming language,Improved productivity, Interpreted language, Easily portable, and Easy to integrate."
      ],
      "metadata": {
        "id": "P1I8j7B0HyOI"
      }
    },
    {
      "cell_type": "code",
      "source": [],
      "metadata": {
        "id": "IpeahPTBHy00"
      },
      "execution_count": null,
      "outputs": []
    },
    {
      "cell_type": "markdown",
      "source": [
        "Q14. How is memeory managed in Python?"
      ],
      "metadata": {
        "id": "UqAhHUlsG7Mk"
      }
    },
    {
      "cell_type": "markdown",
      "source": [
        "A14. Python uses several methods to manage memory, including:\n",
        "\n",
        "**Private heap:** A portion of memory that's exclusive to the Python process and stores all Python objects and data structures. The size of the private heap can grow and shrink based on the Python process's memory needs.\n",
        "\n",
        "**Garbage collection:** Automatically frees up memory that the system isn't using.\n",
        "\n",
        "**Reference counting:** Tracks how often a program uses an object. When the reference count reaches 0, the object is deallocated from memory.\n",
        "\n",
        "**Generators and iterators:** Create data streams that load one at a time, instead of storing the entire data sequence in memory.\n",
        "\n",
        "**GIL**: Prevents threads from interfering with each other's reference counts.\n",
        "\n",
        "**Data types:** Using appropriate data types can save memory. For example, integers take less memory than strings, so using an integer instead of a string can save memory.\n",
        "\n",
        "The Python memory manager handles most of the memory management work, so you can focus on your code."
      ],
      "metadata": {
        "id": "f1vwur4qHzaX"
      }
    },
    {
      "cell_type": "code",
      "source": [],
      "metadata": {
        "id": "XRDj6eopHz_m"
      },
      "execution_count": null,
      "outputs": []
    },
    {
      "cell_type": "markdown",
      "source": [
        "Q15. How to install Python or Windows and set path variables?"
      ],
      "metadata": {
        "id": "j2fxL69pG7JF"
      }
    },
    {
      "cell_type": "markdown",
      "source": [
        "A15. To install Python on Windows and set the path variable, you can:\n",
        "\n",
        "1.) Download Python: Select a Python version, download the executable installer, and run it.\n",
        "\n",
        "2.) Add Python to the path :\n",
        "\n",
        "Find the Python installation directory.\n",
        "\n",
        "Open System Properties\n",
        "\n",
        "Click Advanced system settings\n",
        "\n",
        "Click Environment Variables\n",
        "\n",
        "In User Variables, double-click Path\n",
        "\n",
        "Click New and paste the Python executable path\n",
        "\n",
        "Select the new path and click Move Up\n",
        "\n",
        "Click OK\n",
        "\n",
        "3.) Verify installation: Verify that Python was installed and that PIP was installed.  "
      ],
      "metadata": {
        "id": "PyK5rya6H1Kp"
      }
    },
    {
      "cell_type": "code",
      "source": [],
      "metadata": {
        "id": "az_3tkOuH1rQ"
      },
      "execution_count": null,
      "outputs": []
    },
    {
      "cell_type": "markdown",
      "source": [
        "Q16. Is indentation required in Pyhton?"
      ],
      "metadata": {
        "id": "VRTl9MbbG7GS"
      }
    },
    {
      "cell_type": "markdown",
      "source": [
        "A16. It is mandatory to indent statements to indicate which block of code they belong to.\n",
        "\n",
        " We must indent each line by the same amount to show they come under one block."
      ],
      "metadata": {
        "id": "tfsdFesmH2SH"
      }
    },
    {
      "cell_type": "code",
      "source": [],
      "metadata": {
        "id": "MNeFBtnKH20g"
      },
      "execution_count": null,
      "outputs": []
    }
  ]
}