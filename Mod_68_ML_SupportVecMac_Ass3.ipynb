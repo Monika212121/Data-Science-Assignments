{
  "nbformat": 4,
  "nbformat_minor": 0,
  "metadata": {
    "colab": {
      "provenance": []
    },
    "kernelspec": {
      "name": "python3",
      "display_name": "Python 3"
    },
    "language_info": {
      "name": "python"
    }
  },
  "cells": [
    {
      "cell_type": "markdown",
      "source": [
        "# Module68 Support Vector Machines Assignment3"
      ],
      "metadata": {
        "id": "wbZemM-7qSwc"
      }
    },
    {
      "cell_type": "markdown",
      "source": [
        "Q1. In order to predict house price based on several characteristics, such as location, square footage,\n",
        "number of bedrooms, etc., you are developing an SVM regression model. Which regression metric in this\n",
        "situation would be the best to employ?\n",
        "Dataset link:"
      ],
      "metadata": {
        "id": "GUo6eDpeqStA"
      }
    },
    {
      "cell_type": "markdown",
      "source": [
        "A1. For predicting house prices, the best regression metrics are:\n",
        "\n",
        "**1. Mean Absolute Error (MAE):**\n",
        "\n",
        "MAE measures the average magnitude of the absolute errors between predicted and actual prices.\n",
        "\n",
        "It is straightforward to interpret, as it reflects the average error in the same units as the target variable (house prices).\n",
        "\n",
        "**2. Root Mean Squared Error (RMSE):**\n",
        "\n",
        "RMSE penalizes large errors more than MAE due to squaring, making it sensitive to outliers.\n",
        "\n",
        "It provides a measure of how far predictions deviate from actual prices on average.\n",
        "\n",
        "\n",
        "For house price prediction, MAE is often more interpretable and robust to outliers compared to RMSE."
      ],
      "metadata": {
        "id": "rDmyNBGyqSqK"
      }
    },
    {
      "cell_type": "code",
      "source": [],
      "metadata": {
        "id": "45s0xTToqwO3"
      },
      "execution_count": null,
      "outputs": []
    },
    {
      "cell_type": "markdown",
      "source": [
        "Q2. You have built an SVM regression model and are trying to decide between using MSE or R-squared as\n",
        "your evaluation metric. Which metric would be more appropriate if your goal is to predict the actual price\n",
        "of a house as accurately as possible?"
      ],
      "metadata": {
        "id": "MOLM_d5RqSnZ"
      }
    },
    {
      "cell_type": "markdown",
      "source": [
        "A2. If your goal is to predict the actual price of a house as accurately as possible, Mean Squared Error (MSE) is more appropriate.\n",
        "\n",
        "MSE measures the average squared difference between predicted and actual values, directly reflecting prediction accuracy.\n",
        "\n",
        "It gives more weight to large errors, which is useful when precise predictions are critical.\n",
        "\n",
        "**R-squared,** on the other hand, measures how well the model explains the variance in the data. While it gives a sense of model performance, it does not directly measure prediction accuracy.\n",
        "\n",
        "**Conclusion:** Use MSE when your primary goal is to minimize prediction errors for house prices."
      ],
      "metadata": {
        "id": "k2UabFbZqSkh"
      }
    },
    {
      "cell_type": "code",
      "source": [],
      "metadata": {
        "id": "-vCSZySFqVP0"
      },
      "execution_count": null,
      "outputs": []
    },
    {
      "cell_type": "markdown",
      "source": [
        "Q3. You have a dataset with a significant number of outliers and are trying to select an appropriate\n",
        "regression metric to use with your SVM model. Which metric would be the most appropriate in this\n",
        "scenario?"
      ],
      "metadata": {
        "id": "uqREDoxOqShr"
      }
    },
    {
      "cell_type": "markdown",
      "source": [
        "A3. When the dataset contains significant outliers:\n",
        "\n",
        "**1.) Mean Absolute Error (MAE):**\n",
        "\n",
        "MAE is robust to outliers because it calculates the average absolute errors without squaring them.\n",
        "This ensures that outliers do not disproportionately affect the metric.\n",
        "\n",
        "2.) Avoid metrics like **MSE** and **RMSE** because they square the errors, amplifying the impact of outliers.\n",
        "\n",
        "**Conclusion:** Use MAE for datasets with significant outliers."
      ],
      "metadata": {
        "id": "FwykGSUPqSey"
      }
    },
    {
      "cell_type": "code",
      "source": [],
      "metadata": {
        "id": "vXVAZunUqV_u"
      },
      "execution_count": null,
      "outputs": []
    },
    {
      "cell_type": "markdown",
      "source": [
        "Q4. You have built an SVM regression model using a polynomial kernel and are trying to select the best\n",
        "metric to evaluate its performance. You have calculated both MSE and RMSE and found that both values\n",
        "are very close. Which metric should you choose to use in this case?"
      ],
      "metadata": {
        "id": "GgVvMCcHqSb0"
      }
    },
    {
      "cell_type": "markdown",
      "source": [
        "A4. If you have built an SVM regression model using a polynomial kernel and calculated both MSE (Mean Squared Error) and RMSE (Root Mean Squared Error), with both values being very close, the choice of metric depends on interpretability:\n",
        "\n",
        "**1.) RMSE:**\n",
        "\n",
        "RMSE is preferred when you want the error metric to be in the same unit as the target variable (e.g., dollars for house prices).\n",
        "\n",
        "It is easier to interpret since it directly relates to the scale of the predictions.\n",
        "\n",
        "**2.) MSE:**\n",
        "\n",
        "MSE is useful for analytical purposes or when emphasizing large errors because it squares the errors, making it more sensitive to outliers.\n",
        "\n",
        "However, it is not in the same unit as the target variable, which can make it less intuitive."
      ],
      "metadata": {
        "id": "1kd-hhTUqSZL"
      }
    },
    {
      "cell_type": "code",
      "source": [],
      "metadata": {
        "id": "5byxFKyTqWy0"
      },
      "execution_count": null,
      "outputs": []
    },
    {
      "cell_type": "markdown",
      "source": [
        "Q5. You are comparing the performance of different SVM regression models using different kernels (linear,\n",
        "polynomial, and RBF) and are trying to select the best evaluation metric. Which metric would be most\n",
        "appropriate if your goal is to measure how well the model explains the variance in the target variable?\n",
        "https://drive.google.com/file/d/1Z9oLpmt6IDRNw7IeNcHYTGeJRYypRSC0/view?"
      ],
      "metadata": {
        "id": "KNUahAVIqSWG"
      }
    },
    {
      "cell_type": "markdown",
      "source": [
        "A5. If your goal is to measure how well the model explains the variance in the target variable when comparing different SVM regression models (e.g., linear, polynomial, and RBF kernels), the most appropriate metric is:\n",
        "\n",
        "**R-squared (R^2)**\n",
        "\n",
        "Why R-squared?\n",
        "\n",
        "1.) R^2 measures the proportion of the variance in the target variable that is explained by the model.\n",
        "\n",
        "2.) A higher R^2 value indicates a better fit to the data, making it ideal for comparing the performance of different kernel functions.\n",
        "\n",
        "3.) It is scale-independent, so it provides a consistent basis for comparison across models and datasets.\n",
        "\n",
        "**Formula for R-squared:**\n",
        "\n",
        "``` R^2 = 1 - (SSres / SStot) ```\n",
        "\n",
        "where,\n",
        "\n",
        "SSres - Sum of squared residuals (errors).\n",
        "\n",
        "SStot - Total sum of squares (variance of the actual values).\n",
        "\n",
        "**When to Use R-squared:**\n",
        "\n",
        "When you want to focus on how much of the variability in the target variable the model captures.\n",
        "When comparing models with different complexity levels (e.g., linear vs. polynomial vs. RBF).\n",
        "\n",
        "**Conclusion:**\n",
        "\n",
        "Use R-squared as the evaluation metric when comparing SVM regression models with different kernels, as it provides a clear and interpretable measure of how well the model explains the variance in the target variable.\n"
      ],
      "metadata": {
        "id": "NAnDSiKtqSTG"
      }
    },
    {
      "cell_type": "code",
      "source": [],
      "metadata": {
        "id": "LOPDrzo5qYZR"
      },
      "execution_count": null,
      "outputs": []
    }
  ]
}