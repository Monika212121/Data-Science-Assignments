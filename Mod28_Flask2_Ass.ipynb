{
  "nbformat": 4,
  "nbformat_minor": 0,
  "metadata": {
    "colab": {
      "provenance": []
    },
    "kernelspec": {
      "name": "python3",
      "display_name": "Python 3"
    },
    "language_info": {
      "name": "python"
    }
  },
  "cells": [
    {
      "cell_type": "markdown",
      "source": [
        "# Flask2 Assignment"
      ],
      "metadata": {
        "id": "Zgne6b5X7LaY"
      }
    },
    {
      "cell_type": "markdown",
      "source": [
        "Q1. Explain GET and POST methods."
      ],
      "metadata": {
        "id": "HV-OG4qo7QVs"
      }
    },
    {
      "cell_type": "markdown",
      "source": [
        "A1. GET and POST are HTTP methods used for communication between a client (browser, API, Postman) and a server.\n",
        "\n",
        "## GET Method:\n",
        "\n",
        "a.) Used to retrieve data from the server.\n",
        "\n",
        "b.) Parameters are sent in the URL (e.g., ?id=10).\n",
        "\n",
        "c.) Less secure as parameters are visible in the URL.\n",
        "\n",
        "d.) Should be used for reading data only.\n",
        "\n",
        "Example:"
      ],
      "metadata": {
        "id": "od-nR8j-BNfU"
      }
    },
    {
      "cell_type": "code",
      "source": [
        "from flask import Flask, request\n",
        "\n",
        "app = Flask(__name__)\n",
        "\n",
        "@app.route('/get_example', methods=['GET'])\n",
        "def get_example():\n",
        "    return \"This is a GET request.\"\n",
        "\n",
        "if __name__ == '__main__':\n",
        "    app.run()\n"
      ],
      "metadata": {
        "colab": {
          "base_uri": "https://localhost:8080/"
        },
        "id": "D9KS7bxKBawF",
        "outputId": "3c97766c-a1b2-441b-9614-b6b392cc7982"
      },
      "execution_count": null,
      "outputs": [
        {
          "output_type": "stream",
          "name": "stdout",
          "text": [
            " * Serving Flask app '__main__'\n",
            " * Debug mode: off\n"
          ]
        },
        {
          "output_type": "stream",
          "name": "stderr",
          "text": [
            "INFO:werkzeug:\u001b[31m\u001b[1mWARNING: This is a development server. Do not use it in a production deployment. Use a production WSGI server instead.\u001b[0m\n",
            " * Running on http://127.0.0.1:5000\n",
            "INFO:werkzeug:\u001b[33mPress CTRL+C to quit\u001b[0m\n"
          ]
        }
      ]
    },
    {
      "cell_type": "markdown",
      "source": [
        "## POST Method:\n",
        "\n",
        "a.) Used to send data to the server.\n",
        "\n",
        "b.) Parameters are sent in the body (hidden from URL).\n",
        "\n",
        "c.) Secure and used for operations like form submission.\n",
        "\n",
        "d.) Can modify server data (e.g., create/update records).\n",
        "\n",
        "Example:"
      ],
      "metadata": {
        "id": "JFwZYfhqBdgQ"
      }
    },
    {
      "cell_type": "code",
      "source": [
        "@app.route('/post_example', methods=['POST'])\n",
        "def post_example():\n",
        "    data = request.json\n",
        "    return f\"Received data: {data}\"\n"
      ],
      "metadata": {
        "id": "CRxplup_BfbN"
      },
      "execution_count": null,
      "outputs": []
    },
    {
      "cell_type": "code",
      "execution_count": null,
      "metadata": {
        "id": "OionpsTx7HBs"
      },
      "outputs": [],
      "source": []
    },
    {
      "cell_type": "markdown",
      "source": [
        "Q2. Why is request used in Flask?"
      ],
      "metadata": {
        "id": "bSbHlPlz7SUq"
      }
    },
    {
      "cell_type": "markdown",
      "source": [
        "A2. The request object in Flask is used to handle HTTP requests sent to the server.\n",
        "\n",
        "### Why Use request?\n",
        "\n",
        "1.) **Access Form Data:** request.form['key']\n",
        "\n",
        "2.) **Access URL Parameters:** request.args.get('key')\n",
        "\n",
        "3.) **Access JSON Data:** request.json\n",
        "\n",
        "4.) **Check Request Type:** request.method\n",
        "\n",
        "5.) **File Uploads:** request.files['file']\n",
        "\n",
        "Example:"
      ],
      "metadata": {
        "id": "sURzCerqCFzu"
      }
    },
    {
      "cell_type": "code",
      "source": [
        "from flask import Flask, request\n",
        "\n",
        "app = Flask(__name__)\n",
        "\n",
        "@app.route('/data', methods=['POST'])\n",
        "def get_data():\n",
        "    data = request.json\n",
        "    return f\"Received: {data}\"\n",
        "\n",
        "if __name__ == '__main__':\n",
        "    app.run(debug=True)\n"
      ],
      "metadata": {
        "id": "B2LgmfK5CYYa"
      },
      "execution_count": null,
      "outputs": []
    },
    {
      "cell_type": "code",
      "source": [],
      "metadata": {
        "id": "Rz93BRdY7Srr"
      },
      "execution_count": null,
      "outputs": []
    },
    {
      "cell_type": "markdown",
      "source": [
        "Q3. Why is redirect() used in Flask?"
      ],
      "metadata": {
        "id": "rxeUtEFF7UCv"
      }
    },
    {
      "cell_type": "markdown",
      "source": [
        "A3. The redirect() function is used to send the user to a different URL.\n",
        "\n",
        "### Why Use redirect()?\n",
        "\n",
        "1.) Redirect users after form submission.\n",
        "\n",
        "2.) Redirect unauthorized users to the login page.\n",
        "\n",
        "3.) Improve user experience by avoiding reloading the same page.\n",
        "\n",
        "Example:"
      ],
      "metadata": {
        "id": "WN65G1i-Cc3C"
      }
    },
    {
      "cell_type": "code",
      "source": [
        "from flask import Flask, redirect, url_for\n",
        "\n",
        "app = Flask(__name__)\n",
        "\n",
        "@app.route('/')\n",
        "def home():\n",
        "    return \"Welcome to Home Page\"\n",
        "\n",
        "@app.route('/login')\n",
        "def login():\n",
        "    return \"Login Page\"\n",
        "\n",
        "@app.route('/go_to_login')\n",
        "def go_to_login():\n",
        "    return redirect(url_for('login'))\n",
        "\n",
        "if __name__ == '__main__':\n",
        "    app.run(debug=True)\n"
      ],
      "metadata": {
        "id": "BEHd7z99CmIt"
      },
      "execution_count": null,
      "outputs": []
    },
    {
      "cell_type": "markdown",
      "source": [
        "🔹 Visit /go_to_login → Redirects to /login page."
      ],
      "metadata": {
        "id": "i9z1MBUjCpc9"
      }
    },
    {
      "cell_type": "code",
      "source": [],
      "metadata": {
        "id": "O4lKsfFf7UbS"
      },
      "execution_count": null,
      "outputs": []
    },
    {
      "cell_type": "markdown",
      "source": [
        "Q4. What are templates in Flask? Why is the render_template() function used?"
      ],
      "metadata": {
        "id": "uyzDZJZy7VxL"
      }
    },
    {
      "cell_type": "markdown",
      "source": [
        "A4. **Templates in Flask:**\n",
        "\n",
        "1.) Flask templates are HTML files stored in the templates folder.\n",
        "\n",
        "2.) They allow dynamic content using Jinja2 templating.\n",
        "\n",
        "**Why Use render_template()?**\n",
        "\n",
        "1.) Loads an HTML file and injects Python data into it.\n",
        "\n",
        "2.) Helps in rendering dynamic web pages.\n",
        "\n",
        "3.) Keeps UI separate from backend logic.\n",
        "\n",
        "----------------------------------------\n",
        "\n",
        "Example (Using render_template()):\n",
        "📂 Project Structure:\n",
        "```\n",
        "/app.py\n",
        "/templates/index.html\n",
        "\n",
        "```"
      ],
      "metadata": {
        "id": "zYEezokmC0Kd"
      }
    },
    {
      "cell_type": "code",
      "source": [
        "# app.py file\n",
        "\n",
        "from flask import Flask, render_template\n",
        "\n",
        "app = Flask(__name__)\n",
        "\n",
        "@app.route('/')\n",
        "def home():\n",
        "    return render_template('index.html', name=\"Monika\")\n",
        "\n",
        "if __name__ == '__main__':\n",
        "    app.run(debug=True)\n"
      ],
      "metadata": {
        "id": "mndIYtc-7WNK"
      },
      "execution_count": null,
      "outputs": []
    },
    {
      "cell_type": "markdown",
      "source": [
        "templates/index.html\n",
        "\n",
        "```\n",
        "<!DOCTYPE html>\n",
        "<html>\n",
        "<head><title>Flask Template</title></head>\n",
        "<body>\n",
        "    <h1>Hello, {{ name }}!</h1>\n",
        "</body>\n",
        "</html>\n",
        "```\n",
        "\n",
        "🔹 Visiting / → Displays \"Hello, Monika!\" on the webpage."
      ],
      "metadata": {
        "id": "d03w3rIGDbtC"
      }
    },
    {
      "cell_type": "code",
      "source": [],
      "metadata": {
        "id": "z_2G5brcDm6r"
      },
      "execution_count": null,
      "outputs": []
    },
    {
      "cell_type": "markdown",
      "source": [
        "Q5. Create a simple API. Use Postman to test it. Attach the screenshot of the output in the Jupyter Notebook."
      ],
      "metadata": {
        "id": "1ZE1xcxO7YFz"
      }
    },
    {
      "cell_type": "markdown",
      "source": [
        "A5. Steps:\n",
        "\n",
        "1.) Create a Flask API (app.py).\n",
        "\n",
        "2.) Run python app.py to start the server.\n",
        "\n",
        "3.) Open Postman and send a POST request with JSON data.\n",
        "\n",
        "4.) Attach a screenshot of the Postman output in Jupyter Notebook.\n"
      ],
      "metadata": {
        "id": "Zz2KOyymDrmO"
      }
    },
    {
      "cell_type": "code",
      "source": [
        "# app.py file\n",
        "\n",
        "from flask import Flask, request, jsonify\n",
        "\n",
        "app = Flask(__name__)\n",
        "\n",
        "@app.route('/api/greet', methods=['POST'])\n",
        "def greet():\n",
        "    data = request.json\n",
        "    name = data.get(\"name\", \"Guest\")\n",
        "    return jsonify({\"message\": f\"Hello, {name}!\"})\n",
        "\n",
        "if __name__ == '__main__':\n",
        "    app.run(debug=True)\n"
      ],
      "metadata": {
        "id": "fbFaHCLh7YlK"
      },
      "execution_count": null,
      "outputs": []
    },
    {
      "cell_type": "markdown",
      "source": [
        "Testing in Postman:\n",
        "Method: POST\n",
        "\n",
        "URL: http://127.0.0.1:5000/api/greet\n",
        "\n",
        "Body (JSON):\n"
      ],
      "metadata": {
        "id": "rv67SHAbD3vd"
      }
    },
    {
      "cell_type": "markdown",
      "source": [
        "json\n",
        "\n",
        "```\n",
        "{\n",
        "  \"name\": \"Monika\"\n",
        "}\n",
        "```"
      ],
      "metadata": {
        "id": "-71lX3i0EHze"
      }
    },
    {
      "cell_type": "markdown",
      "source": [
        "Response:\n",
        "```\n",
        "{\n",
        "  \"message\": \"Hello, Monika!\"\n",
        "}\n",
        "```\n",
        "\n",
        "🔹 Attach a screenshot of the Postman output in your Jupyter Notebook."
      ],
      "metadata": {
        "id": "QqpJbtgsEL0R"
      }
    },
    {
      "cell_type": "code",
      "source": [],
      "metadata": {
        "id": "aaFJm2JDD1dC"
      },
      "execution_count": null,
      "outputs": []
    },
    {
      "cell_type": "code",
      "source": [],
      "metadata": {
        "id": "kX3lviPQEX3B"
      },
      "execution_count": null,
      "outputs": []
    }
  ]
}