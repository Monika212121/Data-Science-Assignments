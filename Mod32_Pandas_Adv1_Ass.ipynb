{
  "nbformat": 4,
  "nbformat_minor": 0,
  "metadata": {
    "colab": {
      "provenance": []
    },
    "kernelspec": {
      "name": "python3",
      "display_name": "Python 3"
    },
    "language_info": {
      "name": "python"
    }
  },
  "cells": [
    {
      "cell_type": "markdown",
      "source": [
        "Q1. List any five functions of the pandas library with execution."
      ],
      "metadata": {
        "id": "ESg8_vAYJ4gh"
      }
    },
    {
      "cell_type": "code",
      "source": [
        "# A1. 5 Pandas library functions with execution\n",
        "\n",
        "import pandas as pd\n",
        "import numpy as np\n",
        "\n",
        "# Sample DataFrame\n",
        "df = pd.DataFrame({\n",
        "    'A': [1, 2, 3],\n",
        "    'B': [4, 5, 6],\n",
        "    'C': [7, 8, 9]\n",
        "})\n",
        "\n",
        "#1.) head() -> Displays the first n rows\n",
        "print('1. head(): \\n', df.head())\n",
        "\n",
        "#2.) describe() -> Provide Summary statistics\n",
        "print('\\n2. describe(): \\n', df.describe())\n",
        "\n",
        "#3.) info() -> Provides inforamtion about Dataframe\n",
        "print('\\n3. info(): \\n', df.info())\n",
        "\n",
        "#4.) isnull() -> Detect missing values\n",
        "print('\\n4. isnull(): \\n', df.isnull())\n",
        "\n",
        "#5.) drop() -> Drops specified labels from rows/columns\n",
        "print(\"\\n5. drop('B', axis=1):\\n\", df.drop('B', axis=1))\n"
      ],
      "metadata": {
        "colab": {
          "base_uri": "https://localhost:8080/"
        },
        "id": "EuwD5cRto8yK",
        "outputId": "9659a74f-76ea-4224-de2d-5b21546c6226"
      },
      "execution_count": 16,
      "outputs": [
        {
          "output_type": "stream",
          "name": "stdout",
          "text": [
            "1. head(): \n",
            "    A  B  C\n",
            "0  1  4  7\n",
            "1  2  5  8\n",
            "2  3  6  9\n",
            "\n",
            "2. describe(): \n",
            "          A    B    C\n",
            "count  3.0  3.0  3.0\n",
            "mean   2.0  5.0  8.0\n",
            "std    1.0  1.0  1.0\n",
            "min    1.0  4.0  7.0\n",
            "25%    1.5  4.5  7.5\n",
            "50%    2.0  5.0  8.0\n",
            "75%    2.5  5.5  8.5\n",
            "max    3.0  6.0  9.0\n",
            "<class 'pandas.core.frame.DataFrame'>\n",
            "RangeIndex: 3 entries, 0 to 2\n",
            "Data columns (total 3 columns):\n",
            " #   Column  Non-Null Count  Dtype\n",
            "---  ------  --------------  -----\n",
            " 0   A       3 non-null      int64\n",
            " 1   B       3 non-null      int64\n",
            " 2   C       3 non-null      int64\n",
            "dtypes: int64(3)\n",
            "memory usage: 204.0 bytes\n",
            "\n",
            "3. info(): \n",
            " None\n",
            "\n",
            "4. isnull(): \n",
            "        A      B      C\n",
            "0  False  False  False\n",
            "1  False  False  False\n",
            "2  False  False  False\n",
            "\n",
            "5. drop('B', axis=1):\n",
            "    A  C\n",
            "0  1  7\n",
            "1  2  8\n",
            "2  3  9\n"
          ]
        }
      ]
    },
    {
      "cell_type": "code",
      "source": [],
      "metadata": {
        "id": "Q2dkYswEJ52n"
      },
      "execution_count": 16,
      "outputs": []
    },
    {
      "cell_type": "markdown",
      "source": [
        "Q2. Given a Pandas DataFrame df with columns 'A', 'B', and 'C', write a Python function to re-index the\n",
        "DataFrame with a new index that starts from 1 and increments by 2 for each row."
      ],
      "metadata": {
        "id": "ft1A_5BCJ5Xn"
      }
    },
    {
      "cell_type": "code",
      "source": [
        "# A2. Re-index dataframe with a new index starts from 1 and increments by 2.\n",
        "\n",
        "def reindex_dataframe(df):\n",
        "  df.index = range(1, 2* len(df)+1, 2)\n",
        "  return df\n",
        "\n",
        "# Using the same dataframe in Q1.\n",
        "print(\"\\n Original dataframe is : \\n\", df)\n",
        "print(\"\\n Re-indexed dataframe is : \\n\", reindex_dataframe(df))"
      ],
      "metadata": {
        "colab": {
          "base_uri": "https://localhost:8080/"
        },
        "id": "ecg5ydLwrzFO",
        "outputId": "87f3584c-2a39-4baa-d546-9af706abfcc4"
      },
      "execution_count": 17,
      "outputs": [
        {
          "output_type": "stream",
          "name": "stdout",
          "text": [
            "\n",
            " Original dataframe is : \n",
            "    A  B  C\n",
            "0  1  4  7\n",
            "1  2  5  8\n",
            "2  3  6  9\n",
            "\n",
            " Re-indexed dataframe is : \n",
            "    A  B  C\n",
            "1  1  4  7\n",
            "3  2  5  8\n",
            "5  3  6  9\n"
          ]
        }
      ]
    },
    {
      "cell_type": "code",
      "source": [],
      "metadata": {
        "id": "knqbEjziKB7E"
      },
      "execution_count": 17,
      "outputs": []
    },
    {
      "cell_type": "markdown",
      "source": [
        "Q3. You have a Pandas DataFrame df with a column named 'Values'. Write a Python function that iterates over the DataFrame and calculates the sum of the first three values in the 'Values' column. The function should print the sum to the console.\n",
        "\n",
        "For example, if the 'Values' column of df contains the values [10, 20, 30, 40, 50], your function should calculate and print the sum of the first three values, which is 60."
      ],
      "metadata": {
        "id": "ukXpA8O_KCcI"
      }
    },
    {
      "cell_type": "code",
      "source": [
        "# A3. Summation of first 3 values in the 'Values' column\n",
        "\n",
        "def get_sum(df):\n",
        "  return df['Values'].iloc[:3].sum()\n",
        "\n",
        "value_df = pd.DataFrame({'Values': [10,20,30,40,50]})\n",
        "print(\"Original dataframe is :\\n\", value_df)\n",
        "print(\"\\nSum of the first 3 values in the Values column: \", get_sum(value_df))"
      ],
      "metadata": {
        "colab": {
          "base_uri": "https://localhost:8080/"
        },
        "id": "GuTJtR2ds6bU",
        "outputId": "9d42c897-45d4-46dd-a45b-a3b304674178"
      },
      "execution_count": 18,
      "outputs": [
        {
          "output_type": "stream",
          "name": "stdout",
          "text": [
            "Original dataframe is :\n",
            "    Values\n",
            "0      10\n",
            "1      20\n",
            "2      30\n",
            "3      40\n",
            "4      50\n",
            "\n",
            "Sum of the first 3 values in the Values column:  60\n"
          ]
        }
      ]
    },
    {
      "cell_type": "code",
      "source": [],
      "metadata": {
        "id": "-cxgdepmKKjG"
      },
      "execution_count": 18,
      "outputs": []
    },
    {
      "cell_type": "markdown",
      "source": [
        "Q4. Given a Pandas DataFrame df with a column 'Text', write a Python function to create a new column 'Word_Count' that contains the number of words in each row of the 'Text' column.\n"
      ],
      "metadata": {
        "id": "8tRDUBWGKK9v"
      }
    },
    {
      "cell_type": "code",
      "source": [
        "# A4. Creating a new column to count number of words in a text.\n",
        "\n",
        "import pandas as pd\n",
        "\n",
        "def get_word_count(df):\n",
        "  df['Word_Count'] = df['Text'].apply(lambda x: len(x.split()))\n",
        "  return df\n",
        "\n",
        "text_df = pd.DataFrame({'Text': ['Hello World', 'Pandas is fun',\n",
        "                                 'KungFu Panda I mean', 'Monika is GREAT',\n",
        "                                 'A grandpa is an old old old man, he has cat']})\n",
        "print(\"DataFrame with Word count column is: \", get_word_count(text_df))"
      ],
      "metadata": {
        "colab": {
          "base_uri": "https://localhost:8080/"
        },
        "id": "E6lm7ctcyaHq",
        "outputId": "e629d7ae-10cc-46ef-dfcc-65d19c580d36"
      },
      "execution_count": 19,
      "outputs": [
        {
          "output_type": "stream",
          "name": "stdout",
          "text": [
            "DataFrame with Word count column is:                                            Text  Word_Count\n",
            "0                                  Hello World           2\n",
            "1                                Pandas is fun           3\n",
            "2                          KungFu Panda I mean           4\n",
            "3                              Monika is GREAT           3\n",
            "4  A grandpa is an old old old man, he has cat          11\n"
          ]
        }
      ]
    },
    {
      "cell_type": "code",
      "source": [],
      "metadata": {
        "id": "jrzYySYDKQZu"
      },
      "execution_count": 19,
      "outputs": []
    },
    {
      "cell_type": "markdown",
      "source": [
        "Q5. How are DataFrame.size() and DataFrame.shape() different?"
      ],
      "metadata": {
        "id": "5iCHZq6qKQ1T"
      }
    },
    {
      "cell_type": "code",
      "source": [
        "# A5. # size: Total number of elements (rows * columns)\n",
        "# shape: Tuple representing dimensions (rows, columns)\n",
        "\n",
        "print(\"\\nSize of DataFrame:\", df.size)\n",
        "print(\"Shape of DataFrame:\", df.shape)"
      ],
      "metadata": {
        "colab": {
          "base_uri": "https://localhost:8080/"
        },
        "id": "Eoguex9Z0D19",
        "outputId": "3c11baae-90aa-446d-8719-7d8b622a1949"
      },
      "execution_count": 20,
      "outputs": [
        {
          "output_type": "stream",
          "name": "stdout",
          "text": [
            "\n",
            "Size of DataFrame: 9\n",
            "Shape of DataFrame: (3, 3)\n"
          ]
        }
      ]
    },
    {
      "cell_type": "code",
      "source": [],
      "metadata": {
        "id": "5MGATScUKS9c"
      },
      "execution_count": 20,
      "outputs": []
    },
    {
      "cell_type": "markdown",
      "source": [
        "Q6. Which function of pandas do we use to read an excel file?"
      ],
      "metadata": {
        "id": "GbGpsYLHKTYD"
      }
    },
    {
      "cell_type": "markdown",
      "source": [
        "A6. To read an excel file, we use Pandas function as\n",
        "```\n",
        " pd.read_excel('file_path.xlsx')\n",
        " ```"
      ],
      "metadata": {
        "id": "5bPN6pGC0f0E"
      }
    },
    {
      "cell_type": "code",
      "source": [],
      "metadata": {
        "id": "mmFUudXkKT-k"
      },
      "execution_count": 20,
      "outputs": []
    },
    {
      "cell_type": "markdown",
      "source": [
        "Q7. You have a Pandas DataFrame df that contains a column named 'Email' that contains email addresses in the format 'username@domain.com'. Write a Python function that creates a new column'Username' in df that contains only the username part of each email address.\n",
        "\n",
        "The username is the part of the email address that appears before the '@' symbol. For example, if the email address is 'john.doe@example.com', the 'Username' column should contain 'john.doe'. Your function should extract the username from each email address and store it in the new 'Username'\n",
        "column."
      ],
      "metadata": {
        "id": "1PfXk_0pKWRR"
      }
    },
    {
      "cell_type": "code",
      "source": [
        "# A7. Extracting username from the email.\n",
        "\n",
        "def get_username(df):\n",
        "  df['Username'] = df['Email'].apply(lambda x: x.split('@')[0])\n",
        "  return df\n",
        "\n",
        "email_df = pd.DataFrame({'Email': ['haiti34@gmail.com',\n",
        "                                   'ymitri45@gmail.com',\n",
        "                                   'haiku@gmail.com',\n",
        "                                   'sake67@gmail.com',\n",
        "                                   'arako@yahoo.com',\n",
        "                                   'xaiuzu@yahoo.com',\n",
        "                                   'jenko12@gmail.com']})\n",
        "\n",
        "print(\"Dataframe with the username columnn is: \", get_username(email_df))"
      ],
      "metadata": {
        "colab": {
          "base_uri": "https://localhost:8080/"
        },
        "id": "y5s-Rq3377X6",
        "outputId": "803f7306-2c97-435e-bb77-68d8c0531e42"
      },
      "execution_count": 21,
      "outputs": [
        {
          "output_type": "stream",
          "name": "stdout",
          "text": [
            "Dataframe with the username columnn is:                  Email  Username\n",
            "0   haiti34@gmail.com   haiti34\n",
            "1  ymitri45@gmail.com  ymitri45\n",
            "2     haiku@gmail.com     haiku\n",
            "3    sake67@gmail.com    sake67\n",
            "4     arako@yahoo.com     arako\n",
            "5    xaiuzu@yahoo.com    xaiuzu\n",
            "6   jenko12@gmail.com   jenko12\n"
          ]
        }
      ]
    },
    {
      "cell_type": "code",
      "source": [],
      "metadata": {
        "id": "UOCRCVZaKZAb"
      },
      "execution_count": 21,
      "outputs": []
    },
    {
      "cell_type": "markdown",
      "source": [
        "Q8. You have a Pandas DataFrame df with columns 'A', 'B', and 'C'. Write a Python function that selects all rows where the value in column 'A' is greater than 5 and the value in column 'B' is less than 10. The function should return a new DataFrame that contains only the selected rows.\n",
        "\n",
        "For example, if df contains the following values:\n",
        "\n",
        "A B C\n",
        "\n",
        "0 3 5 1\n",
        "\n",
        "1 8 2 7\n",
        "\n",
        "2 6 9 4\n",
        "\n",
        "3 2 3 5\n",
        "\n",
        "4 9 1 2\n",
        "\n",
        "Your function should select the following rows:\n",
        "\n",
        "A B C\n",
        "\n",
        "1 8 2 7\n",
        "\n",
        "4 9 1 2\n",
        "\n",
        "The function should return a new DataFrame that contains only the selected rows.\n"
      ],
      "metadata": {
        "id": "NcYs7gTTKj2f"
      }
    },
    {
      "cell_type": "code",
      "source": [
        "# A8. Filtering the dataframe with the given condition.\n",
        "\n",
        "def filter_df(df):\n",
        "  return(df[(df['A'] > 5) & (df['B'] < 10)])\n",
        "\n",
        "df = pd.DataFrame({'A': [3, 8, 6, 2, 9],\n",
        "                   'B': [5, 2, 9, 3, 1],\n",
        "                   'C': [1, 7, 4, 5, 2]})\n",
        "\n",
        "print(\"Filtered Dataframe is: \\n\", filter_df(df))"
      ],
      "metadata": {
        "colab": {
          "base_uri": "https://localhost:8080/"
        },
        "id": "-kpMRUAr9Rrj",
        "outputId": "caa7a2eb-9ce3-4083-c151-262fbdac0049"
      },
      "execution_count": 22,
      "outputs": [
        {
          "output_type": "stream",
          "name": "stdout",
          "text": [
            "Filtered Dataframe is: \n",
            "    A  B  C\n",
            "1  8  2  7\n",
            "2  6  9  4\n",
            "4  9  1  2\n"
          ]
        }
      ]
    },
    {
      "cell_type": "code",
      "source": [],
      "metadata": {
        "id": "oNHvo0QvKl48"
      },
      "execution_count": 22,
      "outputs": []
    },
    {
      "cell_type": "markdown",
      "source": [
        "Q9. Given a Pandas DataFrame df with a column 'Values', write a Python function to calculate the mean, median, and standard deviation of the values in the 'Values' column."
      ],
      "metadata": {
        "id": "Cpeput4oK4lm"
      }
    },
    {
      "cell_type": "code",
      "source": [
        "# A9. Calculating the mean, median and standard deviation of the values.\n",
        "\n",
        "def get_averages(df):\n",
        "  mean = df['Values'].mean()\n",
        "  median = df['Values'].median()\n",
        "  std = df['Values'].std()\n",
        "  return mean, median, std\n",
        "\n",
        "value_df = pd.DataFrame({'Values': [10,20,30,40,50]})\n",
        "print(\"Original dataframe is :\\n\", value_df)\n",
        "print(\"\\n Mean, median and standard deviation are: \", get_averages(value_df))"
      ],
      "metadata": {
        "colab": {
          "base_uri": "https://localhost:8080/"
        },
        "id": "Q_zBMN5rX6nN",
        "outputId": "04c930d0-b7da-4dbc-e419-01d524d09e9f"
      },
      "execution_count": 23,
      "outputs": [
        {
          "output_type": "stream",
          "name": "stdout",
          "text": [
            "Original dataframe is :\n",
            "    Values\n",
            "0      10\n",
            "1      20\n",
            "2      30\n",
            "3      40\n",
            "4      50\n",
            "\n",
            " Mean, median and standard deviation are:  (30.0, 30.0, 15.811388300841896)\n"
          ]
        }
      ]
    },
    {
      "cell_type": "code",
      "source": [],
      "metadata": {
        "id": "SA7q0x4hK372"
      },
      "execution_count": 23,
      "outputs": []
    },
    {
      "cell_type": "markdown",
      "source": [
        "Q10. Given a Pandas DataFrame df with a column 'Sales' and a column 'Date', write a Python function to create a new column 'MovingAverage' that contains the moving average of the sales for the past 7 days for each row in the DataFrame. The moving average should be calculated using a window of size 7 and\n",
        "should include the current day."
      ],
      "metadata": {
        "id": "Wd0lPbwmK9vm"
      }
    },
    {
      "cell_type": "code",
      "source": [
        "# A10. Calculating the Moving average for the sales data\n",
        "\n",
        "\n",
        "def get_moving_average(df):\n",
        "  df['Moving_Average'] = df['Sales'].rolling(window = 7, min_periods = 1).mean()\n",
        "  return df\n",
        "\n",
        "sales_df = pd.DataFrame({\n",
        "    'Date': pd.date_range(start='2025-01-01', periods=10),\n",
        "    'Sales': [100, 200, 300, 400, 500, 600, 700, 800, 900, 1000]\n",
        "})\n",
        "\n",
        "print(\"Moving average is: \\n\", get_moving_average(sales_df))\n"
      ],
      "metadata": {
        "colab": {
          "base_uri": "https://localhost:8080/"
        },
        "id": "oS2DVBSWZtwZ",
        "outputId": "61d54317-d20f-40e2-8c1f-5894ee5595f5"
      },
      "execution_count": 24,
      "outputs": [
        {
          "output_type": "stream",
          "name": "stdout",
          "text": [
            "Moving average is: \n",
            "         Date  Sales  Moving_Average\n",
            "0 2025-01-01    100           100.0\n",
            "1 2025-01-02    200           150.0\n",
            "2 2025-01-03    300           200.0\n",
            "3 2025-01-04    400           250.0\n",
            "4 2025-01-05    500           300.0\n",
            "5 2025-01-06    600           350.0\n",
            "6 2025-01-07    700           400.0\n",
            "7 2025-01-08    800           500.0\n",
            "8 2025-01-09    900           600.0\n",
            "9 2025-01-10   1000           700.0\n"
          ]
        }
      ]
    },
    {
      "cell_type": "code",
      "source": [],
      "metadata": {
        "id": "7c6Z6AwGLAiM"
      },
      "execution_count": 24,
      "outputs": []
    },
    {
      "cell_type": "markdown",
      "source": [
        "Q11. You have a Pandas DataFrame df with a column 'Date'. Write a Python function that creates a new column 'Weekday' in the DataFrame. The 'Weekday' column should contain the weekday name (e.g. Monday, Tuesday) corresponding to each date in the 'Date' column.\n",
        "\n",
        "For example, if df contains the following values:\n",
        "\n",
        "Date\n",
        "\n",
        "0 2023-01-01\n",
        "\n",
        "1 2023-01-02\n",
        "\n",
        "2 2023-01-03\n",
        "\n",
        "3 2023-01-04\n",
        "\n",
        "4 2023-01-05\n",
        "\n",
        "Your function should create the following DataFrame:\n",
        "\n",
        "Date Weekday\n",
        "\n",
        "0 2023-01-01 Sunday\n",
        "\n",
        "1 2023-01-02 Monday\n",
        "\n",
        "2 2023-01-03 Tuesday\n",
        "\n",
        "3 2023-01-04 Wednesday\n",
        "\n",
        "4 2023-01-05 Thursday\n",
        "\n",
        "The function should return the modified DataFrame.\n"
      ],
      "metadata": {
        "id": "UTwWDhn-LC5I"
      }
    },
    {
      "cell_type": "code",
      "source": [
        "#A11. Finding Weekday for the dates\n",
        "\n",
        "def get_weekday(df):\n",
        "  df['Weekday'] = pd.to_datetime(df['Date']).dt.day_name()\n",
        "  return df\n",
        "\n",
        "date_df = pd.DataFrame({'Date': pd.date_range(start = '2025-05-01', periods = 10)})\n",
        "print(\"Weekday fo the dates are: \\n\", get_weekday(date_df))\n"
      ],
      "metadata": {
        "colab": {
          "base_uri": "https://localhost:8080/"
        },
        "id": "68_yTPMCcjrr",
        "outputId": "61cc3382-5cc2-4d3c-e886-343d9252140f"
      },
      "execution_count": 25,
      "outputs": [
        {
          "output_type": "stream",
          "name": "stdout",
          "text": [
            "Weekday fo the dates are: \n",
            "         Date    Weekday\n",
            "0 2025-05-01   Thursday\n",
            "1 2025-05-02     Friday\n",
            "2 2025-05-03   Saturday\n",
            "3 2025-05-04     Sunday\n",
            "4 2025-05-05     Monday\n",
            "5 2025-05-06    Tuesday\n",
            "6 2025-05-07  Wednesday\n",
            "7 2025-05-08   Thursday\n",
            "8 2025-05-09     Friday\n",
            "9 2025-05-10   Saturday\n"
          ]
        }
      ]
    },
    {
      "cell_type": "code",
      "source": [],
      "metadata": {
        "id": "NNU-cHXdLFxk"
      },
      "execution_count": 25,
      "outputs": []
    },
    {
      "cell_type": "markdown",
      "source": [
        "Q12. Given a Pandas DataFrame df with a column 'Date' that contains timestamps, write a Python\n",
        "function to select all rows where the date is between '2023-01-01' and '2023-01-31'."
      ],
      "metadata": {
        "id": "_dpDPOyQLZRc"
      }
    },
    {
      "cell_type": "code",
      "source": [
        "# A12. Selecting rows betweeen 2 dates\n",
        "\n",
        "def filter_rows(df):\n",
        "  df['Date'] = pd.to_datetime(df['Date'])\n",
        "  return df[(df['Date'] >= '2023-01-01') & (df['Date'] <= '2023-01-31')]\n",
        "\n",
        "date_df2 = pd.DataFrame({'Date': pd.date_range(start='2023-01-01', periods= 60)})\n",
        "print(\"Rows between 2023-01-01 to 2023-01-31 are: \\n\", filter_rows(date_df2))\n"
      ],
      "metadata": {
        "colab": {
          "base_uri": "https://localhost:8080/"
        },
        "id": "Wj8p2F_JkcId",
        "outputId": "e190ff3a-fdd7-4b19-b909-c30494057813"
      },
      "execution_count": 26,
      "outputs": [
        {
          "output_type": "stream",
          "name": "stdout",
          "text": [
            "Rows between 2023-01-01 to 2023-01-31 are: \n",
            "          Date\n",
            "0  2023-01-01\n",
            "1  2023-01-02\n",
            "2  2023-01-03\n",
            "3  2023-01-04\n",
            "4  2023-01-05\n",
            "5  2023-01-06\n",
            "6  2023-01-07\n",
            "7  2023-01-08\n",
            "8  2023-01-09\n",
            "9  2023-01-10\n",
            "10 2023-01-11\n",
            "11 2023-01-12\n",
            "12 2023-01-13\n",
            "13 2023-01-14\n",
            "14 2023-01-15\n",
            "15 2023-01-16\n",
            "16 2023-01-17\n",
            "17 2023-01-18\n",
            "18 2023-01-19\n",
            "19 2023-01-20\n",
            "20 2023-01-21\n",
            "21 2023-01-22\n",
            "22 2023-01-23\n",
            "23 2023-01-24\n",
            "24 2023-01-25\n",
            "25 2023-01-26\n",
            "26 2023-01-27\n",
            "27 2023-01-28\n",
            "28 2023-01-29\n",
            "29 2023-01-30\n",
            "30 2023-01-31\n"
          ]
        }
      ]
    },
    {
      "cell_type": "code",
      "source": [],
      "metadata": {
        "id": "5Nh6ZlDcLb4i"
      },
      "execution_count": 26,
      "outputs": []
    },
    {
      "cell_type": "markdown",
      "source": [
        "Q13. To use the basic functions of pandas, what is the first and foremost necessary library that needs to\n",
        "be imported?"
      ],
      "metadata": {
        "id": "qG7DwzrgLcRH"
      }
    },
    {
      "cell_type": "code",
      "source": [
        "# A13. The first and foremost necessary library is pandas.\n",
        "\n",
        "print(\"\\nFirst necessary library: pandas\")"
      ],
      "metadata": {
        "colab": {
          "base_uri": "https://localhost:8080/"
        },
        "id": "TGIs2QWdncFM",
        "outputId": "e6c48dcc-46a2-48f1-a92d-dfbc100b7a3f"
      },
      "execution_count": 27,
      "outputs": [
        {
          "output_type": "stream",
          "name": "stdout",
          "text": [
            "\n",
            "First necessary library: pandas\n"
          ]
        }
      ]
    },
    {
      "cell_type": "code",
      "source": [],
      "metadata": {
        "id": "WYT-0y_4LdGL"
      },
      "execution_count": 27,
      "outputs": []
    },
    {
      "cell_type": "code",
      "source": [],
      "metadata": {
        "id": "D7GU47nKnyI8"
      },
      "execution_count": 27,
      "outputs": []
    }
  ]
}