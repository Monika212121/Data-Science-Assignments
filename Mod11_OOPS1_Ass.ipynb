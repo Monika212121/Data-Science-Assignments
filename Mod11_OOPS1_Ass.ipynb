{
  "nbformat": 4,
  "nbformat_minor": 0,
  "metadata": {
    "colab": {
      "provenance": []
    },
    "kernelspec": {
      "name": "python3",
      "display_name": "Python 3"
    },
    "language_info": {
      "name": "python"
    }
  },
  "cells": [
    {
      "cell_type": "markdown",
      "source": [
        "\n",
        "# Module 11 OOPS1 Assignment\n"
      ],
      "metadata": {
        "id": "eqN2Q6YYJbc3"
      }
    },
    {
      "cell_type": "markdown",
      "source": [
        "Q1. Explain Class and Object with respect to Object-Oriented Programming. Give a suitable example."
      ],
      "metadata": {
        "id": "Xj5z8PF1JelT"
      }
    },
    {
      "cell_type": "markdown",
      "source": [
        "A1. **Class:** A class is a blueprint or template for creating objects. It defines attributes (data) and methods (functions) that the objects created from the class will have.\n",
        "\n",
        "**Object:** An object is an instance of a class. It represents a real-world entity with specific values assigned to its attributes.\n",
        "\n"
      ],
      "metadata": {
        "id": "vsfxUZCFJywn"
      }
    },
    {
      "cell_type": "code",
      "execution_count": 1,
      "metadata": {
        "colab": {
          "base_uri": "https://localhost:8080/"
        },
        "id": "s6EgBpSVJYEi",
        "outputId": "cad72f00-7474-4423-b9ee-1528f2dd33a1"
      },
      "outputs": [
        {
          "output_type": "stream",
          "name": "stdout",
          "text": [
            "Car Brand: Tesla, Model: Model S\n",
            "Car Brand: BMW, Model: X5\n"
          ]
        }
      ],
      "source": [
        "class Car:\n",
        "    def __init__(self, brand, model):\n",
        "        self.brand = brand\n",
        "        self.model = model\n",
        "\n",
        "    def display_info(self):\n",
        "        print(f\"Car Brand: {self.brand}, Model: {self.model}\")\n",
        "\n",
        "# Creating objects\n",
        "car1 = Car(\"Tesla\", \"Model S\")\n",
        "car2 = Car(\"BMW\", \"X5\")\n",
        "\n",
        "car1.display_info()  # Output: Car Brand: Tesla, Model: Model S\n",
        "car2.display_info()  # Output: Car Brand: BMW, Model: X5\n"
      ]
    },
    {
      "cell_type": "markdown",
      "source": [
        "Here, Car is a class, and car1 and car2 are objects of that class."
      ],
      "metadata": {
        "id": "5NjOTwpdJ82F"
      }
    },
    {
      "cell_type": "code",
      "source": [],
      "metadata": {
        "id": "g6cicIdgJ7x2"
      },
      "execution_count": null,
      "outputs": []
    },
    {
      "cell_type": "markdown",
      "source": [
        "Q2. Name the four pillars of OOPs."
      ],
      "metadata": {
        "id": "e9dPufBnJgbp"
      }
    },
    {
      "cell_type": "markdown",
      "source": [
        "A2. The four pillars of OOPS are:-\n",
        "\n",
        "1.) **Encapsulation** - Wrapping data and methods into a single unit (class) and restricting direct access to data.\n",
        "\n",
        "2.) **Abstraction** - Hiding the internal implementation details and exposing only necessary functionalities.\n",
        "\n",
        "3.) **Inheritance** - Allowing a class to inherit attributes and methods from another class.\n",
        "\n",
        "4.) **Polymorphism** - Allowing methods or functions to take multiple forms (e.g., method overloading and method overriding).\n"
      ],
      "metadata": {
        "id": "iF3-9XblKClG"
      }
    },
    {
      "cell_type": "code",
      "source": [],
      "metadata": {
        "id": "xQ1FNNgbJikP"
      },
      "execution_count": null,
      "outputs": []
    },
    {
      "cell_type": "markdown",
      "source": [
        "Q3. Explain why the __init__() function is used. Give a suitable example."
      ],
      "metadata": {
        "id": "lZRAyVnhJi5r"
      }
    },
    {
      "cell_type": "markdown",
      "source": [
        "A3. The __init__() function in Python is a constructor that is automatically called when an object is created. It initializes the object's attributes.\n",
        "\n",
        "## Example:"
      ],
      "metadata": {
        "id": "S0z51StBKgU2"
      }
    },
    {
      "cell_type": "code",
      "source": [
        "class Person:\n",
        "    def __init__(self, name, age):\n",
        "        self.name = name\n",
        "        self.age = age\n",
        "\n",
        "    def greet(self):\n",
        "        print(f\"Hello, my name is {self.name} and I am {self.age} years old.\")\n",
        "\n",
        "# Creating an object\n",
        "person1 = Person(\"Alice\", 25)\n",
        "person1.greet()  # Output: Hello, my name is Alice and I am 25 years old.\n"
      ],
      "metadata": {
        "colab": {
          "base_uri": "https://localhost:8080/"
        },
        "id": "iurcOQYtKfu5",
        "outputId": "20c9c40d-ee50-4ef4-d4e1-42aa19bb13a0"
      },
      "execution_count": 2,
      "outputs": [
        {
          "output_type": "stream",
          "name": "stdout",
          "text": [
            "Hello, my name is Alice and I am 25 years old.\n"
          ]
        }
      ]
    },
    {
      "cell_type": "markdown",
      "source": [
        "Here, __init__() initializes the name and age attributes when a Person object is created."
      ],
      "metadata": {
        "id": "V31TSRVBKtIN"
      }
    },
    {
      "cell_type": "code",
      "source": [],
      "metadata": {
        "id": "ToSnVLqdJkf6"
      },
      "execution_count": null,
      "outputs": []
    },
    {
      "cell_type": "markdown",
      "source": [
        "Q4. Why self is used in OOPs?"
      ],
      "metadata": {
        "id": "Jr4JEuFWJk6f"
      }
    },
    {
      "cell_type": "markdown",
      "source": [
        "A4. **\"self\"** is a reference to the current instance of the class.\n",
        "\n",
        "It allows accessing instance attributes and methods inside the class.\n",
        "\n",
        "It must be explicitly mentioned in instance methods, though it is passed automatically when calling a method.\n",
        "\n",
        "### Example:"
      ],
      "metadata": {
        "id": "ZGHDZ2LQKwqv"
      }
    },
    {
      "cell_type": "code",
      "source": [
        "class Dog:\n",
        "    def __init__(self, name):\n",
        "        self.name = name\n",
        "\n",
        "    def bark(self):\n",
        "        print(f\"{self.name} is barking!\")\n",
        "\n",
        "dog1 = Dog(\"Bruno\")\n",
        "dog1.bark()  # Output: Bruno is barking!\n"
      ],
      "metadata": {
        "colab": {
          "base_uri": "https://localhost:8080/"
        },
        "id": "lUODwHEmK6m9",
        "outputId": "fe505c0e-cd85-4dde-f3cc-b8f7791c53c8"
      },
      "execution_count": 3,
      "outputs": [
        {
          "output_type": "stream",
          "name": "stdout",
          "text": [
            "Bruno is barking!\n"
          ]
        }
      ]
    },
    {
      "cell_type": "markdown",
      "source": [
        "Here, self.name refers to the attribute of the specific instance (dog1)."
      ],
      "metadata": {
        "id": "SFENySPDK-Ya"
      }
    },
    {
      "cell_type": "code",
      "source": [],
      "metadata": {
        "id": "nStIebNTJmuV"
      },
      "execution_count": null,
      "outputs": []
    },
    {
      "cell_type": "markdown",
      "source": [
        "Q5. What is inheritance? Give an example for each type of inheritance."
      ],
      "metadata": {
        "id": "CE97AN71JnDY"
      }
    },
    {
      "cell_type": "markdown",
      "source": [
        "A5. Inheritance allows a class (child class) to derive properties and behaviors from another class (parent class).\n",
        "\n",
        "1. **Single Inheritance**\n",
        "One child class inherits from one parent class."
      ],
      "metadata": {
        "id": "lHyzw15RLLdd"
      }
    },
    {
      "cell_type": "code",
      "source": [
        "class Animal:\n",
        "    def speak(self):\n",
        "        print(\"This animal makes a sound\")\n",
        "\n",
        "class Dog(Animal):\n",
        "    def bark(self):\n",
        "        print(\"Dog barks!\")\n",
        "\n",
        "dog = Dog()\n",
        "dog.speak()  # Inherited from Animal\n",
        "dog.bark()\n"
      ],
      "metadata": {
        "colab": {
          "base_uri": "https://localhost:8080/"
        },
        "id": "Venrue-4Jo5X",
        "outputId": "c89d4080-d934-45ef-cdbc-3538e3637cf4"
      },
      "execution_count": 4,
      "outputs": [
        {
          "output_type": "stream",
          "name": "stdout",
          "text": [
            "This animal makes a sound\n",
            "Dog barks!\n"
          ]
        }
      ]
    },
    {
      "cell_type": "markdown",
      "source": [
        "2.) **Multiple Inheritance**\n",
        "A child class inherits from multiple parent classes."
      ],
      "metadata": {
        "id": "gLeSuIaoLVlq"
      }
    },
    {
      "cell_type": "code",
      "source": [
        "class Parent1:\n",
        "    def feature1(self):\n",
        "        print(\"Feature from Parent1\")\n",
        "\n",
        "class Parent2:\n",
        "    def feature2(self):\n",
        "        print(\"Feature from Parent2\")\n",
        "\n",
        "class Child(Parent1, Parent2):\n",
        "    pass\n",
        "\n",
        "obj = Child()\n",
        "obj.feature1()\n",
        "obj.feature2()\n"
      ],
      "metadata": {
        "colab": {
          "base_uri": "https://localhost:8080/"
        },
        "id": "N5oTxRl8LSkI",
        "outputId": "a8ae5870-d306-485b-a22e-a63afe24f2bd"
      },
      "execution_count": 5,
      "outputs": [
        {
          "output_type": "stream",
          "name": "stdout",
          "text": [
            "Feature from Parent1\n",
            "Feature from Parent2\n"
          ]
        }
      ]
    },
    {
      "cell_type": "markdown",
      "source": [
        "3. **Multilevel Inheritance**\n",
        "A child class inherits from another child class, forming a chain."
      ],
      "metadata": {
        "id": "UoEW-LZLLg1I"
      }
    },
    {
      "cell_type": "code",
      "source": [
        "class Grandparent:\n",
        "    def feature1(self):\n",
        "        print(\"Feature from Grandparent\")\n",
        "\n",
        "class Parent(Grandparent):\n",
        "    def feature2(self):\n",
        "        print(\"Feature from Parent\")\n",
        "\n",
        "class Child(Parent):\n",
        "    def feature3(self):\n",
        "        print(\"Feature from Child\")\n",
        "\n",
        "obj = Child()\n",
        "obj.feature1()  # Inherited from Grandparent\n",
        "obj.feature2()  # Inherited from Parent\n",
        "obj.feature3()\n"
      ],
      "metadata": {
        "colab": {
          "base_uri": "https://localhost:8080/"
        },
        "id": "hY6k37JWLc62",
        "outputId": "d059850d-f1ec-4b74-d991-e216a3543618"
      },
      "execution_count": 6,
      "outputs": [
        {
          "output_type": "stream",
          "name": "stdout",
          "text": [
            "Feature from Grandparent\n",
            "Feature from Parent\n",
            "Feature from Child\n"
          ]
        }
      ]
    },
    {
      "cell_type": "markdown",
      "source": [
        "4.) **Hierarchical Inheritance**\n",
        "Multiple child classes inherit from the same parent."
      ],
      "metadata": {
        "id": "3Jo5KrztLpEi"
      }
    },
    {
      "cell_type": "code",
      "source": [
        "class Vehicle:\n",
        "    def general_info(self):\n",
        "        print(\"This is a vehicle\")\n",
        "\n",
        "class Car(Vehicle):\n",
        "    def car_info(self):\n",
        "        print(\"This is a car\")\n",
        "\n",
        "class Bike(Vehicle):\n",
        "    def bike_info(self):\n",
        "        print(\"This is a bike\")\n",
        "\n",
        "car = Car()\n",
        "bike = Bike()\n",
        "\n",
        "car.general_info()\n",
        "car.car_info()\n",
        "\n",
        "bike.general_info()\n",
        "bike.bike_info()\n"
      ],
      "metadata": {
        "colab": {
          "base_uri": "https://localhost:8080/"
        },
        "id": "kj7vr5M6LkIx",
        "outputId": "bdddd928-7843-4f14-bcda-332838b47861"
      },
      "execution_count": 7,
      "outputs": [
        {
          "output_type": "stream",
          "name": "stdout",
          "text": [
            "This is a vehicle\n",
            "This is a car\n",
            "This is a vehicle\n",
            "This is a bike\n"
          ]
        }
      ]
    },
    {
      "cell_type": "markdown",
      "source": [
        "5. **Hybrid Inheritance**\n",
        "A combination of multiple types of inheritance."
      ],
      "metadata": {
        "id": "pMjFvRubLwmb"
      }
    },
    {
      "cell_type": "code",
      "source": [
        "class A:\n",
        "    def featureA(self):\n",
        "        print(\"Feature from A\")\n",
        "\n",
        "class B(A):\n",
        "    def featureB(self):\n",
        "        print(\"Feature from B\")\n",
        "\n",
        "class C(A):\n",
        "    def featureC(self):\n",
        "        print(\"Feature from C\")\n",
        "\n",
        "class D(B, C):\n",
        "    def featureD(self):\n",
        "        print(\"Feature from D\")\n",
        "\n",
        "obj = D()\n",
        "obj.featureA()  # Inherited from A\n",
        "obj.featureB()  # Inherited from B\n",
        "obj.featureC()  # Inherited from C\n",
        "obj.featureD()\n"
      ],
      "metadata": {
        "colab": {
          "base_uri": "https://localhost:8080/"
        },
        "id": "m-ZcXvn9Ls-h",
        "outputId": "d91a44db-8bae-40ad-8353-18eb7a5d6d38"
      },
      "execution_count": 8,
      "outputs": [
        {
          "output_type": "stream",
          "name": "stdout",
          "text": [
            "Feature from A\n",
            "Feature from B\n",
            "Feature from C\n",
            "Feature from D\n"
          ]
        }
      ]
    },
    {
      "cell_type": "markdown",
      "source": [
        "Each type of inheritance helps structure code in an organized and reusable way."
      ],
      "metadata": {
        "id": "my9PFKj6L4tl"
      }
    },
    {
      "cell_type": "code",
      "source": [],
      "metadata": {
        "id": "MPUYQoTwL1Ax"
      },
      "execution_count": null,
      "outputs": []
    },
    {
      "cell_type": "code",
      "source": [],
      "metadata": {
        "id": "RcSmOX6FL683"
      },
      "execution_count": null,
      "outputs": []
    }
  ]
}