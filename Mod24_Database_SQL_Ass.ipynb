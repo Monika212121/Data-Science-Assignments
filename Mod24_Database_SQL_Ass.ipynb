{
  "nbformat": 4,
  "nbformat_minor": 0,
  "metadata": {
    "colab": {
      "provenance": []
    },
    "kernelspec": {
      "name": "python3",
      "display_name": "Python 3"
    },
    "language_info": {
      "name": "python"
    }
  },
  "cells": [
    {
      "cell_type": "markdown",
      "source": [
        "# Module24 Database MySQL Assignment\n"
      ],
      "metadata": {
        "id": "hnazt0Ajrzm-"
      }
    },
    {
      "cell_type": "markdown",
      "source": [
        "Q1. What is a database? Differentiate between SQL and NoSQL databases."
      ],
      "metadata": {
        "id": "5cr74wmSrjD9"
      }
    },
    {
      "cell_type": "markdown",
      "source": [
        "A1.  Database: A structured collection of data that allows users to store, retrieve, update, and manage information efficiently. It is managed by a Database Management System (DBMS).\n",
        "\n",
        "## SQL vs. NoSQL Databases:\n",
        "\n",
        "### SQL (Relational Database)\n",
        "\n",
        "1.) Structure - Tabular format (Rows & Columns)\n",
        "\n",
        "2.) Schema - Fixed schema (Predefined structure)\n",
        "\n",
        "3.) Scalability - Vertical (Add more power to a single machine)\n",
        "\n",
        "4.) Examples - MySQL, PostgreSQL, SQLite, Oracle\n",
        "\n",
        "5.) Transactions - \tSupports ACID (Atomicity, Consistency, Isolation, Durability)\n",
        "\n",
        "6.) Best For - Complex queries, structured data, consistency\n",
        "\n",
        "7.) Use case - Banking systems, ERP, CRM\n",
        "\n",
        "\n",
        "### NoSQL (Non-Relational Database)\n",
        "\n",
        "1.) Structure - Document, Key-Value, Column-Family, Graph\n",
        "\n",
        "2.) Schema - Dynamic schema (Flexible structure)\n",
        "\n",
        "3.) Scalability - Horizontal (Add more servers/nodes)\n",
        "\n",
        "4.) Examples - MongoDB, Cassandra, Redis, DynamoDB\n",
        "\n",
        "5.) Transactions - BASE (Basically Available, Soft state, Eventually consistent)\n",
        "\n",
        "6.) Best For - Large-scale, unstructured data, flexibility\n",
        "\n",
        "7.) Use case - Big data, real-time analytics, IoT\n"
      ],
      "metadata": {
        "id": "MEre9UKZUg8C"
      }
    },
    {
      "cell_type": "code",
      "execution_count": null,
      "metadata": {
        "id": "jSANJ5r7rbzW"
      },
      "outputs": [],
      "source": []
    },
    {
      "cell_type": "markdown",
      "source": [
        "Q2. What is DDL? Explain why CREATE, DROP, ALTER, and TRUNCATE are used with an example."
      ],
      "metadata": {
        "id": "R8vVKtwzrlN7"
      }
    },
    {
      "cell_type": "markdown",
      "source": [
        "A2.  DDL (Data Definition Language): Used to define, modify, or delete the structure of database objects (tables, indexes, schemas).\n",
        "\n",
        "\n",
        "1. CREATE Statement\n",
        "Used to create tables, databases, and indexes.\n",
        "\n",
        "\n",
        "```\n",
        "CREATE DATABASE school;\n",
        "\n",
        "CREATE TABLE students (\n",
        "    id INT PRIMARY KEY,\n",
        "    name VARCHAR(50),\n",
        "    age INT\n",
        ");\n",
        "```\n",
        "2. DROP Statement\n",
        "Deletes tables or databases permanently.\n",
        "\n",
        "\n",
        "\n",
        "```\n",
        "DROP TABLE students;  -- Deletes the students table\n",
        "DROP DATABASE school; -- Deletes the school database\n",
        "\n",
        "```\n",
        "3. ALTER Statement\n",
        "Used to modify an existing table (add, delete, or modify columns).\n",
        "\n",
        "\n",
        "\n",
        "```\n",
        "ALTER TABLE students ADD COLUMN email VARCHAR(100); -- Add column\n",
        "ALTER TABLE students DROP COLUMN age;               -- Delete column\n",
        "ALTER TABLE students MODIFY COLUMN name TEXT;       -- Modify column\n",
        "\n",
        "```\n",
        "\n",
        "4. TRUNCATE Statement\n",
        "Removes all rows from a table but keeps the structure intact.\n",
        "\n",
        "```\n",
        "TRUNCATE TABLE students;  -- Deletes all records from students\n",
        "\n",
        "```\n",
        "\n",
        "\n",
        "\n",
        "\n",
        "\n",
        "\n"
      ],
      "metadata": {
        "id": "d2la61Y2Vf6I"
      }
    },
    {
      "cell_type": "code",
      "source": [],
      "metadata": {
        "id": "-qJPEfb-rln_"
      },
      "execution_count": null,
      "outputs": []
    },
    {
      "cell_type": "markdown",
      "source": [
        "Q3. What is DML? Explain INSERT, UPDATE, and DELETE with an example."
      ],
      "metadata": {
        "id": "d1QhKJjBrnHR"
      }
    },
    {
      "cell_type": "markdown",
      "source": [
        "A3.  DML (Data Manipulation Language): Used to manipulate data (add, modify, delete) in a database.\n",
        "\n",
        "1. INSERT Statement\n",
        "Adds new rows to a table.\n",
        "\n",
        "```\n",
        "INSERT INTO students (id, name, age) VALUES (1, 'Monika', 25);\n",
        "\n",
        "```\n",
        "\n",
        "2. UPDATE Statement\n",
        "Modifies existing records.\n",
        "\n",
        "```\n",
        "UPDATE students SET age = 26 WHERE id = 1;\n",
        "\n",
        "```\n",
        "\n",
        "3. DELETE Statement\n",
        "Removes records from a table.\n",
        "\n",
        "\n",
        "\n",
        "```\n",
        "DELETE FROM students WHERE id = 1;\n",
        "\n",
        "```\n",
        "\n",
        "\n",
        "\n",
        "\n"
      ],
      "metadata": {
        "id": "EYBE5kazWTP6"
      }
    },
    {
      "cell_type": "code",
      "source": [],
      "metadata": {
        "id": "0TGt5U7Urnh-"
      },
      "execution_count": null,
      "outputs": []
    },
    {
      "cell_type": "markdown",
      "source": [
        "Q4. What is DQL? Explain SELECT with an example."
      ],
      "metadata": {
        "id": "amusRlbdro4K"
      }
    },
    {
      "cell_type": "markdown",
      "source": [
        "A4.  DQL (Data Query Language): Used to retrieve data from a database.\n",
        "\n",
        "SELECT Statement\n",
        "Fetches data from tables.\n",
        "\n",
        "\n",
        "```\n",
        "SELECT * FROM students;             -- Select all columns\n",
        "SELECT name, age FROM students;      -- Select specific columns\n",
        "SELECT * FROM students WHERE age > 20; -- With condition\n",
        "\n",
        "```\n",
        "\n"
      ],
      "metadata": {
        "id": "nTo78IWTWplb"
      }
    },
    {
      "cell_type": "code",
      "source": [],
      "metadata": {
        "id": "sX5PYWwXrpOu"
      },
      "execution_count": null,
      "outputs": []
    },
    {
      "cell_type": "markdown",
      "source": [
        "Q5. Explain Primary Key and Foreign Key."
      ],
      "metadata": {
        "id": "MHZ42oBwrqkc"
      }
    },
    {
      "cell_type": "markdown",
      "source": [
        "A5.\n",
        "\n",
        "## Primary Key:\n",
        "\n",
        "A unique identifier for each record in a table.\n",
        "Ensures uniqueness and non-null values.\n",
        "\n",
        "## Foreign Key:\n",
        "\n",
        "Links a column in one table to the primary key of another table.\n",
        "Maintains referential integrity between tables.\n",
        "\n",
        "### Example:\n",
        "\n",
        "\n",
        "```\n",
        "CREATE TABLE departments (\n",
        "    dept_id INT PRIMARY KEY,\n",
        "    dept_name VARCHAR(50)\n",
        ");\n",
        "\n",
        "CREATE TABLE employees (\n",
        "    emp_id INT PRIMARY KEY,\n",
        "    emp_name VARCHAR(50),\n",
        "    dept_id INT,\n",
        "    FOREIGN KEY (dept_id) REFERENCES departments(dept_id)\n",
        ");\n",
        "\n",
        "```\n",
        "\n"
      ],
      "metadata": {
        "id": "LUS2sAIiW029"
      }
    },
    {
      "cell_type": "code",
      "source": [],
      "metadata": {
        "id": "4C3YfapMrq8m"
      },
      "execution_count": null,
      "outputs": []
    },
    {
      "cell_type": "markdown",
      "source": [
        "Q6. Write a python code to connect MySQL to python. Explain the cursor() and execute() method."
      ],
      "metadata": {
        "id": "cErWSVxPrsk_"
      }
    },
    {
      "cell_type": "markdown",
      "source": [
        "A6.\n",
        "\n",
        "Step1: Install MySQL Connector (if not installed):\n",
        "\n",
        "\n",
        "```\n",
        "pip install mysql-connector-python\n",
        "\n",
        "```\n",
        "\n",
        "Step2: Python Code to Connect to MySQL:\n",
        "\n",
        "```\n",
        "import mysql.connector\n",
        "\n",
        "# Establish connection\n",
        "conn = mysql.connector.connect(\n",
        "    host=\"localhost\",\n",
        "    user=\"your_username\",\n",
        "    password=\"your_password\",\n",
        "    database=\"school\"\n",
        ")\n",
        "\n",
        "cursor = conn.cursor()\n",
        "\n",
        "# Execute SQL query\n",
        "cursor.execute(\"SELECT * FROM students;\")\n",
        "\n",
        "# Fetch and print results\n",
        "for row in cursor.fetchall():\n",
        "    print(row)\n",
        "\n",
        "# Close connection\n",
        "cursor.close()\n",
        "conn.close()\n",
        "\n",
        "```\n",
        "\n",
        "## Explanation of cursor() and execute()\n",
        "\n",
        "1.) cursor(): Creates a cursor object to interact with the database.\n",
        "\n",
        "2.) execute(): Executes SQL commands (e.g., SELECT, INSERT).\n",
        "\n",
        "\n"
      ],
      "metadata": {
        "id": "bMk9D7CsdY6v"
      }
    },
    {
      "cell_type": "code",
      "source": [],
      "metadata": {
        "id": "Win8Gwqdrs8-"
      },
      "execution_count": null,
      "outputs": []
    },
    {
      "cell_type": "markdown",
      "source": [
        "Q7. Give the order of execution of SQL clauses in an SQL query."
      ],
      "metadata": {
        "id": "HJ-iFrHkruvH"
      }
    },
    {
      "cell_type": "markdown",
      "source": [
        "A7. The order of execution of SQL clauses in an SQL query are-\n",
        "\n",
        "1. FROM - Identify the source table.\n",
        "\n",
        "2. JOIN - Perform joins between tables.\n",
        "\n",
        "3. WHERE - Filter rows based on conditions.\n",
        "\n",
        "4. GROUP BY - Group rows with common values.\n",
        "\n",
        "5. HAVING - Filter grouped data.\n",
        "\n",
        "6. SELECT - Specify which columns to retrieve.\n",
        "\n",
        "7. ORDER BY - Sort the result set.\n",
        "\n",
        "8. LIMIT/OFFSET - Restrict the number of rows returned.\n",
        "\n",
        "\n",
        "\n",
        "```\n",
        "SELECT dept_id, COUNT(*)\n",
        "FROM employees\n",
        "WHERE age > 30\n",
        "GROUP BY dept_id\n",
        "HAVING COUNT(*) > 5\n",
        "ORDER BY COUNT(*) DESC\n",
        "LIMIT 10;\n",
        "\n",
        "```\n",
        "\n",
        "## Execution Order:\n",
        "\n",
        "1.) FROM\n",
        "\n",
        "2.) WHERE\n",
        "\n",
        "3.) GROUP BY\n",
        "\n",
        "4.) HAVING\n",
        "\n",
        "5.) SELECT\n",
        "\n",
        "6.) ORDER BY\n",
        "\n",
        "7.) LIMIT\n"
      ],
      "metadata": {
        "id": "5AmTEE79dxzC"
      }
    },
    {
      "cell_type": "code",
      "source": [],
      "metadata": {
        "id": "NFERuiBcrvYu"
      },
      "execution_count": null,
      "outputs": []
    },
    {
      "cell_type": "code",
      "source": [],
      "metadata": {
        "id": "on-anNnYebie"
      },
      "execution_count": null,
      "outputs": []
    }
  ]
}