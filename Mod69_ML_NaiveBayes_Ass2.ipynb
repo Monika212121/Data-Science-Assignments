{
  "nbformat": 4,
  "nbformat_minor": 0,
  "metadata": {
    "colab": {
      "provenance": []
    },
    "kernelspec": {
      "name": "python3",
      "display_name": "Python 3"
    },
    "language_info": {
      "name": "python"
    }
  },
  "cells": [
    {
      "cell_type": "markdown",
      "source": [
        "# Module 69 Naive Bayes Assignment2"
      ],
      "metadata": {
        "id": "L52lDXwNBJAY"
      }
    },
    {
      "cell_type": "markdown",
      "source": [
        "Q1. A company conducted a survey of its employees and found that 70% of the employees use the\n",
        "company's health insurance plan, while 40% of the employees who use the plan are smokers. What is the\n",
        "probability that an employee is a smoker given that he/she uses the health insurance plan?"
      ],
      "metadata": {
        "id": "madF8En8qtMX"
      }
    },
    {
      "cell_type": "markdown",
      "source": [
        "A1. We are given,\n",
        "\n",
        "P(Insurance) = 0.70\n",
        "\n",
        "p(Smoker | Insurance) = 0.40\n",
        "\n",
        "We are asked to find P(Smoker | Insurance), which is already provided as 0.40 ."
      ],
      "metadata": {
        "id": "CrjEwrApBJDC"
      }
    },
    {
      "cell_type": "code",
      "source": [],
      "metadata": {
        "id": "_awpFY7pBtUA"
      },
      "execution_count": null,
      "outputs": []
    },
    {
      "cell_type": "markdown",
      "source": [
        "Q2. What is the difference between Bernoulli Naive Bayes and Multinomial Naive Bayes?"
      ],
      "metadata": {
        "id": "OOujbjA6q57C"
      }
    },
    {
      "cell_type": "markdown",
      "source": [
        "A2. There are several Aspects on which the Bernoulli and Multinomial Naive Bayes -\n",
        "\n",
        "1.) **Data Type:**\n",
        "\n",
        "Bernoulli NB - Designed for binary features (0 or 1).\n",
        "\n",
        "Multinomial NB - Works with count data or frequency data (e.g., word counts).\n",
        "\n",
        "2.) **Feature Handling:**\n",
        "\n",
        "Bernoulli NB - Considers the presence or absence of a feature.\n",
        "\n",
        "Multinomial NB - Considers the frequency of a feature in the data.\n",
        "\n",
        "3.) **Use case:**\n",
        "\n",
        "Bernoulli NB - Best for text classification where binary presence matters.\n",
        "\n",
        "Multinomial NB - Best for text classification where word frequencies matter."
      ],
      "metadata": {
        "id": "ZgP24j3OBJIo"
      }
    },
    {
      "cell_type": "code",
      "source": [],
      "metadata": {
        "id": "gkVOCChrCfvm"
      },
      "execution_count": null,
      "outputs": []
    },
    {
      "cell_type": "markdown",
      "source": [
        "Q3. How does Bernoulli Naive Bayes handle missing values?"
      ],
      "metadata": {
        "id": "JoUtPkZXq8ZX"
      }
    },
    {
      "cell_type": "markdown",
      "source": [
        "A3. Bernoulli Naive Bayes does not inherently handle missing values. You need to preprocess the data before applying the model:\n",
        "\n",
        "1.) **Imputation:** Replace missing values with 0, 1, or another representative value.\n",
        "\n",
        "2.) **Feature Engineering:** Drop rows or columns with too many missing values or use domain knowledge for imputation.\n"
      ],
      "metadata": {
        "id": "yVkCZHiECgeD"
      }
    },
    {
      "cell_type": "code",
      "source": [],
      "metadata": {
        "id": "GvlhVescCoqF"
      },
      "execution_count": null,
      "outputs": []
    },
    {
      "cell_type": "markdown",
      "source": [
        "Q4. Can Gaussian Naive Bayes be used for multi-class classification?"
      ],
      "metadata": {
        "id": "MOwqyFwmrBMy"
      }
    },
    {
      "cell_type": "markdown",
      "source": [
        "A4. Yes, Gaussian Naive Bayes can handle multi-class classification by applying the \"one-vs-rest\" (OvR) strategy.\n",
        "\n",
        "It computes the posterior probability for each class and assigns the label with the highest probability."
      ],
      "metadata": {
        "id": "C0sQLspmCzBk"
      }
    },
    {
      "cell_type": "code",
      "source": [],
      "metadata": {
        "id": "ryKLmIadC1z9"
      },
      "execution_count": null,
      "outputs": []
    },
    {
      "cell_type": "markdown",
      "source": [
        "Q5. Assignment:\n",
        "Data preparation:\n",
        "Download the \"Spambase Data Set\" from the UCI Machine Learning Repository (https://archive.ics.uci.edu/ml/\n",
        "datasets/Spambase). This dataset contains email messages, where the goal is to predict whether a message\n",
        "is spam or not based on several input features.\n",
        "\n",
        "Implementation:\n",
        "Implement Bernoulli Naive Bayes, Multinomial Naive Bayes, and Gaussian Naive Bayes classifiers using the\n",
        "scikit-learn library in Python. Use 10-fold cross-validation to evaluate the performance of each classifier on the\n",
        "dataset. You should use the default hyperparameters for each classifier.\n",
        "\n",
        "Results:\n",
        "Report the following performance metrics for each classifier:\n",
        "Accuracy\n",
        "Precision\n",
        "Recall\n",
        "F1 score\n",
        "\n",
        "Discussion:\n",
        "Discuss the results you obtained. Which variant of Naive Bayes performed the best? Why do you think that is\n",
        "the case? Are there any limitations of Naive Bayes that you observed?\n",
        "\n",
        "Conclusion:\n",
        "Summarise your findings and provide some suggestions for future work.\n",
        "\n",
        "Note: This dataset contains a binary classification problem with multiple features. The dataset is\n",
        "relatively small, but it can be used to demonstrate the performance of the different variants of Naive\n",
        "Bayes on a real-world problem."
      ],
      "metadata": {
        "id": "v0CfjGsZrI2N"
      }
    },
    {
      "cell_type": "markdown",
      "source": [
        "A5.\n",
        "\n",
        "# Steps to Implement the Naive Bayes Classifiers\n",
        "\n",
        "**Step 1: Data Preparation:**\n",
        "Download the dataset from Spambase Data Set and save it locally. Assume the file is named spambase.csv.\n",
        "\n",
        "**Step2: Implementation in Python:**"
      ],
      "metadata": {
        "id": "2qpts-IWC7JL"
      }
    },
    {
      "cell_type": "code",
      "source": [
        "from google.colab import files\n",
        "\n",
        "uploaded = files.upload()"
      ],
      "metadata": {
        "colab": {
          "base_uri": "https://localhost:8080/",
          "height": 73
        },
        "id": "_G4Y6WmjEfvE",
        "outputId": "50e84879-17b2-420a-fa70-7cb33637cea3"
      },
      "execution_count": 3,
      "outputs": [
        {
          "output_type": "display_data",
          "data": {
            "text/plain": [
              "<IPython.core.display.HTML object>"
            ],
            "text/html": [
              "\n",
              "     <input type=\"file\" id=\"files-3de1cde3-bd09-40f3-aeda-0abacf8138f3\" name=\"files[]\" multiple disabled\n",
              "        style=\"border:none\" />\n",
              "     <output id=\"result-3de1cde3-bd09-40f3-aeda-0abacf8138f3\">\n",
              "      Upload widget is only available when the cell has been executed in the\n",
              "      current browser session. Please rerun this cell to enable.\n",
              "      </output>\n",
              "      <script>// Copyright 2017 Google LLC\n",
              "//\n",
              "// Licensed under the Apache License, Version 2.0 (the \"License\");\n",
              "// you may not use this file except in compliance with the License.\n",
              "// You may obtain a copy of the License at\n",
              "//\n",
              "//      http://www.apache.org/licenses/LICENSE-2.0\n",
              "//\n",
              "// Unless required by applicable law or agreed to in writing, software\n",
              "// distributed under the License is distributed on an \"AS IS\" BASIS,\n",
              "// WITHOUT WARRANTIES OR CONDITIONS OF ANY KIND, either express or implied.\n",
              "// See the License for the specific language governing permissions and\n",
              "// limitations under the License.\n",
              "\n",
              "/**\n",
              " * @fileoverview Helpers for google.colab Python module.\n",
              " */\n",
              "(function(scope) {\n",
              "function span(text, styleAttributes = {}) {\n",
              "  const element = document.createElement('span');\n",
              "  element.textContent = text;\n",
              "  for (const key of Object.keys(styleAttributes)) {\n",
              "    element.style[key] = styleAttributes[key];\n",
              "  }\n",
              "  return element;\n",
              "}\n",
              "\n",
              "// Max number of bytes which will be uploaded at a time.\n",
              "const MAX_PAYLOAD_SIZE = 100 * 1024;\n",
              "\n",
              "function _uploadFiles(inputId, outputId) {\n",
              "  const steps = uploadFilesStep(inputId, outputId);\n",
              "  const outputElement = document.getElementById(outputId);\n",
              "  // Cache steps on the outputElement to make it available for the next call\n",
              "  // to uploadFilesContinue from Python.\n",
              "  outputElement.steps = steps;\n",
              "\n",
              "  return _uploadFilesContinue(outputId);\n",
              "}\n",
              "\n",
              "// This is roughly an async generator (not supported in the browser yet),\n",
              "// where there are multiple asynchronous steps and the Python side is going\n",
              "// to poll for completion of each step.\n",
              "// This uses a Promise to block the python side on completion of each step,\n",
              "// then passes the result of the previous step as the input to the next step.\n",
              "function _uploadFilesContinue(outputId) {\n",
              "  const outputElement = document.getElementById(outputId);\n",
              "  const steps = outputElement.steps;\n",
              "\n",
              "  const next = steps.next(outputElement.lastPromiseValue);\n",
              "  return Promise.resolve(next.value.promise).then((value) => {\n",
              "    // Cache the last promise value to make it available to the next\n",
              "    // step of the generator.\n",
              "    outputElement.lastPromiseValue = value;\n",
              "    return next.value.response;\n",
              "  });\n",
              "}\n",
              "\n",
              "/**\n",
              " * Generator function which is called between each async step of the upload\n",
              " * process.\n",
              " * @param {string} inputId Element ID of the input file picker element.\n",
              " * @param {string} outputId Element ID of the output display.\n",
              " * @return {!Iterable<!Object>} Iterable of next steps.\n",
              " */\n",
              "function* uploadFilesStep(inputId, outputId) {\n",
              "  const inputElement = document.getElementById(inputId);\n",
              "  inputElement.disabled = false;\n",
              "\n",
              "  const outputElement = document.getElementById(outputId);\n",
              "  outputElement.innerHTML = '';\n",
              "\n",
              "  const pickedPromise = new Promise((resolve) => {\n",
              "    inputElement.addEventListener('change', (e) => {\n",
              "      resolve(e.target.files);\n",
              "    });\n",
              "  });\n",
              "\n",
              "  const cancel = document.createElement('button');\n",
              "  inputElement.parentElement.appendChild(cancel);\n",
              "  cancel.textContent = 'Cancel upload';\n",
              "  const cancelPromise = new Promise((resolve) => {\n",
              "    cancel.onclick = () => {\n",
              "      resolve(null);\n",
              "    };\n",
              "  });\n",
              "\n",
              "  // Wait for the user to pick the files.\n",
              "  const files = yield {\n",
              "    promise: Promise.race([pickedPromise, cancelPromise]),\n",
              "    response: {\n",
              "      action: 'starting',\n",
              "    }\n",
              "  };\n",
              "\n",
              "  cancel.remove();\n",
              "\n",
              "  // Disable the input element since further picks are not allowed.\n",
              "  inputElement.disabled = true;\n",
              "\n",
              "  if (!files) {\n",
              "    return {\n",
              "      response: {\n",
              "        action: 'complete',\n",
              "      }\n",
              "    };\n",
              "  }\n",
              "\n",
              "  for (const file of files) {\n",
              "    const li = document.createElement('li');\n",
              "    li.append(span(file.name, {fontWeight: 'bold'}));\n",
              "    li.append(span(\n",
              "        `(${file.type || 'n/a'}) - ${file.size} bytes, ` +\n",
              "        `last modified: ${\n",
              "            file.lastModifiedDate ? file.lastModifiedDate.toLocaleDateString() :\n",
              "                                    'n/a'} - `));\n",
              "    const percent = span('0% done');\n",
              "    li.appendChild(percent);\n",
              "\n",
              "    outputElement.appendChild(li);\n",
              "\n",
              "    const fileDataPromise = new Promise((resolve) => {\n",
              "      const reader = new FileReader();\n",
              "      reader.onload = (e) => {\n",
              "        resolve(e.target.result);\n",
              "      };\n",
              "      reader.readAsArrayBuffer(file);\n",
              "    });\n",
              "    // Wait for the data to be ready.\n",
              "    let fileData = yield {\n",
              "      promise: fileDataPromise,\n",
              "      response: {\n",
              "        action: 'continue',\n",
              "      }\n",
              "    };\n",
              "\n",
              "    // Use a chunked sending to avoid message size limits. See b/62115660.\n",
              "    let position = 0;\n",
              "    do {\n",
              "      const length = Math.min(fileData.byteLength - position, MAX_PAYLOAD_SIZE);\n",
              "      const chunk = new Uint8Array(fileData, position, length);\n",
              "      position += length;\n",
              "\n",
              "      const base64 = btoa(String.fromCharCode.apply(null, chunk));\n",
              "      yield {\n",
              "        response: {\n",
              "          action: 'append',\n",
              "          file: file.name,\n",
              "          data: base64,\n",
              "        },\n",
              "      };\n",
              "\n",
              "      let percentDone = fileData.byteLength === 0 ?\n",
              "          100 :\n",
              "          Math.round((position / fileData.byteLength) * 100);\n",
              "      percent.textContent = `${percentDone}% done`;\n",
              "\n",
              "    } while (position < fileData.byteLength);\n",
              "  }\n",
              "\n",
              "  // All done.\n",
              "  yield {\n",
              "    response: {\n",
              "      action: 'complete',\n",
              "    }\n",
              "  };\n",
              "}\n",
              "\n",
              "scope.google = scope.google || {};\n",
              "scope.google.colab = scope.google.colab || {};\n",
              "scope.google.colab._files = {\n",
              "  _uploadFiles,\n",
              "  _uploadFilesContinue,\n",
              "};\n",
              "})(self);\n",
              "</script> "
            ]
          },
          "metadata": {}
        },
        {
          "output_type": "stream",
          "name": "stdout",
          "text": [
            "Saving spambase.csv to spambase.csv\n"
          ]
        }
      ]
    },
    {
      "cell_type": "code",
      "source": [
        "import pandas as pd\n",
        "from sklearn.model_selection import train_test_split, cross_val_score\n",
        "from sklearn.naive_bayes import BernoulliNB, MultinomialNB, GaussianNB\n",
        "from sklearn.metrics import accuracy_score, precision_score, recall_score, f1_score, classification_report\n",
        "\n",
        "# Load the dataset\n",
        "data = pd.read_csv('spambase.csv')\n",
        "X = data.iloc[:, :-1]  # Features\n",
        "y = data.iloc[:, -1]   # Target\n",
        "\n",
        "# Train-test split\n",
        "X_train, X_test, y_train, y_test = train_test_split(X, y, test_size=0.2, random_state=42)\n",
        "\n",
        "# Classifiers\n",
        "models = {\n",
        "    'BernoulliNB': BernoulliNB(),\n",
        "    'MultinomialNB': MultinomialNB(),\n",
        "    'GaussianNB': GaussianNB()\n",
        "}\n",
        "\n",
        "# Evaluation\n",
        "results = {}\n",
        "for model_name, model in models.items():\n",
        "    # Cross-validation scores\n",
        "    accuracy = cross_val_score(model, X, y, cv=10, scoring='accuracy').mean()\n",
        "    precision = cross_val_score(model, X, y, cv=10, scoring='precision').mean()\n",
        "    recall = cross_val_score(model, X, y, cv=10, scoring='recall').mean()\n",
        "    f1 = cross_val_score(model, X, y, cv=10, scoring='f1').mean()\n",
        "    results[model_name] = {'Accuracy': accuracy, 'Precision': precision, 'Recall': recall, 'F1 Score': f1}\n",
        "\n",
        "# Display Results\n",
        "print(pd.DataFrame(results).T)\n"
      ],
      "metadata": {
        "colab": {
          "base_uri": "https://localhost:8080/"
        },
        "id": "r7U07F7dDKHE",
        "outputId": "2fe4d410-e261-4ce1-f034-3c5a4e769c8f"
      },
      "execution_count": 4,
      "outputs": [
        {
          "output_type": "stream",
          "name": "stdout",
          "text": [
            "               Accuracy  Precision    Recall  F1 Score\n",
            "BernoulliNB    0.883913   0.886914  0.815124  0.848071\n",
            "MultinomialNB  0.786087   0.739029  0.720797  0.727751\n",
            "GaussianNB     0.821739   0.710275  0.956939  0.813000\n"
          ]
        }
      ]
    },
    {
      "cell_type": "markdown",
      "source": [
        "**Step 3: Results**\n",
        "\n",
        "The results will include:\n",
        "\n",
        "1.) **Accuracy:** Measures overall correctness.\n",
        "\n",
        "2.) **Precision:** Measures the proportion of true positives out of predicted positives.\n",
        "\n",
        "3.) **Recall:** Measures the proportion of true positives out of actual positives.\n",
        "\n",
        "4.) **F1 Score:** Harmonic mean of precision and recall.\n",
        "\n",
        "\n",
        "Step 4: Discussion\n",
        "\n",
        "1.) **Best Performing Classifier:** Analyze which classifier performed the best based on metrics.\n",
        "\n",
        "2.) **Reasoning:**\n",
        "\n",
        "BernoulliNB: Likely to perform well with binary features.\n",
        "\n",
        "MultinomialNB: Suited for frequency-based features.\n",
        "\n",
        "GaussianNB: Handles continuous features but may struggle with skewed distributions.\n",
        "\n",
        "**Limitations Observed:**\n",
        "\n",
        "Naive Bayes assumes feature independence, which might not hold true for correlated features.\n",
        "\n",
        "Sensitive to imbalanced data.\n",
        "\n",
        "\n",
        "**Step 5: Conclusion**\n",
        "\n",
        "1.) Summarize the findings (e.g., \"Multinomial Naive Bayes performed the best for this text-based dataset due to its ability to handle frequency data effectively\").\n",
        "\n",
        "2.) Suggest improvements:\n",
        "\n",
        "Feature engineering.\n",
        "\n",
        "Using ensemble methods (e.g., combining Naive Bayes with other models).\n",
        "\n",
        "Handling data imbalance if applicable."
      ],
      "metadata": {
        "id": "3ojv2BQiDTNd"
      }
    },
    {
      "cell_type": "code",
      "source": [],
      "metadata": {
        "id": "BnfvZB_2DOsu"
      },
      "execution_count": null,
      "outputs": []
    }
  ]
}